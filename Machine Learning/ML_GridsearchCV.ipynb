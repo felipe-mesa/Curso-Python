{
  "nbformat": 4,
  "nbformat_minor": 0,
  "metadata": {
    "colab": {
      "name": "ML - GridsearchCV.ipynb",
      "provenance": [],
      "collapsed_sections": []
    },
    "kernelspec": {
      "name": "python3",
      "display_name": "Python 3"
    },
    "language_info": {
      "name": "python"
    },
    "accelerator": "GPU"
  },
  "cells": [
    {
      "cell_type": "markdown",
      "metadata": {
        "id": "lRy1zn3sBmI6"
      },
      "source": [
        "# Machine Learning - sklearn y grid search \n",
        "\n",
        "**Relator: Felipe Mesa Abraham** \n",
        "\n",
        "Correo: femesa@udec.cl\n",
        "\n",
        "\n",
        "En esta actividad se trabajará con la libreria [sklearn](https://scikit-learn.org/stable/), en particular con la funcion Grid Search para encontrar los hyperparametros adecuados para un modelo de Machine Learning. La actividad consiste en un ejemplo sobre el funcionamiento de la función y un ejercicio guiado."
      ]
    },
    {
      "cell_type": "markdown",
      "metadata": {
        "id": "Ez1lADzrZiuw"
      },
      "source": [
        "# Ejemplo"
      ]
    },
    {
      "cell_type": "code",
      "metadata": {
        "id": "GcFkYDJyOPon"
      },
      "source": [
        "# Importamos los modelos\n",
        "from sklearn import svm\n",
        "from sklearn.ensemble import RandomForestClassifier\n",
        "from sklearn.linear_model import LogisticRegression\n",
        "from xgboost import XGBClassifier\n",
        "from sklearn.neighbors import KNeighborsClassifier\n",
        "\n",
        "# Importamos Gridsearch\n",
        "from sklearn.model_selection import GridSearchCV\n",
        "\n",
        "# Importamos pandas para guardar los resultados\n",
        "import pandas as pd"
      ],
      "execution_count": 3,
      "outputs": []
    },
    {
      "cell_type": "code",
      "metadata": {
        "id": "vk4TuEuMOFcq"
      },
      "source": [
        "# Cargamos el set de datos\n",
        "from sklearn import datasets\n",
        "digits = datasets.load_digits()"
      ],
      "execution_count": 1,
      "outputs": []
    },
    {
      "cell_type": "code",
      "metadata": {
        "id": "FNv22JIHOZKg"
      },
      "source": [
        "# Definimos un diccionario con los modelos y los parametros\n",
        "model_params = {\n",
        "    'svm': {\n",
        "        'model': svm.SVC(gamma='auto'),\n",
        "        'params' : {\n",
        "            'C': [1,10,20],\n",
        "            'kernel': ['rbf','linear']\n",
        "        }  \n",
        "    },\n",
        "    'random_forest': {\n",
        "        'model': RandomForestClassifier(),\n",
        "        'params' : {\n",
        "            'n_estimators': [1,5,10,50,100]\n",
        "        }\n",
        "    },\n",
        "    'logistic_regression' : {\n",
        "        'model': LogisticRegression(solver='liblinear',multi_class='auto'),\n",
        "        'params': {\n",
        "            'C': [1,5,10]\n",
        "        }\n",
        "    }\n",
        "}"
      ],
      "execution_count": 21,
      "outputs": []
    },
    {
      "cell_type": "code",
      "metadata": {
        "colab": {
          "base_uri": "https://localhost:8080/",
          "height": 143
        },
        "id": "jaBuNi0EPBWl",
        "outputId": "bf2ce6ca-a552-41d7-817b-f0d38224cf9e"
      },
      "source": [
        "# Creamos una lista vacia para guardar la información\n",
        "scores = []\n",
        "\n",
        "# Iteramos los modelos y los parametros definidos anteriormente\n",
        "for model_name, mp in model_params.items():\n",
        "\n",
        "    # Elegimos uno de los modelos, designamos un kfold de 5 para el CV\n",
        "    clf =  GridSearchCV(mp['model'], mp['params'], cv=10, return_train_score=False)\n",
        "    # Entrenamos el modelo\n",
        "    clf.fit(digits.data, digits.target)\n",
        "\n",
        "    # Guardamos información del modelo\n",
        "    scores.append({\n",
        "        'model': model_name,\n",
        "        'best_score': clf.best_score_,\n",
        "        'best_params': clf.best_params_\n",
        "    })\n",
        "\n",
        "# Creamos un dataframe con la información guardada de todos los modelos\n",
        "df_scores = pd.DataFrame(scores,columns=['model','best_score','best_params'])\n",
        "df_scores"
      ],
      "execution_count": 23,
      "outputs": [
        {
          "output_type": "execute_result",
          "data": {
            "text/html": [
              "<div>\n",
              "<style scoped>\n",
              "    .dataframe tbody tr th:only-of-type {\n",
              "        vertical-align: middle;\n",
              "    }\n",
              "\n",
              "    .dataframe tbody tr th {\n",
              "        vertical-align: top;\n",
              "    }\n",
              "\n",
              "    .dataframe thead th {\n",
              "        text-align: right;\n",
              "    }\n",
              "</style>\n",
              "<table border=\"1\" class=\"dataframe\">\n",
              "  <thead>\n",
              "    <tr style=\"text-align: right;\">\n",
              "      <th></th>\n",
              "      <th>model</th>\n",
              "      <th>best_score</th>\n",
              "      <th>best_params</th>\n",
              "    </tr>\n",
              "  </thead>\n",
              "  <tbody>\n",
              "    <tr>\n",
              "      <th>0</th>\n",
              "      <td>svm</td>\n",
              "      <td>0.960487</td>\n",
              "      <td>{'C': 1, 'kernel': 'linear'}</td>\n",
              "    </tr>\n",
              "    <tr>\n",
              "      <th>1</th>\n",
              "      <td>random_forest</td>\n",
              "      <td>0.947120</td>\n",
              "      <td>{'n_estimators': 100}</td>\n",
              "    </tr>\n",
              "    <tr>\n",
              "      <th>2</th>\n",
              "      <td>logistic_regression</td>\n",
              "      <td>0.925975</td>\n",
              "      <td>{'C': 1}</td>\n",
              "    </tr>\n",
              "  </tbody>\n",
              "</table>\n",
              "</div>"
            ],
            "text/plain": [
              "                 model  best_score                   best_params\n",
              "0                  svm    0.960487  {'C': 1, 'kernel': 'linear'}\n",
              "1        random_forest    0.947120         {'n_estimators': 100}\n",
              "2  logistic_regression    0.925975                      {'C': 1}"
            ]
          },
          "metadata": {},
          "execution_count": 23
        }
      ]
    },
    {
      "cell_type": "markdown",
      "metadata": {
        "id": "xgs22baGVaaA"
      },
      "source": [
        "# Ejercicio"
      ]
    },
    {
      "cell_type": "markdown",
      "metadata": {
        "id": "2s8cJqstCIcs"
      },
      "source": [
        "A continuación se le presenta un dataset de datos de fuga de clientes. El objetivo de este ejercicio es poner a prueba la función GridSearchCV con diferentes modelos para encontrar los mejores hyperparametros.\n",
        "Use la funcion GridsearchCV para entrenar los siguientes modelos y parámetros:\n",
        "\n",
        "*   XGBoost: número de estimadores\n",
        "*   Random Forest: número de estimadores\n",
        "*   KNN: número de vecinos\n",
        "\n",
        "Finalmente, muestre los resultados en una tabla e indique que modelo obtuvo el mejor score.\n",
        "\n",
        "\n"
      ]
    },
    {
      "cell_type": "code",
      "metadata": {
        "colab": {
          "base_uri": "https://localhost:8080/"
        },
        "id": "EPVYS6TAVbqF",
        "outputId": "7e5d0ef9-3023-4ddd-8e74-abf3d60b7099"
      },
      "source": [
        "!gdown --id 1wSLivtMy1Sokalv9ukeehKpAv3c0SsrH"
      ],
      "execution_count": 1,
      "outputs": [
        {
          "output_type": "stream",
          "name": "stdout",
          "text": [
            "Downloading...\n",
            "From: https://drive.google.com/uc?id=1wSLivtMy1Sokalv9ukeehKpAv3c0SsrH\n",
            "To: /content/ejemplo_churn.csv\n",
            "\r  0% 0.00/735k [00:00<?, ?B/s]\r100% 735k/735k [00:00<00:00, 38.9MB/s]\n"
          ]
        }
      ]
    },
    {
      "cell_type": "code",
      "metadata": {
        "colab": {
          "base_uri": "https://localhost:8080/",
          "height": 261
        },
        "id": "Jb2UAfJYXp6r",
        "outputId": "b2d59608-0937-43c2-99a4-baf5ff2b89d0"
      },
      "source": [
        "df = pd.read_csv('/content/ejemplo_churn.csv')\n",
        "df.head()"
      ],
      "execution_count": 4,
      "outputs": [
        {
          "output_type": "execute_result",
          "data": {
            "text/html": [
              "<div>\n",
              "<style scoped>\n",
              "    .dataframe tbody tr th:only-of-type {\n",
              "        vertical-align: middle;\n",
              "    }\n",
              "\n",
              "    .dataframe tbody tr th {\n",
              "        vertical-align: top;\n",
              "    }\n",
              "\n",
              "    .dataframe thead th {\n",
              "        text-align: right;\n",
              "    }\n",
              "</style>\n",
              "<table border=\"1\" class=\"dataframe\">\n",
              "  <thead>\n",
              "    <tr style=\"text-align: right;\">\n",
              "      <th></th>\n",
              "      <th>gender</th>\n",
              "      <th>SeniorCitizen</th>\n",
              "      <th>Partner</th>\n",
              "      <th>Dependents</th>\n",
              "      <th>tenure</th>\n",
              "      <th>PhoneService</th>\n",
              "      <th>MultipleLines</th>\n",
              "      <th>OnlineSecurity</th>\n",
              "      <th>OnlineBackup</th>\n",
              "      <th>DeviceProtection</th>\n",
              "      <th>TechSupport</th>\n",
              "      <th>StreamingTV</th>\n",
              "      <th>StreamingMovies</th>\n",
              "      <th>PaperlessBilling</th>\n",
              "      <th>MonthlyCharges</th>\n",
              "      <th>TotalCharges</th>\n",
              "      <th>Churn</th>\n",
              "      <th>InternetService_DSL</th>\n",
              "      <th>InternetService_Fiber optic</th>\n",
              "      <th>InternetService_No</th>\n",
              "      <th>Contract_Month-to-month</th>\n",
              "      <th>Contract_One year</th>\n",
              "      <th>Contract_Two year</th>\n",
              "      <th>PaymentMethod_Bank transfer (automatic)</th>\n",
              "      <th>PaymentMethod_Credit card (automatic)</th>\n",
              "      <th>PaymentMethod_Electronic check</th>\n",
              "      <th>PaymentMethod_Mailed check</th>\n",
              "    </tr>\n",
              "  </thead>\n",
              "  <tbody>\n",
              "    <tr>\n",
              "      <th>0</th>\n",
              "      <td>1</td>\n",
              "      <td>0</td>\n",
              "      <td>1</td>\n",
              "      <td>0</td>\n",
              "      <td>0.000000</td>\n",
              "      <td>0</td>\n",
              "      <td>0</td>\n",
              "      <td>1</td>\n",
              "      <td>2</td>\n",
              "      <td>1</td>\n",
              "      <td>1</td>\n",
              "      <td>1</td>\n",
              "      <td>1</td>\n",
              "      <td>1</td>\n",
              "      <td>0.115423</td>\n",
              "      <td>0.001275</td>\n",
              "      <td>0</td>\n",
              "      <td>1</td>\n",
              "      <td>0</td>\n",
              "      <td>0</td>\n",
              "      <td>1</td>\n",
              "      <td>0</td>\n",
              "      <td>0</td>\n",
              "      <td>0</td>\n",
              "      <td>0</td>\n",
              "      <td>1</td>\n",
              "      <td>0</td>\n",
              "    </tr>\n",
              "    <tr>\n",
              "      <th>1</th>\n",
              "      <td>0</td>\n",
              "      <td>0</td>\n",
              "      <td>0</td>\n",
              "      <td>0</td>\n",
              "      <td>0.464789</td>\n",
              "      <td>1</td>\n",
              "      <td>1</td>\n",
              "      <td>2</td>\n",
              "      <td>1</td>\n",
              "      <td>2</td>\n",
              "      <td>1</td>\n",
              "      <td>1</td>\n",
              "      <td>1</td>\n",
              "      <td>0</td>\n",
              "      <td>0.385075</td>\n",
              "      <td>0.215867</td>\n",
              "      <td>0</td>\n",
              "      <td>1</td>\n",
              "      <td>0</td>\n",
              "      <td>0</td>\n",
              "      <td>0</td>\n",
              "      <td>1</td>\n",
              "      <td>0</td>\n",
              "      <td>0</td>\n",
              "      <td>0</td>\n",
              "      <td>0</td>\n",
              "      <td>1</td>\n",
              "    </tr>\n",
              "    <tr>\n",
              "      <th>2</th>\n",
              "      <td>0</td>\n",
              "      <td>0</td>\n",
              "      <td>0</td>\n",
              "      <td>0</td>\n",
              "      <td>0.014085</td>\n",
              "      <td>1</td>\n",
              "      <td>1</td>\n",
              "      <td>2</td>\n",
              "      <td>2</td>\n",
              "      <td>1</td>\n",
              "      <td>1</td>\n",
              "      <td>1</td>\n",
              "      <td>1</td>\n",
              "      <td>1</td>\n",
              "      <td>0.354229</td>\n",
              "      <td>0.010310</td>\n",
              "      <td>1</td>\n",
              "      <td>1</td>\n",
              "      <td>0</td>\n",
              "      <td>0</td>\n",
              "      <td>1</td>\n",
              "      <td>0</td>\n",
              "      <td>0</td>\n",
              "      <td>0</td>\n",
              "      <td>0</td>\n",
              "      <td>0</td>\n",
              "      <td>1</td>\n",
              "    </tr>\n",
              "    <tr>\n",
              "      <th>3</th>\n",
              "      <td>0</td>\n",
              "      <td>0</td>\n",
              "      <td>0</td>\n",
              "      <td>0</td>\n",
              "      <td>0.619718</td>\n",
              "      <td>0</td>\n",
              "      <td>0</td>\n",
              "      <td>2</td>\n",
              "      <td>1</td>\n",
              "      <td>2</td>\n",
              "      <td>2</td>\n",
              "      <td>1</td>\n",
              "      <td>1</td>\n",
              "      <td>0</td>\n",
              "      <td>0.239303</td>\n",
              "      <td>0.210241</td>\n",
              "      <td>0</td>\n",
              "      <td>1</td>\n",
              "      <td>0</td>\n",
              "      <td>0</td>\n",
              "      <td>0</td>\n",
              "      <td>1</td>\n",
              "      <td>0</td>\n",
              "      <td>1</td>\n",
              "      <td>0</td>\n",
              "      <td>0</td>\n",
              "      <td>0</td>\n",
              "    </tr>\n",
              "    <tr>\n",
              "      <th>4</th>\n",
              "      <td>1</td>\n",
              "      <td>0</td>\n",
              "      <td>0</td>\n",
              "      <td>0</td>\n",
              "      <td>0.014085</td>\n",
              "      <td>1</td>\n",
              "      <td>1</td>\n",
              "      <td>1</td>\n",
              "      <td>1</td>\n",
              "      <td>1</td>\n",
              "      <td>1</td>\n",
              "      <td>1</td>\n",
              "      <td>1</td>\n",
              "      <td>1</td>\n",
              "      <td>0.521891</td>\n",
              "      <td>0.015330</td>\n",
              "      <td>1</td>\n",
              "      <td>0</td>\n",
              "      <td>1</td>\n",
              "      <td>0</td>\n",
              "      <td>1</td>\n",
              "      <td>0</td>\n",
              "      <td>0</td>\n",
              "      <td>0</td>\n",
              "      <td>0</td>\n",
              "      <td>1</td>\n",
              "      <td>0</td>\n",
              "    </tr>\n",
              "  </tbody>\n",
              "</table>\n",
              "</div>"
            ],
            "text/plain": [
              "   gender  ...  PaymentMethod_Mailed check\n",
              "0       1  ...                           0\n",
              "1       0  ...                           1\n",
              "2       0  ...                           1\n",
              "3       0  ...                           0\n",
              "4       1  ...                           0\n",
              "\n",
              "[5 rows x 27 columns]"
            ]
          },
          "metadata": {},
          "execution_count": 4
        }
      ]
    },
    {
      "cell_type": "code",
      "metadata": {
        "id": "qdyjnDdEX0Nu"
      },
      "source": [
        "y = df['Churn']\n",
        "X = df.drop('Churn', axis=1)"
      ],
      "execution_count": 5,
      "outputs": []
    },
    {
      "cell_type": "code",
      "metadata": {
        "id": "8Yrk3N3sX4l7"
      },
      "source": [
        "# Definimos un diccionario con los modelos y los parametros\n",
        "model_params_churn = {\n",
        "    'svm': {\n",
        "        'model': svm.SVC(gamma='auto'),\n",
        "        'params' : {\n",
        "            'C': [1,10,20],\n",
        "            'kernel': ['rbf','linear']\n",
        "        }  \n",
        "    },\n",
        "    'random_forest': {\n",
        "        'model': RandomForestClassifier(),\n",
        "        'params' : {\n",
        "            'n_estimators': [1,5,10,50,100]\n",
        "        }\n",
        "    },\n",
        "    'logistic_regression' : {\n",
        "        'model': LogisticRegression(solver='liblinear',multi_class='auto'),\n",
        "        'params': {\n",
        "            'C': [1,5,10]\n",
        "        }\n",
        "    },\n",
        "    'xgboost':{\n",
        "        'model': XGBClassifier(),\n",
        "        'params': {\n",
        "            'n_estimators': [1,5,10,50,100]\n",
        "        }\n",
        "    },\n",
        "    'knn':{\n",
        "        'model': KNeighborsClassifier(),\n",
        "        'params':{\n",
        "            'n_neighbors': [1,3,5,10,15]\n",
        "        }\n",
        "    }\n",
        "}"
      ],
      "execution_count": 6,
      "outputs": []
    },
    {
      "cell_type": "code",
      "metadata": {
        "colab": {
          "base_uri": "https://localhost:8080/",
          "height": 206
        },
        "id": "ehox0D_2YCPm",
        "outputId": "e48860dd-81a3-4b1d-ab2e-a84961669728"
      },
      "source": [
        "# Creamos una lista vacia para guardar la información\n",
        "scores_churn = []\n",
        "\n",
        "# Iteramos los modelos y los parametros definidos anteriormente\n",
        "for model_name, mp in model_params_churn.items():\n",
        "\n",
        "    # Elegimos uno de los modelos, designamos un kfold de 5 para el CV\n",
        "    clf =  GridSearchCV(mp['model'], mp['params'], cv=10, return_train_score=False)\n",
        "    # Entrenamos el modelo\n",
        "    clf.fit(X, y)\n",
        "\n",
        "    # Guardamos información del modelo\n",
        "    scores_churn.append({\n",
        "        'model': model_name,\n",
        "        'best_score': clf.best_score_,\n",
        "        'best_params': clf.best_params_\n",
        "    })\n",
        "\n",
        "# Creamos un dataframe con la información guardada de todos los modelos\n",
        "df_scores_churn = pd.DataFrame(scores_churn,columns=['model','best_score','best_params'])\n",
        "df_scores_churn"
      ],
      "execution_count": 7,
      "outputs": [
        {
          "output_type": "execute_result",
          "data": {
            "text/html": [
              "<div>\n",
              "<style scoped>\n",
              "    .dataframe tbody tr th:only-of-type {\n",
              "        vertical-align: middle;\n",
              "    }\n",
              "\n",
              "    .dataframe tbody tr th {\n",
              "        vertical-align: top;\n",
              "    }\n",
              "\n",
              "    .dataframe thead th {\n",
              "        text-align: right;\n",
              "    }\n",
              "</style>\n",
              "<table border=\"1\" class=\"dataframe\">\n",
              "  <thead>\n",
              "    <tr style=\"text-align: right;\">\n",
              "      <th></th>\n",
              "      <th>model</th>\n",
              "      <th>best_score</th>\n",
              "      <th>best_params</th>\n",
              "    </tr>\n",
              "  </thead>\n",
              "  <tbody>\n",
              "    <tr>\n",
              "      <th>0</th>\n",
              "      <td>svm</td>\n",
              "      <td>0.800196</td>\n",
              "      <td>{'C': 1, 'kernel': 'linear'}</td>\n",
              "    </tr>\n",
              "    <tr>\n",
              "      <th>1</th>\n",
              "      <td>random_forest</td>\n",
              "      <td>0.793225</td>\n",
              "      <td>{'n_estimators': 100}</td>\n",
              "    </tr>\n",
              "    <tr>\n",
              "      <th>2</th>\n",
              "      <td>logistic_regression</td>\n",
              "      <td>0.804323</td>\n",
              "      <td>{'C': 10}</td>\n",
              "    </tr>\n",
              "    <tr>\n",
              "      <th>3</th>\n",
              "      <td>xgboost</td>\n",
              "      <td>0.805316</td>\n",
              "      <td>{'n_estimators': 100}</td>\n",
              "    </tr>\n",
              "    <tr>\n",
              "      <th>4</th>\n",
              "      <td>knn</td>\n",
              "      <td>0.778014</td>\n",
              "      <td>{'n_neighbors': 15}</td>\n",
              "    </tr>\n",
              "  </tbody>\n",
              "</table>\n",
              "</div>"
            ],
            "text/plain": [
              "                 model  best_score                   best_params\n",
              "0                  svm    0.800196  {'C': 1, 'kernel': 'linear'}\n",
              "1        random_forest    0.793225         {'n_estimators': 100}\n",
              "2  logistic_regression    0.804323                     {'C': 10}\n",
              "3              xgboost    0.805316         {'n_estimators': 100}\n",
              "4                  knn    0.778014           {'n_neighbors': 15}"
            ]
          },
          "metadata": {},
          "execution_count": 7
        }
      ]
    }
  ]
}