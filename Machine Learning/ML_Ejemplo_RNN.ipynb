{
  "nbformat": 4,
  "nbformat_minor": 0,
  "metadata": {
    "colab": {
      "name": "ML - Ejemplo RNN.ipynb",
      "provenance": [],
      "collapsed_sections": []
    },
    "kernelspec": {
      "name": "python3",
      "display_name": "Python 3"
    },
    "language_info": {
      "name": "python"
    },
    "accelerator": "GPU"
  },
  "cells": [
    {
      "cell_type": "markdown",
      "metadata": {
        "id": "9EWfBVIzFWyz"
      },
      "source": [
        "# Machine Learning - Redes Neuronales Recurrentes\n",
        "\n",
        "**Relator: Felipe Mesa Abraham** \n",
        "\n",
        "Correo: femesa@udec.cl\n",
        "\n",
        "\n",
        "En esta actividad se trabajará con la libreria [Keras](https://keras.io/), donde se presentará un ejemplo del uso de una red neuronal recurrente aplicada a una serie de tiempo."
      ]
    },
    {
      "cell_type": "code",
      "metadata": {
        "id": "rLqEjfevcDUI"
      },
      "source": [
        "from pandas import read_csv\n",
        "import numpy as np\n",
        "from keras.models import Sequential\n",
        "from keras.layers import Dense, SimpleRNN\n",
        "from sklearn.preprocessing import MinMaxScaler\n",
        "from sklearn.metrics import mean_squared_error\n",
        "import math\n",
        "import matplotlib.pyplot as plt"
      ],
      "execution_count": 1,
      "outputs": []
    },
    {
      "cell_type": "code",
      "metadata": {
        "id": "8lsdxhkGcEJm"
      },
      "source": [
        "# Importamos los datos y los dejamos en el formato adecuado como un numpy array\n",
        "url = 'https://raw.githubusercontent.com/jbrownlee/Datasets/master/monthly-sunspots.csv'\n",
        "df = read_csv(url, usecols=[1], engine='python')\n",
        "data = np.array(df.values.astype('float32'))\n"
      ],
      "execution_count": 9,
      "outputs": []
    },
    {
      "cell_type": "code",
      "metadata": {
        "colab": {
          "base_uri": "https://localhost:8080/",
          "height": 206
        },
        "id": "fDmxxXDahwVy",
        "outputId": "05dca1aa-c78d-4294-9dae-5d1adf80cb24"
      },
      "source": [
        "df.head()"
      ],
      "execution_count": 10,
      "outputs": [
        {
          "output_type": "execute_result",
          "data": {
            "text/html": [
              "<div>\n",
              "<style scoped>\n",
              "    .dataframe tbody tr th:only-of-type {\n",
              "        vertical-align: middle;\n",
              "    }\n",
              "\n",
              "    .dataframe tbody tr th {\n",
              "        vertical-align: top;\n",
              "    }\n",
              "\n",
              "    .dataframe thead th {\n",
              "        text-align: right;\n",
              "    }\n",
              "</style>\n",
              "<table border=\"1\" class=\"dataframe\">\n",
              "  <thead>\n",
              "    <tr style=\"text-align: right;\">\n",
              "      <th></th>\n",
              "      <th>Sunspots</th>\n",
              "    </tr>\n",
              "  </thead>\n",
              "  <tbody>\n",
              "    <tr>\n",
              "      <th>0</th>\n",
              "      <td>58.0</td>\n",
              "    </tr>\n",
              "    <tr>\n",
              "      <th>1</th>\n",
              "      <td>62.6</td>\n",
              "    </tr>\n",
              "    <tr>\n",
              "      <th>2</th>\n",
              "      <td>70.0</td>\n",
              "    </tr>\n",
              "    <tr>\n",
              "      <th>3</th>\n",
              "      <td>55.7</td>\n",
              "    </tr>\n",
              "    <tr>\n",
              "      <th>4</th>\n",
              "      <td>85.0</td>\n",
              "    </tr>\n",
              "  </tbody>\n",
              "</table>\n",
              "</div>"
            ],
            "text/plain": [
              "   Sunspots\n",
              "0      58.0\n",
              "1      62.6\n",
              "2      70.0\n",
              "3      55.7\n",
              "4      85.0"
            ]
          },
          "metadata": {},
          "execution_count": 10
        }
      ]
    },
    {
      "cell_type": "code",
      "metadata": {
        "id": "3X5gDbS6hb-2"
      },
      "source": [
        "# Pre procesamos los datos\n",
        "scaler = MinMaxScaler(feature_range=(0, 1))\n",
        "data = scaler.fit_transform(data).flatten()\n",
        "\n",
        "\n",
        "# Dividimos los datos en set de entrenamiento y set de test\n",
        "n = len(data)\n",
        "split = int(n*0.8)\n",
        "train_data = data[range(split)]\n",
        "test_data = data[split:]"
      ],
      "execution_count": 11,
      "outputs": []
    },
    {
      "cell_type": "code",
      "metadata": {
        "colab": {
          "base_uri": "https://localhost:8080/",
          "height": 283
        },
        "id": "3PO6Y9E_qOOh",
        "outputId": "746d335f-9cc2-499f-fc1a-534b7d07fa48"
      },
      "source": [
        "# Revisemos un poco la serie de tiempo\n",
        "import seaborn as sns\n",
        "sns.lineplot(data=df, x=df.index, y=df['Sunspots'])"
      ],
      "execution_count": 31,
      "outputs": [
        {
          "output_type": "execute_result",
          "data": {
            "text/plain": [
              "<matplotlib.axes._subplots.AxesSubplot at 0x7f7adf8e4c50>"
            ]
          },
          "metadata": {},
          "execution_count": 31
        },
        {
          "output_type": "display_data",
          "data": {
            "image/png": "[encoded data removed]",
            "text/plain": [
              "<Figure size 432x288 with 1 Axes>"
            ]
          },
          "metadata": {
            "needs_background": "light"
          }
        }
      ]
    },
    {
      "cell_type": "code",
      "metadata": {
        "id": "1zNVUzF9hVhT"
      },
      "source": [
        "# Como tenemos ciclos de 12 meses, vamos a dividir el dataset en conjuntos\n",
        "# X va a tener del mes 1 al 11\n",
        "# y va a tener el mes 12\n",
        "\n",
        "# Preparamos los conjuntos X e y\n",
        "\n",
        "def get_XY(dat, time_steps):\n",
        "\n",
        "    Y_ind = np.arange(time_steps, len(dat), time_steps)\n",
        "    Y = dat[Y_ind]\n",
        "\n",
        "    rows_x = len(Y)\n",
        "    X = dat[range(time_steps*rows_x)]\n",
        "    X = np.reshape(X, (rows_x, time_steps, 1))    \n",
        "    return X, Y\n",
        " \n",
        "time_steps = 12\n",
        "trainX, trainY = get_XY(train_data, time_steps)\n",
        "testX, testY = get_XY(test_data, time_steps)"
      ],
      "execution_count": 33,
      "outputs": []
    },
    {
      "cell_type": "code",
      "metadata": {
        "colab": {
          "base_uri": "https://localhost:8080/"
        },
        "id": "8BeU7f7hr9hZ",
        "outputId": "abb91032-ff7e-45fc-d838-09da0a8ed145"
      },
      "source": [
        "# Construimos la red recurrente\n",
        "model = Sequential()\n",
        "model.add(SimpleRNN(units=3, input_shape=(time_steps,1), activation='tanh'))\n",
        "model.add(Dense(units=1, activation='tanh'))\n",
        "model.summary()"
      ],
      "execution_count": 36,
      "outputs": [
        {
          "output_type": "stream",
          "name": "stdout",
          "text": [
            "Model: \"sequential_2\"\n",
            "_________________________________________________________________\n",
            " Layer (type)                Output Shape              Param #   \n",
            "=================================================================\n",
            " simple_rnn (SimpleRNN)      (None, 3)                 15        \n",
            "                                                                 \n",
            " dense (Dense)               (None, 1)                 4         \n",
            "                                                                 \n",
            "=================================================================\n",
            "Total params: 19\n",
            "Trainable params: 19\n",
            "Non-trainable params: 0\n",
            "_________________________________________________________________\n"
          ]
        }
      ]
    },
    {
      "cell_type": "code",
      "metadata": {
        "id": "vQ684Ku2s1ZR"
      },
      "source": [
        "# Compilamos el modelo y commenzamos el entrenamiento (recuerde cambiar a GPU para entrenar mas rapido)\n",
        "model.compile(loss='mean_squared_error', optimizer='adam')\n",
        "model.fit(trainX, trainY, epochs=20, batch_size=1, verbose=2)"
      ],
      "execution_count": null,
      "outputs": []
    },
    {
      "cell_type": "code",
      "metadata": {
        "id": "EELQL4E4t6Zq"
      },
      "source": [
        "# Calculamos el RMSE\n",
        "test_predict = model.predict(testX)\n",
        "rmse = math.sqrt(mean_squared_error(testY, test_predict))\n",
        "rmse"
      ],
      "execution_count": 44,
      "outputs": []
    },
    {
      "cell_type": "code",
      "metadata": {
        "id": "osBxGZdsuuIn"
      },
      "source": [
        "train_predict = model.predict(trainX)"
      ],
      "execution_count": 45,
      "outputs": []
    }
  ]
}