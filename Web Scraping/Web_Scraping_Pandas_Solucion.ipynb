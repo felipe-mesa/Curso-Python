{
  "nbformat": 4,
  "nbformat_minor": 0,
  "metadata": {
    "colab": {
      "name": "Web Scraping Pandas.ipynb",
      "provenance": [],
      "collapsed_sections": []
    },
    "kernelspec": {
      "name": "python3",
      "display_name": "Python 3"
    },
    "language_info": {
      "name": "python"
    }
  },
  "cells": [
    {
      "cell_type": "markdown",
      "metadata": {
        "id": "QNmzUNIqKTh8"
      },
      "source": [
        "# Web Scraping con Pandas\n",
        "\n",
        "**Relator: Felipe Mesa Abraham** \n",
        "\n",
        "Correo: femesa@udec.cl\n",
        "\n",
        "\n",
        "En esta actividad se trabajará con la libreria Pandas y su función  [read_html](https://pandas.pydata.org/docs/reference/api/pandas.read_html.html) para extraer información de tablas. La actividad consiste en un ejemplo sobre el funcionamiento de la función y un ejercicio guiado."
      ]
    },
    {
      "cell_type": "code",
      "metadata": {
        "id": "7imMvvSNsW0m"
      },
      "source": [
        "import pandas as pd"
      ],
      "execution_count": null,
      "outputs": []
    },
    {
      "cell_type": "code",
      "metadata": {
        "id": "kbgzO3yn0YdT"
      },
      "source": [
        "# Entregamos como argumento de la función la URL de la página y devuelve una lista con las tablas encontradas en formato dataframe\n",
        "df = pd.read_html('https://www.spensiones.cl/apps/rentabilidad/getRentabilidad.php?tiprent=FP')"
      ],
      "execution_count": null,
      "outputs": []
    },
    {
      "cell_type": "code",
      "metadata": {
        "colab": {
          "base_uri": "https://localhost:8080/"
        },
        "id": "q_QTtGamMS4M",
        "outputId": "af066679-f40c-49cc-bbd2-dc0f030da3ca"
      },
      "source": [
        "# Revisamos el contenido\n",
        "df"
      ],
      "execution_count": null,
      "outputs": [
        {
          "output_type": "execute_result",
          "data": {
            "text/plain": [
              "[  RENTABILIDAD REAL DE LOS FONDOS DE PENSIONESSeptiembre de 2021\n",
              " 0  2021 2020 2019 2018 2017 2016 2015 2014 2013 2...            ,\n",
              "                                                    0\n",
              " 0  2021 2020 2019 2018 2017 2016 2015 2014 2013 2...,\n",
              "       A.F.P.  ... Promedio Anual Período 27 Sep 2002 - Sep 2021\n",
              " 0    CAPITAL  ...                                         6,52%\n",
              " 1     CUPRUM  ...                                         6,52%\n",
              " 2    HABITAT  ...                                         6,62%\n",
              " 3     MODELO  ...                                           NaN\n",
              " 4  PLANVITAL  ...                                         6,17%\n",
              " 5    PROVIDA  ...                                         6,57%\n",
              " 6        UNO  ...                                           NaN\n",
              " 7    SISTEMA  ...                                         6,55%\n",
              " \n",
              " [8 rows x 5 columns],\n",
              "       A.F.P.  ... Promedio Anual Período 27 Sep 2002 - Sep 2021\n",
              " 0    CAPITAL  ...                                         5,57%\n",
              " 1     CUPRUM  ...                                         5,58%\n",
              " 2    HABITAT  ...                                         5,72%\n",
              " 3     MODELO  ...                                           NaN\n",
              " 4  PLANVITAL  ...                                         5,34%\n",
              " 5    PROVIDA  ...                                         5,38%\n",
              " 6        UNO  ...                                           NaN\n",
              " 7    SISTEMA  ...                                         5,56%\n",
              " \n",
              " [8 rows x 5 columns],\n",
              "   RENTABILIDAD REAL DEL FONDO TIPO C DEFLACTADA POR LA UF (1)Septiembre de 2021 - En porcentaje  ...                                       \n",
              "                                                                                          A.F.P.  ...                                  Anual\n",
              "                                                                                          A.F.P.  ... Promedio AnualPeríodoJul 1981-Sep 2021\n",
              " 0                                            CAPITAL                                             ...                                  7,62%\n",
              " 1                                             CUPRUM                                             ...                                  7,94%\n",
              " 2                                            HABITAT                                             ...                                  7,94%\n",
              " 3                                             MODELO                                             ...                                    NaN\n",
              " 4                                          PLANVITAL                                             ...                                  7,81%\n",
              " 5                                            PROVIDA                                             ...                                  7,55%\n",
              " 6                                                UNO                                             ...                                    NaN\n",
              " 7                                            SISTEMA                                             ...                                  7,78%\n",
              " \n",
              " [8 rows x 6 columns],\n",
              "   RENTABILIDAD REAL DEL FONDO TIPO D DEFLACTADA POR LA UF (1)Septiembre de 2021 - En porcentaje  ...                   \n",
              "                                                                                          A.F.P.  ...              Anual\n",
              "                                                                                          A.F.P.  ... Unnamed: 5_level_2\n",
              " 0                                            CAPITAL                                             ...                NaN\n",
              " 1                                             CUPRUM                                             ...                NaN\n",
              " 2                                            HABITAT                                             ...                NaN\n",
              " 3                                             MODELO                                             ...                NaN\n",
              " 4                                          PLANVITAL                                             ...                NaN\n",
              " 5                                            PROVIDA                                             ...                NaN\n",
              " 6                                                UNO                                             ...                NaN\n",
              " 7                                            SISTEMA                                             ...                NaN\n",
              " \n",
              " [8 rows x 6 columns],\n",
              "   RENTABILIDAD REAL DEL FONDO TIPO E DEFLACTADA POR LA UF (1)Septiembre de 2021 - En porcentaje  ...                                       \n",
              "                                                                                          A.F.P.  ...                                  Anual\n",
              "                                                                                          A.F.P.  ... Promedio AnualPeríodoMay 2000-Sep 2021\n",
              " 0                                            CAPITAL                                             ...                                  3,80%\n",
              " 1                                             CUPRUM                                             ...                                  3,97%\n",
              " 2                                            HABITAT                                             ...                                  4,04%\n",
              " 3                                             MODELO                                             ...                                    NaN\n",
              " 4                                          PLANVITAL                                             ...                                  3,27%\n",
              " 5                                            PROVIDA                                             ...                                  3,47%\n",
              " 6                                                UNO                                             ...                                    NaN\n",
              " 7                                            SISTEMA                                             ...                                  3,83%\n",
              " \n",
              " [8 rows x 6 columns]]"
            ]
          },
          "metadata": {},
          "execution_count": 53
        }
      ]
    },
    {
      "cell_type": "code",
      "metadata": {
        "colab": {
          "base_uri": "https://localhost:8080/",
          "height": 359
        },
        "id": "ffG7XUuP0d-U",
        "outputId": "3fab6886-7fed-4451-b6eb-b07adfb88078"
      },
      "source": [
        "# Elegimos la tabla que estamos buscando a partir del índice\n",
        "df_septiembre = df[2]\n",
        "df_septiembre"
      ],
      "execution_count": null,
      "outputs": [
        {
          "output_type": "execute_result",
          "data": {
            "text/html": [
              "<div>\n",
              "<style scoped>\n",
              "    .dataframe tbody tr th:only-of-type {\n",
              "        vertical-align: middle;\n",
              "    }\n",
              "\n",
              "    .dataframe tbody tr th {\n",
              "        vertical-align: top;\n",
              "    }\n",
              "\n",
              "    .dataframe thead tr th {\n",
              "        text-align: left;\n",
              "    }\n",
              "</style>\n",
              "<table border=\"1\" class=\"dataframe\">\n",
              "  <thead>\n",
              "    <tr>\n",
              "      <th></th>\n",
              "      <th colspan=\"5\" halign=\"left\">RENTABILIDAD REAL DEL FONDO TIPO A DEFLACTADA POR LA UF (1)Septiembre de 2021 - En porcentaje</th>\n",
              "    </tr>\n",
              "    <tr>\n",
              "      <th></th>\n",
              "      <th>A.F.P.</th>\n",
              "      <th colspan=\"2\" halign=\"left\">Del Período</th>\n",
              "      <th colspan=\"2\" halign=\"left\">Anual</th>\n",
              "    </tr>\n",
              "    <tr>\n",
              "      <th></th>\n",
              "      <th>A.F.P.</th>\n",
              "      <th>Sep 2021</th>\n",
              "      <th>AcumuladoEne 2021-Sep 2021</th>\n",
              "      <th>Últimos 12 mesesOct 2020-Sep 2021</th>\n",
              "      <th>Promedio AnualPeríodo27 Sep 2002 - Sep 2021</th>\n",
              "    </tr>\n",
              "  </thead>\n",
              "  <tbody>\n",
              "    <tr>\n",
              "      <th>0</th>\n",
              "      <td>CAPITAL</td>\n",
              "      <td>-0,93%</td>\n",
              "      <td>9,92%</td>\n",
              "      <td>16,65%</td>\n",
              "      <td>6,52%</td>\n",
              "    </tr>\n",
              "    <tr>\n",
              "      <th>1</th>\n",
              "      <td>CUPRUM</td>\n",
              "      <td>-0,93%</td>\n",
              "      <td>10,23%</td>\n",
              "      <td>16,41%</td>\n",
              "      <td>6,52%</td>\n",
              "    </tr>\n",
              "    <tr>\n",
              "      <th>2</th>\n",
              "      <td>HABITAT</td>\n",
              "      <td>-1,15%</td>\n",
              "      <td>9,77%</td>\n",
              "      <td>15,97%</td>\n",
              "      <td>6,62%</td>\n",
              "    </tr>\n",
              "    <tr>\n",
              "      <th>3</th>\n",
              "      <td>MODELO</td>\n",
              "      <td>-1,02%</td>\n",
              "      <td>9,43%</td>\n",
              "      <td>15,79%</td>\n",
              "      <td>NaN</td>\n",
              "    </tr>\n",
              "    <tr>\n",
              "      <th>4</th>\n",
              "      <td>PLANVITAL</td>\n",
              "      <td>-0,91%</td>\n",
              "      <td>9,98%</td>\n",
              "      <td>16,12%</td>\n",
              "      <td>6,17%</td>\n",
              "    </tr>\n",
              "    <tr>\n",
              "      <th>5</th>\n",
              "      <td>PROVIDA</td>\n",
              "      <td>-1,28%</td>\n",
              "      <td>9,79%</td>\n",
              "      <td>15,69%</td>\n",
              "      <td>6,57%</td>\n",
              "    </tr>\n",
              "    <tr>\n",
              "      <th>6</th>\n",
              "      <td>UNO</td>\n",
              "      <td>-1,02%</td>\n",
              "      <td>8,91%</td>\n",
              "      <td>15,30%</td>\n",
              "      <td>NaN</td>\n",
              "    </tr>\n",
              "    <tr>\n",
              "      <th>7</th>\n",
              "      <td>SISTEMA</td>\n",
              "      <td>-1,06%</td>\n",
              "      <td>9,89%</td>\n",
              "      <td>16,15%</td>\n",
              "      <td>6,55%</td>\n",
              "    </tr>\n",
              "  </tbody>\n",
              "</table>\n",
              "</div>"
            ],
            "text/plain": [
              "  RENTABILIDAD REAL DEL FONDO TIPO A DEFLACTADA POR LA UF (1)Septiembre de 2021 - En porcentaje  ...                                            \n",
              "                                                                                         A.F.P.  ...                                       Anual\n",
              "                                                                                         A.F.P.  ... Promedio AnualPeríodo27 Sep 2002 - Sep 2021\n",
              "0                                            CAPITAL                                             ...                                       6,52%\n",
              "1                                             CUPRUM                                             ...                                       6,52%\n",
              "2                                            HABITAT                                             ...                                       6,62%\n",
              "3                                             MODELO                                             ...                                         NaN\n",
              "4                                          PLANVITAL                                             ...                                       6,17%\n",
              "5                                            PROVIDA                                             ...                                       6,57%\n",
              "6                                                UNO                                             ...                                         NaN\n",
              "7                                            SISTEMA                                             ...                                       6,55%\n",
              "\n",
              "[8 rows x 5 columns]"
            ]
          },
          "metadata": {},
          "execution_count": 34
        }
      ]
    },
    {
      "cell_type": "code",
      "metadata": {
        "colab": {
          "base_uri": "https://localhost:8080/",
          "height": 297
        },
        "id": "gtXsteVZ35UC",
        "outputId": "ec3eb05d-2f65-4b3f-e06c-5429775d65c6"
      },
      "source": [
        "# Modificamos las columnas para darle formato\n",
        "columnas = ['A.F.P.', 'Sep 2021', 'Acumulado Ene 2021-Sep 2021', 'Últimos 12 meses Oct 2020-Sep 2021', 'Promedio Anual Período 27 Sep 2002 - Sep 2021']\n",
        "df_septiembre.columns = columnas\n",
        "df_septiembre"
      ],
      "execution_count": null,
      "outputs": [
        {
          "output_type": "execute_result",
          "data": {
            "text/html": [
              "<div>\n",
              "<style scoped>\n",
              "    .dataframe tbody tr th:only-of-type {\n",
              "        vertical-align: middle;\n",
              "    }\n",
              "\n",
              "    .dataframe tbody tr th {\n",
              "        vertical-align: top;\n",
              "    }\n",
              "\n",
              "    .dataframe thead th {\n",
              "        text-align: right;\n",
              "    }\n",
              "</style>\n",
              "<table border=\"1\" class=\"dataframe\">\n",
              "  <thead>\n",
              "    <tr style=\"text-align: right;\">\n",
              "      <th></th>\n",
              "      <th>A.F.P.</th>\n",
              "      <th>Sep 2021</th>\n",
              "      <th>Acumulado Ene 2021-Sep 2021</th>\n",
              "      <th>Últimos 12 meses Oct 2020-Sep 2021</th>\n",
              "      <th>Promedio Anual Período 27 Sep 2002 - Sep 2021</th>\n",
              "    </tr>\n",
              "  </thead>\n",
              "  <tbody>\n",
              "    <tr>\n",
              "      <th>0</th>\n",
              "      <td>CAPITAL</td>\n",
              "      <td>-0,93%</td>\n",
              "      <td>9,92%</td>\n",
              "      <td>16,65%</td>\n",
              "      <td>6,52%</td>\n",
              "    </tr>\n",
              "    <tr>\n",
              "      <th>1</th>\n",
              "      <td>CUPRUM</td>\n",
              "      <td>-0,93%</td>\n",
              "      <td>10,23%</td>\n",
              "      <td>16,41%</td>\n",
              "      <td>6,52%</td>\n",
              "    </tr>\n",
              "    <tr>\n",
              "      <th>2</th>\n",
              "      <td>HABITAT</td>\n",
              "      <td>-1,15%</td>\n",
              "      <td>9,77%</td>\n",
              "      <td>15,97%</td>\n",
              "      <td>6,62%</td>\n",
              "    </tr>\n",
              "    <tr>\n",
              "      <th>3</th>\n",
              "      <td>MODELO</td>\n",
              "      <td>-1,02%</td>\n",
              "      <td>9,43%</td>\n",
              "      <td>15,79%</td>\n",
              "      <td>NaN</td>\n",
              "    </tr>\n",
              "    <tr>\n",
              "      <th>4</th>\n",
              "      <td>PLANVITAL</td>\n",
              "      <td>-0,91%</td>\n",
              "      <td>9,98%</td>\n",
              "      <td>16,12%</td>\n",
              "      <td>6,17%</td>\n",
              "    </tr>\n",
              "    <tr>\n",
              "      <th>5</th>\n",
              "      <td>PROVIDA</td>\n",
              "      <td>-1,28%</td>\n",
              "      <td>9,79%</td>\n",
              "      <td>15,69%</td>\n",
              "      <td>6,57%</td>\n",
              "    </tr>\n",
              "    <tr>\n",
              "      <th>6</th>\n",
              "      <td>UNO</td>\n",
              "      <td>-1,02%</td>\n",
              "      <td>8,91%</td>\n",
              "      <td>15,30%</td>\n",
              "      <td>NaN</td>\n",
              "    </tr>\n",
              "    <tr>\n",
              "      <th>7</th>\n",
              "      <td>SISTEMA</td>\n",
              "      <td>-1,06%</td>\n",
              "      <td>9,89%</td>\n",
              "      <td>16,15%</td>\n",
              "      <td>6,55%</td>\n",
              "    </tr>\n",
              "  </tbody>\n",
              "</table>\n",
              "</div>"
            ],
            "text/plain": [
              "      A.F.P.  ... Promedio Anual Período 27 Sep 2002 - Sep 2021\n",
              "0    CAPITAL  ...                                         6,52%\n",
              "1     CUPRUM  ...                                         6,52%\n",
              "2    HABITAT  ...                                         6,62%\n",
              "3     MODELO  ...                                           NaN\n",
              "4  PLANVITAL  ...                                         6,17%\n",
              "5    PROVIDA  ...                                         6,57%\n",
              "6        UNO  ...                                           NaN\n",
              "7    SISTEMA  ...                                         6,55%\n",
              "\n",
              "[8 rows x 5 columns]"
            ]
          },
          "metadata": {},
          "execution_count": 35
        }
      ]
    },
    {
      "cell_type": "markdown",
      "metadata": {
        "id": "_vMpiSSyLqmi"
      },
      "source": [
        "# Práctica Pandas"
      ]
    },
    {
      "cell_type": "markdown",
      "metadata": {
        "id": "JxKLuYdALzcO"
      },
      "source": [
        "Tomando en cuenta el ejemplo anterior, se le pide que extraer información sobre el valor de la UF de la siguiente página:\n",
        "\n",
        "https://si3.bcentral.cl/indicadoressiete/secure/Serie.aspx?gcode=UF&param=RABmAFYAWQB3AGYAaQBuAEkALQAzADUAbgBNAGgAaAAkADUAVwBQAC4AbQBYADAARwBOAGUAYwBjACMAQQBaAHAARgBhAGcAUABTAGUAYwBsAEMAMQA0AE0AawBLAF8AdQBDACQASABzAG0AXwA2AHQAawBvAFcAZwBKAEwAegBzAF8AbgBMAHIAYgBDAC4ARQA3AFUAVwB4AFIAWQBhAEEAOABkAHkAZwAxAEEARAA=\n",
        "\n",
        "Entregue la información correspondiente en un dataframe.\n",
        "\n"
      ]
    },
    {
      "cell_type": "code",
      "metadata": {
        "id": "no657yNrNzST"
      },
      "source": [
        "# Entregamos como argumento de la función la URL de la página y devuelve una lista con las tablas encontradas en formato dataframe\n",
        "\n",
        "# Elegimos la tabla que estamos buscando a partir del índice\n"
      ],
      "execution_count": null,
      "outputs": []
    },
    {
      "cell_type": "markdown",
      "metadata": {
        "id": "mAcUTTrAzz8Q"
      },
      "source": [
        "## Solución"
      ]
    },
    {
      "cell_type": "code",
      "metadata": {
        "id": "X18G825lGL_K"
      },
      "source": [
        "# Entregamos como argumento de la función la URL de la página y devuelve una lista con las tablas encontradas en formato dataframe\n",
        "URL = 'https://si3.bcentral.cl/indicadoressiete/secure/Serie.aspx?gcode=UF&param=RABmAFYAWQB3AGYAaQBuAEkALQAzADUAbgBNAGgAaAAkADUAVwBQAC4AbQBYADAARwBOAGUAYwBjACMAQQBaAHAARgBhAGcAUABTAGUAYwBsAEMAMQA0AE0AawBLAF8AdQBDACQASABzAG0AXwA2AHQAawBvAFcAZwBKAEwAegBzAF8AbgBMAHIAYgBDAC4ARQA3AFUAVwB4AFIAWQBhAEEAOABkAHkAZwAxAEEARAA='\n",
        "data = pd.read_html(URL)\n",
        "\n",
        "# Elegimos la tabla que estamos buscando a partir del índice\n",
        "data_uf = data[1]\n",
        "\n",
        "# Imprimimos\n",
        "data_uf"
      ],
      "execution_count": null,
      "outputs": []
    }
  ]
}