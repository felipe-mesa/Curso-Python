{
  "nbformat": 4,
  "nbformat_minor": 0,
  "metadata": {
    "colab": {
      "name": "Web Scraping Requests.ipynb",
      "provenance": [],
      "collapsed_sections": []
    },
    "kernelspec": {
      "name": "python3",
      "display_name": "Python 3"
    },
    "language_info": {
      "name": "python"
    }
  },
  "cells": [
    {
      "cell_type": "markdown",
      "metadata": {
        "id": "IWhLhVp3rQx_"
      },
      "source": [
        "# Web Scraping con Requests\n",
        "\n",
        "**Relator: Felipe Mesa Abraham** \n",
        "\n",
        "Correo: femesa@udec.cl\n",
        "\n",
        "\n",
        "En esta actividad se trabajará con la librería [Requests](https://docs.python-requests.org/en/latest/) para extraer codigo fuente de una pagina o información de API's. La actividad consiste en un ejemplo sobre el funcionamiento de la librería y un ejercicio guiado."
      ]
    },
    {
      "cell_type": "markdown",
      "metadata": {
        "id": "LBa_1cmesvVq"
      },
      "source": [
        "## Requests y codigo fuente"
      ]
    },
    {
      "cell_type": "markdown",
      "metadata": {
        "id": "Nl1AGuQhrgz_"
      },
      "source": [
        "Usando Requests podemos extraer el codigo fuente de una página. Esto nos ayudará para hacer scraping complementando el trabajo de Requests con otras librerías."
      ]
    },
    {
      "cell_type": "code",
      "metadata": {
        "id": "HQennEBQs-6V"
      },
      "source": [
        "import requests"
      ],
      "execution_count": 2,
      "outputs": []
    },
    {
      "cell_type": "code",
      "metadata": {
        "id": "kBirS7BXr5VS"
      },
      "source": [
        "# Hacemos la solicitud al sitio web y recibimos como respuesta el codigo fuente de la página\n",
        "r = requests.get('https://www.mercadolibre.cl/')\n",
        "\n",
        "# Esta respuesta la guardamos como texto\n",
        "page_source = r.text"
      ],
      "execution_count": null,
      "outputs": []
    },
    {
      "cell_type": "code",
      "metadata": {
        "id": "9vOHVCxzsF3I"
      },
      "source": [
        "# Imprimimos la respuesta\n",
        "page_source"
      ],
      "execution_count": null,
      "outputs": []
    },
    {
      "cell_type": "markdown",
      "metadata": {
        "id": "VBV9MR8IszY2"
      },
      "source": [
        "## Resquests y API's"
      ]
    },
    {
      "cell_type": "markdown",
      "metadata": {
        "id": "hyV09UB3s2qC"
      },
      "source": [
        "Con Requests tambien se puede llamar a API's para obtener información."
      ]
    },
    {
      "cell_type": "code",
      "metadata": {
        "id": "gA5iwR7Kihek"
      },
      "source": [
        "# Hacemos la llamada a la API y guardamos la respuesta como un diccionario tipo json\n",
        "response = requests.get('https://api.mercadolibre.com/trends/MLC/MLC1051').json()"
      ],
      "execution_count": 3,
      "outputs": []
    },
    {
      "cell_type": "code",
      "metadata": {
        "id": "62GfB3yCoAcI"
      },
      "source": [
        "# Imprimimos la respuesta\n",
        "response"
      ],
      "execution_count": null,
      "outputs": []
    },
    {
      "cell_type": "code",
      "metadata": {
        "id": "uxW1qBn9imYx"
      },
      "source": [
        "# Recorremos el diccionario y mostramos cada una de las keywords\n",
        "for i in range(len(response)):\n",
        "  print(response[i]['keyword'])"
      ],
      "execution_count": null,
      "outputs": []
    },
    {
      "cell_type": "markdown",
      "metadata": {
        "id": "pE2QkeZpoDvP"
      },
      "source": [
        "## Práctica Requests"
      ]
    },
    {
      "cell_type": "markdown",
      "metadata": {
        "id": "sHb92XZqcP9W"
      },
      "source": [
        "Tomando en cuenta el ejemplo anterior, elija una de las categorías desponibles y haga llamadas a la \n",
        "API de MercadoLibre usando Requests para extraer las palabras más utilizadas en las busquedas de los usuarios.\n",
        "Puede consultar las categorías en el siguiente link:\n",
        "\n",
        "https://api.mercadolibre.com/sites/MLC/categories"
      ]
    },
    {
      "cell_type": "code",
      "metadata": {
        "id": "j9yDWRifec2M"
      },
      "source": [
        "# Hacemos una llamada a la API para consultar todas las categorias disponibles\n",
        "\n",
        "# Hacemos otra llamada a la API y guardamos la respuesta como un diccionario tipo json\n",
        "\n",
        "# Recorremos el diccionario y mostramos cada una de las keywords\n"
      ],
      "execution_count": null,
      "outputs": []
    },
    {
      "cell_type": "markdown",
      "metadata": {
        "id": "ff9TXZgHdPwg"
      },
      "source": [
        "# Solución"
      ]
    },
    {
      "cell_type": "code",
      "metadata": {
        "id": "j4t3mIuVd0yE"
      },
      "source": [
        "# Hacemos una llamada a la API para consultar todas las categorias disponibles\n",
        "categorias = requests.get('https://api.mercadolibre.com/sites/MLC/categories').json()\n",
        "categorias"
      ],
      "execution_count": null,
      "outputs": []
    },
    {
      "cell_type": "code",
      "metadata": {
        "id": "7wzZ5mLNcl8d"
      },
      "source": [
        "# Hacemos otra llamada a la API y guardamos la respuesta como un diccionario tipo json\n",
        "response = requests.get('https://api.mercadolibre.com/trends/MLC/MLC1051').json()\n",
        "\n",
        "# Recorremos el diccionario y mostramos cada una de las keywords\n",
        "for i in range(len(response)):\n",
        "  print(response[i]['keyword'])"
      ],
      "execution_count": null,
      "outputs": []
    },
    {
      "cell_type": "markdown",
      "metadata": {
        "id": "WYlZwDItd87c"
      },
      "source": [
        "# Ejercicio propuesto"
      ]
    },
    {
      "cell_type": "markdown",
      "metadata": {
        "id": "-e4P9M-etLwZ"
      },
      "source": [
        "Repita el ejercicio anterior para extraer las palabras clave de cada una de las categorías disponibles.\n",
        "Puede consultar las categorías en el siguiente link:\n",
        "\n",
        "https://api.mercadolibre.com/sites/MLC/categories\n"
      ]
    },
    {
      "cell_type": "code",
      "metadata": {
        "id": "PopjffVCu2x3"
      },
      "source": [
        "# Hacemos una llamada a la API para consultar todas las categorias disponibles\n",
        "\n",
        "# Hacemos otra llamada para revisar el contenido de cada categoría\n",
        "\n",
        "# Recorremos cada una de las categorías\n",
        "\n",
        "# Para cada categoría, extraemos las palabras mas utilizadas o \"keywords\"\n",
        "\n",
        "# Mostramos el resultado"
      ],
      "execution_count": null,
      "outputs": []
    },
    {
      "cell_type": "markdown",
      "metadata": {
        "id": "YfyFlk2FzMjm"
      },
      "source": [
        "## Solución"
      ]
    },
    {
      "cell_type": "code",
      "metadata": {
        "id": "L7eI6-gSoDNx"
      },
      "source": [
        "# Hacemos una llamada a la API para consultar las librerías\n",
        "categorias = requests.get('https://api.mercadolibre.com/sites/MLC/categories').json()"
      ],
      "execution_count": null,
      "outputs": []
    },
    {
      "cell_type": "code",
      "metadata": {
        "colab": {
          "base_uri": "https://localhost:8080/"
        },
        "id": "xYsYHTSeuCNT",
        "outputId": "bd767e2a-bf9a-4c6e-b280-c6ebe1434e8c"
      },
      "source": [
        "categorias"
      ],
      "execution_count": null,
      "outputs": [
        {
          "output_type": "execute_result",
          "data": {
            "text/plain": [
              "[{'id': 'MLC1747', 'name': 'Accesorios para Vehículos'},\n",
              " {'id': 'MLC1512', 'name': 'Agro'},\n",
              " {'id': 'MLC1403', 'name': 'Alimentos y Bebidas'},\n",
              " {'id': 'MLC1071', 'name': 'Animales y Mascotas'},\n",
              " {'id': 'MLC1367', 'name': 'Antigüedades y Colecciones'},\n",
              " {'id': 'MLC1368', 'name': 'Arte, Librería y Cordonería'},\n",
              " {'id': 'MLC1743', 'name': 'Autos, Motos y Otros'},\n",
              " {'id': 'MLC1384', 'name': 'Bebés'},\n",
              " {'id': 'MLC1246', 'name': 'Belleza y Cuidado Personal'},\n",
              " {'id': 'MLC1039', 'name': 'Cámaras y Accesorios'},\n",
              " {'id': 'MLC1051', 'name': 'Celulares y Telefonía'},\n",
              " {'id': 'MLC1648', 'name': 'Computación'},\n",
              " {'id': 'MLC1144', 'name': 'Consolas y Videojuegos'},\n",
              " {'id': 'MLC1500', 'name': 'Construcción'},\n",
              " {'id': 'MLC1276', 'name': 'Deportes y Fitness'},\n",
              " {'id': 'MLC5726', 'name': 'Electrodomésticos'},\n",
              " {'id': 'MLC1000', 'name': 'Electrónica, Audio y Video'},\n",
              " {'id': 'MLC110931', 'name': 'Entradas para Eventos'},\n",
              " {'id': 'MLC178483', 'name': 'Herramientas'},\n",
              " {'id': 'MLC1574', 'name': 'Hogar y Muebles'},\n",
              " {'id': 'MLC1499', 'name': 'Industrias y Oficinas'},\n",
              " {'id': 'MLC1459', 'name': 'Inmuebles'},\n",
              " {'id': 'MLC1182', 'name': 'Instrumentos Musicales'},\n",
              " {'id': 'MLC1132', 'name': 'Juegos y Juguetes'},\n",
              " {'id': 'MLC3025', 'name': 'Libros, Revistas y Comics'},\n",
              " {'id': 'MLC1168', 'name': 'Música y Películas'},\n",
              " {'id': 'MLC3937', 'name': 'Relojes y Joyas'},\n",
              " {'id': 'MLC409431', 'name': 'Salud y Equipamiento Médico'},\n",
              " {'id': 'MLC1540', 'name': 'Servicios'},\n",
              " {'id': 'MLC435280', 'name': 'Souvenirs, Cotillón y Fiestas'},\n",
              " {'id': 'MLC1430', 'name': 'Vestuario y Calzado'},\n",
              " {'id': 'MLC1953', 'name': 'Otras Categorías'}]"
            ]
          },
          "metadata": {},
          "execution_count": 30
        }
      ]
    },
    {
      "cell_type": "code",
      "metadata": {
        "id": "9GHZSa2RuGAp"
      },
      "source": [
        "# Recorremos cada una de las categorías\n",
        "for i in range(len(categorias)):\n",
        "\n",
        "  # Hacemos otra llamada para revisar el contenido de cada categoría\n",
        "  keywords = requests.get(\"https://api.mercadolibre.com/trends/MLC/{}\".format(categorias[i]['id'])).json()\n",
        "\n",
        "  # Recorremos cada una de las categorías\n",
        "  for j in range(len(keywords)):\n",
        "    # Para cada categoría, extraemos las palabras mas utilizadas o \"keywords\"\n",
        "    # Mostramos el resultado\n",
        "    print(keywords[j]['keyword'])"
      ],
      "execution_count": null,
      "outputs": []
    }
  ]
}