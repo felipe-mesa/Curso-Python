{
  "nbformat": 4,
  "nbformat_minor": 0,
  "metadata": {
    "colab": {
      "name": "Visualización Plotly.ipynb",
      "provenance": [],
      "collapsed_sections": [
        "U-SK8_Smidiu",
        "XBr0LEsxVwD6",
        "zer41Z_apjFf",
        "lDqngPMLp8Me",
        "UFDcwqKap8YX",
        "9CbMxBcap8gZ",
        "ICrfsPSSp8oG",
        "F8jwFfeap8th",
        "N44TdqeJXRz3",
        "v5NWay2up84u",
        "ym_jqLGAd5U2",
        "juVXTcj-qvaF"
      ]
    },
    "kernelspec": {
      "name": "python3",
      "display_name": "Python 3"
    },
    "language_info": {
      "name": "python"
    }
  },
  "cells": [
    {
      "cell_type": "markdown",
      "metadata": {
        "id": "44QkgkazFPoI"
      },
      "source": [
        "# Visualización de datos con Plotly\n",
        "\n",
        "**Relator: Felipe Mesa Abraham** \n",
        "\n",
        "Correo: femesa@udec.cl\n",
        "\n",
        "\n",
        "En esta actividad se trabajará con la librerias [Plotly](https://plotly.com/python/) para crear diferentes visualizaciones en torno al objetivo de cada una. La actividad consiste en ejemplos sobre el funcionamiento del codigo para los diferentes tipos de visualizaciones vistos en la sección teórica y ejercicios guiados."
      ]
    },
    {
      "cell_type": "markdown",
      "metadata": {
        "id": "U-SK8_Smidiu"
      },
      "source": [
        "# Ejemplos"
      ]
    },
    {
      "cell_type": "markdown",
      "metadata": {
        "id": "XBr0LEsxVwD6"
      },
      "source": [
        "## Descarga de datos"
      ]
    },
    {
      "cell_type": "code",
      "metadata": {
        "id": "1mMmqHuzFOS8"
      },
      "source": [
        "import pandas as pd\n",
        "import plotly.express as px"
      ],
      "execution_count": 1,
      "outputs": []
    },
    {
      "cell_type": "code",
      "metadata": {
        "colab": {
          "base_uri": "https://localhost:8080/"
        },
        "id": "LDaHDpXTF5C-",
        "outputId": "e418ad7d-fc63-47a9-957e-000ea265e1c7"
      },
      "source": [
        "!gdown --id 18Q_sXvrhlC6LNXSzQDsTUBZRm_K8X5Vi"
      ],
      "execution_count": 2,
      "outputs": [
        {
          "output_type": "stream",
          "name": "stdout",
          "text": [
            "Downloading...\n",
            "From: https://drive.google.com/uc?id=18Q_sXvrhlC6LNXSzQDsTUBZRm_K8X5Vi\n",
            "To: /content/DataCenso.csv\n",
            "\r  0% 0.00/5.53M [00:00<?, ?B/s]\r100% 5.53M/5.53M [00:00<00:00, 48.5MB/s]\n"
          ]
        }
      ]
    },
    {
      "cell_type": "code",
      "metadata": {
        "colab": {
          "base_uri": "https://localhost:8080/",
          "height": 206
        },
        "id": "tduJ8Ww3F6se",
        "outputId": "f407d2e1-81a3-4508-e26d-3947fd42279d"
      },
      "source": [
        "censo = pd.read_csv(\"DataCenso.csv\")\n",
        "censo.head()"
      ],
      "execution_count": 3,
      "outputs": [
        {
          "output_type": "execute_result",
          "data": {
            "text/html": [
              "<div>\n",
              "<style scoped>\n",
              "    .dataframe tbody tr th:only-of-type {\n",
              "        vertical-align: middle;\n",
              "    }\n",
              "\n",
              "    .dataframe tbody tr th {\n",
              "        vertical-align: top;\n",
              "    }\n",
              "\n",
              "    .dataframe thead th {\n",
              "        text-align: right;\n",
              "    }\n",
              "</style>\n",
              "<table border=\"1\" class=\"dataframe\">\n",
              "  <thead>\n",
              "    <tr style=\"text-align: right;\">\n",
              "      <th></th>\n",
              "      <th>comuna</th>\n",
              "      <th>parentesco</th>\n",
              "      <th>edad</th>\n",
              "      <th>pais</th>\n",
              "      <th>a_llegada</th>\n",
              "      <th>n_educacional</th>\n",
              "      <th>descendencia</th>\n",
              "    </tr>\n",
              "  </thead>\n",
              "  <tbody>\n",
              "    <tr>\n",
              "      <th>0</th>\n",
              "      <td>Putre</td>\n",
              "      <td>Esposo/a o cónyuge</td>\n",
              "      <td>54</td>\n",
              "      <td>Italia</td>\n",
              "      <td>2007</td>\n",
              "      <td>9</td>\n",
              "      <td>0</td>\n",
              "    </tr>\n",
              "    <tr>\n",
              "      <th>1</th>\n",
              "      <td>Putre</td>\n",
              "      <td>Persona en vivienda colectiva</td>\n",
              "      <td>26</td>\n",
              "      <td>Alemania</td>\n",
              "      <td>2017</td>\n",
              "      <td>9</td>\n",
              "      <td>0</td>\n",
              "    </tr>\n",
              "    <tr>\n",
              "      <th>2</th>\n",
              "      <td>Putre</td>\n",
              "      <td>Esposo/a o cónyuge</td>\n",
              "      <td>34</td>\n",
              "      <td>México</td>\n",
              "      <td>1999</td>\n",
              "      <td>3</td>\n",
              "      <td>4</td>\n",
              "    </tr>\n",
              "    <tr>\n",
              "      <th>3</th>\n",
              "      <td>Putre</td>\n",
              "      <td>Jefe/a de hogar</td>\n",
              "      <td>32</td>\n",
              "      <td>México</td>\n",
              "      <td>2011</td>\n",
              "      <td>6</td>\n",
              "      <td>1</td>\n",
              "    </tr>\n",
              "    <tr>\n",
              "      <th>4</th>\n",
              "      <td>Putre</td>\n",
              "      <td>Persona en vivienda colectiva</td>\n",
              "      <td>34</td>\n",
              "      <td>Suiza</td>\n",
              "      <td>2017</td>\n",
              "      <td>9</td>\n",
              "      <td>0</td>\n",
              "    </tr>\n",
              "  </tbody>\n",
              "</table>\n",
              "</div>"
            ],
            "text/plain": [
              "  comuna                     parentesco  ...  n_educacional descendencia\n",
              "0  Putre             Esposo/a o cónyuge  ...              9            0\n",
              "1  Putre  Persona en vivienda colectiva  ...              9            0\n",
              "2  Putre             Esposo/a o cónyuge  ...              3            4\n",
              "3  Putre                Jefe/a de hogar  ...              6            1\n",
              "4  Putre  Persona en vivienda colectiva  ...              9            0\n",
              "\n",
              "[5 rows x 7 columns]"
            ]
          },
          "metadata": {},
          "execution_count": 3
        }
      ]
    },
    {
      "cell_type": "markdown",
      "metadata": {
        "id": "zer41Z_apjFf"
      },
      "source": [
        "## Gráfico de barra"
      ]
    },
    {
      "cell_type": "code",
      "metadata": {
        "colab": {
          "base_uri": "https://localhost:8080/",
          "height": 237
        },
        "id": "OB2DROMCF8ls",
        "outputId": "98e245df-10a9-447b-c7eb-2510e46942f3"
      },
      "source": [
        "data_barra = censo.groupby('parentesco').mean()\n",
        "data_barra.head()"
      ],
      "execution_count": 4,
      "outputs": [
        {
          "output_type": "execute_result",
          "data": {
            "text/html": [
              "<div>\n",
              "<style scoped>\n",
              "    .dataframe tbody tr th:only-of-type {\n",
              "        vertical-align: middle;\n",
              "    }\n",
              "\n",
              "    .dataframe tbody tr th {\n",
              "        vertical-align: top;\n",
              "    }\n",
              "\n",
              "    .dataframe thead th {\n",
              "        text-align: right;\n",
              "    }\n",
              "</style>\n",
              "<table border=\"1\" class=\"dataframe\">\n",
              "  <thead>\n",
              "    <tr style=\"text-align: right;\">\n",
              "      <th></th>\n",
              "      <th>edad</th>\n",
              "      <th>a_llegada</th>\n",
              "      <th>n_educacional</th>\n",
              "      <th>descendencia</th>\n",
              "    </tr>\n",
              "    <tr>\n",
              "      <th>parentesco</th>\n",
              "      <th></th>\n",
              "      <th></th>\n",
              "      <th></th>\n",
              "      <th></th>\n",
              "    </tr>\n",
              "  </thead>\n",
              "  <tbody>\n",
              "    <tr>\n",
              "      <th>Abuelo/a</th>\n",
              "      <td>79.467742</td>\n",
              "      <td>1995.161290</td>\n",
              "      <td>5.435484</td>\n",
              "      <td>2.854839</td>\n",
              "    </tr>\n",
              "    <tr>\n",
              "      <th>Conviviente de hecho o pareja</th>\n",
              "      <td>31.507202</td>\n",
              "      <td>2011.837722</td>\n",
              "      <td>7.877560</td>\n",
              "      <td>0.849651</td>\n",
              "    </tr>\n",
              "    <tr>\n",
              "      <th>Conviviente por unión civil</th>\n",
              "      <td>33.682310</td>\n",
              "      <td>2010.599278</td>\n",
              "      <td>7.669675</td>\n",
              "      <td>1.104693</td>\n",
              "    </tr>\n",
              "    <tr>\n",
              "      <th>Cuñado/a</th>\n",
              "      <td>31.145013</td>\n",
              "      <td>2014.837927</td>\n",
              "      <td>7.175853</td>\n",
              "      <td>0.864829</td>\n",
              "    </tr>\n",
              "    <tr>\n",
              "      <th>Esposo/a o cónyuge</th>\n",
              "      <td>38.464269</td>\n",
              "      <td>2007.379972</td>\n",
              "      <td>8.077481</td>\n",
              "      <td>1.551032</td>\n",
              "    </tr>\n",
              "  </tbody>\n",
              "</table>\n",
              "</div>"
            ],
            "text/plain": [
              "                                    edad  ...  descendencia\n",
              "parentesco                                ...              \n",
              "Abuelo/a                       79.467742  ...      2.854839\n",
              "Conviviente de hecho o pareja  31.507202  ...      0.849651\n",
              "Conviviente por unión civil    33.682310  ...      1.104693\n",
              "Cuñado/a                       31.145013  ...      0.864829\n",
              "Esposo/a o cónyuge             38.464269  ...      1.551032\n",
              "\n",
              "[5 rows x 4 columns]"
            ]
          },
          "metadata": {},
          "execution_count": 4
        }
      ]
    },
    {
      "cell_type": "code",
      "metadata": {
        "colab": {
          "base_uri": "https://localhost:8080/",
          "height": 542
        },
        "id": "Xjno8jKaGKqo",
        "outputId": "c2c516d9-f0a1-439b-f5a8-c9d14c5a4982"
      },
      "source": [
        "fig = px.bar(data_frame=data_barra, x=data_barra.index, y='edad', hover_data=['n_educacional'])\n",
        "fig.show()"
      ],
      "execution_count": 16,
      "outputs": [
        {
          "output_type": "display_data",
          "data": {
            "text/html": [
              "<html>\n",
              "<head><meta charset=\"utf-8\" /></head>\n",
              "<body>\n",
              "    <div>\n",
              "            <script src=\"https://cdnjs.cloudflare.com/ajax/libs/mathjax/2.7.5/MathJax.js?config=TeX-AMS-MML_SVG\"></script><script type=\"text/javascript\">if (window.MathJax) {MathJax.Hub.Config({SVG: {font: \"STIX-Web\"}});}</script>\n",
              "                <script type=\"text/javascript\">window.PlotlyConfig = {MathJaxConfig: 'local'};</script>\n",
              "        <script src=\"https://cdn.plot.ly/plotly-latest.min.js\"></script>    \n",
              "            <div id=\"e3b2295d-75d1-4a6e-8600-22cfa3a4bbdb\" class=\"plotly-graph-div\" style=\"height:525px; width:100%;\"></div>\n",
              "            <script type=\"text/javascript\">\n",
              "                \n",
              "                    window.PLOTLYENV=window.PLOTLYENV || {};\n",
              "                    \n",
              "                if (document.getElementById(\"e3b2295d-75d1-4a6e-8600-22cfa3a4bbdb\")) {\n",
              "                    Plotly.newPlot(\n",
              "                        'e3b2295d-75d1-4a6e-8600-22cfa3a4bbdb',\n",
              "                        [{\"alignmentgroup\": \"True\", \"customdata\": [[5.435483870967742], [7.8775602070672965], [7.669675090252707], [7.175853018372703], [8.077480874515064], [7.157353598569513], [7.3031748642868894], [7.050898203592815], [8.257007198652166], [7.292207792207792], [7.676508620689655], [6.635737009544009], [6.1], [8.47019867549669], [7.970479704797048], [6.277839029768468], [6.682644628099173], [7.592809364548495]], \"hoverlabel\": {\"namelength\": 0}, \"hovertemplate\": \"x=%{x}<br>edad=%{y}<br>n_educacional=%{customdata[0]}\", \"legendgroup\": \"\", \"marker\": {\"color\": \"#636efa\"}, \"name\": \"\", \"offsetgroup\": \"\", \"orientation\": \"v\", \"showlegend\": false, \"textposition\": \"auto\", \"type\": \"bar\", \"x\": [\"Abuelo/a\", \"Conviviente de hecho o pareja\", \"Conviviente por uni\\u00f3n civil\", \"Cu\\u00f1ado/a\", \"Esposo/a o c\\u00f3nyuge\", \"Hermano/a\", \"Hijo/a\", \"Hijo/a del c\\u00f3nyuge, conviviente o pareja\", \"Jefe/a de hogar\", \"Nieto/a\", \"No pariente\", \"Padre/madre\", \"Persona en operativo calle\", \"Persona en tr\\u00e1nsito\", \"Persona en vivienda colectiva\", \"Servicio dom\\u00e9stico puertas adentro\", \"Suegro/a\", \"Yerno/nuera\"], \"xaxis\": \"x\", \"y\": [79.46774193548387, 31.50720234076075, 33.68231046931408, 31.14501312335958, 38.46426888075124, 31.52078676799285, 23.588583648626418, 25.56437125748503, 39.15040588145198, 22.51298701298701, 30.35290948275862, 64.32661717921528, 38.7, 49.841059602649004, 40.679335793357936, 38.636163175303196, 63.04380165289256, 30.933946488294314], \"yaxis\": \"y\"}],\n",
              "                        {\"barmode\": \"relative\", \"legend\": {\"tracegroupgap\": 0}, \"margin\": {\"t\": 60}, \"template\": {\"data\": {\"bar\": [{\"error_x\": {\"color\": \"#2a3f5f\"}, \"error_y\": {\"color\": \"#2a3f5f\"}, \"marker\": {\"line\": {\"color\": \"#E5ECF6\", \"width\": 0.5}}, \"type\": \"bar\"}], \"barpolar\": [{\"marker\": {\"line\": {\"color\": \"#E5ECF6\", \"width\": 0.5}}, \"type\": \"barpolar\"}], \"carpet\": [{\"aaxis\": {\"endlinecolor\": \"#2a3f5f\", \"gridcolor\": \"white\", \"linecolor\": \"white\", \"minorgridcolor\": \"white\", \"startlinecolor\": \"#2a3f5f\"}, \"baxis\": {\"endlinecolor\": \"#2a3f5f\", \"gridcolor\": \"white\", \"linecolor\": \"white\", \"minorgridcolor\": \"white\", \"startlinecolor\": \"#2a3f5f\"}, \"type\": \"carpet\"}], \"choropleth\": [{\"colorbar\": {\"outlinewidth\": 0, \"ticks\": \"\"}, \"type\": \"choropleth\"}], \"contour\": [{\"colorbar\": {\"outlinewidth\": 0, \"ticks\": \"\"}, \"colorscale\": [[0.0, \"#0d0887\"], [0.1111111111111111, \"#46039f\"], [0.2222222222222222, \"#7201a8\"], [0.3333333333333333, \"#9c179e\"], [0.4444444444444444, \"#bd3786\"], [0.5555555555555556, \"#d8576b\"], [0.6666666666666666, \"#ed7953\"], [0.7777777777777778, \"#fb9f3a\"], [0.8888888888888888, \"#fdca26\"], [1.0, \"#f0f921\"]], \"type\": \"contour\"}], \"contourcarpet\": [{\"colorbar\": {\"outlinewidth\": 0, \"ticks\": \"\"}, \"type\": \"contourcarpet\"}], \"heatmap\": [{\"colorbar\": {\"outlinewidth\": 0, \"ticks\": \"\"}, \"colorscale\": [[0.0, \"#0d0887\"], [0.1111111111111111, \"#46039f\"], [0.2222222222222222, \"#7201a8\"], [0.3333333333333333, \"#9c179e\"], [0.4444444444444444, \"#bd3786\"], [0.5555555555555556, \"#d8576b\"], [0.6666666666666666, \"#ed7953\"], [0.7777777777777778, \"#fb9f3a\"], [0.8888888888888888, \"#fdca26\"], [1.0, \"#f0f921\"]], \"type\": \"heatmap\"}], \"heatmapgl\": [{\"colorbar\": {\"outlinewidth\": 0, \"ticks\": \"\"}, \"colorscale\": [[0.0, \"#0d0887\"], [0.1111111111111111, \"#46039f\"], [0.2222222222222222, \"#7201a8\"], [0.3333333333333333, \"#9c179e\"], [0.4444444444444444, \"#bd3786\"], [0.5555555555555556, \"#d8576b\"], [0.6666666666666666, \"#ed7953\"], [0.7777777777777778, \"#fb9f3a\"], [0.8888888888888888, \"#fdca26\"], [1.0, \"#f0f921\"]], \"type\": \"heatmapgl\"}], \"histogram\": [{\"marker\": {\"colorbar\": {\"outlinewidth\": 0, \"ticks\": \"\"}}, \"type\": \"histogram\"}], \"histogram2d\": [{\"colorbar\": {\"outlinewidth\": 0, \"ticks\": \"\"}, \"colorscale\": [[0.0, \"#0d0887\"], [0.1111111111111111, \"#46039f\"], [0.2222222222222222, \"#7201a8\"], [0.3333333333333333, \"#9c179e\"], [0.4444444444444444, \"#bd3786\"], [0.5555555555555556, \"#d8576b\"], [0.6666666666666666, \"#ed7953\"], [0.7777777777777778, \"#fb9f3a\"], [0.8888888888888888, \"#fdca26\"], [1.0, \"#f0f921\"]], \"type\": \"histogram2d\"}], \"histogram2dcontour\": [{\"colorbar\": {\"outlinewidth\": 0, \"ticks\": \"\"}, \"colorscale\": [[0.0, \"#0d0887\"], [0.1111111111111111, \"#46039f\"], [0.2222222222222222, \"#7201a8\"], [0.3333333333333333, \"#9c179e\"], [0.4444444444444444, \"#bd3786\"], [0.5555555555555556, \"#d8576b\"], [0.6666666666666666, \"#ed7953\"], [0.7777777777777778, \"#fb9f3a\"], [0.8888888888888888, \"#fdca26\"], [1.0, \"#f0f921\"]], \"type\": \"histogram2dcontour\"}], \"mesh3d\": [{\"colorbar\": {\"outlinewidth\": 0, \"ticks\": \"\"}, \"type\": \"mesh3d\"}], \"parcoords\": [{\"line\": {\"colorbar\": {\"outlinewidth\": 0, \"ticks\": \"\"}}, \"type\": \"parcoords\"}], \"pie\": [{\"automargin\": true, \"type\": \"pie\"}], \"scatter\": [{\"marker\": {\"colorbar\": {\"outlinewidth\": 0, \"ticks\": \"\"}}, \"type\": \"scatter\"}], \"scatter3d\": [{\"line\": {\"colorbar\": {\"outlinewidth\": 0, \"ticks\": \"\"}}, \"marker\": {\"colorbar\": {\"outlinewidth\": 0, \"ticks\": \"\"}}, \"type\": \"scatter3d\"}], \"scattercarpet\": [{\"marker\": {\"colorbar\": {\"outlinewidth\": 0, \"ticks\": \"\"}}, \"type\": \"scattercarpet\"}], \"scattergeo\": [{\"marker\": {\"colorbar\": {\"outlinewidth\": 0, \"ticks\": \"\"}}, \"type\": \"scattergeo\"}], \"scattergl\": [{\"marker\": {\"colorbar\": {\"outlinewidth\": 0, \"ticks\": \"\"}}, \"type\": \"scattergl\"}], \"scattermapbox\": [{\"marker\": {\"colorbar\": {\"outlinewidth\": 0, \"ticks\": \"\"}}, \"type\": \"scattermapbox\"}], \"scatterpolar\": [{\"marker\": {\"colorbar\": {\"outlinewidth\": 0, \"ticks\": \"\"}}, \"type\": \"scatterpolar\"}], \"scatterpolargl\": [{\"marker\": {\"colorbar\": {\"outlinewidth\": 0, \"ticks\": \"\"}}, \"type\": \"scatterpolargl\"}], \"scatterternary\": [{\"marker\": {\"colorbar\": {\"outlinewidth\": 0, \"ticks\": \"\"}}, \"type\": \"scatterternary\"}], \"surface\": [{\"colorbar\": {\"outlinewidth\": 0, \"ticks\": \"\"}, \"colorscale\": [[0.0, \"#0d0887\"], [0.1111111111111111, \"#46039f\"], [0.2222222222222222, \"#7201a8\"], [0.3333333333333333, \"#9c179e\"], [0.4444444444444444, \"#bd3786\"], [0.5555555555555556, \"#d8576b\"], [0.6666666666666666, \"#ed7953\"], [0.7777777777777778, \"#fb9f3a\"], [0.8888888888888888, \"#fdca26\"], [1.0, \"#f0f921\"]], \"type\": \"surface\"}], \"table\": [{\"cells\": {\"fill\": {\"color\": \"#EBF0F8\"}, \"line\": {\"color\": \"white\"}}, \"header\": {\"fill\": {\"color\": \"#C8D4E3\"}, \"line\": {\"color\": \"white\"}}, \"type\": \"table\"}]}, \"layout\": {\"annotationdefaults\": {\"arrowcolor\": \"#2a3f5f\", \"arrowhead\": 0, \"arrowwidth\": 1}, \"coloraxis\": {\"colorbar\": {\"outlinewidth\": 0, \"ticks\": \"\"}}, \"colorscale\": {\"diverging\": [[0, \"#8e0152\"], [0.1, \"#c51b7d\"], [0.2, \"#de77ae\"], [0.3, \"#f1b6da\"], [0.4, \"#fde0ef\"], [0.5, \"#f7f7f7\"], [0.6, \"#e6f5d0\"], [0.7, \"#b8e186\"], [0.8, \"#7fbc41\"], [0.9, \"#4d9221\"], [1, \"#276419\"]], \"sequential\": [[0.0, \"#0d0887\"], [0.1111111111111111, \"#46039f\"], [0.2222222222222222, \"#7201a8\"], [0.3333333333333333, \"#9c179e\"], [0.4444444444444444, \"#bd3786\"], [0.5555555555555556, \"#d8576b\"], [0.6666666666666666, \"#ed7953\"], [0.7777777777777778, \"#fb9f3a\"], [0.8888888888888888, \"#fdca26\"], [1.0, \"#f0f921\"]], \"sequentialminus\": [[0.0, \"#0d0887\"], [0.1111111111111111, \"#46039f\"], [0.2222222222222222, \"#7201a8\"], [0.3333333333333333, \"#9c179e\"], [0.4444444444444444, \"#bd3786\"], [0.5555555555555556, \"#d8576b\"], [0.6666666666666666, \"#ed7953\"], [0.7777777777777778, \"#fb9f3a\"], [0.8888888888888888, \"#fdca26\"], [1.0, \"#f0f921\"]]}, \"colorway\": [\"#636efa\", \"#EF553B\", \"#00cc96\", \"#ab63fa\", \"#FFA15A\", \"#19d3f3\", \"#FF6692\", \"#B6E880\", \"#FF97FF\", \"#FECB52\"], \"font\": {\"color\": \"#2a3f5f\"}, \"geo\": {\"bgcolor\": \"white\", \"lakecolor\": \"white\", \"landcolor\": \"#E5ECF6\", \"showlakes\": true, \"showland\": true, \"subunitcolor\": \"white\"}, \"hoverlabel\": {\"align\": \"left\"}, \"hovermode\": \"closest\", \"mapbox\": {\"style\": \"light\"}, \"paper_bgcolor\": \"white\", \"plot_bgcolor\": \"#E5ECF6\", \"polar\": {\"angularaxis\": {\"gridcolor\": \"white\", \"linecolor\": \"white\", \"ticks\": \"\"}, \"bgcolor\": \"#E5ECF6\", \"radialaxis\": {\"gridcolor\": \"white\", \"linecolor\": \"white\", \"ticks\": \"\"}}, \"scene\": {\"xaxis\": {\"backgroundcolor\": \"#E5ECF6\", \"gridcolor\": \"white\", \"gridwidth\": 2, \"linecolor\": \"white\", \"showbackground\": true, \"ticks\": \"\", \"zerolinecolor\": \"white\"}, \"yaxis\": {\"backgroundcolor\": \"#E5ECF6\", \"gridcolor\": \"white\", \"gridwidth\": 2, \"linecolor\": \"white\", \"showbackground\": true, \"ticks\": \"\", \"zerolinecolor\": \"white\"}, \"zaxis\": {\"backgroundcolor\": \"#E5ECF6\", \"gridcolor\": \"white\", \"gridwidth\": 2, \"linecolor\": \"white\", \"showbackground\": true, \"ticks\": \"\", \"zerolinecolor\": \"white\"}}, \"shapedefaults\": {\"line\": {\"color\": \"#2a3f5f\"}}, \"ternary\": {\"aaxis\": {\"gridcolor\": \"white\", \"linecolor\": \"white\", \"ticks\": \"\"}, \"baxis\": {\"gridcolor\": \"white\", \"linecolor\": \"white\", \"ticks\": \"\"}, \"bgcolor\": \"#E5ECF6\", \"caxis\": {\"gridcolor\": \"white\", \"linecolor\": \"white\", \"ticks\": \"\"}}, \"title\": {\"x\": 0.05}, \"xaxis\": {\"automargin\": true, \"gridcolor\": \"white\", \"linecolor\": \"white\", \"ticks\": \"\", \"title\": {\"standoff\": 15}, \"zerolinecolor\": \"white\", \"zerolinewidth\": 2}, \"yaxis\": {\"automargin\": true, \"gridcolor\": \"white\", \"linecolor\": \"white\", \"ticks\": \"\", \"title\": {\"standoff\": 15}, \"zerolinecolor\": \"white\", \"zerolinewidth\": 2}}}, \"xaxis\": {\"anchor\": \"y\", \"domain\": [0.0, 1.0], \"title\": {\"text\": \"x\"}}, \"yaxis\": {\"anchor\": \"x\", \"domain\": [0.0, 1.0], \"title\": {\"text\": \"edad\"}}},\n",
              "                        {\"responsive\": true}\n",
              "                    ).then(function(){\n",
              "                            \n",
              "var gd = document.getElementById('e3b2295d-75d1-4a6e-8600-22cfa3a4bbdb');\n",
              "var x = new MutationObserver(function (mutations, observer) {{\n",
              "        var display = window.getComputedStyle(gd).display;\n",
              "        if (!display || display === 'none') {{\n",
              "            console.log([gd, 'removed!']);\n",
              "            Plotly.purge(gd);\n",
              "            observer.disconnect();\n",
              "        }}\n",
              "}});\n",
              "\n",
              "// Listen for the removal of the full notebook cells\n",
              "var notebookContainer = gd.closest('#notebook-container');\n",
              "if (notebookContainer) {{\n",
              "    x.observe(notebookContainer, {childList: true});\n",
              "}}\n",
              "\n",
              "// Listen for the clearing of the current output cell\n",
              "var outputEl = gd.closest('.output');\n",
              "if (outputEl) {{\n",
              "    x.observe(outputEl, {childList: true});\n",
              "}}\n",
              "\n",
              "                        })\n",
              "                };\n",
              "                \n",
              "            </script>\n",
              "        </div>\n",
              "</body>\n",
              "</html>"
            ]
          },
          "metadata": {}
        }
      ]
    },
    {
      "cell_type": "code",
      "metadata": {
        "id": "aA_3zUf6Hdql"
      },
      "source": [
        "fig.write_html(\"file.html\")"
      ],
      "execution_count": 6,
      "outputs": []
    },
    {
      "cell_type": "markdown",
      "metadata": {
        "id": "lDqngPMLp8Me"
      },
      "source": [
        "## Gráfico de línea"
      ]
    },
    {
      "cell_type": "code",
      "metadata": {
        "colab": {
          "base_uri": "https://localhost:8080/"
        },
        "id": "i9sS_hvgp8Me",
        "outputId": "ad544824-c5e8-45e4-dec3-edd2ea851d86"
      },
      "source": [
        "data_linea = censo.groupby('a_llegada').size()\n",
        "data_linea"
      ],
      "execution_count": 18,
      "outputs": [
        {
          "output_type": "execute_result",
          "data": {
            "text/plain": [
              "a_llegada\n",
              "1950     1365\n",
              "1951      153\n",
              "1952      200\n",
              "1953      142\n",
              "1954      111\n",
              "        ...  \n",
              "2013     3590\n",
              "2014     5114\n",
              "2015     9621\n",
              "2016    24911\n",
              "2017    14683\n",
              "Length: 68, dtype: int64"
            ]
          },
          "metadata": {},
          "execution_count": 18
        }
      ]
    },
    {
      "cell_type": "code",
      "metadata": {
        "colab": {
          "base_uri": "https://localhost:8080/",
          "height": 542
        },
        "id": "AdBkWS_wSe-9",
        "outputId": "62f0ec00-0fb7-45c7-bcb0-0199cef5fc77"
      },
      "source": [
        "fig = px.line(data_linea, x=data_linea.index, y=data_linea)\n",
        "fig.show()"
      ],
      "execution_count": 19,
      "outputs": [
        {
          "output_type": "display_data",
          "data": {
            "text/html": [
              "<html>\n",
              "<head><meta charset=\"utf-8\" /></head>\n",
              "<body>\n",
              "    <div>\n",
              "            <script src=\"https://cdnjs.cloudflare.com/ajax/libs/mathjax/2.7.5/MathJax.js?config=TeX-AMS-MML_SVG\"></script><script type=\"text/javascript\">if (window.MathJax) {MathJax.Hub.Config({SVG: {font: \"STIX-Web\"}});}</script>\n",
              "                <script type=\"text/javascript\">window.PlotlyConfig = {MathJaxConfig: 'local'};</script>\n",
              "        <script src=\"https://cdn.plot.ly/plotly-latest.min.js\"></script>    \n",
              "            <div id=\"4e79a48e-f4eb-467b-8828-513b9e0505d2\" class=\"plotly-graph-div\" style=\"height:525px; width:100%;\"></div>\n",
              "            <script type=\"text/javascript\">\n",
              "                \n",
              "                    window.PLOTLYENV=window.PLOTLYENV || {};\n",
              "                    \n",
              "                if (document.getElementById(\"4e79a48e-f4eb-467b-8828-513b9e0505d2\")) {\n",
              "                    Plotly.newPlot(\n",
              "                        '4e79a48e-f4eb-467b-8828-513b9e0505d2',\n",
              "                        [{\"hoverlabel\": {\"namelength\": 0}, \"hovertemplate\": \"x=%{x}<br>y=%{y}\", \"legendgroup\": \"\", \"line\": {\"color\": \"#636efa\", \"dash\": \"solid\"}, \"mode\": \"lines\", \"name\": \"\", \"showlegend\": false, \"type\": \"scatter\", \"x\": [1950, 1951, 1952, 1953, 1954, 1955, 1956, 1957, 1958, 1959, 1960, 1961, 1962, 1963, 1964, 1965, 1966, 1967, 1968, 1969, 1970, 1971, 1972, 1973, 1974, 1975, 1976, 1977, 1978, 1979, 1980, 1981, 1982, 1983, 1984, 1985, 1986, 1987, 1988, 1989, 1990, 1991, 1992, 1993, 1994, 1995, 1996, 1997, 1998, 1999, 2000, 2001, 2002, 2003, 2004, 2005, 2006, 2007, 2008, 2009, 2010, 2011, 2012, 2013, 2014, 2015, 2016, 2017], \"xaxis\": \"x\", \"y\": [1365, 153, 200, 142, 111, 123, 114, 121, 94, 85, 133, 125, 140, 96, 105, 106, 102, 113, 97, 111, 125, 102, 112, 149, 183, 148, 133, 166, 268, 294, 421, 384, 322, 260, 294, 399, 339, 412, 402, 640, 811, 716, 723, 795, 785, 786, 778, 727, 679, 597, 764, 696, 716, 807, 796, 854, 926, 1065, 1267, 1307, 2198, 2662, 3255, 3590, 5114, 9621, 24911, 14683], \"yaxis\": \"y\"}],\n",
              "                        {\"legend\": {\"tracegroupgap\": 0}, \"margin\": {\"t\": 60}, \"template\": {\"data\": {\"bar\": [{\"error_x\": {\"color\": \"#2a3f5f\"}, \"error_y\": {\"color\": \"#2a3f5f\"}, \"marker\": {\"line\": {\"color\": \"#E5ECF6\", \"width\": 0.5}}, \"type\": \"bar\"}], \"barpolar\": [{\"marker\": {\"line\": {\"color\": \"#E5ECF6\", \"width\": 0.5}}, \"type\": \"barpolar\"}], \"carpet\": [{\"aaxis\": {\"endlinecolor\": \"#2a3f5f\", \"gridcolor\": \"white\", \"linecolor\": \"white\", \"minorgridcolor\": \"white\", \"startlinecolor\": \"#2a3f5f\"}, \"baxis\": {\"endlinecolor\": \"#2a3f5f\", \"gridcolor\": \"white\", \"linecolor\": \"white\", \"minorgridcolor\": \"white\", \"startlinecolor\": \"#2a3f5f\"}, \"type\": \"carpet\"}], \"choropleth\": [{\"colorbar\": {\"outlinewidth\": 0, \"ticks\": \"\"}, \"type\": \"choropleth\"}], \"contour\": [{\"colorbar\": {\"outlinewidth\": 0, \"ticks\": \"\"}, \"colorscale\": [[0.0, \"#0d0887\"], [0.1111111111111111, \"#46039f\"], [0.2222222222222222, \"#7201a8\"], [0.3333333333333333, \"#9c179e\"], [0.4444444444444444, \"#bd3786\"], [0.5555555555555556, \"#d8576b\"], [0.6666666666666666, \"#ed7953\"], [0.7777777777777778, \"#fb9f3a\"], [0.8888888888888888, \"#fdca26\"], [1.0, \"#f0f921\"]], \"type\": \"contour\"}], \"contourcarpet\": [{\"colorbar\": {\"outlinewidth\": 0, \"ticks\": \"\"}, \"type\": \"contourcarpet\"}], \"heatmap\": [{\"colorbar\": {\"outlinewidth\": 0, \"ticks\": \"\"}, \"colorscale\": [[0.0, \"#0d0887\"], [0.1111111111111111, \"#46039f\"], [0.2222222222222222, \"#7201a8\"], [0.3333333333333333, \"#9c179e\"], [0.4444444444444444, \"#bd3786\"], [0.5555555555555556, \"#d8576b\"], [0.6666666666666666, \"#ed7953\"], [0.7777777777777778, \"#fb9f3a\"], [0.8888888888888888, \"#fdca26\"], [1.0, \"#f0f921\"]], \"type\": \"heatmap\"}], \"heatmapgl\": [{\"colorbar\": {\"outlinewidth\": 0, \"ticks\": \"\"}, \"colorscale\": [[0.0, \"#0d0887\"], [0.1111111111111111, \"#46039f\"], [0.2222222222222222, \"#7201a8\"], [0.3333333333333333, \"#9c179e\"], [0.4444444444444444, \"#bd3786\"], [0.5555555555555556, \"#d8576b\"], [0.6666666666666666, \"#ed7953\"], [0.7777777777777778, \"#fb9f3a\"], [0.8888888888888888, \"#fdca26\"], [1.0, \"#f0f921\"]], \"type\": \"heatmapgl\"}], \"histogram\": [{\"marker\": {\"colorbar\": {\"outlinewidth\": 0, \"ticks\": \"\"}}, \"type\": \"histogram\"}], \"histogram2d\": [{\"colorbar\": {\"outlinewidth\": 0, \"ticks\": \"\"}, \"colorscale\": [[0.0, \"#0d0887\"], [0.1111111111111111, \"#46039f\"], [0.2222222222222222, \"#7201a8\"], [0.3333333333333333, \"#9c179e\"], [0.4444444444444444, \"#bd3786\"], [0.5555555555555556, \"#d8576b\"], [0.6666666666666666, \"#ed7953\"], [0.7777777777777778, \"#fb9f3a\"], [0.8888888888888888, \"#fdca26\"], [1.0, \"#f0f921\"]], \"type\": \"histogram2d\"}], \"histogram2dcontour\": [{\"colorbar\": {\"outlinewidth\": 0, \"ticks\": \"\"}, \"colorscale\": [[0.0, \"#0d0887\"], [0.1111111111111111, \"#46039f\"], [0.2222222222222222, \"#7201a8\"], [0.3333333333333333, \"#9c179e\"], [0.4444444444444444, \"#bd3786\"], [0.5555555555555556, \"#d8576b\"], [0.6666666666666666, \"#ed7953\"], [0.7777777777777778, \"#fb9f3a\"], [0.8888888888888888, \"#fdca26\"], [1.0, \"#f0f921\"]], \"type\": \"histogram2dcontour\"}], \"mesh3d\": [{\"colorbar\": {\"outlinewidth\": 0, \"ticks\": \"\"}, \"type\": \"mesh3d\"}], \"parcoords\": [{\"line\": {\"colorbar\": {\"outlinewidth\": 0, \"ticks\": \"\"}}, \"type\": \"parcoords\"}], \"pie\": [{\"automargin\": true, \"type\": \"pie\"}], \"scatter\": [{\"marker\": {\"colorbar\": {\"outlinewidth\": 0, \"ticks\": \"\"}}, \"type\": \"scatter\"}], \"scatter3d\": [{\"line\": {\"colorbar\": {\"outlinewidth\": 0, \"ticks\": \"\"}}, \"marker\": {\"colorbar\": {\"outlinewidth\": 0, \"ticks\": \"\"}}, \"type\": \"scatter3d\"}], \"scattercarpet\": [{\"marker\": {\"colorbar\": {\"outlinewidth\": 0, \"ticks\": \"\"}}, \"type\": \"scattercarpet\"}], \"scattergeo\": [{\"marker\": {\"colorbar\": {\"outlinewidth\": 0, \"ticks\": \"\"}}, \"type\": \"scattergeo\"}], \"scattergl\": [{\"marker\": {\"colorbar\": {\"outlinewidth\": 0, \"ticks\": \"\"}}, \"type\": \"scattergl\"}], \"scattermapbox\": [{\"marker\": {\"colorbar\": {\"outlinewidth\": 0, \"ticks\": \"\"}}, \"type\": \"scattermapbox\"}], \"scatterpolar\": [{\"marker\": {\"colorbar\": {\"outlinewidth\": 0, \"ticks\": \"\"}}, \"type\": \"scatterpolar\"}], \"scatterpolargl\": [{\"marker\": {\"colorbar\": {\"outlinewidth\": 0, \"ticks\": \"\"}}, \"type\": \"scatterpolargl\"}], \"scatterternary\": [{\"marker\": {\"colorbar\": {\"outlinewidth\": 0, \"ticks\": \"\"}}, \"type\": \"scatterternary\"}], \"surface\": [{\"colorbar\": {\"outlinewidth\": 0, \"ticks\": \"\"}, \"colorscale\": [[0.0, \"#0d0887\"], [0.1111111111111111, \"#46039f\"], [0.2222222222222222, \"#7201a8\"], [0.3333333333333333, \"#9c179e\"], [0.4444444444444444, \"#bd3786\"], [0.5555555555555556, \"#d8576b\"], [0.6666666666666666, \"#ed7953\"], [0.7777777777777778, \"#fb9f3a\"], [0.8888888888888888, \"#fdca26\"], [1.0, \"#f0f921\"]], \"type\": \"surface\"}], \"table\": [{\"cells\": {\"fill\": {\"color\": \"#EBF0F8\"}, \"line\": {\"color\": \"white\"}}, \"header\": {\"fill\": {\"color\": \"#C8D4E3\"}, \"line\": {\"color\": \"white\"}}, \"type\": \"table\"}]}, \"layout\": {\"annotationdefaults\": {\"arrowcolor\": \"#2a3f5f\", \"arrowhead\": 0, \"arrowwidth\": 1}, \"coloraxis\": {\"colorbar\": {\"outlinewidth\": 0, \"ticks\": \"\"}}, \"colorscale\": {\"diverging\": [[0, \"#8e0152\"], [0.1, \"#c51b7d\"], [0.2, \"#de77ae\"], [0.3, \"#f1b6da\"], [0.4, \"#fde0ef\"], [0.5, \"#f7f7f7\"], [0.6, \"#e6f5d0\"], [0.7, \"#b8e186\"], [0.8, \"#7fbc41\"], [0.9, \"#4d9221\"], [1, \"#276419\"]], \"sequential\": [[0.0, \"#0d0887\"], [0.1111111111111111, \"#46039f\"], [0.2222222222222222, \"#7201a8\"], [0.3333333333333333, \"#9c179e\"], [0.4444444444444444, \"#bd3786\"], [0.5555555555555556, \"#d8576b\"], [0.6666666666666666, \"#ed7953\"], [0.7777777777777778, \"#fb9f3a\"], [0.8888888888888888, \"#fdca26\"], [1.0, \"#f0f921\"]], \"sequentialminus\": [[0.0, \"#0d0887\"], [0.1111111111111111, \"#46039f\"], [0.2222222222222222, \"#7201a8\"], [0.3333333333333333, \"#9c179e\"], [0.4444444444444444, \"#bd3786\"], [0.5555555555555556, \"#d8576b\"], [0.6666666666666666, \"#ed7953\"], [0.7777777777777778, \"#fb9f3a\"], [0.8888888888888888, \"#fdca26\"], [1.0, \"#f0f921\"]]}, \"colorway\": [\"#636efa\", \"#EF553B\", \"#00cc96\", \"#ab63fa\", \"#FFA15A\", \"#19d3f3\", \"#FF6692\", \"#B6E880\", \"#FF97FF\", \"#FECB52\"], \"font\": {\"color\": \"#2a3f5f\"}, \"geo\": {\"bgcolor\": \"white\", \"lakecolor\": \"white\", \"landcolor\": \"#E5ECF6\", \"showlakes\": true, \"showland\": true, \"subunitcolor\": \"white\"}, \"hoverlabel\": {\"align\": \"left\"}, \"hovermode\": \"closest\", \"mapbox\": {\"style\": \"light\"}, \"paper_bgcolor\": \"white\", \"plot_bgcolor\": \"#E5ECF6\", \"polar\": {\"angularaxis\": {\"gridcolor\": \"white\", \"linecolor\": \"white\", \"ticks\": \"\"}, \"bgcolor\": \"#E5ECF6\", \"radialaxis\": {\"gridcolor\": \"white\", \"linecolor\": \"white\", \"ticks\": \"\"}}, \"scene\": {\"xaxis\": {\"backgroundcolor\": \"#E5ECF6\", \"gridcolor\": \"white\", \"gridwidth\": 2, \"linecolor\": \"white\", \"showbackground\": true, \"ticks\": \"\", \"zerolinecolor\": \"white\"}, \"yaxis\": {\"backgroundcolor\": \"#E5ECF6\", \"gridcolor\": \"white\", \"gridwidth\": 2, \"linecolor\": \"white\", \"showbackground\": true, \"ticks\": \"\", \"zerolinecolor\": \"white\"}, \"zaxis\": {\"backgroundcolor\": \"#E5ECF6\", \"gridcolor\": \"white\", \"gridwidth\": 2, \"linecolor\": \"white\", \"showbackground\": true, \"ticks\": \"\", \"zerolinecolor\": \"white\"}}, \"shapedefaults\": {\"line\": {\"color\": \"#2a3f5f\"}}, \"ternary\": {\"aaxis\": {\"gridcolor\": \"white\", \"linecolor\": \"white\", \"ticks\": \"\"}, \"baxis\": {\"gridcolor\": \"white\", \"linecolor\": \"white\", \"ticks\": \"\"}, \"bgcolor\": \"#E5ECF6\", \"caxis\": {\"gridcolor\": \"white\", \"linecolor\": \"white\", \"ticks\": \"\"}}, \"title\": {\"x\": 0.05}, \"xaxis\": {\"automargin\": true, \"gridcolor\": \"white\", \"linecolor\": \"white\", \"ticks\": \"\", \"title\": {\"standoff\": 15}, \"zerolinecolor\": \"white\", \"zerolinewidth\": 2}, \"yaxis\": {\"automargin\": true, \"gridcolor\": \"white\", \"linecolor\": \"white\", \"ticks\": \"\", \"title\": {\"standoff\": 15}, \"zerolinecolor\": \"white\", \"zerolinewidth\": 2}}}, \"xaxis\": {\"anchor\": \"y\", \"domain\": [0.0, 1.0], \"title\": {\"text\": \"x\"}}, \"yaxis\": {\"anchor\": \"x\", \"domain\": [0.0, 1.0], \"title\": {\"text\": \"y\"}}},\n",
              "                        {\"responsive\": true}\n",
              "                    ).then(function(){\n",
              "                            \n",
              "var gd = document.getElementById('4e79a48e-f4eb-467b-8828-513b9e0505d2');\n",
              "var x = new MutationObserver(function (mutations, observer) {{\n",
              "        var display = window.getComputedStyle(gd).display;\n",
              "        if (!display || display === 'none') {{\n",
              "            console.log([gd, 'removed!']);\n",
              "            Plotly.purge(gd);\n",
              "            observer.disconnect();\n",
              "        }}\n",
              "}});\n",
              "\n",
              "// Listen for the removal of the full notebook cells\n",
              "var notebookContainer = gd.closest('#notebook-container');\n",
              "if (notebookContainer) {{\n",
              "    x.observe(notebookContainer, {childList: true});\n",
              "}}\n",
              "\n",
              "// Listen for the clearing of the current output cell\n",
              "var outputEl = gd.closest('.output');\n",
              "if (outputEl) {{\n",
              "    x.observe(outputEl, {childList: true});\n",
              "}}\n",
              "\n",
              "                        })\n",
              "                };\n",
              "                \n",
              "            </script>\n",
              "        </div>\n",
              "</body>\n",
              "</html>"
            ]
          },
          "metadata": {}
        }
      ]
    },
    {
      "cell_type": "markdown",
      "metadata": {
        "id": "UFDcwqKap8YX"
      },
      "source": [
        "## Gráfico de dispersión"
      ]
    },
    {
      "cell_type": "code",
      "metadata": {
        "colab": {
          "base_uri": "https://localhost:8080/",
          "height": 206
        },
        "id": "wkjhllan4sNw",
        "outputId": "bcf88a13-b4f0-4602-d35d-aec20b31edf1"
      },
      "source": [
        "data_dispersion = censo[censo['comuna'] == 'Concepción'] \n",
        "data_dispersion.head()"
      ],
      "execution_count": 20,
      "outputs": [
        {
          "output_type": "execute_result",
          "data": {
            "text/html": [
              "<div>\n",
              "<style scoped>\n",
              "    .dataframe tbody tr th:only-of-type {\n",
              "        vertical-align: middle;\n",
              "    }\n",
              "\n",
              "    .dataframe tbody tr th {\n",
              "        vertical-align: top;\n",
              "    }\n",
              "\n",
              "    .dataframe thead th {\n",
              "        text-align: right;\n",
              "    }\n",
              "</style>\n",
              "<table border=\"1\" class=\"dataframe\">\n",
              "  <thead>\n",
              "    <tr style=\"text-align: right;\">\n",
              "      <th></th>\n",
              "      <th>comuna</th>\n",
              "      <th>parentesco</th>\n",
              "      <th>edad</th>\n",
              "      <th>pais</th>\n",
              "      <th>a_llegada</th>\n",
              "      <th>n_educacional</th>\n",
              "      <th>descendencia</th>\n",
              "    </tr>\n",
              "  </thead>\n",
              "  <tbody>\n",
              "    <tr>\n",
              "      <th>76300</th>\n",
              "      <td>Concepción</td>\n",
              "      <td>No pariente</td>\n",
              "      <td>35</td>\n",
              "      <td>Venezuela (República Bolivariana de)</td>\n",
              "      <td>2016</td>\n",
              "      <td>9</td>\n",
              "      <td>0</td>\n",
              "    </tr>\n",
              "    <tr>\n",
              "      <th>76301</th>\n",
              "      <td>Concepción</td>\n",
              "      <td>Jefe/a de hogar</td>\n",
              "      <td>89</td>\n",
              "      <td>Alemania</td>\n",
              "      <td>1950</td>\n",
              "      <td>9</td>\n",
              "      <td>2</td>\n",
              "    </tr>\n",
              "    <tr>\n",
              "      <th>76302</th>\n",
              "      <td>Concepción</td>\n",
              "      <td>Persona en vivienda colectiva</td>\n",
              "      <td>35</td>\n",
              "      <td>Rusia (Federación de)</td>\n",
              "      <td>2017</td>\n",
              "      <td>12</td>\n",
              "      <td>0</td>\n",
              "    </tr>\n",
              "    <tr>\n",
              "      <th>76303</th>\n",
              "      <td>Concepción</td>\n",
              "      <td>Persona en vivienda colectiva</td>\n",
              "      <td>73</td>\n",
              "      <td>México</td>\n",
              "      <td>2017</td>\n",
              "      <td>3</td>\n",
              "      <td>6</td>\n",
              "    </tr>\n",
              "    <tr>\n",
              "      <th>76304</th>\n",
              "      <td>Concepción</td>\n",
              "      <td>Esposo/a o cónyuge</td>\n",
              "      <td>25</td>\n",
              "      <td>Venezuela (República Bolivariana de)</td>\n",
              "      <td>2016</td>\n",
              "      <td>9</td>\n",
              "      <td>1</td>\n",
              "    </tr>\n",
              "  </tbody>\n",
              "</table>\n",
              "</div>"
            ],
            "text/plain": [
              "           comuna                     parentesco  ...  n_educacional descendencia\n",
              "76300  Concepción                    No pariente  ...              9            0\n",
              "76301  Concepción                Jefe/a de hogar  ...              9            2\n",
              "76302  Concepción  Persona en vivienda colectiva  ...             12            0\n",
              "76303  Concepción  Persona en vivienda colectiva  ...              3            6\n",
              "76304  Concepción             Esposo/a o cónyuge  ...              9            1\n",
              "\n",
              "[5 rows x 7 columns]"
            ]
          },
          "metadata": {},
          "execution_count": 20
        }
      ]
    },
    {
      "cell_type": "code",
      "metadata": {
        "colab": {
          "base_uri": "https://localhost:8080/",
          "height": 542
        },
        "id": "Lt-5OzGFTHci",
        "outputId": "e899c759-4901-46ce-de27-dba79e26ac65"
      },
      "source": [
        "fig = px.scatter(data_frame = data_dispersion, x='a_llegada', y='edad')\n",
        "fig.show()"
      ],
      "execution_count": 21,
      "outputs": [
        {
          "output_type": "display_data",
          "data": {
            "text/html": [
              "<html>\n",
              "<head><meta charset=\"utf-8\" /></head>\n",
              "<body>\n",
              "    <div>\n",
              "            <script src=\"https://cdnjs.cloudflare.com/ajax/libs/mathjax/2.7.5/MathJax.js?config=TeX-AMS-MML_SVG\"></script><script type=\"text/javascript\">if (window.MathJax) {MathJax.Hub.Config({SVG: {font: \"STIX-Web\"}});}</script>\n",
              "                <script type=\"text/javascript\">window.PlotlyConfig = {MathJaxConfig: 'local'};</script>\n",
              "        <script src=\"https://cdn.plot.ly/plotly-latest.min.js\"></script>    \n",
              "            <div id=\"98ca5eb6-983a-4f8d-a7ea-2069477cdc0d\" class=\"plotly-graph-div\" style=\"height:525px; width:100%;\"></div>\n",
              "            <script type=\"text/javascript\">\n",
              "                \n",
              "                    window.PLOTLYENV=window.PLOTLYENV || {};\n",
              "                    \n",
              "                if (document.getElementById(\"98ca5eb6-983a-4f8d-a7ea-2069477cdc0d\")) {\n",
              "                    Plotly.newPlot(\n",
              "                        '98ca5eb6-983a-4f8d-a7ea-2069477cdc0d',\n",
              "                        [{\"hoverlabel\": {\"namelength\": 0}, \"hovertemplate\": \"a_llegada=%{x}<br>edad=%{y}\", \"legendgroup\": \"\", \"marker\": {\"color\": \"#636efa\", \"symbol\": \"circle\"}, \"mode\": \"markers\", \"name\": \"\", \"showlegend\": false, \"type\": \"scatter\", \"x\": [2016, 1950, 2017, 2017, 2016, 2017, 2017, 2016, 2017, 2013, 2017, 2017, 2017, 1951, 2015, 2013, 2013, 2010, 2002, 1993, 2016, 2017, 1993, 2016, 1952, 1950, 1981, 2015, 2008, 2016, 1965, 2015, 1979, 2016, 2004, 2017, 2013, 2006, 2016, 2009, 2015, 2016, 2016, 2001, 1995, 2013, 2016, 2016, 1955, 2013, 1989, 1989, 2013, 1984, 1984, 2015, 2017, 2017, 2016, 2017, 1950, 2016, 2006, 2015, 2011, 2014, 2017, 2013, 2015, 2016, 1977, 2015, 1978, 1981, 1996, 1996, 2016, 1994, 2015, 2015, 2017, 2017, 2015, 2015, 2016, 2016, 2017, 1966, 2015, 2016, 1974, 2016, 2017, 2016, 1950, 2009, 2017, 2015, 2015, 2012, 2014, 2017, 2017, 2001, 1999, 2013, 2015, 1950, 2016, 1997, 1991, 2016, 2009, 2016, 2017, 2016, 1993, 2016, 2017, 2010, 2017, 1970, 2007, 1986, 2015, 2014, 2016, 2010, 2016, 1968, 1991, 2015, 2016, 2008, 2017, 2015, 2015, 1974, 2016, 2008, 2007, 2016, 2016, 2015, 2017, 2005, 2014, 2016, 2013, 2017, 2017, 2016, 2017, 2016, 2010, 2017, 2016, 2016, 2017, 2008, 2016, 1975, 1952, 1991, 1953, 2016, 2017, 2016, 2012, 2013, 1995, 2016, 2016, 2009, 1996, 1996, 1996, 1996, 1994, 2009, 2017, 1995, 2016, 2017, 2007, 2016, 1979, 2016, 2016, 2016, 2016, 2016, 2017, 2011, 2011, 2004, 1990, 2010, 2016, 2015, 2014, 2017, 2016, 2017, 2014, 2015, 1994, 2001, 2016, 2016, 2013, 2015, 2015, 2016, 2015, 2017, 1981, 2016, 2006, 2016, 2016, 1988, 2010, 2008, 1989, 2005, 2016, 1981, 2005, 2010, 2016, 2015, 2016, 2017, 2013, 2016, 1988, 2017, 2016, 2013, 2017, 2015, 2016, 2013, 2016, 2017, 1982, 1993, 2015, 2017, 2017, 2016, 2016, 2017, 2017, 2015, 2016, 2016, 2017, 2017, 2017, 2017, 2017, 2016, 2017, 2017, 2016, 1982, 2016, 2015, 2017, 2012, 1989, 2014, 2014, 2017, 2017, 2014, 1961, 2017, 2017, 2016, 2016, 2005, 2016, 1996, 1996, 2017, 2007, 2009, 2017, 2011, 2012, 2017, 2017, 1988, 2015, 2014, 1999, 2004, 2016, 2013, 2006, 1957, 2009, 2013, 2010, 2016, 2017, 2017, 2015, 2017, 2017, 1983, 1984, 2003, 1964, 1989, 1950, 2014, 2003, 2003, 2003, 2017, 2017, 2007, 2013, 2016, 2008, 2008, 1979, 1987, 2017, 2016, 2017, 1962, 2000, 2011, 2014, 2014, 1970, 2017, 1991, 1995, 1993, 2017, 2017, 1989, 2017, 2017, 2017, 2017, 2017, 2012, 1999, 1952, 2012, 2012, 2012, 1991, 2017, 2016, 2017, 2016, 2017, 2015, 2015, 2016, 2008, 2017, 2016, 2014, 2005, 1993, 2016, 2011, 2017, 2017, 1950, 1991, 2014, 2017, 1992, 2009, 2012, 2012, 2007, 1974, 2017, 2017, 2014, 2008, 2015, 2016, 1989, 2017, 2000, 1985, 1987, 1986, 2014, 2016, 2017, 1956, 2014, 2016, 2010, 1994, 1979, 1998, 2010, 1983, 1990, 1955, 1996, 1984, 1990, 1998, 2016, 2001, 1999, 1995, 1990, 1999, 1999, 2009, 2016, 2016, 2016, 2017, 2015, 2011, 1998, 1994, 2014, 1994, 2017, 2017, 2015, 2005, 2016, 2017, 1963, 1959, 2017, 2014, 1953, 2016, 2017, 2017, 2008, 2012, 2014, 2016, 2014, 2016, 2016, 2011, 2014, 2016, 2015, 2010, 1990, 2017, 2015, 2017, 2017, 2017, 2016, 2016, 2016, 2017, 2006, 2016, 2016, 1996, 2015, 2017, 1991, 2017, 2016, 2017, 2015, 2014, 2014, 2015, 2016, 2017, 2014, 2017, 2017, 2016, 2003, 2003, 2017, 2016, 1979, 1969, 1984, 1988, 2014, 1979, 2016, 1969, 2016, 2017, 2017, 2017, 2014, 2006, 1984, 2012, 1990, 2015, 2014, 2016, 2017, 2014, 2001, 2017, 2017, 2017, 2013, 2017, 2016, 2017, 2016, 2017, 2017, 2016, 2017, 2017, 2017, 2016, 2016, 2014, 2009, 2005, 2013, 2016, 2016, 2016, 2017, 2017, 1991, 1950, 2005, 2016, 2017, 2013, 2014, 1990, 2016, 2016, 2017, 2017, 1989, 2017, 2017, 2017, 2017, 1983, 1980, 2013, 2017, 2016, 2016, 2013, 1953, 2016, 2010, 1993, 2017, 2016, 1954, 2017, 2002, 2017, 2014, 2017, 2006, 2016, 2016, 2017, 1990, 2001, 1950, 2017, 2016, 2016, 2017, 2008, 2014, 1991, 2016, 2000, 2016, 1954, 2017, 1971, 2001, 2013, 2006, 2014, 2016, 2017, 2002, 2004, 1960, 2007, 1996, 2016, 1966, 1966, 1992, 2015, 2017, 2017, 2013, 2016, 2015, 2013, 2013, 2006, 1966, 2016, 1994, 1950, 2005, 2017, 1966, 2003, 2004, 2014, 2004, 1997, 1966, 1993, 1967, 1979, 1992, 1998, 1998, 1990, 1950, 1977, 2017, 2017, 2017, 2015, 2016, 2001, 2007, 2017, 2017, 2016, 1992, 2016, 2016, 2017, 2011, 2016, 1984, 2015, 2015, 2016, 1993, 2016, 1956, 1956, 2003, 2012, 2017, 2017, 2013, 1956, 2017, 2015, 2016, 2016, 1999, 2016, 1954, 2017, 2016, 2017, 2017, 1964, 2017, 2010, 2010, 2010, 2007, 1985, 2002, 2017, 2017, 1950, 2016, 2002, 2014, 2016, 1990, 2007, 2016, 2016, 2017, 1952, 2015, 2012, 2014, 2017, 2016, 1961, 2007, 2016, 2016, 1990, 1953, 2017, 2007, 2012, 2014, 1962, 1991, 1959, 2017, 2013, 1984, 2004, 1952, 1960, 1974, 2015, 2016, 1990, 2017, 2013, 2017, 2014, 2017, 2017, 2017, 2017, 2017, 2016, 1957, 1993, 2017, 2017, 2017, 2017, 2017, 2015, 1976, 2017, 1991, 2017, 2017, 2017, 2014, 1980, 1993, 2000, 1985, 2017, 2017, 2016, 1985, 2016, 1950, 2016, 2014, 2005, 2016, 2011, 2013, 2006, 2001, 2004], \"xaxis\": \"x\", \"y\": [35, 89, 35, 73, 25, 42, 49, 26, 25, 42, 23, 23, 23, 85, 34, 36, 41, 29, 44, 52, 16, 38, 65, 34, 79, 93, 38, 53, 56, 35, 53, 34, 44, 37, 40, 59, 69, 53, 36, 33, 43, 25, 37, 40, 38, 37, 29, 59, 86, 49, 30, 28, 27, 40, 85, 34, 29, 27, 20, 20, 86, 32, 35, 52, 49, 40, 31, 39, 29, 18, 64, 30, 38, 36, 68, 34, 40, 51, 21, 21, 28, 33, 35, 31, 28, 38, 24, 86, 31, 21, 79, 25, 28, 26, 93, 53, 30, 37, 25, 30, 34, 15, 50, 58, 34, 35, 30, 79, 27, 49, 39, 43, 31, 37, 34, 28, 27, 27, 28, 33, 54, 78, 54, 54, 34, 28, 28, 36, 33, 50, 25, 57, 33, 28, 49, 56, 18, 75, 25, 30, 41, 21, 28, 32, 25, 33, 50, 18, 26, 31, 18, 25, 28, 24, 36, 26, 26, 23, 33, 39, 30, 77, 65, 26, 76, 30, 24, 32, 25, 37, 65, 45, 37, 33, 54, 23, 22, 60, 23, 34, 31, 22, 40, 31, 35, 26, 38, 25, 30, 53, 23, 42, 24, 38, 17, 90, 30, 37, 22, 46, 28, 24, 20, 24, 30, 48, 29, 25, 26, 23, 31, 43, 34, 31, 25, 56, 36, 21, 36, 32, 26, 52, 26, 34, 57, 31, 43, 41, 41, 35, 30, 45, 30, 39, 30, 22, 29, 33, 66, 37, 45, 25, 19, 36, 34, 62, 37, 25, 21, 21, 39, 24, 30, 30, 21, 25, 22, 22, 20, 21, 21, 25, 22, 22, 23, 32, 36, 35, 30, 51, 47, 31, 67, 29, 33, 33, 27, 34, 79, 35, 25, 42, 18, 23, 24, 26, 23, 46, 39, 50, 30, 63, 36, 25, 25, 34, 52, 22, 23, 52, 44, 35, 34, 62, 26, 27, 20, 24, 35, 39, 35, 20, 23, 34, 57, 27, 74, 34, 67, 47, 36, 24, 34, 41, 23, 38, 26, 17, 39, 15, 45, 67, 20, 25, 27, 56, 18, 39, 36, 38, 52, 28, 59, 23, 45, 37, 58, 29, 47, 18, 15, 27, 51, 27, 29, 70, 37, 43, 20, 62, 35, 23, 25, 30, 25, 43, 16, 38, 50, 24, 37, 34, 39, 62, 53, 32, 29, 62, 69, 43, 61, 27, 44, 30, 41, 19, 26, 45, 21, 20, 36, 55, 28, 36, 28, 26, 32, 37, 34, 38, 36, 30, 36, 64, 38, 42, 29, 51, 38, 33, 15, 36, 32, 80, 37, 34, 40, 19, 35, 46, 70, 25, 37, 50, 24, 37, 23, 34, 38, 31, 32, 33, 41, 24, 38, 34, 31, 37, 27, 40, 32, 18, 76, 74, 40, 36, 82, 40, 49, 32, 41, 29, 18, 21, 38, 32, 28, 36, 62, 40, 27, 21, 33, 36, 30, 31, 28, 24, 41, 16, 22, 22, 22, 28, 22, 38, 33, 27, 25, 21, 18, 25, 51, 31, 31, 51, 56, 46, 22, 23, 26, 41, 16, 51, 25, 22, 41, 77, 57, 29, 31, 39, 36, 48, 58, 29, 21, 23, 26, 37, 56, 66, 57, 28, 34, 40, 39, 34, 37, 65, 34, 26, 54, 26, 22, 32, 41, 25, 23, 56, 28, 41, 24, 27, 30, 31, 25, 28, 45, 30, 30, 23, 20, 29, 30, 82, 28, 21, 28, 29, 36, 38, 24, 26, 23, 23, 36, 20, 24, 33, 21, 59, 65, 30, 31, 19, 22, 36, 93, 40, 30, 28, 25, 33, 91, 32, 29, 24, 34, 27, 51, 30, 26, 21, 29, 43, 95, 25, 19, 21, 50, 54, 32, 32, 24, 18, 36, 66, 25, 58, 45, 92, 28, 47, 26, 21, 16, 41, 77, 38, 46, 39, 90, 82, 27, 59, 24, 20, 39, 24, 27, 37, 38, 40, 52, 36, 26, 84, 44, 22, 52, 19, 18, 27, 34, 46, 76, 27, 49, 38, 26, 29, 26, 42, 80, 40, 21, 22, 23, 37, 63, 71, 32, 24, 22, 31, 30, 21, 19, 40, 26, 46, 34, 20, 20, 35, 60, 30, 78, 72, 16, 34, 29, 25, 47, 65, 39, 27, 25, 28, 26, 28, 91, 26, 30, 25, 25, 83, 60, 44, 18, 16, 21, 59, 17, 24, 31, 79, 30, 19, 40, 76, 53, 41, 30, 28, 38, 72, 39, 45, 72, 32, 24, 76, 35, 40, 29, 46, 87, 21, 33, 59, 74, 89, 35, 78, 40, 43, 34, 20, 91, 80, 43, 26, 17, 29, 58, 43, 27, 26, 28, 35, 27, 29, 26, 30, 66, 55, 24, 27, 21, 26, 25, 27, 41, 31, 57, 21, 21, 32, 25, 37, 91, 66, 37, 25, 30, 42, 44, 27, 70, 18, 22, 31, 24, 34, 25, 39, 51, 45], \"yaxis\": \"y\"}],\n",
              "                        {\"legend\": {\"tracegroupgap\": 0}, \"margin\": {\"t\": 60}, \"template\": {\"data\": {\"bar\": [{\"error_x\": {\"color\": \"#2a3f5f\"}, \"error_y\": {\"color\": \"#2a3f5f\"}, \"marker\": {\"line\": {\"color\": \"#E5ECF6\", \"width\": 0.5}}, \"type\": \"bar\"}], \"barpolar\": [{\"marker\": {\"line\": {\"color\": \"#E5ECF6\", \"width\": 0.5}}, \"type\": \"barpolar\"}], \"carpet\": [{\"aaxis\": {\"endlinecolor\": \"#2a3f5f\", \"gridcolor\": \"white\", \"linecolor\": \"white\", \"minorgridcolor\": \"white\", \"startlinecolor\": \"#2a3f5f\"}, \"baxis\": {\"endlinecolor\": \"#2a3f5f\", \"gridcolor\": \"white\", \"linecolor\": \"white\", \"minorgridcolor\": \"white\", \"startlinecolor\": \"#2a3f5f\"}, \"type\": \"carpet\"}], \"choropleth\": [{\"colorbar\": {\"outlinewidth\": 0, \"ticks\": \"\"}, \"type\": \"choropleth\"}], \"contour\": [{\"colorbar\": {\"outlinewidth\": 0, \"ticks\": \"\"}, \"colorscale\": [[0.0, \"#0d0887\"], [0.1111111111111111, \"#46039f\"], [0.2222222222222222, \"#7201a8\"], [0.3333333333333333, \"#9c179e\"], [0.4444444444444444, \"#bd3786\"], [0.5555555555555556, \"#d8576b\"], [0.6666666666666666, \"#ed7953\"], [0.7777777777777778, \"#fb9f3a\"], [0.8888888888888888, \"#fdca26\"], [1.0, \"#f0f921\"]], \"type\": \"contour\"}], \"contourcarpet\": [{\"colorbar\": {\"outlinewidth\": 0, \"ticks\": \"\"}, \"type\": \"contourcarpet\"}], \"heatmap\": [{\"colorbar\": {\"outlinewidth\": 0, \"ticks\": \"\"}, \"colorscale\": [[0.0, \"#0d0887\"], [0.1111111111111111, \"#46039f\"], [0.2222222222222222, \"#7201a8\"], [0.3333333333333333, \"#9c179e\"], [0.4444444444444444, \"#bd3786\"], [0.5555555555555556, \"#d8576b\"], [0.6666666666666666, \"#ed7953\"], [0.7777777777777778, \"#fb9f3a\"], [0.8888888888888888, \"#fdca26\"], [1.0, \"#f0f921\"]], \"type\": \"heatmap\"}], \"heatmapgl\": [{\"colorbar\": {\"outlinewidth\": 0, \"ticks\": \"\"}, \"colorscale\": [[0.0, \"#0d0887\"], [0.1111111111111111, \"#46039f\"], [0.2222222222222222, \"#7201a8\"], [0.3333333333333333, \"#9c179e\"], [0.4444444444444444, \"#bd3786\"], [0.5555555555555556, \"#d8576b\"], [0.6666666666666666, \"#ed7953\"], [0.7777777777777778, \"#fb9f3a\"], [0.8888888888888888, \"#fdca26\"], [1.0, \"#f0f921\"]], \"type\": \"heatmapgl\"}], \"histogram\": [{\"marker\": {\"colorbar\": {\"outlinewidth\": 0, \"ticks\": \"\"}}, \"type\": \"histogram\"}], \"histogram2d\": [{\"colorbar\": {\"outlinewidth\": 0, \"ticks\": \"\"}, \"colorscale\": [[0.0, \"#0d0887\"], [0.1111111111111111, \"#46039f\"], [0.2222222222222222, \"#7201a8\"], [0.3333333333333333, \"#9c179e\"], [0.4444444444444444, \"#bd3786\"], [0.5555555555555556, \"#d8576b\"], [0.6666666666666666, \"#ed7953\"], [0.7777777777777778, \"#fb9f3a\"], [0.8888888888888888, \"#fdca26\"], [1.0, \"#f0f921\"]], \"type\": \"histogram2d\"}], \"histogram2dcontour\": [{\"colorbar\": {\"outlinewidth\": 0, \"ticks\": \"\"}, \"colorscale\": [[0.0, \"#0d0887\"], [0.1111111111111111, \"#46039f\"], [0.2222222222222222, \"#7201a8\"], [0.3333333333333333, \"#9c179e\"], [0.4444444444444444, \"#bd3786\"], [0.5555555555555556, \"#d8576b\"], [0.6666666666666666, \"#ed7953\"], [0.7777777777777778, \"#fb9f3a\"], [0.8888888888888888, \"#fdca26\"], [1.0, \"#f0f921\"]], \"type\": \"histogram2dcontour\"}], \"mesh3d\": [{\"colorbar\": {\"outlinewidth\": 0, \"ticks\": \"\"}, \"type\": \"mesh3d\"}], \"parcoords\": [{\"line\": {\"colorbar\": {\"outlinewidth\": 0, \"ticks\": \"\"}}, \"type\": \"parcoords\"}], \"pie\": [{\"automargin\": true, \"type\": \"pie\"}], \"scatter\": [{\"marker\": {\"colorbar\": {\"outlinewidth\": 0, \"ticks\": \"\"}}, \"type\": \"scatter\"}], \"scatter3d\": [{\"line\": {\"colorbar\": {\"outlinewidth\": 0, \"ticks\": \"\"}}, \"marker\": {\"colorbar\": {\"outlinewidth\": 0, \"ticks\": \"\"}}, \"type\": \"scatter3d\"}], \"scattercarpet\": [{\"marker\": {\"colorbar\": {\"outlinewidth\": 0, \"ticks\": \"\"}}, \"type\": \"scattercarpet\"}], \"scattergeo\": [{\"marker\": {\"colorbar\": {\"outlinewidth\": 0, \"ticks\": \"\"}}, \"type\": \"scattergeo\"}], \"scattergl\": [{\"marker\": {\"colorbar\": {\"outlinewidth\": 0, \"ticks\": \"\"}}, \"type\": \"scattergl\"}], \"scattermapbox\": [{\"marker\": {\"colorbar\": {\"outlinewidth\": 0, \"ticks\": \"\"}}, \"type\": \"scattermapbox\"}], \"scatterpolar\": [{\"marker\": {\"colorbar\": {\"outlinewidth\": 0, \"ticks\": \"\"}}, \"type\": \"scatterpolar\"}], \"scatterpolargl\": [{\"marker\": {\"colorbar\": {\"outlinewidth\": 0, \"ticks\": \"\"}}, \"type\": \"scatterpolargl\"}], \"scatterternary\": [{\"marker\": {\"colorbar\": {\"outlinewidth\": 0, \"ticks\": \"\"}}, \"type\": \"scatterternary\"}], \"surface\": [{\"colorbar\": {\"outlinewidth\": 0, \"ticks\": \"\"}, \"colorscale\": [[0.0, \"#0d0887\"], [0.1111111111111111, \"#46039f\"], [0.2222222222222222, \"#7201a8\"], [0.3333333333333333, \"#9c179e\"], [0.4444444444444444, \"#bd3786\"], [0.5555555555555556, \"#d8576b\"], [0.6666666666666666, \"#ed7953\"], [0.7777777777777778, \"#fb9f3a\"], [0.8888888888888888, \"#fdca26\"], [1.0, \"#f0f921\"]], \"type\": \"surface\"}], \"table\": [{\"cells\": {\"fill\": {\"color\": \"#EBF0F8\"}, \"line\": {\"color\": \"white\"}}, \"header\": {\"fill\": {\"color\": \"#C8D4E3\"}, \"line\": {\"color\": \"white\"}}, \"type\": \"table\"}]}, \"layout\": {\"annotationdefaults\": {\"arrowcolor\": \"#2a3f5f\", \"arrowhead\": 0, \"arrowwidth\": 1}, \"coloraxis\": {\"colorbar\": {\"outlinewidth\": 0, \"ticks\": \"\"}}, \"colorscale\": {\"diverging\": [[0, \"#8e0152\"], [0.1, \"#c51b7d\"], [0.2, \"#de77ae\"], [0.3, \"#f1b6da\"], [0.4, \"#fde0ef\"], [0.5, \"#f7f7f7\"], [0.6, \"#e6f5d0\"], [0.7, \"#b8e186\"], [0.8, \"#7fbc41\"], [0.9, \"#4d9221\"], [1, \"#276419\"]], \"sequential\": [[0.0, \"#0d0887\"], [0.1111111111111111, \"#46039f\"], [0.2222222222222222, \"#7201a8\"], [0.3333333333333333, \"#9c179e\"], [0.4444444444444444, \"#bd3786\"], [0.5555555555555556, \"#d8576b\"], [0.6666666666666666, \"#ed7953\"], [0.7777777777777778, \"#fb9f3a\"], [0.8888888888888888, \"#fdca26\"], [1.0, \"#f0f921\"]], \"sequentialminus\": [[0.0, \"#0d0887\"], [0.1111111111111111, \"#46039f\"], [0.2222222222222222, \"#7201a8\"], [0.3333333333333333, \"#9c179e\"], [0.4444444444444444, \"#bd3786\"], [0.5555555555555556, \"#d8576b\"], [0.6666666666666666, \"#ed7953\"], [0.7777777777777778, \"#fb9f3a\"], [0.8888888888888888, \"#fdca26\"], [1.0, \"#f0f921\"]]}, \"colorway\": [\"#636efa\", \"#EF553B\", \"#00cc96\", \"#ab63fa\", \"#FFA15A\", \"#19d3f3\", \"#FF6692\", \"#B6E880\", \"#FF97FF\", \"#FECB52\"], \"font\": {\"color\": \"#2a3f5f\"}, \"geo\": {\"bgcolor\": \"white\", \"lakecolor\": \"white\", \"landcolor\": \"#E5ECF6\", \"showlakes\": true, \"showland\": true, \"subunitcolor\": \"white\"}, \"hoverlabel\": {\"align\": \"left\"}, \"hovermode\": \"closest\", \"mapbox\": {\"style\": \"light\"}, \"paper_bgcolor\": \"white\", \"plot_bgcolor\": \"#E5ECF6\", \"polar\": {\"angularaxis\": {\"gridcolor\": \"white\", \"linecolor\": \"white\", \"ticks\": \"\"}, \"bgcolor\": \"#E5ECF6\", \"radialaxis\": {\"gridcolor\": \"white\", \"linecolor\": \"white\", \"ticks\": \"\"}}, \"scene\": {\"xaxis\": {\"backgroundcolor\": \"#E5ECF6\", \"gridcolor\": \"white\", \"gridwidth\": 2, \"linecolor\": \"white\", \"showbackground\": true, \"ticks\": \"\", \"zerolinecolor\": \"white\"}, \"yaxis\": {\"backgroundcolor\": \"#E5ECF6\", \"gridcolor\": \"white\", \"gridwidth\": 2, \"linecolor\": \"white\", \"showbackground\": true, \"ticks\": \"\", \"zerolinecolor\": \"white\"}, \"zaxis\": {\"backgroundcolor\": \"#E5ECF6\", \"gridcolor\": \"white\", \"gridwidth\": 2, \"linecolor\": \"white\", \"showbackground\": true, \"ticks\": \"\", \"zerolinecolor\": \"white\"}}, \"shapedefaults\": {\"line\": {\"color\": \"#2a3f5f\"}}, \"ternary\": {\"aaxis\": {\"gridcolor\": \"white\", \"linecolor\": \"white\", \"ticks\": \"\"}, \"baxis\": {\"gridcolor\": \"white\", \"linecolor\": \"white\", \"ticks\": \"\"}, \"bgcolor\": \"#E5ECF6\", \"caxis\": {\"gridcolor\": \"white\", \"linecolor\": \"white\", \"ticks\": \"\"}}, \"title\": {\"x\": 0.05}, \"xaxis\": {\"automargin\": true, \"gridcolor\": \"white\", \"linecolor\": \"white\", \"ticks\": \"\", \"title\": {\"standoff\": 15}, \"zerolinecolor\": \"white\", \"zerolinewidth\": 2}, \"yaxis\": {\"automargin\": true, \"gridcolor\": \"white\", \"linecolor\": \"white\", \"ticks\": \"\", \"title\": {\"standoff\": 15}, \"zerolinecolor\": \"white\", \"zerolinewidth\": 2}}}, \"xaxis\": {\"anchor\": \"y\", \"domain\": [0.0, 1.0], \"title\": {\"text\": \"a_llegada\"}}, \"yaxis\": {\"anchor\": \"x\", \"domain\": [0.0, 1.0], \"title\": {\"text\": \"edad\"}}},\n",
              "                        {\"responsive\": true}\n",
              "                    ).then(function(){\n",
              "                            \n",
              "var gd = document.getElementById('98ca5eb6-983a-4f8d-a7ea-2069477cdc0d');\n",
              "var x = new MutationObserver(function (mutations, observer) {{\n",
              "        var display = window.getComputedStyle(gd).display;\n",
              "        if (!display || display === 'none') {{\n",
              "            console.log([gd, 'removed!']);\n",
              "            Plotly.purge(gd);\n",
              "            observer.disconnect();\n",
              "        }}\n",
              "}});\n",
              "\n",
              "// Listen for the removal of the full notebook cells\n",
              "var notebookContainer = gd.closest('#notebook-container');\n",
              "if (notebookContainer) {{\n",
              "    x.observe(notebookContainer, {childList: true});\n",
              "}}\n",
              "\n",
              "// Listen for the clearing of the current output cell\n",
              "var outputEl = gd.closest('.output');\n",
              "if (outputEl) {{\n",
              "    x.observe(outputEl, {childList: true});\n",
              "}}\n",
              "\n",
              "                        })\n",
              "                };\n",
              "                \n",
              "            </script>\n",
              "        </div>\n",
              "</body>\n",
              "</html>"
            ]
          },
          "metadata": {}
        }
      ]
    },
    {
      "cell_type": "markdown",
      "metadata": {
        "id": "9CbMxBcap8gZ"
      },
      "source": [
        "## Gráfico de burbuja"
      ]
    },
    {
      "cell_type": "code",
      "metadata": {
        "colab": {
          "base_uri": "https://localhost:8080/",
          "height": 542
        },
        "id": "NBcUyxqqT8OA",
        "outputId": "85acedb0-c05f-4c58-a7d7-77c8a791d627"
      },
      "source": [
        "fig = px.scatter(data_dispersion, x='a_llegada', y='edad',\n",
        "\t         size=\"n_educacional\", color=\"n_educacional\",\n",
        "                 hover_name=\"edad\", log_x=True, size_max=20)\n",
        "fig.show()"
      ],
      "execution_count": 25,
      "outputs": [
        {
          "output_type": "display_data",
          "data": {
            "text/html": [
              "<html>\n",
              "<head><meta charset=\"utf-8\" /></head>\n",
              "<body>\n",
              "    <div>\n",
              "            <script src=\"https://cdnjs.cloudflare.com/ajax/libs/mathjax/2.7.5/MathJax.js?config=TeX-AMS-MML_SVG\"></script><script type=\"text/javascript\">if (window.MathJax) {MathJax.Hub.Config({SVG: {font: \"STIX-Web\"}});}</script>\n",
              "                <script type=\"text/javascript\">window.PlotlyConfig = {MathJaxConfig: 'local'};</script>\n",
              "        <script src=\"https://cdn.plot.ly/plotly-latest.min.js\"></script>    \n",
              "            <div id=\"7bad60a6-3fe2-4911-b668-b2b01dd37e0c\" class=\"plotly-graph-div\" style=\"height:525px; width:100%;\"></div>\n",
              "            <script type=\"text/javascript\">\n",
              "                \n",
              "                    window.PLOTLYENV=window.PLOTLYENV || {};\n",
              "                    \n",
              "                if (document.getElementById(\"7bad60a6-3fe2-4911-b668-b2b01dd37e0c\")) {\n",
              "                    Plotly.newPlot(\n",
              "                        '7bad60a6-3fe2-4911-b668-b2b01dd37e0c',\n",
              "                        [{\"hoverlabel\": {\"namelength\": 0}, \"hovertemplate\": \"<b>%{hovertext}</b><br><br>a_llegada=%{x}<br>edad=%{y}<br>n_educacional=%{marker.color}\", \"hovertext\": [35.0, 89.0, 35.0, 73.0, 25.0, 42.0, 49.0, 26.0, 25.0, 42.0, 23.0, 23.0, 23.0, 85.0, 34.0, 36.0, 41.0, 29.0, 44.0, 52.0, 16.0, 38.0, 65.0, 34.0, 79.0, 93.0, 38.0, 53.0, 56.0, 35.0, 53.0, 34.0, 44.0, 37.0, 40.0, 59.0, 69.0, 53.0, 36.0, 33.0, 43.0, 25.0, 37.0, 40.0, 38.0, 37.0, 29.0, 59.0, 86.0, 49.0, 30.0, 28.0, 27.0, 40.0, 85.0, 34.0, 29.0, 27.0, 20.0, 20.0, 86.0, 32.0, 35.0, 52.0, 49.0, 40.0, 31.0, 39.0, 29.0, 18.0, 64.0, 30.0, 38.0, 36.0, 68.0, 34.0, 40.0, 51.0, 21.0, 21.0, 28.0, 33.0, 35.0, 31.0, 28.0, 38.0, 24.0, 86.0, 31.0, 21.0, 79.0, 25.0, 28.0, 26.0, 93.0, 53.0, 30.0, 37.0, 25.0, 30.0, 34.0, 15.0, 50.0, 58.0, 34.0, 35.0, 30.0, 79.0, 27.0, 49.0, 39.0, 43.0, 31.0, 37.0, 34.0, 28.0, 27.0, 27.0, 28.0, 33.0, 54.0, 78.0, 54.0, 54.0, 34.0, 28.0, 28.0, 36.0, 33.0, 50.0, 25.0, 57.0, 33.0, 28.0, 49.0, 56.0, 18.0, 75.0, 25.0, 30.0, 41.0, 21.0, 28.0, 32.0, 25.0, 33.0, 50.0, 18.0, 26.0, 31.0, 18.0, 25.0, 28.0, 24.0, 36.0, 26.0, 26.0, 23.0, 33.0, 39.0, 30.0, 77.0, 65.0, 26.0, 76.0, 30.0, 24.0, 32.0, 25.0, 37.0, 65.0, 45.0, 37.0, 33.0, 54.0, 23.0, 22.0, 60.0, 23.0, 34.0, 31.0, 22.0, 40.0, 31.0, 35.0, 26.0, 38.0, 25.0, 30.0, 53.0, 23.0, 42.0, 24.0, 38.0, 17.0, 90.0, 30.0, 37.0, 22.0, 46.0, 28.0, 24.0, 20.0, 24.0, 30.0, 48.0, 29.0, 25.0, 26.0, 23.0, 31.0, 43.0, 34.0, 31.0, 25.0, 56.0, 36.0, 21.0, 36.0, 32.0, 26.0, 52.0, 26.0, 34.0, 57.0, 31.0, 43.0, 41.0, 41.0, 35.0, 30.0, 45.0, 30.0, 39.0, 30.0, 22.0, 29.0, 33.0, 66.0, 37.0, 45.0, 25.0, 19.0, 36.0, 34.0, 62.0, 37.0, 25.0, 21.0, 21.0, 39.0, 24.0, 30.0, 30.0, 21.0, 25.0, 22.0, 22.0, 20.0, 21.0, 21.0, 25.0, 22.0, 22.0, 23.0, 32.0, 36.0, 35.0, 30.0, 51.0, 47.0, 31.0, 67.0, 29.0, 33.0, 33.0, 27.0, 34.0, 79.0, 35.0, 25.0, 42.0, 18.0, 23.0, 24.0, 26.0, 23.0, 46.0, 39.0, 50.0, 30.0, 63.0, 36.0, 25.0, 25.0, 34.0, 52.0, 22.0, 23.0, 52.0, 44.0, 35.0, 34.0, 62.0, 26.0, 27.0, 20.0, 24.0, 35.0, 39.0, 35.0, 20.0, 23.0, 34.0, 57.0, 27.0, 74.0, 34.0, 67.0, 47.0, 36.0, 24.0, 34.0, 41.0, 23.0, 38.0, 26.0, 17.0, 39.0, 15.0, 45.0, 67.0, 20.0, 25.0, 27.0, 56.0, 18.0, 39.0, 36.0, 38.0, 52.0, 28.0, 59.0, 23.0, 45.0, 37.0, 58.0, 29.0, 47.0, 18.0, 15.0, 27.0, 51.0, 27.0, 29.0, 70.0, 37.0, 43.0, 20.0, 62.0, 35.0, 23.0, 25.0, 30.0, 25.0, 43.0, 16.0, 38.0, 50.0, 24.0, 37.0, 34.0, 39.0, 62.0, 53.0, 32.0, 29.0, 62.0, 69.0, 43.0, 61.0, 27.0, 44.0, 30.0, 41.0, 19.0, 26.0, 45.0, 21.0, 20.0, 36.0, 55.0, 28.0, 36.0, 28.0, 26.0, 32.0, 37.0, 34.0, 38.0, 36.0, 30.0, 36.0, 64.0, 38.0, 42.0, 29.0, 51.0, 38.0, 33.0, 15.0, 36.0, 32.0, 80.0, 37.0, 34.0, 40.0, 19.0, 35.0, 46.0, 70.0, 25.0, 37.0, 50.0, 24.0, 37.0, 23.0, 34.0, 38.0, 31.0, 32.0, 33.0, 41.0, 24.0, 38.0, 34.0, 31.0, 37.0, 27.0, 40.0, 32.0, 18.0, 76.0, 74.0, 40.0, 36.0, 82.0, 40.0, 49.0, 32.0, 41.0, 29.0, 18.0, 21.0, 38.0, 32.0, 28.0, 36.0, 62.0, 40.0, 27.0, 21.0, 33.0, 36.0, 30.0, 31.0, 28.0, 24.0, 41.0, 16.0, 22.0, 22.0, 22.0, 28.0, 22.0, 38.0, 33.0, 27.0, 25.0, 21.0, 18.0, 25.0, 51.0, 31.0, 31.0, 51.0, 56.0, 46.0, 22.0, 23.0, 26.0, 41.0, 16.0, 51.0, 25.0, 22.0, 41.0, 77.0, 57.0, 29.0, 31.0, 39.0, 36.0, 48.0, 58.0, 29.0, 21.0, 23.0, 26.0, 37.0, 56.0, 66.0, 57.0, 28.0, 34.0, 40.0, 39.0, 34.0, 37.0, 65.0, 34.0, 26.0, 54.0, 26.0, 22.0, 32.0, 41.0, 25.0, 23.0, 56.0, 28.0, 41.0, 24.0, 27.0, 30.0, 31.0, 25.0, 28.0, 45.0, 30.0, 30.0, 23.0, 20.0, 29.0, 30.0, 82.0, 28.0, 21.0, 28.0, 29.0, 36.0, 38.0, 24.0, 26.0, 23.0, 23.0, 36.0, 20.0, 24.0, 33.0, 21.0, 59.0, 65.0, 30.0, 31.0, 19.0, 22.0, 36.0, 93.0, 40.0, 30.0, 28.0, 25.0, 33.0, 91.0, 32.0, 29.0, 24.0, 34.0, 27.0, 51.0, 30.0, 26.0, 21.0, 29.0, 43.0, 95.0, 25.0, 19.0, 21.0, 50.0, 54.0, 32.0, 32.0, 24.0, 18.0, 36.0, 66.0, 25.0, 58.0, 45.0, 92.0, 28.0, 47.0, 26.0, 21.0, 16.0, 41.0, 77.0, 38.0, 46.0, 39.0, 90.0, 82.0, 27.0, 59.0, 24.0, 20.0, 39.0, 24.0, 27.0, 37.0, 38.0, 40.0, 52.0, 36.0, 26.0, 84.0, 44.0, 22.0, 52.0, 19.0, 18.0, 27.0, 34.0, 46.0, 76.0, 27.0, 49.0, 38.0, 26.0, 29.0, 26.0, 42.0, 80.0, 40.0, 21.0, 22.0, 23.0, 37.0, 63.0, 71.0, 32.0, 24.0, 22.0, 31.0, 30.0, 21.0, 19.0, 40.0, 26.0, 46.0, 34.0, 20.0, 20.0, 35.0, 60.0, 30.0, 78.0, 72.0, 16.0, 34.0, 29.0, 25.0, 47.0, 65.0, 39.0, 27.0, 25.0, 28.0, 26.0, 28.0, 91.0, 26.0, 30.0, 25.0, 25.0, 83.0, 60.0, 44.0, 18.0, 16.0, 21.0, 59.0, 17.0, 24.0, 31.0, 79.0, 30.0, 19.0, 40.0, 76.0, 53.0, 41.0, 30.0, 28.0, 38.0, 72.0, 39.0, 45.0, 72.0, 32.0, 24.0, 76.0, 35.0, 40.0, 29.0, 46.0, 87.0, 21.0, 33.0, 59.0, 74.0, 89.0, 35.0, 78.0, 40.0, 43.0, 34.0, 20.0, 91.0, 80.0, 43.0, 26.0, 17.0, 29.0, 58.0, 43.0, 27.0, 26.0, 28.0, 35.0, 27.0, 29.0, 26.0, 30.0, 66.0, 55.0, 24.0, 27.0, 21.0, 26.0, 25.0, 27.0, 41.0, 31.0, 57.0, 21.0, 21.0, 32.0, 25.0, 37.0, 91.0, 66.0, 37.0, 25.0, 30.0, 42.0, 44.0, 27.0, 70.0, 18.0, 22.0, 31.0, 24.0, 34.0, 25.0, 39.0, 51.0, 45.0], \"legendgroup\": \"\", \"marker\": {\"color\": [9, 9, 12, 3, 9, 3, 3, 9, 9, 9, 9, 9, 9, 3, 3, 3, 3, 12, 9, 12, 6, 9, 12, 9, 9, 6, 9, 12, 6, 12, 12, 12, 9, 9, 9, 12, 9, 9, 12, 12, 9, 9, 9, 12, 9, 12, 12, 9, 6, 9, 9, 9, 9, 12, 6, 9, 12, 9, 6, 6, 9, 9, 12, 12, 12, 12, 9, 12, 9, 6, 9, 12, 12, 9, 12, 12, 9, 9, 9, 9, 12, 9, 12, 12, 9, 12, 12, 6, 12, 9, 12, 12, 12, 12, 3, 9, 9, 9, 6, 9, 9, 6, 9, 9, 9, 9, 9, 9, 9, 9, 12, 9, 9, 12, 9, 9, 9, 9, 9, 6, 12, 3, 9, 6, 12, 12, 12, 12, 12, 9, 9, 9, 12, 9, 12, 9, 6, 6, 12, 9, 6, 9, 12, 12, 9, 6, 9, 6, 9, 9, 6, 9, 9, 6, 6, 6, 9, 9, 12, 9, 9, 6, 6, 9, 6, 12, 9, 9, 9, 9, 6, 9, 9, 9, 6, 9, 9, 3, 6, 9, 9, 9, 3, 12, 6, 9, 12, 9, 9, 9, 6, 9, 9, 6, 6, 6, 9, 3, 9, 9, 9, 9, 6, 9, 12, 6, 12, 6, 9, 9, 12, 12, 6, 9, 9, 6, 12, 9, 6, 12, 9, 6, 6, 12, 9, 12, 9, 9, 12, 9, 6, 3, 9, 9, 6, 9, 9, 12, 9, 9, 3, 6, 6, 9, 12, 9, 12, 9, 9, 6, 9, 9, 9, 6, 6, 9, 9, 9, 9, 9, 9, 12, 9, 9, 9, 9, 9, 9, 12, 9, 12, 9, 9, 9, 9, 9, 9, 12, 6, 9, 12, 9, 6, 9, 6, 9, 6, 9, 6, 6, 9, 3, 6, 9, 9, 9, 6, 6, 6, 12, 3, 6, 12, 9, 6, 9, 9, 3, 9, 12, 12, 9, 9, 9, 9, 9, 9, 12, 6, 9, 9, 9, 9, 6, 6, 9, 9, 6, 9, 6, 9, 9, 9, 9, 9, 9, 6, 9, 12, 9, 6, 9, 9, 9, 9, 9, 3, 6, 9, 6, 6, 9, 9, 9, 9, 6, 9, 12, 9, 12, 9, 9, 9, 9, 9, 9, 6, 9, 9, 6, 12, 12, 9, 9, 12, 9, 9, 3, 9, 9, 6, 9, 9, 6, 9, 6, 9, 9, 9, 9, 9, 9, 9, 9, 9, 6, 6, 12, 12, 9, 9, 9, 9, 6, 9, 9, 9, 6, 9, 12, 6, 12, 9, 6, 9, 9, 6, 9, 9, 6, 6, 9, 12, 3, 6, 12, 9, 12, 9, 3, 9, 12, 6, 9, 9, 9, 6, 9, 12, 9, 9, 6, 9, 9, 9, 9, 6, 6, 9, 9, 9, 9, 6, 9, 12, 9, 9, 12, 9, 12, 9, 9, 9, 12, 12, 9, 9, 6, 12, 6, 9, 9, 9, 12, 9, 9, 9, 6, 6, 9, 6, 6, 9, 12, 9, 12, 9, 9, 9, 9, 9, 9, 6, 9, 9, 9, 12, 6, 12, 9, 12, 12, 9, 9, 12, 6, 9, 9, 6, 12, 9, 6, 12, 12, 9, 12, 9, 12, 12, 9, 9, 9, 12, 9, 9, 12, 12, 9, 9, 12, 9, 6, 9, 12, 9, 12, 9, 9, 9, 9, 9, 12, 9, 9, 9, 6, 9, 9, 12, 9, 9, 12, 9, 9, 9, 9, 12, 9, 9, 9, 9, 12, 12, 9, 12, 6, 9, 12, 9, 12, 6, 9, 12, 12, 6, 12, 9, 9, 12, 12, 12, 9, 12, 9, 9, 9, 9, 9, 6, 9, 9, 12, 6, 9, 9, 6, 9, 12, 9, 9, 9, 3, 3, 9, 12, 9, 6, 9, 9, 12, 9, 9, 6, 3, 9, 6, 9, 9, 12, 6, 12, 9, 12, 12, 9, 9, 9, 6, 12, 6, 12, 9, 6, 9, 12, 12, 6, 9, 9, 12, 9, 6, 9, 12, 9, 9, 9, 9, 6, 12, 6, 9, 9, 9, 9, 6, 9, 9, 9, 9, 6, 9, 9, 9, 9, 9, 12, 6, 6, 6, 6, 6, 6, 9, 6, 6, 9, 9, 9, 9, 9, 9, 3, 9, 9, 9, 12, 9, 6, 9, 6, 6, 9, 6, 6, 9, 9, 6, 9, 6, 9, 6, 12, 9, 9, 9, 9, 9, 9, 9, 9, 6, 9, 9, 9, 9, 12, 6, 3, 6, 9, 6, 6, 9, 9, 9, 12, 12, 9, 9, 9, 6, 6, 9, 6, 9, 9, 12, 6, 9, 9, 9, 9, 9, 9, 9, 3, 9, 9, 12, 9, 9, 9, 12, 9, 9, 9, 9, 9, 12, 9, 12, 3, 6, 12, 6, 9, 9, 9, 9, 6, 6, 9, 9, 9, 9, 6, 6, 9, 6], \"coloraxis\": \"coloraxis\", \"size\": [9, 9, 12, 3, 9, 3, 3, 9, 9, 9, 9, 9, 9, 3, 3, 3, 3, 12, 9, 12, 6, 9, 12, 9, 9, 6, 9, 12, 6, 12, 12, 12, 9, 9, 9, 12, 9, 9, 12, 12, 9, 9, 9, 12, 9, 12, 12, 9, 6, 9, 9, 9, 9, 12, 6, 9, 12, 9, 6, 6, 9, 9, 12, 12, 12, 12, 9, 12, 9, 6, 9, 12, 12, 9, 12, 12, 9, 9, 9, 9, 12, 9, 12, 12, 9, 12, 12, 6, 12, 9, 12, 12, 12, 12, 3, 9, 9, 9, 6, 9, 9, 6, 9, 9, 9, 9, 9, 9, 9, 9, 12, 9, 9, 12, 9, 9, 9, 9, 9, 6, 12, 3, 9, 6, 12, 12, 12, 12, 12, 9, 9, 9, 12, 9, 12, 9, 6, 6, 12, 9, 6, 9, 12, 12, 9, 6, 9, 6, 9, 9, 6, 9, 9, 6, 6, 6, 9, 9, 12, 9, 9, 6, 6, 9, 6, 12, 9, 9, 9, 9, 6, 9, 9, 9, 6, 9, 9, 3, 6, 9, 9, 9, 3, 12, 6, 9, 12, 9, 9, 9, 6, 9, 9, 6, 6, 6, 9, 3, 9, 9, 9, 9, 6, 9, 12, 6, 12, 6, 9, 9, 12, 12, 6, 9, 9, 6, 12, 9, 6, 12, 9, 6, 6, 12, 9, 12, 9, 9, 12, 9, 6, 3, 9, 9, 6, 9, 9, 12, 9, 9, 3, 6, 6, 9, 12, 9, 12, 9, 9, 6, 9, 9, 9, 6, 6, 9, 9, 9, 9, 9, 9, 12, 9, 9, 9, 9, 9, 9, 12, 9, 12, 9, 9, 9, 9, 9, 9, 12, 6, 9, 12, 9, 6, 9, 6, 9, 6, 9, 6, 6, 9, 3, 6, 9, 9, 9, 6, 6, 6, 12, 3, 6, 12, 9, 6, 9, 9, 3, 9, 12, 12, 9, 9, 9, 9, 9, 9, 12, 6, 9, 9, 9, 9, 6, 6, 9, 9, 6, 9, 6, 9, 9, 9, 9, 9, 9, 6, 9, 12, 9, 6, 9, 9, 9, 9, 9, 3, 6, 9, 6, 6, 9, 9, 9, 9, 6, 9, 12, 9, 12, 9, 9, 9, 9, 9, 9, 6, 9, 9, 6, 12, 12, 9, 9, 12, 9, 9, 3, 9, 9, 6, 9, 9, 6, 9, 6, 9, 9, 9, 9, 9, 9, 9, 9, 9, 6, 6, 12, 12, 9, 9, 9, 9, 6, 9, 9, 9, 6, 9, 12, 6, 12, 9, 6, 9, 9, 6, 9, 9, 6, 6, 9, 12, 3, 6, 12, 9, 12, 9, 3, 9, 12, 6, 9, 9, 9, 6, 9, 12, 9, 9, 6, 9, 9, 9, 9, 6, 6, 9, 9, 9, 9, 6, 9, 12, 9, 9, 12, 9, 12, 9, 9, 9, 12, 12, 9, 9, 6, 12, 6, 9, 9, 9, 12, 9, 9, 9, 6, 6, 9, 6, 6, 9, 12, 9, 12, 9, 9, 9, 9, 9, 9, 6, 9, 9, 9, 12, 6, 12, 9, 12, 12, 9, 9, 12, 6, 9, 9, 6, 12, 9, 6, 12, 12, 9, 12, 9, 12, 12, 9, 9, 9, 12, 9, 9, 12, 12, 9, 9, 12, 9, 6, 9, 12, 9, 12, 9, 9, 9, 9, 9, 12, 9, 9, 9, 6, 9, 9, 12, 9, 9, 12, 9, 9, 9, 9, 12, 9, 9, 9, 9, 12, 12, 9, 12, 6, 9, 12, 9, 12, 6, 9, 12, 12, 6, 12, 9, 9, 12, 12, 12, 9, 12, 9, 9, 9, 9, 9, 6, 9, 9, 12, 6, 9, 9, 6, 9, 12, 9, 9, 9, 3, 3, 9, 12, 9, 6, 9, 9, 12, 9, 9, 6, 3, 9, 6, 9, 9, 12, 6, 12, 9, 12, 12, 9, 9, 9, 6, 12, 6, 12, 9, 6, 9, 12, 12, 6, 9, 9, 12, 9, 6, 9, 12, 9, 9, 9, 9, 6, 12, 6, 9, 9, 9, 9, 6, 9, 9, 9, 9, 6, 9, 9, 9, 9, 9, 12, 6, 6, 6, 6, 6, 6, 9, 6, 6, 9, 9, 9, 9, 9, 9, 3, 9, 9, 9, 12, 9, 6, 9, 6, 6, 9, 6, 6, 9, 9, 6, 9, 6, 9, 6, 12, 9, 9, 9, 9, 9, 9, 9, 9, 6, 9, 9, 9, 9, 12, 6, 3, 6, 9, 6, 6, 9, 9, 9, 12, 12, 9, 9, 9, 6, 6, 9, 6, 9, 9, 12, 6, 9, 9, 9, 9, 9, 9, 9, 3, 9, 9, 12, 9, 9, 9, 12, 9, 9, 9, 9, 9, 12, 9, 12, 3, 6, 12, 6, 9, 9, 9, 9, 6, 6, 9, 9, 9, 9, 6, 6, 9, 6], \"sizemode\": \"area\", \"sizeref\": 0.03, \"symbol\": \"circle\"}, \"mode\": \"markers\", \"name\": \"\", \"showlegend\": false, \"type\": \"scatter\", \"x\": [2016, 1950, 2017, 2017, 2016, 2017, 2017, 2016, 2017, 2013, 2017, 2017, 2017, 1951, 2015, 2013, 2013, 2010, 2002, 1993, 2016, 2017, 1993, 2016, 1952, 1950, 1981, 2015, 2008, 2016, 1965, 2015, 1979, 2016, 2004, 2017, 2013, 2006, 2016, 2009, 2015, 2016, 2016, 2001, 1995, 2013, 2016, 2016, 1955, 2013, 1989, 1989, 2013, 1984, 1984, 2015, 2017, 2017, 2016, 2017, 1950, 2016, 2006, 2015, 2011, 2014, 2017, 2013, 2015, 2016, 1977, 2015, 1978, 1981, 1996, 1996, 2016, 1994, 2015, 2015, 2017, 2017, 2015, 2015, 2016, 2016, 2017, 1966, 2015, 2016, 1974, 2016, 2017, 2016, 1950, 2009, 2017, 2015, 2015, 2012, 2014, 2017, 2017, 2001, 1999, 2013, 2015, 1950, 2016, 1997, 1991, 2016, 2009, 2016, 2017, 2016, 1993, 2016, 2017, 2010, 2017, 1970, 2007, 1986, 2015, 2014, 2016, 2010, 2016, 1968, 1991, 2015, 2016, 2008, 2017, 2015, 2015, 1974, 2016, 2008, 2007, 2016, 2016, 2015, 2017, 2005, 2014, 2016, 2013, 2017, 2017, 2016, 2017, 2016, 2010, 2017, 2016, 2016, 2017, 2008, 2016, 1975, 1952, 1991, 1953, 2016, 2017, 2016, 2012, 2013, 1995, 2016, 2016, 2009, 1996, 1996, 1996, 1996, 1994, 2009, 2017, 1995, 2016, 2017, 2007, 2016, 1979, 2016, 2016, 2016, 2016, 2016, 2017, 2011, 2011, 2004, 1990, 2010, 2016, 2015, 2014, 2017, 2016, 2017, 2014, 2015, 1994, 2001, 2016, 2016, 2013, 2015, 2015, 2016, 2015, 2017, 1981, 2016, 2006, 2016, 2016, 1988, 2010, 2008, 1989, 2005, 2016, 1981, 2005, 2010, 2016, 2015, 2016, 2017, 2013, 2016, 1988, 2017, 2016, 2013, 2017, 2015, 2016, 2013, 2016, 2017, 1982, 1993, 2015, 2017, 2017, 2016, 2016, 2017, 2017, 2015, 2016, 2016, 2017, 2017, 2017, 2017, 2017, 2016, 2017, 2017, 2016, 1982, 2016, 2015, 2017, 2012, 1989, 2014, 2014, 2017, 2017, 2014, 1961, 2017, 2017, 2016, 2016, 2005, 2016, 1996, 1996, 2017, 2007, 2009, 2017, 2011, 2012, 2017, 2017, 1988, 2015, 2014, 1999, 2004, 2016, 2013, 2006, 1957, 2009, 2013, 2010, 2016, 2017, 2017, 2015, 2017, 2017, 1983, 1984, 2003, 1964, 1989, 1950, 2014, 2003, 2003, 2003, 2017, 2017, 2007, 2013, 2016, 2008, 2008, 1979, 1987, 2017, 2016, 2017, 1962, 2000, 2011, 2014, 2014, 1970, 2017, 1991, 1995, 1993, 2017, 2017, 1989, 2017, 2017, 2017, 2017, 2017, 2012, 1999, 1952, 2012, 2012, 2012, 1991, 2017, 2016, 2017, 2016, 2017, 2015, 2015, 2016, 2008, 2017, 2016, 2014, 2005, 1993, 2016, 2011, 2017, 2017, 1950, 1991, 2014, 2017, 1992, 2009, 2012, 2012, 2007, 1974, 2017, 2017, 2014, 2008, 2015, 2016, 1989, 2017, 2000, 1985, 1987, 1986, 2014, 2016, 2017, 1956, 2014, 2016, 2010, 1994, 1979, 1998, 2010, 1983, 1990, 1955, 1996, 1984, 1990, 1998, 2016, 2001, 1999, 1995, 1990, 1999, 1999, 2009, 2016, 2016, 2016, 2017, 2015, 2011, 1998, 1994, 2014, 1994, 2017, 2017, 2015, 2005, 2016, 2017, 1963, 1959, 2017, 2014, 1953, 2016, 2017, 2017, 2008, 2012, 2014, 2016, 2014, 2016, 2016, 2011, 2014, 2016, 2015, 2010, 1990, 2017, 2015, 2017, 2017, 2017, 2016, 2016, 2016, 2017, 2006, 2016, 2016, 1996, 2015, 2017, 1991, 2017, 2016, 2017, 2015, 2014, 2014, 2015, 2016, 2017, 2014, 2017, 2017, 2016, 2003, 2003, 2017, 2016, 1979, 1969, 1984, 1988, 2014, 1979, 2016, 1969, 2016, 2017, 2017, 2017, 2014, 2006, 1984, 2012, 1990, 2015, 2014, 2016, 2017, 2014, 2001, 2017, 2017, 2017, 2013, 2017, 2016, 2017, 2016, 2017, 2017, 2016, 2017, 2017, 2017, 2016, 2016, 2014, 2009, 2005, 2013, 2016, 2016, 2016, 2017, 2017, 1991, 1950, 2005, 2016, 2017, 2013, 2014, 1990, 2016, 2016, 2017, 2017, 1989, 2017, 2017, 2017, 2017, 1983, 1980, 2013, 2017, 2016, 2016, 2013, 1953, 2016, 2010, 1993, 2017, 2016, 1954, 2017, 2002, 2017, 2014, 2017, 2006, 2016, 2016, 2017, 1990, 2001, 1950, 2017, 2016, 2016, 2017, 2008, 2014, 1991, 2016, 2000, 2016, 1954, 2017, 1971, 2001, 2013, 2006, 2014, 2016, 2017, 2002, 2004, 1960, 2007, 1996, 2016, 1966, 1966, 1992, 2015, 2017, 2017, 2013, 2016, 2015, 2013, 2013, 2006, 1966, 2016, 1994, 1950, 2005, 2017, 1966, 2003, 2004, 2014, 2004, 1997, 1966, 1993, 1967, 1979, 1992, 1998, 1998, 1990, 1950, 1977, 2017, 2017, 2017, 2015, 2016, 2001, 2007, 2017, 2017, 2016, 1992, 2016, 2016, 2017, 2011, 2016, 1984, 2015, 2015, 2016, 1993, 2016, 1956, 1956, 2003, 2012, 2017, 2017, 2013, 1956, 2017, 2015, 2016, 2016, 1999, 2016, 1954, 2017, 2016, 2017, 2017, 1964, 2017, 2010, 2010, 2010, 2007, 1985, 2002, 2017, 2017, 1950, 2016, 2002, 2014, 2016, 1990, 2007, 2016, 2016, 2017, 1952, 2015, 2012, 2014, 2017, 2016, 1961, 2007, 2016, 2016, 1990, 1953, 2017, 2007, 2012, 2014, 1962, 1991, 1959, 2017, 2013, 1984, 2004, 1952, 1960, 1974, 2015, 2016, 1990, 2017, 2013, 2017, 2014, 2017, 2017, 2017, 2017, 2017, 2016, 1957, 1993, 2017, 2017, 2017, 2017, 2017, 2015, 1976, 2017, 1991, 2017, 2017, 2017, 2014, 1980, 1993, 2000, 1985, 2017, 2017, 2016, 1985, 2016, 1950, 2016, 2014, 2005, 2016, 2011, 2013, 2006, 2001, 2004], \"xaxis\": \"x\", \"y\": [35, 89, 35, 73, 25, 42, 49, 26, 25, 42, 23, 23, 23, 85, 34, 36, 41, 29, 44, 52, 16, 38, 65, 34, 79, 93, 38, 53, 56, 35, 53, 34, 44, 37, 40, 59, 69, 53, 36, 33, 43, 25, 37, 40, 38, 37, 29, 59, 86, 49, 30, 28, 27, 40, 85, 34, 29, 27, 20, 20, 86, 32, 35, 52, 49, 40, 31, 39, 29, 18, 64, 30, 38, 36, 68, 34, 40, 51, 21, 21, 28, 33, 35, 31, 28, 38, 24, 86, 31, 21, 79, 25, 28, 26, 93, 53, 30, 37, 25, 30, 34, 15, 50, 58, 34, 35, 30, 79, 27, 49, 39, 43, 31, 37, 34, 28, 27, 27, 28, 33, 54, 78, 54, 54, 34, 28, 28, 36, 33, 50, 25, 57, 33, 28, 49, 56, 18, 75, 25, 30, 41, 21, 28, 32, 25, 33, 50, 18, 26, 31, 18, 25, 28, 24, 36, 26, 26, 23, 33, 39, 30, 77, 65, 26, 76, 30, 24, 32, 25, 37, 65, 45, 37, 33, 54, 23, 22, 60, 23, 34, 31, 22, 40, 31, 35, 26, 38, 25, 30, 53, 23, 42, 24, 38, 17, 90, 30, 37, 22, 46, 28, 24, 20, 24, 30, 48, 29, 25, 26, 23, 31, 43, 34, 31, 25, 56, 36, 21, 36, 32, 26, 52, 26, 34, 57, 31, 43, 41, 41, 35, 30, 45, 30, 39, 30, 22, 29, 33, 66, 37, 45, 25, 19, 36, 34, 62, 37, 25, 21, 21, 39, 24, 30, 30, 21, 25, 22, 22, 20, 21, 21, 25, 22, 22, 23, 32, 36, 35, 30, 51, 47, 31, 67, 29, 33, 33, 27, 34, 79, 35, 25, 42, 18, 23, 24, 26, 23, 46, 39, 50, 30, 63, 36, 25, 25, 34, 52, 22, 23, 52, 44, 35, 34, 62, 26, 27, 20, 24, 35, 39, 35, 20, 23, 34, 57, 27, 74, 34, 67, 47, 36, 24, 34, 41, 23, 38, 26, 17, 39, 15, 45, 67, 20, 25, 27, 56, 18, 39, 36, 38, 52, 28, 59, 23, 45, 37, 58, 29, 47, 18, 15, 27, 51, 27, 29, 70, 37, 43, 20, 62, 35, 23, 25, 30, 25, 43, 16, 38, 50, 24, 37, 34, 39, 62, 53, 32, 29, 62, 69, 43, 61, 27, 44, 30, 41, 19, 26, 45, 21, 20, 36, 55, 28, 36, 28, 26, 32, 37, 34, 38, 36, 30, 36, 64, 38, 42, 29, 51, 38, 33, 15, 36, 32, 80, 37, 34, 40, 19, 35, 46, 70, 25, 37, 50, 24, 37, 23, 34, 38, 31, 32, 33, 41, 24, 38, 34, 31, 37, 27, 40, 32, 18, 76, 74, 40, 36, 82, 40, 49, 32, 41, 29, 18, 21, 38, 32, 28, 36, 62, 40, 27, 21, 33, 36, 30, 31, 28, 24, 41, 16, 22, 22, 22, 28, 22, 38, 33, 27, 25, 21, 18, 25, 51, 31, 31, 51, 56, 46, 22, 23, 26, 41, 16, 51, 25, 22, 41, 77, 57, 29, 31, 39, 36, 48, 58, 29, 21, 23, 26, 37, 56, 66, 57, 28, 34, 40, 39, 34, 37, 65, 34, 26, 54, 26, 22, 32, 41, 25, 23, 56, 28, 41, 24, 27, 30, 31, 25, 28, 45, 30, 30, 23, 20, 29, 30, 82, 28, 21, 28, 29, 36, 38, 24, 26, 23, 23, 36, 20, 24, 33, 21, 59, 65, 30, 31, 19, 22, 36, 93, 40, 30, 28, 25, 33, 91, 32, 29, 24, 34, 27, 51, 30, 26, 21, 29, 43, 95, 25, 19, 21, 50, 54, 32, 32, 24, 18, 36, 66, 25, 58, 45, 92, 28, 47, 26, 21, 16, 41, 77, 38, 46, 39, 90, 82, 27, 59, 24, 20, 39, 24, 27, 37, 38, 40, 52, 36, 26, 84, 44, 22, 52, 19, 18, 27, 34, 46, 76, 27, 49, 38, 26, 29, 26, 42, 80, 40, 21, 22, 23, 37, 63, 71, 32, 24, 22, 31, 30, 21, 19, 40, 26, 46, 34, 20, 20, 35, 60, 30, 78, 72, 16, 34, 29, 25, 47, 65, 39, 27, 25, 28, 26, 28, 91, 26, 30, 25, 25, 83, 60, 44, 18, 16, 21, 59, 17, 24, 31, 79, 30, 19, 40, 76, 53, 41, 30, 28, 38, 72, 39, 45, 72, 32, 24, 76, 35, 40, 29, 46, 87, 21, 33, 59, 74, 89, 35, 78, 40, 43, 34, 20, 91, 80, 43, 26, 17, 29, 58, 43, 27, 26, 28, 35, 27, 29, 26, 30, 66, 55, 24, 27, 21, 26, 25, 27, 41, 31, 57, 21, 21, 32, 25, 37, 91, 66, 37, 25, 30, 42, 44, 27, 70, 18, 22, 31, 24, 34, 25, 39, 51, 45], \"yaxis\": \"y\"}],\n",
              "                        {\"coloraxis\": {\"colorbar\": {\"title\": {\"text\": \"n_educacional\"}}, \"colorscale\": [[0.0, \"#0d0887\"], [0.1111111111111111, \"#46039f\"], [0.2222222222222222, \"#7201a8\"], [0.3333333333333333, \"#9c179e\"], [0.4444444444444444, \"#bd3786\"], [0.5555555555555556, \"#d8576b\"], [0.6666666666666666, \"#ed7953\"], [0.7777777777777778, \"#fb9f3a\"], [0.8888888888888888, \"#fdca26\"], [1.0, \"#f0f921\"]]}, \"legend\": {\"itemsizing\": \"constant\", \"tracegroupgap\": 0}, \"margin\": {\"t\": 60}, \"template\": {\"data\": {\"bar\": [{\"error_x\": {\"color\": \"#2a3f5f\"}, \"error_y\": {\"color\": \"#2a3f5f\"}, \"marker\": {\"line\": {\"color\": \"#E5ECF6\", \"width\": 0.5}}, \"type\": \"bar\"}], \"barpolar\": [{\"marker\": {\"line\": {\"color\": \"#E5ECF6\", \"width\": 0.5}}, \"type\": \"barpolar\"}], \"carpet\": [{\"aaxis\": {\"endlinecolor\": \"#2a3f5f\", \"gridcolor\": \"white\", \"linecolor\": \"white\", \"minorgridcolor\": \"white\", \"startlinecolor\": \"#2a3f5f\"}, \"baxis\": {\"endlinecolor\": \"#2a3f5f\", \"gridcolor\": \"white\", \"linecolor\": \"white\", \"minorgridcolor\": \"white\", \"startlinecolor\": \"#2a3f5f\"}, \"type\": \"carpet\"}], \"choropleth\": [{\"colorbar\": {\"outlinewidth\": 0, \"ticks\": \"\"}, \"type\": \"choropleth\"}], \"contour\": [{\"colorbar\": {\"outlinewidth\": 0, \"ticks\": \"\"}, \"colorscale\": [[0.0, \"#0d0887\"], [0.1111111111111111, \"#46039f\"], [0.2222222222222222, \"#7201a8\"], [0.3333333333333333, \"#9c179e\"], [0.4444444444444444, \"#bd3786\"], [0.5555555555555556, \"#d8576b\"], [0.6666666666666666, \"#ed7953\"], [0.7777777777777778, \"#fb9f3a\"], [0.8888888888888888, \"#fdca26\"], [1.0, \"#f0f921\"]], \"type\": \"contour\"}], \"contourcarpet\": [{\"colorbar\": {\"outlinewidth\": 0, \"ticks\": \"\"}, \"type\": \"contourcarpet\"}], \"heatmap\": [{\"colorbar\": {\"outlinewidth\": 0, \"ticks\": \"\"}, \"colorscale\": [[0.0, \"#0d0887\"], [0.1111111111111111, \"#46039f\"], [0.2222222222222222, \"#7201a8\"], [0.3333333333333333, \"#9c179e\"], [0.4444444444444444, \"#bd3786\"], [0.5555555555555556, \"#d8576b\"], [0.6666666666666666, \"#ed7953\"], [0.7777777777777778, \"#fb9f3a\"], [0.8888888888888888, \"#fdca26\"], [1.0, \"#f0f921\"]], \"type\": \"heatmap\"}], \"heatmapgl\": [{\"colorbar\": {\"outlinewidth\": 0, \"ticks\": \"\"}, \"colorscale\": [[0.0, \"#0d0887\"], [0.1111111111111111, \"#46039f\"], [0.2222222222222222, \"#7201a8\"], [0.3333333333333333, \"#9c179e\"], [0.4444444444444444, \"#bd3786\"], [0.5555555555555556, \"#d8576b\"], [0.6666666666666666, \"#ed7953\"], [0.7777777777777778, \"#fb9f3a\"], [0.8888888888888888, \"#fdca26\"], [1.0, \"#f0f921\"]], \"type\": \"heatmapgl\"}], \"histogram\": [{\"marker\": {\"colorbar\": {\"outlinewidth\": 0, \"ticks\": \"\"}}, \"type\": \"histogram\"}], \"histogram2d\": [{\"colorbar\": {\"outlinewidth\": 0, \"ticks\": \"\"}, \"colorscale\": [[0.0, \"#0d0887\"], [0.1111111111111111, \"#46039f\"], [0.2222222222222222, \"#7201a8\"], [0.3333333333333333, \"#9c179e\"], [0.4444444444444444, \"#bd3786\"], [0.5555555555555556, \"#d8576b\"], [0.6666666666666666, \"#ed7953\"], [0.7777777777777778, \"#fb9f3a\"], [0.8888888888888888, \"#fdca26\"], [1.0, \"#f0f921\"]], \"type\": \"histogram2d\"}], \"histogram2dcontour\": [{\"colorbar\": {\"outlinewidth\": 0, \"ticks\": \"\"}, \"colorscale\": [[0.0, \"#0d0887\"], [0.1111111111111111, \"#46039f\"], [0.2222222222222222, \"#7201a8\"], [0.3333333333333333, \"#9c179e\"], [0.4444444444444444, \"#bd3786\"], [0.5555555555555556, \"#d8576b\"], [0.6666666666666666, \"#ed7953\"], [0.7777777777777778, \"#fb9f3a\"], [0.8888888888888888, \"#fdca26\"], [1.0, \"#f0f921\"]], \"type\": \"histogram2dcontour\"}], \"mesh3d\": [{\"colorbar\": {\"outlinewidth\": 0, \"ticks\": \"\"}, \"type\": \"mesh3d\"}], \"parcoords\": [{\"line\": {\"colorbar\": {\"outlinewidth\": 0, \"ticks\": \"\"}}, \"type\": \"parcoords\"}], \"pie\": [{\"automargin\": true, \"type\": \"pie\"}], \"scatter\": [{\"marker\": {\"colorbar\": {\"outlinewidth\": 0, \"ticks\": \"\"}}, \"type\": \"scatter\"}], \"scatter3d\": [{\"line\": {\"colorbar\": {\"outlinewidth\": 0, \"ticks\": \"\"}}, \"marker\": {\"colorbar\": {\"outlinewidth\": 0, \"ticks\": \"\"}}, \"type\": \"scatter3d\"}], \"scattercarpet\": [{\"marker\": {\"colorbar\": {\"outlinewidth\": 0, \"ticks\": \"\"}}, \"type\": \"scattercarpet\"}], \"scattergeo\": [{\"marker\": {\"colorbar\": {\"outlinewidth\": 0, \"ticks\": \"\"}}, \"type\": \"scattergeo\"}], \"scattergl\": [{\"marker\": {\"colorbar\": {\"outlinewidth\": 0, \"ticks\": \"\"}}, \"type\": \"scattergl\"}], \"scattermapbox\": [{\"marker\": {\"colorbar\": {\"outlinewidth\": 0, \"ticks\": \"\"}}, \"type\": \"scattermapbox\"}], \"scatterpolar\": [{\"marker\": {\"colorbar\": {\"outlinewidth\": 0, \"ticks\": \"\"}}, \"type\": \"scatterpolar\"}], \"scatterpolargl\": [{\"marker\": {\"colorbar\": {\"outlinewidth\": 0, \"ticks\": \"\"}}, \"type\": \"scatterpolargl\"}], \"scatterternary\": [{\"marker\": {\"colorbar\": {\"outlinewidth\": 0, \"ticks\": \"\"}}, \"type\": \"scatterternary\"}], \"surface\": [{\"colorbar\": {\"outlinewidth\": 0, \"ticks\": \"\"}, \"colorscale\": [[0.0, \"#0d0887\"], [0.1111111111111111, \"#46039f\"], [0.2222222222222222, \"#7201a8\"], [0.3333333333333333, \"#9c179e\"], [0.4444444444444444, \"#bd3786\"], [0.5555555555555556, \"#d8576b\"], [0.6666666666666666, \"#ed7953\"], [0.7777777777777778, \"#fb9f3a\"], [0.8888888888888888, \"#fdca26\"], [1.0, \"#f0f921\"]], \"type\": \"surface\"}], \"table\": [{\"cells\": {\"fill\": {\"color\": \"#EBF0F8\"}, \"line\": {\"color\": \"white\"}}, \"header\": {\"fill\": {\"color\": \"#C8D4E3\"}, \"line\": {\"color\": \"white\"}}, \"type\": \"table\"}]}, \"layout\": {\"annotationdefaults\": {\"arrowcolor\": \"#2a3f5f\", \"arrowhead\": 0, \"arrowwidth\": 1}, \"coloraxis\": {\"colorbar\": {\"outlinewidth\": 0, \"ticks\": \"\"}}, \"colorscale\": {\"diverging\": [[0, \"#8e0152\"], [0.1, \"#c51b7d\"], [0.2, \"#de77ae\"], [0.3, \"#f1b6da\"], [0.4, \"#fde0ef\"], [0.5, \"#f7f7f7\"], [0.6, \"#e6f5d0\"], [0.7, \"#b8e186\"], [0.8, \"#7fbc41\"], [0.9, \"#4d9221\"], [1, \"#276419\"]], \"sequential\": [[0.0, \"#0d0887\"], [0.1111111111111111, \"#46039f\"], [0.2222222222222222, \"#7201a8\"], [0.3333333333333333, \"#9c179e\"], [0.4444444444444444, \"#bd3786\"], [0.5555555555555556, \"#d8576b\"], [0.6666666666666666, \"#ed7953\"], [0.7777777777777778, \"#fb9f3a\"], [0.8888888888888888, \"#fdca26\"], [1.0, \"#f0f921\"]], \"sequentialminus\": [[0.0, \"#0d0887\"], [0.1111111111111111, \"#46039f\"], [0.2222222222222222, \"#7201a8\"], [0.3333333333333333, \"#9c179e\"], [0.4444444444444444, \"#bd3786\"], [0.5555555555555556, \"#d8576b\"], [0.6666666666666666, \"#ed7953\"], [0.7777777777777778, \"#fb9f3a\"], [0.8888888888888888, \"#fdca26\"], [1.0, \"#f0f921\"]]}, \"colorway\": [\"#636efa\", \"#EF553B\", \"#00cc96\", \"#ab63fa\", \"#FFA15A\", \"#19d3f3\", \"#FF6692\", \"#B6E880\", \"#FF97FF\", \"#FECB52\"], \"font\": {\"color\": \"#2a3f5f\"}, \"geo\": {\"bgcolor\": \"white\", \"lakecolor\": \"white\", \"landcolor\": \"#E5ECF6\", \"showlakes\": true, \"showland\": true, \"subunitcolor\": \"white\"}, \"hoverlabel\": {\"align\": \"left\"}, \"hovermode\": \"closest\", \"mapbox\": {\"style\": \"light\"}, \"paper_bgcolor\": \"white\", \"plot_bgcolor\": \"#E5ECF6\", \"polar\": {\"angularaxis\": {\"gridcolor\": \"white\", \"linecolor\": \"white\", \"ticks\": \"\"}, \"bgcolor\": \"#E5ECF6\", \"radialaxis\": {\"gridcolor\": \"white\", \"linecolor\": \"white\", \"ticks\": \"\"}}, \"scene\": {\"xaxis\": {\"backgroundcolor\": \"#E5ECF6\", \"gridcolor\": \"white\", \"gridwidth\": 2, \"linecolor\": \"white\", \"showbackground\": true, \"ticks\": \"\", \"zerolinecolor\": \"white\"}, \"yaxis\": {\"backgroundcolor\": \"#E5ECF6\", \"gridcolor\": \"white\", \"gridwidth\": 2, \"linecolor\": \"white\", \"showbackground\": true, \"ticks\": \"\", \"zerolinecolor\": \"white\"}, \"zaxis\": {\"backgroundcolor\": \"#E5ECF6\", \"gridcolor\": \"white\", \"gridwidth\": 2, \"linecolor\": \"white\", \"showbackground\": true, \"ticks\": \"\", \"zerolinecolor\": \"white\"}}, \"shapedefaults\": {\"line\": {\"color\": \"#2a3f5f\"}}, \"ternary\": {\"aaxis\": {\"gridcolor\": \"white\", \"linecolor\": \"white\", \"ticks\": \"\"}, \"baxis\": {\"gridcolor\": \"white\", \"linecolor\": \"white\", \"ticks\": \"\"}, \"bgcolor\": \"#E5ECF6\", \"caxis\": {\"gridcolor\": \"white\", \"linecolor\": \"white\", \"ticks\": \"\"}}, \"title\": {\"x\": 0.05}, \"xaxis\": {\"automargin\": true, \"gridcolor\": \"white\", \"linecolor\": \"white\", \"ticks\": \"\", \"title\": {\"standoff\": 15}, \"zerolinecolor\": \"white\", \"zerolinewidth\": 2}, \"yaxis\": {\"automargin\": true, \"gridcolor\": \"white\", \"linecolor\": \"white\", \"ticks\": \"\", \"title\": {\"standoff\": 15}, \"zerolinecolor\": \"white\", \"zerolinewidth\": 2}}}, \"xaxis\": {\"anchor\": \"y\", \"domain\": [0.0, 1.0], \"title\": {\"text\": \"a_llegada\"}, \"type\": \"log\"}, \"yaxis\": {\"anchor\": \"x\", \"domain\": [0.0, 1.0], \"title\": {\"text\": \"edad\"}}},\n",
              "                        {\"responsive\": true}\n",
              "                    ).then(function(){\n",
              "                            \n",
              "var gd = document.getElementById('7bad60a6-3fe2-4911-b668-b2b01dd37e0c');\n",
              "var x = new MutationObserver(function (mutations, observer) {{\n",
              "        var display = window.getComputedStyle(gd).display;\n",
              "        if (!display || display === 'none') {{\n",
              "            console.log([gd, 'removed!']);\n",
              "            Plotly.purge(gd);\n",
              "            observer.disconnect();\n",
              "        }}\n",
              "}});\n",
              "\n",
              "// Listen for the removal of the full notebook cells\n",
              "var notebookContainer = gd.closest('#notebook-container');\n",
              "if (notebookContainer) {{\n",
              "    x.observe(notebookContainer, {childList: true});\n",
              "}}\n",
              "\n",
              "// Listen for the clearing of the current output cell\n",
              "var outputEl = gd.closest('.output');\n",
              "if (outputEl) {{\n",
              "    x.observe(outputEl, {childList: true});\n",
              "}}\n",
              "\n",
              "                        })\n",
              "                };\n",
              "                \n",
              "            </script>\n",
              "        </div>\n",
              "</body>\n",
              "</html>"
            ]
          },
          "metadata": {}
        }
      ]
    },
    {
      "cell_type": "markdown",
      "metadata": {
        "id": "ICrfsPSSp8oG"
      },
      "source": [
        "## Gráfico de torta"
      ]
    },
    {
      "cell_type": "code",
      "metadata": {
        "colab": {
          "base_uri": "https://localhost:8080/",
          "height": 423
        },
        "id": "_j4rxUhI7mlX",
        "outputId": "c96a5139-5fe4-4f36-b542-5593cbd1b411"
      },
      "source": [
        "import seaborn as sns\n",
        "df_titanic = sns.load_dataset(\"titanic\")\n",
        "df_titanic"
      ],
      "execution_count": 26,
      "outputs": [
        {
          "output_type": "execute_result",
          "data": {
            "text/html": [
              "<div>\n",
              "<style scoped>\n",
              "    .dataframe tbody tr th:only-of-type {\n",
              "        vertical-align: middle;\n",
              "    }\n",
              "\n",
              "    .dataframe tbody tr th {\n",
              "        vertical-align: top;\n",
              "    }\n",
              "\n",
              "    .dataframe thead th {\n",
              "        text-align: right;\n",
              "    }\n",
              "</style>\n",
              "<table border=\"1\" class=\"dataframe\">\n",
              "  <thead>\n",
              "    <tr style=\"text-align: right;\">\n",
              "      <th></th>\n",
              "      <th>survived</th>\n",
              "      <th>pclass</th>\n",
              "      <th>sex</th>\n",
              "      <th>age</th>\n",
              "      <th>sibsp</th>\n",
              "      <th>parch</th>\n",
              "      <th>fare</th>\n",
              "      <th>embarked</th>\n",
              "      <th>class</th>\n",
              "      <th>who</th>\n",
              "      <th>adult_male</th>\n",
              "      <th>deck</th>\n",
              "      <th>embark_town</th>\n",
              "      <th>alive</th>\n",
              "      <th>alone</th>\n",
              "    </tr>\n",
              "  </thead>\n",
              "  <tbody>\n",
              "    <tr>\n",
              "      <th>0</th>\n",
              "      <td>0</td>\n",
              "      <td>3</td>\n",
              "      <td>male</td>\n",
              "      <td>22.0</td>\n",
              "      <td>1</td>\n",
              "      <td>0</td>\n",
              "      <td>7.2500</td>\n",
              "      <td>S</td>\n",
              "      <td>Third</td>\n",
              "      <td>man</td>\n",
              "      <td>True</td>\n",
              "      <td>NaN</td>\n",
              "      <td>Southampton</td>\n",
              "      <td>no</td>\n",
              "      <td>False</td>\n",
              "    </tr>\n",
              "    <tr>\n",
              "      <th>1</th>\n",
              "      <td>1</td>\n",
              "      <td>1</td>\n",
              "      <td>female</td>\n",
              "      <td>38.0</td>\n",
              "      <td>1</td>\n",
              "      <td>0</td>\n",
              "      <td>71.2833</td>\n",
              "      <td>C</td>\n",
              "      <td>First</td>\n",
              "      <td>woman</td>\n",
              "      <td>False</td>\n",
              "      <td>C</td>\n",
              "      <td>Cherbourg</td>\n",
              "      <td>yes</td>\n",
              "      <td>False</td>\n",
              "    </tr>\n",
              "    <tr>\n",
              "      <th>2</th>\n",
              "      <td>1</td>\n",
              "      <td>3</td>\n",
              "      <td>female</td>\n",
              "      <td>26.0</td>\n",
              "      <td>0</td>\n",
              "      <td>0</td>\n",
              "      <td>7.9250</td>\n",
              "      <td>S</td>\n",
              "      <td>Third</td>\n",
              "      <td>woman</td>\n",
              "      <td>False</td>\n",
              "      <td>NaN</td>\n",
              "      <td>Southampton</td>\n",
              "      <td>yes</td>\n",
              "      <td>True</td>\n",
              "    </tr>\n",
              "    <tr>\n",
              "      <th>3</th>\n",
              "      <td>1</td>\n",
              "      <td>1</td>\n",
              "      <td>female</td>\n",
              "      <td>35.0</td>\n",
              "      <td>1</td>\n",
              "      <td>0</td>\n",
              "      <td>53.1000</td>\n",
              "      <td>S</td>\n",
              "      <td>First</td>\n",
              "      <td>woman</td>\n",
              "      <td>False</td>\n",
              "      <td>C</td>\n",
              "      <td>Southampton</td>\n",
              "      <td>yes</td>\n",
              "      <td>False</td>\n",
              "    </tr>\n",
              "    <tr>\n",
              "      <th>4</th>\n",
              "      <td>0</td>\n",
              "      <td>3</td>\n",
              "      <td>male</td>\n",
              "      <td>35.0</td>\n",
              "      <td>0</td>\n",
              "      <td>0</td>\n",
              "      <td>8.0500</td>\n",
              "      <td>S</td>\n",
              "      <td>Third</td>\n",
              "      <td>man</td>\n",
              "      <td>True</td>\n",
              "      <td>NaN</td>\n",
              "      <td>Southampton</td>\n",
              "      <td>no</td>\n",
              "      <td>True</td>\n",
              "    </tr>\n",
              "    <tr>\n",
              "      <th>...</th>\n",
              "      <td>...</td>\n",
              "      <td>...</td>\n",
              "      <td>...</td>\n",
              "      <td>...</td>\n",
              "      <td>...</td>\n",
              "      <td>...</td>\n",
              "      <td>...</td>\n",
              "      <td>...</td>\n",
              "      <td>...</td>\n",
              "      <td>...</td>\n",
              "      <td>...</td>\n",
              "      <td>...</td>\n",
              "      <td>...</td>\n",
              "      <td>...</td>\n",
              "      <td>...</td>\n",
              "    </tr>\n",
              "    <tr>\n",
              "      <th>886</th>\n",
              "      <td>0</td>\n",
              "      <td>2</td>\n",
              "      <td>male</td>\n",
              "      <td>27.0</td>\n",
              "      <td>0</td>\n",
              "      <td>0</td>\n",
              "      <td>13.0000</td>\n",
              "      <td>S</td>\n",
              "      <td>Second</td>\n",
              "      <td>man</td>\n",
              "      <td>True</td>\n",
              "      <td>NaN</td>\n",
              "      <td>Southampton</td>\n",
              "      <td>no</td>\n",
              "      <td>True</td>\n",
              "    </tr>\n",
              "    <tr>\n",
              "      <th>887</th>\n",
              "      <td>1</td>\n",
              "      <td>1</td>\n",
              "      <td>female</td>\n",
              "      <td>19.0</td>\n",
              "      <td>0</td>\n",
              "      <td>0</td>\n",
              "      <td>30.0000</td>\n",
              "      <td>S</td>\n",
              "      <td>First</td>\n",
              "      <td>woman</td>\n",
              "      <td>False</td>\n",
              "      <td>B</td>\n",
              "      <td>Southampton</td>\n",
              "      <td>yes</td>\n",
              "      <td>True</td>\n",
              "    </tr>\n",
              "    <tr>\n",
              "      <th>888</th>\n",
              "      <td>0</td>\n",
              "      <td>3</td>\n",
              "      <td>female</td>\n",
              "      <td>NaN</td>\n",
              "      <td>1</td>\n",
              "      <td>2</td>\n",
              "      <td>23.4500</td>\n",
              "      <td>S</td>\n",
              "      <td>Third</td>\n",
              "      <td>woman</td>\n",
              "      <td>False</td>\n",
              "      <td>NaN</td>\n",
              "      <td>Southampton</td>\n",
              "      <td>no</td>\n",
              "      <td>False</td>\n",
              "    </tr>\n",
              "    <tr>\n",
              "      <th>889</th>\n",
              "      <td>1</td>\n",
              "      <td>1</td>\n",
              "      <td>male</td>\n",
              "      <td>26.0</td>\n",
              "      <td>0</td>\n",
              "      <td>0</td>\n",
              "      <td>30.0000</td>\n",
              "      <td>C</td>\n",
              "      <td>First</td>\n",
              "      <td>man</td>\n",
              "      <td>True</td>\n",
              "      <td>C</td>\n",
              "      <td>Cherbourg</td>\n",
              "      <td>yes</td>\n",
              "      <td>True</td>\n",
              "    </tr>\n",
              "    <tr>\n",
              "      <th>890</th>\n",
              "      <td>0</td>\n",
              "      <td>3</td>\n",
              "      <td>male</td>\n",
              "      <td>32.0</td>\n",
              "      <td>0</td>\n",
              "      <td>0</td>\n",
              "      <td>7.7500</td>\n",
              "      <td>Q</td>\n",
              "      <td>Third</td>\n",
              "      <td>man</td>\n",
              "      <td>True</td>\n",
              "      <td>NaN</td>\n",
              "      <td>Queenstown</td>\n",
              "      <td>no</td>\n",
              "      <td>True</td>\n",
              "    </tr>\n",
              "  </tbody>\n",
              "</table>\n",
              "<p>891 rows × 15 columns</p>\n",
              "</div>"
            ],
            "text/plain": [
              "     survived  pclass     sex   age  ...  deck  embark_town  alive  alone\n",
              "0           0       3    male  22.0  ...   NaN  Southampton     no  False\n",
              "1           1       1  female  38.0  ...     C    Cherbourg    yes  False\n",
              "2           1       3  female  26.0  ...   NaN  Southampton    yes   True\n",
              "3           1       1  female  35.0  ...     C  Southampton    yes  False\n",
              "4           0       3    male  35.0  ...   NaN  Southampton     no   True\n",
              "..        ...     ...     ...   ...  ...   ...          ...    ...    ...\n",
              "886         0       2    male  27.0  ...   NaN  Southampton     no   True\n",
              "887         1       1  female  19.0  ...     B  Southampton    yes   True\n",
              "888         0       3  female   NaN  ...   NaN  Southampton     no  False\n",
              "889         1       1    male  26.0  ...     C    Cherbourg    yes   True\n",
              "890         0       3    male  32.0  ...   NaN   Queenstown     no   True\n",
              "\n",
              "[891 rows x 15 columns]"
            ]
          },
          "metadata": {},
          "execution_count": 26
        }
      ]
    },
    {
      "cell_type": "code",
      "metadata": {
        "colab": {
          "base_uri": "https://localhost:8080/"
        },
        "id": "PT8vAYPUp8oG",
        "outputId": "008606a8-5b83-46dd-8466-46dcfa1c0ba7"
      },
      "source": [
        "df_titanic_clase = df_titanic.groupby('class').size()\n",
        "df_titanic_clase.head()"
      ],
      "execution_count": 27,
      "outputs": [
        {
          "output_type": "execute_result",
          "data": {
            "text/plain": [
              "class\n",
              "First     216\n",
              "Second    184\n",
              "Third     491\n",
              "dtype: int64"
            ]
          },
          "metadata": {},
          "execution_count": 27
        }
      ]
    },
    {
      "cell_type": "code",
      "metadata": {
        "colab": {
          "base_uri": "https://localhost:8080/",
          "height": 542
        },
        "id": "RlBnyLyNWLx3",
        "outputId": "98a78b0e-564d-4c60-b8c3-b13f60d6f4bc"
      },
      "source": [
        "fig = px.pie(df_titanic_clase, values=df_titanic_clase, names=list(df_titanic_clase.index))\n",
        "fig.show()"
      ],
      "execution_count": 30,
      "outputs": [
        {
          "output_type": "display_data",
          "data": {
            "text/html": [
              "<html>\n",
              "<head><meta charset=\"utf-8\" /></head>\n",
              "<body>\n",
              "    <div>\n",
              "            <script src=\"https://cdnjs.cloudflare.com/ajax/libs/mathjax/2.7.5/MathJax.js?config=TeX-AMS-MML_SVG\"></script><script type=\"text/javascript\">if (window.MathJax) {MathJax.Hub.Config({SVG: {font: \"STIX-Web\"}});}</script>\n",
              "                <script type=\"text/javascript\">window.PlotlyConfig = {MathJaxConfig: 'local'};</script>\n",
              "        <script src=\"https://cdn.plot.ly/plotly-latest.min.js\"></script>    \n",
              "            <div id=\"c6e87f9b-7d38-4d27-abf6-d4518ca880fd\" class=\"plotly-graph-div\" style=\"height:525px; width:100%;\"></div>\n",
              "            <script type=\"text/javascript\">\n",
              "                \n",
              "                    window.PLOTLYENV=window.PLOTLYENV || {};\n",
              "                    \n",
              "                if (document.getElementById(\"c6e87f9b-7d38-4d27-abf6-d4518ca880fd\")) {\n",
              "                    Plotly.newPlot(\n",
              "                        'c6e87f9b-7d38-4d27-abf6-d4518ca880fd',\n",
              "                        [{\"domain\": {\"x\": [0.0, 1.0], \"y\": [0.0, 1.0]}, \"hoverlabel\": {\"namelength\": 0}, \"hovertemplate\": \"label=%{label}<br>value=%{value}\", \"labels\": [\"First\", \"Second\", \"Third\"], \"legendgroup\": \"\", \"name\": \"\", \"showlegend\": true, \"type\": \"pie\", \"values\": [216, 184, 491]}],\n",
              "                        {\"legend\": {\"tracegroupgap\": 0}, \"margin\": {\"t\": 60}, \"template\": {\"data\": {\"bar\": [{\"error_x\": {\"color\": \"#2a3f5f\"}, \"error_y\": {\"color\": \"#2a3f5f\"}, \"marker\": {\"line\": {\"color\": \"#E5ECF6\", \"width\": 0.5}}, \"type\": \"bar\"}], \"barpolar\": [{\"marker\": {\"line\": {\"color\": \"#E5ECF6\", \"width\": 0.5}}, \"type\": \"barpolar\"}], \"carpet\": [{\"aaxis\": {\"endlinecolor\": \"#2a3f5f\", \"gridcolor\": \"white\", \"linecolor\": \"white\", \"minorgridcolor\": \"white\", \"startlinecolor\": \"#2a3f5f\"}, \"baxis\": {\"endlinecolor\": \"#2a3f5f\", \"gridcolor\": \"white\", \"linecolor\": \"white\", \"minorgridcolor\": \"white\", \"startlinecolor\": \"#2a3f5f\"}, \"type\": \"carpet\"}], \"choropleth\": [{\"colorbar\": {\"outlinewidth\": 0, \"ticks\": \"\"}, \"type\": \"choropleth\"}], \"contour\": [{\"colorbar\": {\"outlinewidth\": 0, \"ticks\": \"\"}, \"colorscale\": [[0.0, \"#0d0887\"], [0.1111111111111111, \"#46039f\"], [0.2222222222222222, \"#7201a8\"], [0.3333333333333333, \"#9c179e\"], [0.4444444444444444, \"#bd3786\"], [0.5555555555555556, \"#d8576b\"], [0.6666666666666666, \"#ed7953\"], [0.7777777777777778, \"#fb9f3a\"], [0.8888888888888888, \"#fdca26\"], [1.0, \"#f0f921\"]], \"type\": \"contour\"}], \"contourcarpet\": [{\"colorbar\": {\"outlinewidth\": 0, \"ticks\": \"\"}, \"type\": \"contourcarpet\"}], \"heatmap\": [{\"colorbar\": {\"outlinewidth\": 0, \"ticks\": \"\"}, \"colorscale\": [[0.0, \"#0d0887\"], [0.1111111111111111, \"#46039f\"], [0.2222222222222222, \"#7201a8\"], [0.3333333333333333, \"#9c179e\"], [0.4444444444444444, \"#bd3786\"], [0.5555555555555556, \"#d8576b\"], [0.6666666666666666, \"#ed7953\"], [0.7777777777777778, \"#fb9f3a\"], [0.8888888888888888, \"#fdca26\"], [1.0, \"#f0f921\"]], \"type\": \"heatmap\"}], \"heatmapgl\": [{\"colorbar\": {\"outlinewidth\": 0, \"ticks\": \"\"}, \"colorscale\": [[0.0, \"#0d0887\"], [0.1111111111111111, \"#46039f\"], [0.2222222222222222, \"#7201a8\"], [0.3333333333333333, \"#9c179e\"], [0.4444444444444444, \"#bd3786\"], [0.5555555555555556, \"#d8576b\"], [0.6666666666666666, \"#ed7953\"], [0.7777777777777778, \"#fb9f3a\"], [0.8888888888888888, \"#fdca26\"], [1.0, \"#f0f921\"]], \"type\": \"heatmapgl\"}], \"histogram\": [{\"marker\": {\"colorbar\": {\"outlinewidth\": 0, \"ticks\": \"\"}}, \"type\": \"histogram\"}], \"histogram2d\": [{\"colorbar\": {\"outlinewidth\": 0, \"ticks\": \"\"}, \"colorscale\": [[0.0, \"#0d0887\"], [0.1111111111111111, \"#46039f\"], [0.2222222222222222, \"#7201a8\"], [0.3333333333333333, \"#9c179e\"], [0.4444444444444444, \"#bd3786\"], [0.5555555555555556, \"#d8576b\"], [0.6666666666666666, \"#ed7953\"], [0.7777777777777778, \"#fb9f3a\"], [0.8888888888888888, \"#fdca26\"], [1.0, \"#f0f921\"]], \"type\": \"histogram2d\"}], \"histogram2dcontour\": [{\"colorbar\": {\"outlinewidth\": 0, \"ticks\": \"\"}, \"colorscale\": [[0.0, \"#0d0887\"], [0.1111111111111111, \"#46039f\"], [0.2222222222222222, \"#7201a8\"], [0.3333333333333333, \"#9c179e\"], [0.4444444444444444, \"#bd3786\"], [0.5555555555555556, \"#d8576b\"], [0.6666666666666666, \"#ed7953\"], [0.7777777777777778, \"#fb9f3a\"], [0.8888888888888888, \"#fdca26\"], [1.0, \"#f0f921\"]], \"type\": \"histogram2dcontour\"}], \"mesh3d\": [{\"colorbar\": {\"outlinewidth\": 0, \"ticks\": \"\"}, \"type\": \"mesh3d\"}], \"parcoords\": [{\"line\": {\"colorbar\": {\"outlinewidth\": 0, \"ticks\": \"\"}}, \"type\": \"parcoords\"}], \"pie\": [{\"automargin\": true, \"type\": \"pie\"}], \"scatter\": [{\"marker\": {\"colorbar\": {\"outlinewidth\": 0, \"ticks\": \"\"}}, \"type\": \"scatter\"}], \"scatter3d\": [{\"line\": {\"colorbar\": {\"outlinewidth\": 0, \"ticks\": \"\"}}, \"marker\": {\"colorbar\": {\"outlinewidth\": 0, \"ticks\": \"\"}}, \"type\": \"scatter3d\"}], \"scattercarpet\": [{\"marker\": {\"colorbar\": {\"outlinewidth\": 0, \"ticks\": \"\"}}, \"type\": \"scattercarpet\"}], \"scattergeo\": [{\"marker\": {\"colorbar\": {\"outlinewidth\": 0, \"ticks\": \"\"}}, \"type\": \"scattergeo\"}], \"scattergl\": [{\"marker\": {\"colorbar\": {\"outlinewidth\": 0, \"ticks\": \"\"}}, \"type\": \"scattergl\"}], \"scattermapbox\": [{\"marker\": {\"colorbar\": {\"outlinewidth\": 0, \"ticks\": \"\"}}, \"type\": \"scattermapbox\"}], \"scatterpolar\": [{\"marker\": {\"colorbar\": {\"outlinewidth\": 0, \"ticks\": \"\"}}, \"type\": \"scatterpolar\"}], \"scatterpolargl\": [{\"marker\": {\"colorbar\": {\"outlinewidth\": 0, \"ticks\": \"\"}}, \"type\": \"scatterpolargl\"}], \"scatterternary\": [{\"marker\": {\"colorbar\": {\"outlinewidth\": 0, \"ticks\": \"\"}}, \"type\": \"scatterternary\"}], \"surface\": [{\"colorbar\": {\"outlinewidth\": 0, \"ticks\": \"\"}, \"colorscale\": [[0.0, \"#0d0887\"], [0.1111111111111111, \"#46039f\"], [0.2222222222222222, \"#7201a8\"], [0.3333333333333333, \"#9c179e\"], [0.4444444444444444, \"#bd3786\"], [0.5555555555555556, \"#d8576b\"], [0.6666666666666666, \"#ed7953\"], [0.7777777777777778, \"#fb9f3a\"], [0.8888888888888888, \"#fdca26\"], [1.0, \"#f0f921\"]], \"type\": \"surface\"}], \"table\": [{\"cells\": {\"fill\": {\"color\": \"#EBF0F8\"}, \"line\": {\"color\": \"white\"}}, \"header\": {\"fill\": {\"color\": \"#C8D4E3\"}, \"line\": {\"color\": \"white\"}}, \"type\": \"table\"}]}, \"layout\": {\"annotationdefaults\": {\"arrowcolor\": \"#2a3f5f\", \"arrowhead\": 0, \"arrowwidth\": 1}, \"coloraxis\": {\"colorbar\": {\"outlinewidth\": 0, \"ticks\": \"\"}}, \"colorscale\": {\"diverging\": [[0, \"#8e0152\"], [0.1, \"#c51b7d\"], [0.2, \"#de77ae\"], [0.3, \"#f1b6da\"], [0.4, \"#fde0ef\"], [0.5, \"#f7f7f7\"], [0.6, \"#e6f5d0\"], [0.7, \"#b8e186\"], [0.8, \"#7fbc41\"], [0.9, \"#4d9221\"], [1, \"#276419\"]], \"sequential\": [[0.0, \"#0d0887\"], [0.1111111111111111, \"#46039f\"], [0.2222222222222222, \"#7201a8\"], [0.3333333333333333, \"#9c179e\"], [0.4444444444444444, \"#bd3786\"], [0.5555555555555556, \"#d8576b\"], [0.6666666666666666, \"#ed7953\"], [0.7777777777777778, \"#fb9f3a\"], [0.8888888888888888, \"#fdca26\"], [1.0, \"#f0f921\"]], \"sequentialminus\": [[0.0, \"#0d0887\"], [0.1111111111111111, \"#46039f\"], [0.2222222222222222, \"#7201a8\"], [0.3333333333333333, \"#9c179e\"], [0.4444444444444444, \"#bd3786\"], [0.5555555555555556, \"#d8576b\"], [0.6666666666666666, \"#ed7953\"], [0.7777777777777778, \"#fb9f3a\"], [0.8888888888888888, \"#fdca26\"], [1.0, \"#f0f921\"]]}, \"colorway\": [\"#636efa\", \"#EF553B\", \"#00cc96\", \"#ab63fa\", \"#FFA15A\", \"#19d3f3\", \"#FF6692\", \"#B6E880\", \"#FF97FF\", \"#FECB52\"], \"font\": {\"color\": \"#2a3f5f\"}, \"geo\": {\"bgcolor\": \"white\", \"lakecolor\": \"white\", \"landcolor\": \"#E5ECF6\", \"showlakes\": true, \"showland\": true, \"subunitcolor\": \"white\"}, \"hoverlabel\": {\"align\": \"left\"}, \"hovermode\": \"closest\", \"mapbox\": {\"style\": \"light\"}, \"paper_bgcolor\": \"white\", \"plot_bgcolor\": \"#E5ECF6\", \"polar\": {\"angularaxis\": {\"gridcolor\": \"white\", \"linecolor\": \"white\", \"ticks\": \"\"}, \"bgcolor\": \"#E5ECF6\", \"radialaxis\": {\"gridcolor\": \"white\", \"linecolor\": \"white\", \"ticks\": \"\"}}, \"scene\": {\"xaxis\": {\"backgroundcolor\": \"#E5ECF6\", \"gridcolor\": \"white\", \"gridwidth\": 2, \"linecolor\": \"white\", \"showbackground\": true, \"ticks\": \"\", \"zerolinecolor\": \"white\"}, \"yaxis\": {\"backgroundcolor\": \"#E5ECF6\", \"gridcolor\": \"white\", \"gridwidth\": 2, \"linecolor\": \"white\", \"showbackground\": true, \"ticks\": \"\", \"zerolinecolor\": \"white\"}, \"zaxis\": {\"backgroundcolor\": \"#E5ECF6\", \"gridcolor\": \"white\", \"gridwidth\": 2, \"linecolor\": \"white\", \"showbackground\": true, \"ticks\": \"\", \"zerolinecolor\": \"white\"}}, \"shapedefaults\": {\"line\": {\"color\": \"#2a3f5f\"}}, \"ternary\": {\"aaxis\": {\"gridcolor\": \"white\", \"linecolor\": \"white\", \"ticks\": \"\"}, \"baxis\": {\"gridcolor\": \"white\", \"linecolor\": \"white\", \"ticks\": \"\"}, \"bgcolor\": \"#E5ECF6\", \"caxis\": {\"gridcolor\": \"white\", \"linecolor\": \"white\", \"ticks\": \"\"}}, \"title\": {\"x\": 0.05}, \"xaxis\": {\"automargin\": true, \"gridcolor\": \"white\", \"linecolor\": \"white\", \"ticks\": \"\", \"title\": {\"standoff\": 15}, \"zerolinecolor\": \"white\", \"zerolinewidth\": 2}, \"yaxis\": {\"automargin\": true, \"gridcolor\": \"white\", \"linecolor\": \"white\", \"ticks\": \"\", \"title\": {\"standoff\": 15}, \"zerolinecolor\": \"white\", \"zerolinewidth\": 2}}}},\n",
              "                        {\"responsive\": true}\n",
              "                    ).then(function(){\n",
              "                            \n",
              "var gd = document.getElementById('c6e87f9b-7d38-4d27-abf6-d4518ca880fd');\n",
              "var x = new MutationObserver(function (mutations, observer) {{\n",
              "        var display = window.getComputedStyle(gd).display;\n",
              "        if (!display || display === 'none') {{\n",
              "            console.log([gd, 'removed!']);\n",
              "            Plotly.purge(gd);\n",
              "            observer.disconnect();\n",
              "        }}\n",
              "}});\n",
              "\n",
              "// Listen for the removal of the full notebook cells\n",
              "var notebookContainer = gd.closest('#notebook-container');\n",
              "if (notebookContainer) {{\n",
              "    x.observe(notebookContainer, {childList: true});\n",
              "}}\n",
              "\n",
              "// Listen for the clearing of the current output cell\n",
              "var outputEl = gd.closest('.output');\n",
              "if (outputEl) {{\n",
              "    x.observe(outputEl, {childList: true});\n",
              "}}\n",
              "\n",
              "                        })\n",
              "                };\n",
              "                \n",
              "            </script>\n",
              "        </div>\n",
              "</body>\n",
              "</html>"
            ]
          },
          "metadata": {}
        }
      ]
    },
    {
      "cell_type": "markdown",
      "metadata": {
        "id": "F8jwFfeap8th"
      },
      "source": [
        "## Histograma"
      ]
    },
    {
      "cell_type": "code",
      "metadata": {
        "colab": {
          "base_uri": "https://localhost:8080/",
          "height": 451
        },
        "id": "EG_HWyZKDqTQ",
        "outputId": "89394e17-49ac-4c63-b004-3c32d8820221"
      },
      "source": [
        "from vega_datasets import data\n",
        "\n",
        "link = data.movies.url\n",
        "movies = pd.read_json(link)\n",
        "movies.head()"
      ],
      "execution_count": 31,
      "outputs": [
        {
          "output_type": "execute_result",
          "data": {
            "text/html": [
              "<div>\n",
              "<style scoped>\n",
              "    .dataframe tbody tr th:only-of-type {\n",
              "        vertical-align: middle;\n",
              "    }\n",
              "\n",
              "    .dataframe tbody tr th {\n",
              "        vertical-align: top;\n",
              "    }\n",
              "\n",
              "    .dataframe thead th {\n",
              "        text-align: right;\n",
              "    }\n",
              "</style>\n",
              "<table border=\"1\" class=\"dataframe\">\n",
              "  <thead>\n",
              "    <tr style=\"text-align: right;\">\n",
              "      <th></th>\n",
              "      <th>Title</th>\n",
              "      <th>US_Gross</th>\n",
              "      <th>Worldwide_Gross</th>\n",
              "      <th>US_DVD_Sales</th>\n",
              "      <th>Production_Budget</th>\n",
              "      <th>Release_Date</th>\n",
              "      <th>MPAA_Rating</th>\n",
              "      <th>Running_Time_min</th>\n",
              "      <th>Distributor</th>\n",
              "      <th>Source</th>\n",
              "      <th>Major_Genre</th>\n",
              "      <th>Creative_Type</th>\n",
              "      <th>Director</th>\n",
              "      <th>Rotten_Tomatoes_Rating</th>\n",
              "      <th>IMDB_Rating</th>\n",
              "      <th>IMDB_Votes</th>\n",
              "    </tr>\n",
              "  </thead>\n",
              "  <tbody>\n",
              "    <tr>\n",
              "      <th>0</th>\n",
              "      <td>The Land Girls</td>\n",
              "      <td>146083.0</td>\n",
              "      <td>146083.0</td>\n",
              "      <td>NaN</td>\n",
              "      <td>8000000.0</td>\n",
              "      <td>Jun 12 1998</td>\n",
              "      <td>R</td>\n",
              "      <td>NaN</td>\n",
              "      <td>Gramercy</td>\n",
              "      <td>None</td>\n",
              "      <td>None</td>\n",
              "      <td>None</td>\n",
              "      <td>None</td>\n",
              "      <td>NaN</td>\n",
              "      <td>6.1</td>\n",
              "      <td>1071.0</td>\n",
              "    </tr>\n",
              "    <tr>\n",
              "      <th>1</th>\n",
              "      <td>First Love, Last Rites</td>\n",
              "      <td>10876.0</td>\n",
              "      <td>10876.0</td>\n",
              "      <td>NaN</td>\n",
              "      <td>300000.0</td>\n",
              "      <td>Aug 07 1998</td>\n",
              "      <td>R</td>\n",
              "      <td>NaN</td>\n",
              "      <td>Strand</td>\n",
              "      <td>None</td>\n",
              "      <td>Drama</td>\n",
              "      <td>None</td>\n",
              "      <td>None</td>\n",
              "      <td>NaN</td>\n",
              "      <td>6.9</td>\n",
              "      <td>207.0</td>\n",
              "    </tr>\n",
              "    <tr>\n",
              "      <th>2</th>\n",
              "      <td>I Married a Strange Person</td>\n",
              "      <td>203134.0</td>\n",
              "      <td>203134.0</td>\n",
              "      <td>NaN</td>\n",
              "      <td>250000.0</td>\n",
              "      <td>Aug 28 1998</td>\n",
              "      <td>None</td>\n",
              "      <td>NaN</td>\n",
              "      <td>Lionsgate</td>\n",
              "      <td>None</td>\n",
              "      <td>Comedy</td>\n",
              "      <td>None</td>\n",
              "      <td>None</td>\n",
              "      <td>NaN</td>\n",
              "      <td>6.8</td>\n",
              "      <td>865.0</td>\n",
              "    </tr>\n",
              "    <tr>\n",
              "      <th>3</th>\n",
              "      <td>Let's Talk About Sex</td>\n",
              "      <td>373615.0</td>\n",
              "      <td>373615.0</td>\n",
              "      <td>NaN</td>\n",
              "      <td>300000.0</td>\n",
              "      <td>Sep 11 1998</td>\n",
              "      <td>None</td>\n",
              "      <td>NaN</td>\n",
              "      <td>Fine Line</td>\n",
              "      <td>None</td>\n",
              "      <td>Comedy</td>\n",
              "      <td>None</td>\n",
              "      <td>None</td>\n",
              "      <td>13.0</td>\n",
              "      <td>NaN</td>\n",
              "      <td>NaN</td>\n",
              "    </tr>\n",
              "    <tr>\n",
              "      <th>4</th>\n",
              "      <td>Slam</td>\n",
              "      <td>1009819.0</td>\n",
              "      <td>1087521.0</td>\n",
              "      <td>NaN</td>\n",
              "      <td>1000000.0</td>\n",
              "      <td>Oct 09 1998</td>\n",
              "      <td>R</td>\n",
              "      <td>NaN</td>\n",
              "      <td>Trimark</td>\n",
              "      <td>Original Screenplay</td>\n",
              "      <td>Drama</td>\n",
              "      <td>Contemporary Fiction</td>\n",
              "      <td>None</td>\n",
              "      <td>62.0</td>\n",
              "      <td>3.4</td>\n",
              "      <td>165.0</td>\n",
              "    </tr>\n",
              "  </tbody>\n",
              "</table>\n",
              "</div>"
            ],
            "text/plain": [
              "                        Title   US_Gross  ...  IMDB_Rating  IMDB_Votes\n",
              "0              The Land Girls   146083.0  ...          6.1      1071.0\n",
              "1      First Love, Last Rites    10876.0  ...          6.9       207.0\n",
              "2  I Married a Strange Person   203134.0  ...          6.8       865.0\n",
              "3        Let's Talk About Sex   373615.0  ...          NaN         NaN\n",
              "4                        Slam  1009819.0  ...          3.4       165.0\n",
              "\n",
              "[5 rows x 16 columns]"
            ]
          },
          "metadata": {},
          "execution_count": 31
        }
      ]
    },
    {
      "cell_type": "code",
      "metadata": {
        "colab": {
          "base_uri": "https://localhost:8080/",
          "height": 542
        },
        "id": "1FFGk15MW3oQ",
        "outputId": "e3b26364-52e8-47e9-dd78-a492d91bb519"
      },
      "source": [
        "fig = px.histogram(movies, x=\"IMDB_Rating\")\n",
        "fig.show()"
      ],
      "execution_count": 32,
      "outputs": [
        {
          "output_type": "display_data",
          "data": {
            "text/html": [
              "<html>\n",
              "<head><meta charset=\"utf-8\" /></head>\n",
              "<body>\n",
              "    <div>\n",
              "            <script src=\"https://cdnjs.cloudflare.com/ajax/libs/mathjax/2.7.5/MathJax.js?config=TeX-AMS-MML_SVG\"></script><script type=\"text/javascript\">if (window.MathJax) {MathJax.Hub.Config({SVG: {font: \"STIX-Web\"}});}</script>\n",
              "                <script type=\"text/javascript\">window.PlotlyConfig = {MathJaxConfig: 'local'};</script>\n",
              "        <script src=\"https://cdn.plot.ly/plotly-latest.min.js\"></script>    \n",
              "            <div id=\"dc1ad724-f777-44bc-8076-e3506fbd12a3\" class=\"plotly-graph-div\" style=\"height:525px; width:100%;\"></div>\n",
              "            <script type=\"text/javascript\">\n",
              "                \n",
              "                    window.PLOTLYENV=window.PLOTLYENV || {};\n",
              "                    \n",
              "                if (document.getElementById(\"dc1ad724-f777-44bc-8076-e3506fbd12a3\")) {\n",
              "                    Plotly.newPlot(\n",
              "                        'dc1ad724-f777-44bc-8076-e3506fbd12a3',\n",
              "                        [{\"alignmentgroup\": \"True\", \"bingroup\": \"x\", \"hoverlabel\": {\"namelength\": 0}, \"hovertemplate\": \"IMDB_Rating=%{x}<br>count=%{y}\", \"legendgroup\": \"\", \"marker\": {\"color\": \"#636efa\"}, \"name\": \"\", \"offsetgroup\": \"\", \"orientation\": \"v\", \"showlegend\": false, \"type\": \"histogram\", \"x\": [6.1, 6.9, 6.8, null, 3.4, null, 7.7, 3.8, 5.8, 7.0, 7.0, 7.5, 8.4, null, 6.8, null, 7.0, 6.1, 2.5, 8.9, 8.1, 7.0, 5.6, 6.3, 8.4, null, null, 6.9, 7.1, null, 5.7, 3.2, 6.0, 7.7, 6.4, 7.0, 7.1, 7.4, 6.8, 5.4, 4.9, 7.6, 4.6, 6.6, 5.6, null, 5.7, 7.1, 6.7, 7.3, 5.9, null, 3.2, 7.4, 7.6, 3.7, 6.8, 8.2, 6.1, 5.8, 8.4, 8.6, 6.2, 6.4, 5.1, 5.6, 4.4, 5.6, 5.7, 8.1, 5.4, 7.3, null, 5.0, 7.7, 6.9, 8.4, 7.5, 7.1, 8.2, 6.6, 6.4, null, 3.3, 5.7, 8.2, 8.2, 5.8, 8.0, 3.4, 8.2, null, 3.2, 5.0, null, 4.8, 7.3, 6.1, 5.0, 5.6, 6.1, 7.2, 8.4, 7.8, null, 4.3, 6.8, 4.9, 6.2, 8.3, 6.2, 7.9, 7.1, 7.3, 6.7, 7.1, 7.4, 6.3, 7.1, 5.8, 7.1, 7.3, 6.2, 7.6, 5.9, 8.4, 7.2, 6.7, 4.1, 7.2, 7.6, 7.2, 6.4, 6.4, 5.8, 6.3, 8.4, 4.4, 8.0, 7.8, 6.3, 6.2, 6.7, 7.3, 7.3, 6.9, 5.4, null, 7.6, 5.3, 7.0, 5.7, 6.4, 7.0, 7.0, 7.3, 7.3, 6.8, 7.4, 8.0, 6.0, 6.3, 7.1, 7.8, 5.8, 4.6, 6.3, 5.1, 5.2, 5.8, 7.3, 8.0, 8.0, 5.0, null, 6.5, 8.1, 6.8, 6.2, 5.1, 6.5, 3.4, 6.7, 7.7, 7.9, 8.0, 5.9, 5.9, 4.5, 6.9, 5.1, 4.6, 6.8, 5.4, 6.3, 4.9, null, 8.0, 7.3, 7.6, 6.5, 5.8, 7.4, 6.5, 7.3, 7.8, 6.5, 5.4, 7.3, 7.2, 5.8, null, 7.6, 8.8, 8.1, 5.7, 3.5, 7.1, 6.1, 5.3, 6.8, 5.9, 6.6, 8.8, 8.1, 6.0, 6.5, 5.3, 4.3, 7.0, 7.2, 6.7, 5.7, 6.3, 5.6, 5.4, 5.9, 4.4, 7.4, 6.6, 6.0, 3.8, 7.8, 5.5, 5.2, 7.3, 7.0, 7.4, 6.2, 7.3, 7.1, 5.0, 6.6, 6.4, 4.7, 7.6, 8.0, 7.7, 6.6, 5.9, 4.7, 7.0, 4.5, 5.4, 7.0, 5.8, 6.1, null, 7.6, 8.2, 6.8, 7.5, 7.1, 7.9, 6.5, null, 5.8, 6.6, 8.0, 7.6, 7.9, 7.6, 5.6, 8.0, 8.1, 6.2, 6.8, 8.4, 6.8, null, 7.1, 5.3, 6.1, 5.9, 7.4, null, 7.9, 4.7, 3.5, 7.1, 6.0, 6.6, 6.8, 6.8, 5.4, 6.7, 7.9, 7.1, 5.6, 5.5, null, null, null, 4.6, 3.9, 4.1, 8.2, 8.0, 6.6, 5.5, 5.7, 6.6, 7.6, 7.8, 7.9, null, 6.4, 6.2, 5.6, 4.9, 6.2, 4.6, 5.3, 6.4, null, 6.1, 6.4, 7.8, null, 3.3, 8.6, 5.5, 7.7, 7.2, 7.4, 7.0, 6.3, 5.6, 8.3, 5.6, 7.5, 5.5, 7.5, 6.0, 7.2, 6.6, 5.6, 6.7, 6.8, 6.5, null, 6.6, 7.7, 5.5, 6.8, 3.0, 9.0, 7.6, 8.8, 9.2, 6.8, 8.4, 5.2, 6.9, 6.8, 4.9, 7.2, 4.9, 8.0, 6.1, 7.2, 8.2, 6.9, 7.4, 7.0, 6.7, 5.4, 6.4, 7.9, 8.2, 7.0, 7.5, 6.1, 6.3, null, 6.8, 6.9, 6.9, 7.6, null, 8.2, 6.5, 5.3, 6.0, 7.9, 4.1, 1.5, 6.9, 7.0, 6.4, 3.8, 7.2, 7.9, 8.3, 6.5, 4.4, 4.9, 3.8, 5.6, null, 4.4, 6.0, 5.8, 7.0, 5.3, 3.6, 5.8, 7.9, 4.6, 6.2, 4.3, 6.0, 6.5, 7.6, 8.0, 6.9, 7.4, 7.6, 6.1, 7.6, 7.0, 5.8, 6.9, 8.1, 3.4, 5.3, 6.5, 5.6, 5.4, 6.4, 4.1, 6.5, 2.2, 8.7, 5.1, 6.5, 4.1, 7.8, 3.5, 5.7, 5.6, 6.1, 8.1, 7.2, 5.7, 5.0, 6.1, null, 6.9, 5.1, 8.1, 5.3, 4.8, 4.9, 7.3, 5.8, 4.9, 3.9, 5.6, 8.0, 7.2, 5.5, 6.4, 5.3, 7.9, 7.9, 5.8, 8.3, 5.6, 2.6, 5.6, 5.5, 6.7, 6.7, 5.8, null, 7.6, 7.6, null, null, 5.7, null, 7.9, 5.8, 6.1, 6.0, 7.9, 5.9, 6.8, 7.8, 8.0, 6.0, 6.9, 7.8, 6.7, 7.8, 5.4, 6.9, 6.7, 7.5, 7.8, 5.6, 6.1, 6.7, 5.8, 6.6, 6.6, 8.4, 7.5, null, 7.8, 7.0, null, 7.5, 6.3, 8.2, 7.6, 5.7, 7.3, 4.6, 7.8, 5.9, 7.1, 4.6, 4.9, 7.1, 6.9, 5.7, 8.2, 6.9, 6.7, 6.9, 6.7, 6.6, 7.6, 7.4, 7.6, 6.5, 5.7, 6.9, 7.5, 6.5, 7.2, 7.6, 5.1, 5.8, 7.1, 8.6, 7.4, 7.4, 6.7, 6.4, 2.2, 7.7, 6.2, 7.7, 5.5, 4.9, 8.6, 6.6, 6.3, 6.3, 7.4, 6.9, 7.2, 6.9, 7.3, 5.7, 7.4, 4.5, 8.4, 8.5, 5.9, 8.1, 2.5, 6.0, 8.0, 7.5, 6.9, 6.8, 5.0, null, 7.5, 6.9, 5.9, 7.0, 5.2, 8.4, 5.8, 7.9, 6.3, 6.1, 5.8, null, 7.0, 6.1, 5.2, 7.2, null, 7.1, 6.7, 5.8, 6.6, 8.2, 5.4, 6.2, 7.4, 4.8, 8.1, 6.9, 4.7, 5.7, 7.0, 7.5, 6.7, 7.9, 5.9, 6.7, 6.8, 3.0, 7.5, 8.3, 3.5, 5.2, null, 6.3, 7.3, 7.0, 6.6, 6.1, null, 6.6, 5.7, 7.5, 5.3, 4.9, 6.2, 4.7, 4.5, null, 6.6, 6.3, 6.0, 5.2, 5.0, 7.4, 5.6, 7.4, 6.6, 7.1, 6.7, 6.1, 5.5, 6.6, 3.8, 8.9, 5.6, 6.9, 5.4, 3.3, 7.0, 5.1, 7.0, 6.3, 6.3, 6.9, 6.5, 8.4, 6.4, 7.0, 6.1, 6.3, 2.5, 7.3, 7.1, 6.9, 4.7, 6.0, 7.2, 6.0, 6.0, 7.3, 7.4, 3.8, 6.3, 6.3, 7.6, 4.8, 7.5, 5.8, 7.1, null, 7.7, 7.5, 8.2, 2.7, 5.3, 4.6, 6.0, 5.5, 5.8, 5.1, 5.8, 3.0, 4.9, 6.0, 7.8, 8.1, 5.8, 8.6, 4.7, 6.4, 5.7, 6.7, 6.6, 6.4, 6.3, 7.1, 6.3, 8.1, 6.4, 8.9, 6.5, 4.6, 6.0, 6.1, 6.3, 6.5, 7.4, 5.8, 8.1, 6.5, 6.6, 8.1, 8.4, 6.7, null, 6.8, 8.4, 7.5, 5.7, 7.6, 3.4, 4.7, 7.5, 6.5, 8.4, 8.7, 7.8, 7.4, 7.7, 4.4, null, 2.3, null, 7.5, 7.9, 7.1, 5.8, 6.3, 4.2, 4.0, 5.1, 5.5, 5.9, 5.8, 4.9, 6.5, null, 8.0, 6.1, 5.9, 6.7, 7.2, 7.9, 7.8, 6.7, 7.5, 3.9, 6.5, 7.1, 5.9, 8.5, 6.7, 6.4, 6.0, 7.3, 6.2, 8.7, 5.9, 7.9, 5.2, 6.0, 6.2, 5.3, 8.2, 8.9, 8.1, 4.7, 6.9, 8.0, 6.9, 6.7, null, null, 5.7, null, null, 6.2, 6.7, 5.6, 6.9, 7.4, 2.6, 5.3, 4.3, 7.6, 8.5, 6.4, 3.7, 4.1, 9.2, 5.9, null, 6.3, 8.7, null, 5.2, 5.3, 8.0, 6.9, 8.3, 4.6, 7.1, 7.3, 7.3, 6.0, 6.0, 6.7, 8.7, 7.0, 7.5, null, 5.9, 8.0, 3.8, 7.0, 6.9, 6.4, 7.6, 6.4, 6.1, 5.7, 7.7, 8.4, 4.8, 6.3, 6.0, 5.6, 6.9, 2.6, 5.6, 4.9, 4.8, 7.7, 6.2, 3.4, 6.7, 4.7, 5.5, 4.9, 4.9, 6.8, 6.7, 6.1, 5.9, 6.2, 6.5, 7.3, 8.2, 4.6, 4.3, 3.3, 7.8, null, 8.4, 7.0, 5.0, 7.2, 6.5, 6.8, 3.9, null, 7.0, 3.3, 8.3, 5.3, 6.1, 8.8, 7.0, 7.1, 7.1, 5.2, 6.2, 7.8, 7.8, 7.3, 5.0, 4.7, 6.9, 6.9, 7.1, 7.0, 6.1, 5.1, 5.5, 6.1, 6.6, 6.8, 5.5, 2.8, 5.6, 5.3, null, 5.8, 6.3, 4.7, 6.5, 7.0, 3.4, 5.9, 8.3, 5.6, 6.1, 4.4, 7.0, 5.8, 6.9, 7.7, 5.0, 5.3, 4.3, 5.8, 6.4, 6.2, 6.5, 8.2, 7.8, 4.7, 6.9, 7.2, 8.5, 7.4, 8.1, 7.2, 7.9, 2.9, 6.7, 5.5, 3.3, 6.6, 7.1, 7.4, 5.2, 7.4, 6.7, 7.2, null, 6.0, null, 8.6, 6.0, 8.2, 6.3, 5.7, 6.6, 7.0, 5.1, 8.0, 4.9, 7.3, 7.3, 6.7, null, 7.3, 4.3, 7.7, 5.3, 6.7, 6.1, 5.6, 6.4, 6.0, 5.1, null, 7.4, 7.6, null, 6.4, 7.8, 5.2, 4.5, 6.5, 8.2, 7.3, null, 7.5, null, 7.9, 5.6, 6.0, 4.0, 6.4, 5.9, 6.8, 4.9, 6.5, 7.7, null, 7.3, 7.6, 5.7, 7.8, 6.9, 6.4, 8.3, 6.3, 6.8, 8.1, 5.9, 8.0, 5.7, 6.6, 8.0, 6.2, 7.0, 7.3, 6.5, 4.4, 6.9, 5.8, 6.3, 7.3, 7.4, 5.4, 7.1, 6.1, 5.1, 6.9, 6.1, null, 6.7, 5.7, 4.7, 6.2, 7.5, 4.9, 6.7, 7.9, 7.9, 5.8, 7.6, 7.1, 6.0, 5.7, 7.3, null, 7.5, 5.6, 5.8, 7.8, 6.6, 7.3, 5.6, 2.9, 7.9, 5.4, 7.5, 6.8, 5.7, 6.3, 6.0, null, 6.8, 6.4, 5.8, 7.6, 5.9, 7.3, 5.4, 6.7, 7.0, 7.8, null, 5.1, 6.6, 7.4, 7.3, 4.8, 6.5, null, 6.3, 7.9, 6.4, 7.3, 8.1, 6.2, 6.8, 7.3, 4.6, 6.3, 7.6, 6.0, 5.9, 5.3, 5.9, 5.8, 4.0, 6.7, 6.1, 7.3, 6.6, 6.2, 8.5, 6.4, 5.7, 8.0, 5.5, 6.6, null, 2.3, 6.2, 6.1, 6.9, 5.9, 5.5, 5.4, 5.4, null, 8.6, 4.5, 5.7, 5.7, 8.5, 8.6, 7.9, 4.9, 7.1, 7.2, 8.1, 6.2, 6.1, 6.9, 7.4, 7.6, 5.7, 5.8, 4.3, 4.2, 6.6, 7.0, 6.7, 7.0, 5.5, 6.1, 5.7, 4.6, 6.5, 5.6, 6.6, 6.2, 6.0, 6.4, 6.8, 5.9, 6.8, 7.9, 7.2, 7.1, 4.6, 6.6, 4.2, 7.2, 6.1, 5.3, 5.2, 6.2, 5.9, 6.9, 5.5, 6.4, 7.2, 6.4, 7.8, 7.6, 7.6, 7.4, 4.9, 7.2, 5.6, null, 4.7, 6.4, 6.8, 4.8, 7.9, 6.7, 7.5, 7.5, 6.6, 6.2, 7.1, 6.8, 6.6, 8.3, 3.4, 7.6, 5.4, 5.6, 6.5, 6.8, 7.3, 6.1, 6.1, 7.6, 5.3, 4.0, 1.4, 2.2, 6.2, 5.3, 7.5, null, 7.1, 7.2, 5.6, 4.9, 6.6, 5.4, 5.5, 7.8, 2.1, 3.9, 6.3, 8.3, 2.3, 8.9, 3.3, 6.1, 6.1, 8.0, 6.1, 4.8, 4.8, 6.6, 5.6, 4.7, 5.9, 7.2, 8.0, 6.0, 4.4, 6.6, 6.9, 7.5, 6.3, null, 7.9, 6.1, 7.3, 5.3, 7.7, 7.2, 5.4, 4.4, 6.6, 6.7, 5.3, 7.1, 5.2, 8.1, 8.0, 5.8, 6.0, 8.2, 4.7, 7.7, 4.6, 4.8, 6.3, 7.7, 6.4, 6.3, 7.0, 5.6, 6.8, 7.5, 7.0, 6.2, 6.4, 5.5, 5.7, 6.5, 7.7, 6.3, 8.0, 4.3, 7.1, null, 6.6, null, 6.2, 6.1, 7.4, 3.4, 5.5, 6.3, 8.0, 4.0, null, 7.8, 5.6, 6.5, 7.1, 6.9, 3.9, 7.4, 6.7, 6.3, 3.9, 6.5, 7.9, 7.7, 7.7, 7.6, 8.2, 5.6, 4.3, 5.5, 8.2, 7.6, 7.8, 5.2, 6.2, 6.2, 6.2, 5.0, 4.3, 7.1, 7.5, 6.8, null, 6.9, 7.8, 5.3, 5.9, 3.5, null, 6.4, 6.9, 5.2, 2.8, 6.0, 7.1, 7.1, 8.1, 4.9, 5.5, 6.2, 7.4, 7.3, 8.4, 5.9, 7.8, null, 3.5, 4.7, 7.3, 4.6, 5.4, 7.3, 6.9, 6.8, null, 6.4, 4.8, null, 6.6, 5.4, 5.5, 6.7, 6.2, 7.6, 7.0, null, 4.3, 7.5, 7.5, 5.7, 3.4, 6.9, 3.2, 5.9, 3.8, 6.2, null, 6.0, 6.0, 5.2, 4.6, 6.1, 6.2, 6.5, 6.4, 7.1, 6.8, 4.7, 5.5, 7.5, 7.2, 5.8, 7.3, 5.6, 5.2, 6.1, 4.9, 5.3, 5.1, 8.1, 6.5, 6.2, 7.3, 6.9, 7.8, 2.1, 6.5, 7.0, 6.7, 8.0, 5.4, 6.4, 6.4, null, 3.2, 6.5, 5.5, 7.3, null, 5.0, 4.0, 6.2, 2.9, 7.7, 4.6, 6.7, 6.2, 6.7, 6.9, 7.6, 7.8, 6.5, 7.1, 7.1, 6.5, 6.3, 4.1, 5.1, 7.8, 4.3, 5.0, 6.2, 6.6, 6.8, 6.5, 7.3, 7.0, 6.8, 4.2, 7.8, 4.3, 4.8, 6.9, 5.5, 6.7, 7.1, 6.1, 6.7, 5.7, 6.0, 5.4, null, 4.2, 5.8, 7.0, 6.1, 1.7000000000000002, 6.6, 7.6, 6.7, 6.2, 6.4, 7.4, 6.3, 6.5, 5.0, 4.7, 5.2, 6.6, 8.8, 5.9, 6.1, 7.1, 5.3, 6.7, 4.8, 4.9, 7.2, 7.3, null, 2.4, 5.5, 5.6, 4.9, 3.4, null, 5.5, 7.8, null, 8.3, 5.6, 5.7, 2.6, 6.5, 7.4, 6.6, 4.5, 7.6, 6.0, 7.4, 5.6, 5.1, null, 7.8, 6.0, 7.0, 6.6, 5.1, 7.2, 5.5, 6.0, 5.7, null, 5.1, 7.0, 4.4, 7.7, 4.3, 5.6, 5.8, 4.6, 5.9, 5.9, 5.8, 6.8, null, 6.1, 7.5, 4.6, 4.8, 7.1, 1.7000000000000002, 8.3, 5.2, 8.0, 6.6, 5.8, 6.5, 3.9, 5.6, 5.3, 5.3, 6.0, 5.4, 6.2, 4.9, 2.5, 7.3, 5.3, 5.9, 7.7, 5.2, null, 4.8, 6.1, 6.6, 6.0, 8.5, 4.8, 6.6, 7.1, null, 3.4, 6.0, 5.2, 5.5, 5.9, 6.7, 4.2, 5.3, 5.2, 5.3, 6.6, 6.4, 6.2, 5.2, null, 7.2, 7.4, 5.9, 3.0, 6.0, 7.0, 6.8, 5.1, 6.3, 7.5, 3.6, 5.7, 4.7, 7.2, 3.3, null, 3.6, 5.7, 6.1, null, 6.4, 3.8, 5.3, 5.0, 4.4, 7.1, 7.7, 6.2, 6.7, 6.0, 7.5, 6.7, 4.8, 6.6, 6.3, 5.8, 7.4, 4.9, 6.8, 7.6, 6.3, 6.2, 5.4, 6.7, 6.5, 7.8, 5.4, 7.4, 7.5, 6.9, 5.4, 6.7, 7.4, 7.2, 6.1, 6.5, 4.6, 2.2, 5.0, 7.2, 6.4, 4.7, 8.5, 6.6, 7.9, 6.5, 7.0, 6.3, null, 6.1, 5.9, 6.0, 7.3, 5.2, 6.8, 5.0, 7.1, 6.8, 6.4, 4.1, 7.2, 6.3, 5.6, 6.5, 4.5, 6.3, null, null, 7.5, 2.5, 4.8, 6.0, 7.3, 6.4, 5.9, 4.9, 3.1, 7.6, 6.4, 7.4, 6.3, 5.9, 5.7, 5.6, 5.1, 6.0, 7.6, 7.6, 7.3, 6.8, 6.9, 8.8, 6.4, 7.2, 4.0, 4.4, 7.5, 6.9, 1.6, 6.8, 7.2, 6.7, 7.2, 5.7, 6.0, 7.8, 4.6, 7.0, 6.5, 4.7, 7.1, 6.6, 6.1, 8.2, null, null, null, 7.4, null, 4.1, 6.2, 7.3, 6.7, 7.5, 5.3, 6.5, 7.3, 8.0, 4.9, 4.4, 5.6, 5.3, 7.3, 7.2, 7.2, 7.4, 4.8, 5.6, 5.1, 7.9, 6.1, 6.0, 7.2, 6.3, 6.8, null, 2.6, 6.3, 6.2, 7.7, 7.4, 4.8, 5.8, 7.8, null, 3.3, 5.0, 6.0, 6.1, 7.5, 6.0, null, 5.7, 6.2, 5.0, 6.8, 6.6, 5.3, 6.4, 5.6, 5.2, 4.7, 6.7, 2.4, 5.5, 5.8, null, 8.3, 2.0, 4.7, 5.6, null, 8.4, 6.0, 8.1, 7.7, 6.1, 5.4, null, 6.9, null, 4.7, 4.8, null, 6.4, 6.2, 8.1, 7.3, null, 6.3, 7.1, 7.2, 6.8, 6.2, 6.8, 6.1, 7.6, 7.9, 7.0, 7.1, 5.3, 5.9, 7.0, 5.7, 7.9, 4.0, 7.9, 5.8, 7.4, 4.6, 5.7, 5.8, null, 5.7, 4.8, 5.5, 6.8, 5.5, 5.5, 7.7, 4.5, 7.2, 6.3, 6.0, 6.0, null, 6.5, 3.9, 5.2, 7.5, 7.2, 7.0, 4.9, 7.4, 5.5, 6.9, 5.5, 6.5, 6.6, 5.6, 6.7, null, 5.1, 7.6, 6.3, 6.8, 3.2, 7.3, 6.8, 5.7, 6.7, null, 4.6, null, 4.8, 4.6, 6.1, 7.6, 4.3, 6.1, 3.7, 6.7, 7.6, 5.7, 6.8, 6.7, 7.2, 4.7, 5.0, 6.5, 6.7, 4.1, null, 3.9, 4.7, 3.6, 6.4, null, 5.4, 6.0, 7.9, 4.3, 6.9, 7.1, 6.9, 5.5, null, 4.7, 4.6, 2.6, 5.3, 5.3, 7.2, 5.4, 7.3, 5.7, 6.5, 7.6, 7.5, 5.4, 5.4, 5.4, 5.5, null, 7.2, 7.7, 7.6, 7.4, 7.3, 7.2, 6.7, 6.8, 4.1, 5.6, 6.3, 6.3, 7.5, 5.1, 6.2, 6.6, 5.4, 8.0, 6.6, 8.2, 6.8, 5.7, 7.1, 6.5, 5.8, null, 7.8, 7.5, 6.2, 6.3, 5.2, 5.2, 6.9, 7.1, 7.4, 6.0, 7.5, 5.2, 7.3, 6.7, 5.8, 7.0, 6.0, 3.3, 5.8, 7.2, 4.1, 5.4, 5.9, 7.7, 6.1, 7.1, 6.7, 5.4, 6.0, 9.1, 5.2, 5.5, 7.2, 6.6, 5.3, 7.1, 6.2, 5.2, 6.1, 6.1, 6.1, 7.7, 8.0, 6.3, 3.9, 6.2, 6.5, 6.0, 6.3, null, 7.3, 7.9, 7.9, 7.4, 6.9, 4.9, 5.3, 6.9, 5.5, 4.6, 7.6, 6.0, 7.1, 6.1, 7.2, 4.8, 6.3, 6.0, 8.0, 6.8, 5.3, 7.2, 6.3, 5.9, 5.4, 6.7, 5.7, 5.8, 5.3, 7.7, 3.8, 6.2, 5.1, 6.4, 5.7, 6.8, 5.0, null, 5.2, 5.3, 4.3, 6.6, 6.3, 6.6, 5.1, 5.4, 7.2, 6.8, 6.7, 7.1, 7.2, 5.9, 7.1, 7.9, 7.9, 6.3, 5.1, 4.1, 5.8, 6.5, 6.2, null, 4.1, 8.1, 6.2, 6.3, null, 6.1, 6.4, 6.9, 8.0, 8.2, null, 7.1, 7.2, 6.8, 6.4, 7.6, 7.5, 6.6, 7.1, 4.3, 6.0, 6.4, 4.1, 7.3, 4.7, 3.5, null, 6.6, 7.8, 7.0, 5.7, 8.4, 7.2, 6.5, 6.2, 5.8, 6.8, 6.3, 4.7, 5.3, 6.5, 7.5, 7.3, 5.7, 5.2, 7.4, 2.8, 7.8, 5.9, null, 5.0, 5.0, 7.1, 6.1, null, 8.1, null, 6.3, 7.4, 6.7, 7.7, 5.8, 6.4, 7.2, 7.2, 7.3, 5.3, 4.4, 7.1, 6.9, 5.4, 6.5, 4.7, 6.3, 6.1, 7.8, 6.7, 6.8, 8.0, 6.7, 6.2, 7.7, 6.1, 5.0, null, 6.6, 4.8, 4.8, null, 6.7, 6.7, 5.1, 6.8, 8.7, 8.8, 8.8, 7.7, null, 5.7, 6.7, 5.4, 7.8, 5.7, 3.9, 5.3, 7.9, 7.0, 4.5, 7.0, 6.0, 5.1, 6.0, 4.4, 6.4, 5.7, 7.1, 5.9, 4.3, 7.6, 6.8, 7.9, 5.3, 6.6, 4.7, 6.2, 6.9, 5.5, 5.6, 8.5, 5.6, 7.6, null, 6.2, 6.1, 6.3, 6.8, 6.6, 7.4, 6.4, 5.0, 5.3, 5.7, 7.7, 4.2, 7.4, 6.3, 2.4, 6.4, 4.5, 2.0, 6.9, 8.7, 5.1, 5.8, 7.8, 7.4, 6.6, 5.8, 4.5, 3.1, 5.7, 5.6, 3.9, null, 6.7, 5.7, 7.5, 7.5, 6.1, 6.7, 7.3, 4.7, 4.8, 8.2, 3.1, 5.5, 7.0, 6.3, 3.4, 6.9, 7.1, 7.0, 6.8, 8.7, 5.8, 4.9, 7.8, 5.6, 6.9, 7.6, null, 8.0, 6.4, 6.6, 7.4, null, 6.8, 4.7, 6.9, 6.9, 6.1, 7.4, 5.4, 6.8, 4.9, 4.8, 5.9, 7.6, 5.1, 7.0, 6.7, 6.2, 5.7, 7.4, 6.5, 7.2, 5.1, 6.7, 6.1, 7.2, 7.2, 5.6, 6.8, 8.3, 7.2, 7.4, 7.4, null, 5.7, 8.0, 5.2, 6.4, 6.5, 7.3, 7.1, 6.4, 7.0, 5.6, 6.1, 7.7, null, 5.2, 7.1, 3.2, 6.6, 5.9, 6.1, 5.3, 7.1, 6.1, 2.4, 5.5, 7.8, 7.2, 6.7, null, 7.1, 6.5, 7.1, 7.2, 7.9, 6.8, 6.2, 5.1, 7.8, 6.1, 5.9, 5.5, 6.4, 4.4, 6.6, 7.1, 6.0, 6.8, 7.2, 5.9, 6.2, null, 6.9, 6.5, 7.4, 4.5, 6.3, 7.4, 7.0, null, 8.0, 5.7, 7.3, 6.9, 6.9, 6.6, 6.2, 5.7, null, 8.3, 8.1, 7.2, 5.3, 5.2, 5.4, 5.7, 4.4, 6.3, 6.8, 6.9, 5.0, 7.3, 6.0, 6.3, 6.6, 7.3, 4.9, 5.9, 6.8, 6.3, 8.3, 5.5, 8.0, 6.3, 8.0, 5.5, 5.8, null, 6.9, 7.2, 7.5, 6.9, 6.4, 6.5, 5.9, null, 6.2, 6.4, 5.9, 4.3, 5.8, 7.9, 8.2, 6.9, 6.5, null, 5.9, 6.1, 7.6, 6.0, 6.9, 7.6, 7.9, 7.0, 5.4, 6.6, 8.0, 7.1, 7.0, 6.9, 4.7, 3.4, 6.0, 6.5, 6.0, 5.9, 7.5, 4.9, 6.0, 5.6, 7.4, 6.7, 7.0, 6.0, 5.6, 7.0, 5.8, 6.4, 7.1, 4.9, 4.9, 7.0, 5.3, 8.4, 7.1, 6.3, 5.8, 6.1, 5.4, 5.3, 5.9, 5.8, 7.1, 5.5, 6.2, 6.5, 2.2, 6.8, 7.2, 7.2, 8.5, 5.1, 8.0, 7.3, 7.0, 6.4, 7.0, 5.1, 5.1, 5.8, 6.6, 5.3, 5.3, 4.4, 6.9, 6.1, 7.1, 5.5, 7.4, 6.1, 3.7, 4.8, 6.7, null, 3.5, 6.5, 6.9, 6.4, null, 3.5, 6.7, 5.8, 7.8, 4.5, 5.6, 6.4, null, 5.5, 6.8, 7.5, 5.7, 6.7, 7.5, 6.7, 5.5, null, 6.9, 6.2, 7.5, 5.6, 5.1, 7.8, 6.9, 5.4, null, 6.8, null, 5.1, 6.9, 6.9, 5.4, null, 8.4, null, 5.5, 6.0, 4.5, 6.9, 7.1, 5.9, 5.0, 7.4, 6.1, 6.0, 5.9, 7.6, 6.8, 4.7, 7.2, 3.5, 6.1, 7.6, 5.0, 6.5, 7.1, 7.6, 6.9, 6.9, 7.3, 4.8, null, 5.0, 8.1, null, 2.7, 2.8, 6.9, 6.4, 7.6, 5.2, 5.2, 7.4, 6.4, 7.7, 7.3, 7.7, 5.6, 4.7, 6.2, 6.1, 6.5, 7.7, 5.4, 7.8, 7.0, 7.0, 6.9, 6.2, 5.9, 5.8, 6.2, null, 6.4, 6.6, 7.6, 6.6, 5.9, 5.5, 6.9, 5.4, 6.2, 6.4, 5.1, 6.8, 4.1, 7.1, 7.0, null, 6.2, 5.8, 7.3, 6.9, 6.3, 5.8, 5.5, 5.0, 5.9, 7.2, 6.8, 5.3, 8.5, 6.4, 7.5, 2.3, 6.7, 7.5, 6.0, 6.4, 6.0, 6.2, 6.6, 7.5, 6.0, 6.4, 6.0, 6.8, 7.8, null, 6.9, 5.2, 8.3, 5.9, 5.9, 3.5, 7.4, 7.1, 3.9, 7.0, 5.6, 7.7, 6.8, 6.3, 6.0, 5.7, 6.2, 4.6, 5.7, 3.6, 7.4, 7.2, 4.7, 5.4, 5.0, 4.8, 4.7, 7.3, 7.2, 6.0, 6.8, 6.8, 2.9, 5.9, 5.3, 5.3, null, 7.9, 7.2, 6.3, 6.1, 5.5, 2.6, 5.0, 6.8, 6.7, 5.4, 6.3, 6.8, 5.6, 6.3, 6.8, 5.9, 4.1, 6.0, 8.0, 6.7, 5.4, 6.4, 6.7, 6.0, 6.5, 8.0, 7.4, 8.0, 7.5, 6.7, 7.2, 8.0, 7.5, 6.1, 6.7, 5.9, 7.4, 4.7, 5.3, 8.2, null, 6.9, 6.7, 4.9, 7.6, 6.6, 8.3, 5.6, 8.2, 7.6, 6.5, 5.3, 6.6, 4.9, null, null, 7.5, 7.8, 7.0, 6.4, 5.6, 5.9, 4.6, 5.0, 6.6, 8.3, 6.4, 5.9, 4.7, 6.6, 5.8, 6.2, 4.8, 4.6, 7.2, 5.8, 6.0, 6.9, 7.8, 4.1, 5.0, 6.7, 6.2, 6.6, 4.9, 6.7, 7.3, 8.2, 4.4, 5.1, 6.2, 6.7, 6.7, 6.9, 5.7, 7.5, 6.4, 6.4, 3.7, null, 5.6, 6.7, 4.8, 7.8, null, 4.5, 6.3, 7.8, 6.3, 6.8, 3.7, 3.4, 5.6, 2.9, 7.7, 6.4, 7.4, 8.1, 4.9, 6.6, 6.8, null, 6.6, 6.9, null, 4.1, 5.7, 6.8, 7.6, 6.6, 7.5, null, 6.0, 3.6, 6.6, null, null, 7.1, 7.8, 4.5, 6.5, 2.7, 5.1, 5.1, 6.2, 4.3, 7.8, null, 5.9, 6.0, 7.1, 7.0, 5.8, 5.6, 4.8, null, 6.0, 6.4, 6.5, 6.2, 5.6, 5.3, 7.3, 6.2, null, 6.1, 8.0, 7.6, 6.4, 6.4, null, 6.0, 6.8, 5.9, null, 5.9, 5.6, 6.3, 6.8, 2.9, 7.0, 6.3, 6.5, 5.7, 8.5, 5.9, 7.8, 7.6, 6.5, 3.4, 6.8, null, 4.6, 6.0, 6.2, 6.1, 5.4, 4.7, 4.7, 6.8, 7.1, 7.7, null, 7.1, 5.8, 6.1, null, 4.8, 6.5, 6.4, 7.2, 7.1, 6.8, 4.0, 6.1, 4.0, 4.8, 5.4, 5.3, 6.7, 7.5, 6.1, 7.3, 6.7, 6.4, 6.1, 5.5, 5.5, 7.4, 6.6, null, 7.3, 6.0, null, 7.3, 7.6, 7.4, 4.5, 6.8, 6.7, 6.0, 4.6, 5.3, 3.3, 7.5, 7.3, 5.9, 5.4, 5.2, 5.6, 7.1, 5.0, 5.8, 6.7, 6.3, 5.0, 6.0, 5.3, null, 7.0, 6.4, 7.4, 7.8, 5.5, 5.6, 4.9, 7.4, 6.6, 6.4, 7.6, 5.2, 5.4, 6.3, 7.1, 3.5, 7.8, 8.7, 8.0, 8.9, 6.5, 6.6, 7.8, 2.7, 7.6, 7.1, 6.0, 5.5, 4.6, 8.2, 7.1, 7.6, 6.6, 6.6, 7.5, 7.2, 7.0, 5.5, 5.1, 8.0, 5.8, 6.6, 6.9, null, 7.4, null, 7.1, 4.5, 6.5, 6.7, 4.5, 6.9, 3.6, 5.6, 5.4, 6.1, 4.8, null, null, 6.1, 4.4, 5.4, 5.8, 6.1, 5.0, 6.9, 7.8, 8.3, 6.4, 5.7, 3.3, 6.6, 6.4, 4.0, 3.7, 7.3, 4.5, 5.6, 6.7, 3.7, 5.8, 6.6, 7.1, 6.6, 3.4, 6.6, 7.1, 6.1, 8.4, null, 7.0, 5.2, 3.7, 6.7, 7.3, 5.6, 4.3, 6.1, 6.4, 7.1, 7.4, 4.6, null, 6.2, 8.2, null, 5.5, 6.6, 7.2, 4.5, 6.8, null, 5.6, 6.8, 6.9, 5.2, 4.4, 5.7, 3.3, 6.0, 5.7, null, 7.1, 7.0, 6.8, null, null, 8.5, 6.2, null, null, 7.2, 7.8, null, 7.2, 5.5, 8.2, 7.5, null, 5.0, 6.3, 4.8, 6.6, 6.8, null, null, 5.5, 6.4, 7.0, 6.9, 7.9, 6.7, 5.7, 7.7, 6.7, 6.4, 4.2, 7.1, 4.5, 4.7, 6.6, 6.5, 6.9, 7.2, 6.6, 6.3, 5.8, 6.1, 3.7, 6.9, 5.9, 6.5, 7.9, 7.1, 6.2, 4.3, 5.9, null, 6.4, 4.9, 7.4, 6.7, 7.9, 3.4, 6.1, 5.7, 5.0, 6.4, 5.4, 7.4, 8.2, 6.0, 6.2, 3.7, 6.9, 6.3, 5.3, 5.7, 5.8, 6.3, 6.5, 5.9, null, 6.4, 7.4, 7.8, 6.9, 6.2, 7.1, 4.1, 6.3, null, 7.7, 5.0, null, 7.0, 6.7, 7.6, 6.2, 6.7, null, null, 4.5, 7.2, null, 6.8, 6.4, 7.8, 7.0, null, 3.4, 5.7, 6.7], \"xaxis\": \"x\", \"yaxis\": \"y\"}],\n",
              "                        {\"barmode\": \"relative\", \"legend\": {\"tracegroupgap\": 0}, \"margin\": {\"t\": 60}, \"template\": {\"data\": {\"bar\": [{\"error_x\": {\"color\": \"#2a3f5f\"}, \"error_y\": {\"color\": \"#2a3f5f\"}, \"marker\": {\"line\": {\"color\": \"#E5ECF6\", \"width\": 0.5}}, \"type\": \"bar\"}], \"barpolar\": [{\"marker\": {\"line\": {\"color\": \"#E5ECF6\", \"width\": 0.5}}, \"type\": \"barpolar\"}], \"carpet\": [{\"aaxis\": {\"endlinecolor\": \"#2a3f5f\", \"gridcolor\": \"white\", \"linecolor\": \"white\", \"minorgridcolor\": \"white\", \"startlinecolor\": \"#2a3f5f\"}, \"baxis\": {\"endlinecolor\": \"#2a3f5f\", \"gridcolor\": \"white\", \"linecolor\": \"white\", \"minorgridcolor\": \"white\", \"startlinecolor\": \"#2a3f5f\"}, \"type\": \"carpet\"}], \"choropleth\": [{\"colorbar\": {\"outlinewidth\": 0, \"ticks\": \"\"}, \"type\": \"choropleth\"}], \"contour\": [{\"colorbar\": {\"outlinewidth\": 0, \"ticks\": \"\"}, \"colorscale\": [[0.0, \"#0d0887\"], [0.1111111111111111, \"#46039f\"], [0.2222222222222222, \"#7201a8\"], [0.3333333333333333, \"#9c179e\"], [0.4444444444444444, \"#bd3786\"], [0.5555555555555556, \"#d8576b\"], [0.6666666666666666, \"#ed7953\"], [0.7777777777777778, \"#fb9f3a\"], [0.8888888888888888, \"#fdca26\"], [1.0, \"#f0f921\"]], \"type\": \"contour\"}], \"contourcarpet\": [{\"colorbar\": {\"outlinewidth\": 0, \"ticks\": \"\"}, \"type\": \"contourcarpet\"}], \"heatmap\": [{\"colorbar\": {\"outlinewidth\": 0, \"ticks\": \"\"}, \"colorscale\": [[0.0, \"#0d0887\"], [0.1111111111111111, \"#46039f\"], [0.2222222222222222, \"#7201a8\"], [0.3333333333333333, \"#9c179e\"], [0.4444444444444444, \"#bd3786\"], [0.5555555555555556, \"#d8576b\"], [0.6666666666666666, \"#ed7953\"], [0.7777777777777778, \"#fb9f3a\"], [0.8888888888888888, \"#fdca26\"], [1.0, \"#f0f921\"]], \"type\": \"heatmap\"}], \"heatmapgl\": [{\"colorbar\": {\"outlinewidth\": 0, \"ticks\": \"\"}, \"colorscale\": [[0.0, \"#0d0887\"], [0.1111111111111111, \"#46039f\"], [0.2222222222222222, \"#7201a8\"], [0.3333333333333333, \"#9c179e\"], [0.4444444444444444, \"#bd3786\"], [0.5555555555555556, \"#d8576b\"], [0.6666666666666666, \"#ed7953\"], [0.7777777777777778, \"#fb9f3a\"], [0.8888888888888888, \"#fdca26\"], [1.0, \"#f0f921\"]], \"type\": \"heatmapgl\"}], \"histogram\": [{\"marker\": {\"colorbar\": {\"outlinewidth\": 0, \"ticks\": \"\"}}, \"type\": \"histogram\"}], \"histogram2d\": [{\"colorbar\": {\"outlinewidth\": 0, \"ticks\": \"\"}, \"colorscale\": [[0.0, \"#0d0887\"], [0.1111111111111111, \"#46039f\"], [0.2222222222222222, \"#7201a8\"], [0.3333333333333333, \"#9c179e\"], [0.4444444444444444, \"#bd3786\"], [0.5555555555555556, \"#d8576b\"], [0.6666666666666666, \"#ed7953\"], [0.7777777777777778, \"#fb9f3a\"], [0.8888888888888888, \"#fdca26\"], [1.0, \"#f0f921\"]], \"type\": \"histogram2d\"}], \"histogram2dcontour\": [{\"colorbar\": {\"outlinewidth\": 0, \"ticks\": \"\"}, \"colorscale\": [[0.0, \"#0d0887\"], [0.1111111111111111, \"#46039f\"], [0.2222222222222222, \"#7201a8\"], [0.3333333333333333, \"#9c179e\"], [0.4444444444444444, \"#bd3786\"], [0.5555555555555556, \"#d8576b\"], [0.6666666666666666, \"#ed7953\"], [0.7777777777777778, \"#fb9f3a\"], [0.8888888888888888, \"#fdca26\"], [1.0, \"#f0f921\"]], \"type\": \"histogram2dcontour\"}], \"mesh3d\": [{\"colorbar\": {\"outlinewidth\": 0, \"ticks\": \"\"}, \"type\": \"mesh3d\"}], \"parcoords\": [{\"line\": {\"colorbar\": {\"outlinewidth\": 0, \"ticks\": \"\"}}, \"type\": \"parcoords\"}], \"pie\": [{\"automargin\": true, \"type\": \"pie\"}], \"scatter\": [{\"marker\": {\"colorbar\": {\"outlinewidth\": 0, \"ticks\": \"\"}}, \"type\": \"scatter\"}], \"scatter3d\": [{\"line\": {\"colorbar\": {\"outlinewidth\": 0, \"ticks\": \"\"}}, \"marker\": {\"colorbar\": {\"outlinewidth\": 0, \"ticks\": \"\"}}, \"type\": \"scatter3d\"}], \"scattercarpet\": [{\"marker\": {\"colorbar\": {\"outlinewidth\": 0, \"ticks\": \"\"}}, \"type\": \"scattercarpet\"}], \"scattergeo\": [{\"marker\": {\"colorbar\": {\"outlinewidth\": 0, \"ticks\": \"\"}}, \"type\": \"scattergeo\"}], \"scattergl\": [{\"marker\": {\"colorbar\": {\"outlinewidth\": 0, \"ticks\": \"\"}}, \"type\": \"scattergl\"}], \"scattermapbox\": [{\"marker\": {\"colorbar\": {\"outlinewidth\": 0, \"ticks\": \"\"}}, \"type\": \"scattermapbox\"}], \"scatterpolar\": [{\"marker\": {\"colorbar\": {\"outlinewidth\": 0, \"ticks\": \"\"}}, \"type\": \"scatterpolar\"}], \"scatterpolargl\": [{\"marker\": {\"colorbar\": {\"outlinewidth\": 0, \"ticks\": \"\"}}, \"type\": \"scatterpolargl\"}], \"scatterternary\": [{\"marker\": {\"colorbar\": {\"outlinewidth\": 0, \"ticks\": \"\"}}, \"type\": \"scatterternary\"}], \"surface\": [{\"colorbar\": {\"outlinewidth\": 0, \"ticks\": \"\"}, \"colorscale\": [[0.0, \"#0d0887\"], [0.1111111111111111, \"#46039f\"], [0.2222222222222222, \"#7201a8\"], [0.3333333333333333, \"#9c179e\"], [0.4444444444444444, \"#bd3786\"], [0.5555555555555556, \"#d8576b\"], [0.6666666666666666, \"#ed7953\"], [0.7777777777777778, \"#fb9f3a\"], [0.8888888888888888, \"#fdca26\"], [1.0, \"#f0f921\"]], \"type\": \"surface\"}], \"table\": [{\"cells\": {\"fill\": {\"color\": \"#EBF0F8\"}, \"line\": {\"color\": \"white\"}}, \"header\": {\"fill\": {\"color\": \"#C8D4E3\"}, \"line\": {\"color\": \"white\"}}, \"type\": \"table\"}]}, \"layout\": {\"annotationdefaults\": {\"arrowcolor\": \"#2a3f5f\", \"arrowhead\": 0, \"arrowwidth\": 1}, \"coloraxis\": {\"colorbar\": {\"outlinewidth\": 0, \"ticks\": \"\"}}, \"colorscale\": {\"diverging\": [[0, \"#8e0152\"], [0.1, \"#c51b7d\"], [0.2, \"#de77ae\"], [0.3, \"#f1b6da\"], [0.4, \"#fde0ef\"], [0.5, \"#f7f7f7\"], [0.6, \"#e6f5d0\"], [0.7, \"#b8e186\"], [0.8, \"#7fbc41\"], [0.9, \"#4d9221\"], [1, \"#276419\"]], \"sequential\": [[0.0, \"#0d0887\"], [0.1111111111111111, \"#46039f\"], [0.2222222222222222, \"#7201a8\"], [0.3333333333333333, \"#9c179e\"], [0.4444444444444444, \"#bd3786\"], [0.5555555555555556, \"#d8576b\"], [0.6666666666666666, \"#ed7953\"], [0.7777777777777778, \"#fb9f3a\"], [0.8888888888888888, \"#fdca26\"], [1.0, \"#f0f921\"]], \"sequentialminus\": [[0.0, \"#0d0887\"], [0.1111111111111111, \"#46039f\"], [0.2222222222222222, \"#7201a8\"], [0.3333333333333333, \"#9c179e\"], [0.4444444444444444, \"#bd3786\"], [0.5555555555555556, \"#d8576b\"], [0.6666666666666666, \"#ed7953\"], [0.7777777777777778, \"#fb9f3a\"], [0.8888888888888888, \"#fdca26\"], [1.0, \"#f0f921\"]]}, \"colorway\": [\"#636efa\", \"#EF553B\", \"#00cc96\", \"#ab63fa\", \"#FFA15A\", \"#19d3f3\", \"#FF6692\", \"#B6E880\", \"#FF97FF\", \"#FECB52\"], \"font\": {\"color\": \"#2a3f5f\"}, \"geo\": {\"bgcolor\": \"white\", \"lakecolor\": \"white\", \"landcolor\": \"#E5ECF6\", \"showlakes\": true, \"showland\": true, \"subunitcolor\": \"white\"}, \"hoverlabel\": {\"align\": \"left\"}, \"hovermode\": \"closest\", \"mapbox\": {\"style\": \"light\"}, \"paper_bgcolor\": \"white\", \"plot_bgcolor\": \"#E5ECF6\", \"polar\": {\"angularaxis\": {\"gridcolor\": \"white\", \"linecolor\": \"white\", \"ticks\": \"\"}, \"bgcolor\": \"#E5ECF6\", \"radialaxis\": {\"gridcolor\": \"white\", \"linecolor\": \"white\", \"ticks\": \"\"}}, \"scene\": {\"xaxis\": {\"backgroundcolor\": \"#E5ECF6\", \"gridcolor\": \"white\", \"gridwidth\": 2, \"linecolor\": \"white\", \"showbackground\": true, \"ticks\": \"\", \"zerolinecolor\": \"white\"}, \"yaxis\": {\"backgroundcolor\": \"#E5ECF6\", \"gridcolor\": \"white\", \"gridwidth\": 2, \"linecolor\": \"white\", \"showbackground\": true, \"ticks\": \"\", \"zerolinecolor\": \"white\"}, \"zaxis\": {\"backgroundcolor\": \"#E5ECF6\", \"gridcolor\": \"white\", \"gridwidth\": 2, \"linecolor\": \"white\", \"showbackground\": true, \"ticks\": \"\", \"zerolinecolor\": \"white\"}}, \"shapedefaults\": {\"line\": {\"color\": \"#2a3f5f\"}}, \"ternary\": {\"aaxis\": {\"gridcolor\": \"white\", \"linecolor\": \"white\", \"ticks\": \"\"}, \"baxis\": {\"gridcolor\": \"white\", \"linecolor\": \"white\", \"ticks\": \"\"}, \"bgcolor\": \"#E5ECF6\", \"caxis\": {\"gridcolor\": \"white\", \"linecolor\": \"white\", \"ticks\": \"\"}}, \"title\": {\"x\": 0.05}, \"xaxis\": {\"automargin\": true, \"gridcolor\": \"white\", \"linecolor\": \"white\", \"ticks\": \"\", \"title\": {\"standoff\": 15}, \"zerolinecolor\": \"white\", \"zerolinewidth\": 2}, \"yaxis\": {\"automargin\": true, \"gridcolor\": \"white\", \"linecolor\": \"white\", \"ticks\": \"\", \"title\": {\"standoff\": 15}, \"zerolinecolor\": \"white\", \"zerolinewidth\": 2}}}, \"xaxis\": {\"anchor\": \"y\", \"domain\": [0.0, 1.0], \"title\": {\"text\": \"IMDB_Rating\"}}, \"yaxis\": {\"anchor\": \"x\", \"domain\": [0.0, 1.0], \"title\": {\"text\": \"count\"}}},\n",
              "                        {\"responsive\": true}\n",
              "                    ).then(function(){\n",
              "                            \n",
              "var gd = document.getElementById('dc1ad724-f777-44bc-8076-e3506fbd12a3');\n",
              "var x = new MutationObserver(function (mutations, observer) {{\n",
              "        var display = window.getComputedStyle(gd).display;\n",
              "        if (!display || display === 'none') {{\n",
              "            console.log([gd, 'removed!']);\n",
              "            Plotly.purge(gd);\n",
              "            observer.disconnect();\n",
              "        }}\n",
              "}});\n",
              "\n",
              "// Listen for the removal of the full notebook cells\n",
              "var notebookContainer = gd.closest('#notebook-container');\n",
              "if (notebookContainer) {{\n",
              "    x.observe(notebookContainer, {childList: true});\n",
              "}}\n",
              "\n",
              "// Listen for the clearing of the current output cell\n",
              "var outputEl = gd.closest('.output');\n",
              "if (outputEl) {{\n",
              "    x.observe(outputEl, {childList: true});\n",
              "}}\n",
              "\n",
              "                        })\n",
              "                };\n",
              "                \n",
              "            </script>\n",
              "        </div>\n",
              "</body>\n",
              "</html>"
            ]
          },
          "metadata": {}
        }
      ]
    },
    {
      "cell_type": "markdown",
      "metadata": {
        "id": "N44TdqeJXRz3"
      },
      "source": [
        "## Gráfico de caja"
      ]
    },
    {
      "cell_type": "code",
      "metadata": {
        "colab": {
          "base_uri": "https://localhost:8080/",
          "height": 542
        },
        "id": "Hf_70AQCXUN2",
        "outputId": "9e4f8d3b-9cdc-484d-80e8-8a8389a0d88b"
      },
      "source": [
        "fig = px.box(movies, x=\"Major_Genre\", y=\"IMDB_Rating\")\n",
        "fig.show()"
      ],
      "execution_count": 34,
      "outputs": [
        {
          "output_type": "display_data",
          "data": {
            "text/html": [
              "<html>\n",
              "<head><meta charset=\"utf-8\" /></head>\n",
              "<body>\n",
              "    <div>\n",
              "            <script src=\"https://cdnjs.cloudflare.com/ajax/libs/mathjax/2.7.5/MathJax.js?config=TeX-AMS-MML_SVG\"></script><script type=\"text/javascript\">if (window.MathJax) {MathJax.Hub.Config({SVG: {font: \"STIX-Web\"}});}</script>\n",
              "                <script type=\"text/javascript\">window.PlotlyConfig = {MathJaxConfig: 'local'};</script>\n",
              "        <script src=\"https://cdn.plot.ly/plotly-latest.min.js\"></script>    \n",
              "            <div id=\"dc9f5f36-e68e-48dc-93ce-2a6deb6a54fa\" class=\"plotly-graph-div\" style=\"height:525px; width:100%;\"></div>\n",
              "            <script type=\"text/javascript\">\n",
              "                \n",
              "                    window.PLOTLYENV=window.PLOTLYENV || {};\n",
              "                    \n",
              "                if (document.getElementById(\"dc9f5f36-e68e-48dc-93ce-2a6deb6a54fa\")) {\n",
              "                    Plotly.newPlot(\n",
              "                        'dc9f5f36-e68e-48dc-93ce-2a6deb6a54fa',\n",
              "                        [{\"alignmentgroup\": \"True\", \"hoverlabel\": {\"namelength\": 0}, \"hovertemplate\": \"Major_Genre=%{x}<br>IMDB_Rating=%{y}\", \"legendgroup\": \"\", \"marker\": {\"color\": \"#636efa\"}, \"name\": \"\", \"notched\": false, \"offsetgroup\": \"\", \"orientation\": \"v\", \"showlegend\": false, \"type\": \"box\", \"x\": [null, \"Drama\", \"Comedy\", \"Comedy\", \"Drama\", null, null, \"Comedy\", null, null, null, \"Musical\", null, null, null, null, null, null, null, \"Drama\", \"Drama\", \"Drama\", \"Comedy\", \"Thriller/Suspense\", null, \"Adventure\", \"Adventure\", \"Comedy\", \"Drama\", \"Action\", \"Comedy\", \"Action\", \"Drama\", \"Musical\", \"Comedy\", \"Comedy\", \"Romantic Comedy\", null, \"Drama\", \"Drama\", \"Adventure\", \"Action\", \"Action\", \"Comedy\", \"Comedy\", \"Horror\", \"Romantic Comedy\", \"Musical\", \"Musical\", \"Adventure\", \"Western\", \"Drama\", \"Adventure\", \"Drama\", \"Comedy\", \"Action\", \"Romantic Comedy\", \"Comedy\", \"Horror\", \"Adventure\", \"Romantic Comedy\", \"Action\", \"Thriller/Suspense\", \"Action\", \"Thriller/Suspense\", null, \"Comedy\", \"Adventure\", \"Adventure\", \"Drama\", null, \"Adventure\", \"Romantic Comedy\", \"Comedy\", null, \"Comedy\", \"Adventure\", \"Adventure\", \"Adventure\", \"Western\", \"Action\", \"Thriller/Suspense\", null, null, \"Action\", \"Adventure\", \"Adventure\", \"Adventure\", \"Drama\", \"Musical\", \"Drama\", \"Western\", \"Comedy\", null, null, \"Comedy\", \"Action\", \"Action\", \"Action\", null, null, \"Comedy\", \"Drama\", \"Drama\", \"Drama\", null, \"Drama\", null, \"Drama\", \"Thriller/Suspense\", \"Action\", \"Musical\", \"Thriller/Suspense\", \"Drama\", \"Musical\", null, \"Thriller/Suspense\", \"Thriller/Suspense\", \"Comedy\", \"Comedy\", \"Drama\", \"Western\", \"Action\", \"Documentary\", \"Comedy\", \"Drama\", \"Drama\", \"Drama\", \"Thriller/Suspense\", \"Adventure\", \"Horror\", \"Drama\", \"Drama\", \"Horror\", \"Action\", \"Thriller/Suspense\", \"Drama\", \"Comedy\", \"Black Comedy\", \"Comedy\", \"Drama\", \"Musical\", \"Comedy\", \"Action\", \"Comedy\", \"Action\", \"Action\", null, \"Action\", \"Horror\", \"Comedy\", \"Comedy\", \"Drama\", \"Thriller/Suspense\", \"Drama\", \"Comedy\", \"Thriller/Suspense\", \"Action\", \"Horror\", \"Comedy\", \"Comedy\", \"Drama\", null, \"Adventure\", \"Comedy\", \"Thriller/Suspense\", \"Horror\", \"Horror\", \"Action\", \"Drama\", \"Drama\", \"Comedy\", \"Drama\", \"Horror\", \"Action\", \"Comedy\", \"Comedy\", \"Drama\", \"Action\", \"Drama\", \"Drama\", \"Drama\", \"Comedy\", \"Drama\", \"Comedy\", \"Drama\", \"Adventure\", null, \"Action\", \"Drama\", \"Drama\", \"Adventure\", \"Action\", \"Action\", \"Drama\", \"Adventure\", \"Documentary\", \"Comedy\", null, null, \"Comedy\", null, null, \"Comedy\", \"Drama\", \"Drama\", \"Horror\", \"Horror\", \"Drama\", \"Action\", \"Adventure\", null, \"Black Comedy\", \"Drama\", \"Drama\", \"Comedy\", \"Musical\", \"Comedy\", \"Drama\", \"Adventure\", \"Drama\", \"Drama\", \"Drama\", \"Western\", \"Thriller/Suspense\", \"Thriller/Suspense\", \"Thriller/Suspense\", \"Action\", \"Drama\", \"Action\", \"Comedy\", \"Action\", \"Horror\", \"Horror\", \"Drama\", \"Action\", \"Action\", null, \"Horror\", \"Comedy\", \"Comedy\", \"Action\", \"Drama\", null, null, \"Horror\", \"Action\", \"Action\", \"Adventure\", \"Action\", \"Comedy\", \"Drama\", \"Drama\", \"Horror\", null, \"Drama\", \"Western\", \"Drama\", null, null, \"Action\", \"Drama\", \"Horror\", \"Action\", null, \"Documentary\", null, null, \"Drama\", \"Drama\", \"Action\", \"Drama\", null, \"Comedy\", \"Action\", \"Documentary\", null, \"Drama\", \"Drama\", \"Horror\", \"Horror\", \"Horror\", null, \"Comedy\", \"Comedy\", null, \"Musical\", null, \"Romantic Comedy\", \"Adventure\", \"Action\", \"Action\", null, \"Action\", null, \"Comedy\", \"Drama\", null, \"Horror\", \"Drama\", \"Action\", null, \"Thriller/Suspense\", null, \"Horror\", \"Comedy\", null, \"Horror\", \"Horror\", \"Horror\", \"Horror\", \"Horror\", \"Horror\", \"Horror\", \"Horror\", \"Horror\", \"Western\", \"Western\", null, \"Horror\", \"Black Comedy\", \"Action\", \"Drama\", \"Thriller/Suspense\", null, \"Drama\", null, \"Drama\", \"Drama\", \"Action\", \"Action\", \"Comedy\", \"Action\", \"Thriller/Suspense\", null, \"Comedy\", \"Drama\", \"Musical\", \"Musical\", \"Horror\", \"Drama\", \"Action\", \"Musical\", \"Comedy\", \"Action\", \"Comedy\", \"Thriller/Suspense\", \"Action\", \"Thriller/Suspense\", \"Drama\", \"Action\", \"Thriller/Suspense\", null, \"Musical\", \"Comedy\", \"Drama\", \"Comedy\", \"Comedy\", \"Action\", \"Drama\", \"Action\", \"Action\", null, \"Drama\", \"Western\", \"Thriller/Suspense\", null, \"Drama\", \"Drama\", null, \"Drama\", null, \"Musical\", \"Drama\", \"Comedy\", \"Comedy\", \"Action\", \"Action\", \"Action\", \"Drama\", \"Comedy\", \"Drama\", \"Drama\", null, \"Drama\", \"Drama\", \"Action\", \"Drama\", \"Action\", \"Comedy\", \"Comedy\", \"Comedy\", \"Comedy\", \"Drama\", \"Drama\", null, \"Action\", \"Comedy\", \"Drama\", \"Drama\", \"Drama\", \"Comedy\", \"Action\", \"Adventure\", null, \"Comedy\", \"Comedy\", \"Western\", \"Horror\", \"Comedy\", \"Action\", \"Action\", null, null, \"Comedy\", null, \"Horror\", \"Horror\", \"Horror\", \"Horror\", \"Horror\", \"Horror\", \"Comedy\", \"Comedy\", null, \"Drama\", \"Drama\", \"Action\", null, \"Adventure\", \"Comedy\", \"Comedy\", null, \"Western\", \"Documentary\", \"Comedy\", \"Comedy\", \"Comedy\", \"Adventure\", \"Thriller/Suspense\", null, \"Adventure\", \"Drama\", null, null, \"Action\", null, \"Comedy\", null, null, \"Action\", null, \"Documentary\", null, \"Comedy\", \"Adventure\", \"Adventure\", \"Documentary\", \"Action\", \"Adventure\", null, \"Drama\", null, \"Drama\", \"Comedy\", \"Horror\", null, null, \"Adventure\", null, null, \"Drama\", \"Thriller/Suspense\", \"Comedy\", \"Action\", \"Adventure\", \"Action\", \"Comedy\", \"Drama\", \"Drama\", \"Drama\", \"Comedy\", \"Adventure\", \"Thriller/Suspense\", null, \"Action\", \"Drama\", \"Horror\", \"Horror\", \"Horror\", \"Drama\", \"Action\", \"Drama\", \"Comedy\", \"Comedy\", null, null, \"Drama\", \"Action\", null, null, null, \"Action\", \"Drama\", \"Action\", \"Drama\", \"Drama\", \"Action\", \"Action\", \"Comedy\", null, null, \"Adventure\", \"Action\", \"Action\", \"Comedy\", \"Action\", \"Drama\", \"Action\", \"Thriller/Suspense\", null, \"Comedy\", \"Adventure\", null, \"Horror\", \"Horror\", \"Action\", \"Documentary\", null, \"Drama\", null, \"Action\", \"Action\", \"Action\", \"Action\", \"Adventure\", \"Comedy\", \"Comedy\", \"Thriller/Suspense\", \"Western\", \"Action\", null, \"Action\", null, null, \"Drama\", \"Comedy\", \"Comedy\", null, null, null, \"Drama\", null, \"Musical\", \"Drama\", \"Drama\", \"Action\", \"Action\", null, \"Musical\", \"Drama\", \"Action\", \"Drama\", \"Drama\", \"Action\", \"Action\", \"Drama\", \"Adventure\", \"Action\", \"Drama\", \"Western\", null, null, \"Drama\", null, \"Musical\", \"Drama\", \"Action\", null, \"Comedy\", \"Comedy\", \"Drama\", \"Adventure\", null, \"Documentary\", \"Drama\", \"Comedy\", \"Drama\", \"Drama\", \"Comedy\", \"Drama\", \"Comedy\", \"Comedy\", null, \"Action\", \"Romantic Comedy\", null, \"Action\", \"Comedy\", null, \"Horror\", \"Action\", null, \"Action\", \"Action\", \"Drama\", null, null, \"Comedy\", null, \"Drama\", null, \"Comedy\", \"Drama\", \"Black Comedy\", \"Action\", \"Action\", null, \"Comedy\", \"Comedy\", \"Romantic Comedy\", \"Romantic Comedy\", \"Comedy\", \"Drama\", \"Action\", \"Horror\", null, \"Comedy\", null, \"Action\", null, \"Comedy\", \"Comedy\", \"Comedy\", \"Action\", \"Musical\", \"Comedy\", \"Romantic Comedy\", null, \"Drama\", \"Adventure\", \"Adventure\", \"Drama\", \"Horror\", \"Romantic Comedy\", \"Action\", \"Drama\", null, \"Comedy\", \"Comedy\", null, \"Horror\", null, null, \"Horror\", \"Horror\", \"Horror\", \"Horror\", \"Horror\", \"Horror\", \"Horror\", null, \"Action\", null, \"Action\", \"Horror\", \"Comedy\", \"Adventure\", null, \"Drama\", \"Musical\", \"Drama\", \"Action\", \"Action\", \"Action\", null, \"Horror\", \"Action\", \"Horror\", \"Action\", \"Drama\", null, \"Drama\", \"Drama\", \"Drama\", \"Drama\", \"Drama\", null, \"Thriller/Suspense\", \"Drama\", \"Thriller/Suspense\", \"Comedy\", \"Comedy\", null, \"Western\", \"Action\", \"Romantic Comedy\", \"Adventure\", null, \"Comedy\", null, null, \"Horror\", \"Horror\", \"Horror\", \"Drama\", \"Drama\", \"Action\", \"Thriller/Suspense\", null, null, null, \"Black Comedy\", \"Drama\", \"Drama\", \"Drama\", \"Adventure\", \"Thriller/Suspense\", null, \"Drama\", \"Adventure\", \"Drama\", \"Comedy\", \"Documentary\", null, \"Action\", \"Action\", \"Adventure\", \"Horror\", \"Thriller/Suspense\", null, \"Drama\", \"Drama\", \"Romantic Comedy\", \"Drama\", null, \"Comedy\", \"Adventure\", \"Horror\", null, null, \"Drama\", \"Musical\", \"Comedy\", \"Comedy\", \"Horror\", \"Western\", \"Western\", \"Adventure\", null, \"Drama\", null, \"Action\", null, \"Drama\", \"Adventure\", \"Action\", \"Drama\", \"Drama\", \"Drama\", \"Thriller/Suspense\", \"Action\", \"Action\", \"Comedy\", \"Comedy\", \"Drama\", null, \"Adventure\", null, \"Drama\", \"Drama\", \"Action\", \"Adventure\", \"Drama\", \"Drama\", \"Documentary\", \"Action\", \"Musical\", \"Action\", \"Drama\", \"Drama\", null, \"Horror\", \"Comedy\", \"Comedy\", \"Action\", \"Action\", \"Drama\", null, \"Comedy\", null, null, null, \"Action\", \"Drama\", \"Comedy\", \"Comedy\", null, null, \"Drama\", \"Horror\", \"Comedy\", \"Documentary\", \"Adventure\", \"Action\", \"Thriller/Suspense\", \"Thriller/Suspense\", \"Action\", \"Thriller/Suspense\", null, \"Drama\", \"Comedy\", \"Romantic Comedy\", \"Drama\", \"Drama\", \"Drama\", \"Drama\", null, \"Thriller/Suspense\", \"Documentary\", \"Action\", \"Drama\", null, \"Documentary\", null, null, \"Thriller/Suspense\", \"Action\", \"Comedy\", \"Action\", \"Action\", null, \"Drama\", null, null, \"Adventure\", \"Drama\", \"Horror\", \"Adventure\", \"Comedy\", \"Drama\", \"Drama\", \"Horror\", \"Romantic Comedy\", \"Drama\", \"Thriller/Suspense\", \"Black Comedy\", null, \"Horror\", \"Drama\", null, null, \"Drama\", \"Action\", \"Comedy\", \"Drama\", null, null, \"Drama\", \"Drama\", \"Western\", \"Drama\", null, \"Thriller/Suspense\", \"Comedy\", \"Action\", \"Drama\", \"Comedy\", \"Comedy\", \"Drama\", \"Comedy\", \"Comedy\", \"Comedy\", \"Drama\", null, \"Drama\", \"Musical\", \"Romantic Comedy\", null, \"Comedy\", \"Action\", \"Action\", \"Thriller/Suspense\", \"Comedy\", null, \"Comedy\", \"Action\", \"Adventure\", \"Adventure\", null, \"Adventure\", \"Action\", null, \"Documentary\", \"Thriller/Suspense\", \"Action\", \"Adventure\", \"Adventure\", \"Adventure\", \"Drama\", \"Action\", null, \"Action\", \"Adventure\", null, null, \"Drama\", \"Action\", \"Action\", \"Adventure\", \"Comedy\", \"Comedy\", \"Adventure\", \"Drama\", \"Comedy\", null, \"Drama\", null, \"Action\", null, null, \"Action\", \"Comedy\", \"Comedy\", \"Musical\", \"Drama\", null, \"Documentary\", \"Comedy\", null, \"Drama\", \"Drama\", \"Drama\", \"Horror\", \"Horror\", \"Action\", \"Romantic Comedy\", null, \"Black Comedy\", null, \"Comedy\", \"Thriller/Suspense\", \"Horror\", \"Drama\", \"Drama\", \"Comedy\", \"Action\", \"Action\", \"Action\", null, \"Thriller/Suspense\", \"Romantic Comedy\", \"Thriller/Suspense\", \"Drama\", null, \"Thriller/Suspense\", \"Horror\", \"Adventure\", \"Western\", \"Drama\", \"Adventure\", \"Adventure\", \"Action\", \"Adventure\", null, \"Drama\", \"Drama\", null, \"Comedy\", \"Documentary\", \"Action\", \"Action\", \"Drama\", \"Action\", \"Action\", \"Thriller/Suspense\", \"Action\", null, null, \"Thriller/Suspense\", \"Black Comedy\", \"Drama\", \"Action\", \"Drama\", \"Comedy\", \"Drama\", null, \"Comedy\", \"Action\", null, \"Drama\", null, \"Adventure\", \"Horror\", \"Thriller/Suspense\", null, \"Drama\", \"Action\", \"Action\", \"Comedy\", \"Drama\", \"Horror\", \"Comedy\", \"Comedy\", null, \"Horror\", \"Drama\", \"Action\", null, \"Action\", \"Drama\", \"Drama\", \"Drama\", \"Comedy\", \"Documentary\", \"Comedy\", \"Comedy\", \"Adventure\", \"Adventure\", \"Drama\", \"Horror\", \"Musical\", \"Romantic Comedy\", \"Western\", \"Drama\", null, null, null, null, \"Comedy\", \"Thriller/Suspense\", \"Action\", \"Thriller/Suspense\", \"Horror\", null, \"Horror\", null, null, \"Comedy\", \"Comedy\", \"Thriller/Suspense\", \"Action\", null, \"Comedy\", \"Western\", \"Musical\", \"Thriller/Suspense\", null, \"Horror\", \"Drama\", null, \"Drama\", \"Western\", null, \"Musical\", \"Action\", \"Documentary\", \"Adventure\", \"Comedy\", \"Romantic Comedy\", \"Adventure\", \"Drama\", null, \"Action\", \"Action\", \"Drama\", \"Comedy\", \"Horror\", \"Horror\", \"Thriller/Suspense\", \"Romantic Comedy\", \"Action\", null, \"Romantic Comedy\", \"Action\", \"Drama\", \"Comedy\", \"Thriller/Suspense\", \"Drama\", \"Drama\", \"Comedy\", \"Horror\", \"Horror\", \"Drama\", \"Comedy\", \"Drama\", \"Drama\", \"Drama\", \"Romantic Comedy\", \"Romantic Comedy\", \"Action\", \"Horror\", \"Action\", \"Drama\", \"Comedy\", \"Western\", \"Romantic Comedy\", \"Comedy\", \"Drama\", \"Comedy\", \"Drama\", \"Thriller/Suspense\", \"Drama\", \"Romantic Comedy\", null, \"Action\", \"Drama\", \"Thriller/Suspense\", \"Adventure\", \"Comedy\", \"Drama\", \"Musical\", \"Adventure\", \"Drama\", \"Comedy\", \"Comedy\", \"Romantic Comedy\", \"Adventure\", \"Thriller/Suspense\", \"Thriller/Suspense\", \"Comedy\", null, \"Comedy\", \"Romantic Comedy\", \"Drama\", \"Action\", \"Action\", \"Drama\", \"Drama\", \"Comedy\", \"Action\", \"Drama\", \"Drama\", \"Western\", \"Comedy\", \"Drama\", \"Comedy\", \"Comedy\", \"Adventure\", \"Comedy\", \"Drama\", \"Drama\", \"Action\", \"Horror\", \"Comedy\", \"Western\", \"Comedy\", \"Comedy\", \"Comedy\", \"Drama\", \"Horror\", \"Adventure\", \"Thriller/Suspense\", \"Drama\", \"Adventure\", \"Comedy\", \"Drama\", \"Adventure\", \"Drama\", \"Drama\", \"Comedy\", \"Black Comedy\", \"Drama\", \"Comedy\", \"Drama\", \"Drama\", \"Horror\", \"Drama\", \"Drama\", \"Drama\", \"Comedy\", \"Comedy\", \"Comedy\", \"Black Comedy\", \"Drama\", \"Romantic Comedy\", \"Horror\", \"Horror\", \"Horror\", \"Musical\", \"Comedy\", \"Thriller/Suspense\", \"Drama\", \"Drama\", \"Comedy\", \"Comedy\", \"Comedy\", \"Drama\", \"Comedy\", \"Comedy\", \"Adventure\", \"Thriller/Suspense\", \"Drama\", \"Adventure\", \"Drama\", \"Western\", \"Adventure\", \"Comedy\", \"Drama\", \"Comedy\", \"Drama\", \"Romantic Comedy\", \"Thriller/Suspense\", \"Adventure\", \"Adventure\", \"Drama\", \"Adventure\", \"Adventure\", \"Drama\", \"Thriller/Suspense\", \"Adventure\", \"Comedy\", \"Drama\", \"Romantic Comedy\", \"Drama\", \"Drama\", \"Action\", \"Thriller/Suspense\", \"Action\", \"Drama\", \"Comedy\", \"Comedy\", \"Adventure\", \"Drama\", \"Drama\", \"Drama\", \"Black Comedy\", \"Drama\", \"Musical\", \"Comedy\", \"Comedy\", \"Comedy\", \"Drama\", \"Drama\", \"Action\", \"Action\", \"Drama\", \"Horror\", \"Adventure\", \"Thriller/Suspense\", \"Drama\", \"Comedy\", \"Thriller/Suspense\", \"Adventure\", \"Drama\", \"Action\", \"Comedy\", \"Comedy\", \"Comedy\", \"Action\", \"Action\", \"Drama\", \"Drama\", \"Comedy\", \"Black Comedy\", \"Action\", \"Romantic Comedy\", \"Drama\", \"Action\", \"Comedy\", \"Drama\", \"Adventure\", \"Thriller/Suspense\", \"Thriller/Suspense\", \"Action\", \"Action\", \"Action\", \"Horror\", \"Comedy\", \"Drama\", \"Drama\", \"Comedy\", \"Thriller/Suspense\", \"Romantic Comedy\", \"Comedy\", \"Comedy\", \"Comedy\", \"Comedy\", \"Thriller/Suspense\", \"Action\", \"Comedy\", \"Drama\", \"Comedy\", \"Drama\", \"Drama\", \"Comedy\", \"Comedy\", \"Black Comedy\", \"Action\", \"Drama\", \"Drama\", \"Musical\", \"Documentary\", \"Comedy\", \"Adventure\", \"Adventure\", \"Comedy\", \"Comedy\", \"Drama\", \"Comedy\", \"Drama\", \"Drama\", \"Action\", \"Romantic Comedy\", \"Comedy\", \"Comedy\", \"Action\", \"Thriller/Suspense\", \"Comedy\", \"Comedy\", \"Drama\", \"Drama\", \"Drama\", \"Romantic Comedy\", \"Romantic Comedy\", \"Romantic Comedy\", \"Thriller/Suspense\", \"Action\", \"Horror\", \"Comedy\", \"Action\", \"Action\", \"Comedy\", \"Drama\", \"Thriller/Suspense\", \"Thriller/Suspense\", \"Horror\", \"Drama\", \"Drama\", \"Thriller/Suspense\", \"Comedy\", \"Comedy\", \"Thriller/Suspense\", \"Drama\", \"Action\", \"Drama\", \"Drama\", \"Drama\", \"Comedy\", null, \"Action\", \"Western\", \"Comedy\", \"Drama\", \"Action\", \"Horror\", \"Comedy\", \"Drama\", \"Thriller/Suspense\", \"Horror\", \"Comedy\", \"Drama\", \"Comedy\", \"Action\", \"Action\", \"Action\", \"Comedy\", \"Romantic Comedy\", \"Drama\", \"Documentary\", \"Drama\", \"Drama\", \"Action\", \"Comedy\", \"Musical\", \"Drama\", \"Comedy\", \"Comedy\", \"Thriller/Suspense\", \"Drama\", \"Black Comedy\", \"Thriller/Suspense\", \"Thriller/Suspense\", \"Drama\", \"Romantic Comedy\", \"Romantic Comedy\", \"Comedy\", null, \"Drama\", \"Drama\", \"Comedy\", \"Comedy\", \"Romantic Comedy\", \"Drama\", \"Thriller/Suspense\", \"Comedy\", \"Drama\", \"Comedy\", \"Comedy\", \"Comedy\", \"Comedy\", \"Action\", \"Action\", \"Thriller/Suspense\", \"Comedy\", \"Action\", \"Comedy\", \"Comedy\", \"Drama\", \"Comedy\", \"Comedy\", \"Comedy\", \"Comedy\", \"Drama\", \"Comedy\", \"Comedy\", \"Comedy\", \"Drama\", \"Horror\", \"Drama\", \"Drama\", \"Comedy\", \"Drama\", \"Romantic Comedy\", \"Drama\", \"Horror\", \"Comedy\", \"Drama\", \"Drama\", \"Comedy\", \"Musical\", \"Action\", \"Black Comedy\", \"Adventure\", \"Drama\", \"Adventure\", null, \"Comedy\", \"Action\", \"Adventure\", \"Comedy\", \"Thriller/Suspense\", \"Thriller/Suspense\", \"Adventure\", \"Comedy\", \"Thriller/Suspense\", \"Action\", \"Adventure\", \"Romantic Comedy\", \"Musical\", \"Adventure\", \"Adventure\", \"Comedy\", \"Comedy\", \"Drama\", \"Action\", \"Horror\", \"Horror\", \"Thriller/Suspense\", \"Thriller/Suspense\", \"Drama\", \"Drama\", \"Drama\", \"Drama\", \"Comedy\", \"Drama\", \"Drama\", \"Drama\", \"Drama\", \"Romantic Comedy\", \"Drama\", \"Drama\", \"Comedy\", \"Comedy\", \"Western\", \"Comedy\", \"Drama\", \"Drama\", \"Comedy\", \"Comedy\", null, \"Drama\", \"Comedy\", \"Romantic Comedy\", \"Romantic Comedy\", \"Drama\", \"Action\", \"Drama\", \"Drama\", \"Drama\", null, \"Drama\", \"Drama\", \"Drama\", null, \"Comedy\", \"Comedy\", \"Action\", \"Comedy\", null, \"Drama\", \"Action\", \"Drama\", \"Thriller/Suspense\", \"Drama\", \"Drama\", \"Drama\", \"Comedy\", \"Adventure\", \"Comedy\", \"Thriller/Suspense\", \"Drama\", \"Comedy\", \"Drama\", \"Action\", \"Drama\", \"Horror\", \"Drama\", \"Comedy\", \"Horror\", \"Comedy\", \"Thriller/Suspense\", \"Action\", \"Action\", \"Drama\", \"Drama\", \"Drama\", \"Drama\", \"Drama\", \"Thriller/Suspense\", \"Thriller/Suspense\", \"Drama\", \"Drama\", \"Drama\", \"Adventure\", \"Adventure\", \"Comedy\", \"Drama\", \"Drama\", \"Drama\", \"Drama\", null, \"Drama\", \"Comedy\", \"Horror\", \"Drama\", \"Comedy\", \"Drama\", \"Comedy\", \"Comedy\", \"Comedy\", \"Thriller/Suspense\", \"Drama\", \"Comedy\", \"Comedy\", \"Action\", \"Thriller/Suspense\", \"Adventure\", \"Drama\", \"Thriller/Suspense\", \"Romantic Comedy\", \"Comedy\", \"Comedy\", \"Horror\", \"Thriller/Suspense\", \"Horror\", \"Drama\", \"Action\", null, \"Action\", \"Comedy\", \"Documentary\", \"Musical\", \"Horror\", \"Drama\", \"Drama\", \"Action\", \"Romantic Comedy\", \"Comedy\", \"Drama\", \"Action\", \"Romantic Comedy\", \"Comedy\", \"Thriller/Suspense\", \"Adventure\", \"Comedy\", \"Comedy\", \"Comedy\", \"Thriller/Suspense\", \"Horror\", \"Drama\", \"Drama\", \"Drama\", \"Thriller/Suspense\", \"Action\", \"Comedy\", \"Action\", \"Adventure\", \"Comedy\", \"Action\", \"Comedy\", \"Thriller/Suspense\", \"Thriller/Suspense\", \"Drama\", \"Drama\", null, \"Drama\", \"Comedy\", \"Black Comedy\", \"Comedy\", null, \"Action\", \"Thriller/Suspense\", \"Adventure\", \"Action\", \"Adventure\", \"Comedy\", \"Thriller/Suspense\", \"Action\", \"Drama\", \"Horror\", \"Drama\", \"Adventure\", \"Drama\", \"Thriller/Suspense\", \"Adventure\", \"Drama\", \"Horror\", \"Action\", \"Horror\", \"Drama\", \"Action\", \"Comedy\", \"Comedy\", \"Comedy\", \"Comedy\", null, \"Action\", \"Horror\", \"Drama\", \"Drama\", \"Musical\", \"Comedy\", \"Comedy\", \"Comedy\", \"Action\", \"Drama\", \"Thriller/Suspense\", \"Concert/Performance\", \"Comedy\", null, \"Thriller/Suspense\", \"Action\", \"Comedy\", \"Thriller/Suspense\", \"Drama\", \"Comedy\", \"Drama\", \"Comedy\", \"Adventure\", \"Comedy\", null, \"Adventure\", \"Comedy\", \"Comedy\", \"Drama\", \"Thriller/Suspense\", \"Action\", \"Drama\", \"Comedy\", \"Romantic Comedy\", \"Drama\", \"Comedy\", null, \"Drama\", \"Comedy\", \"Drama\", \"Comedy\", \"Black Comedy\", \"Thriller/Suspense\", \"Thriller/Suspense\", \"Drama\", \"Black Comedy\", \"Action\", \"Comedy\", \"Drama\", \"Comedy\", \"Action\", \"Comedy\", \"Drama\", \"Drama\", \"Documentary\", \"Comedy\", \"Adventure\", \"Romantic Comedy\", \"Drama\", \"Action\", \"Drama\", \"Drama\", \"Action\", \"Thriller/Suspense\", \"Thriller/Suspense\", \"Comedy\", \"Comedy\", \"Adventure\", \"Drama\", \"Drama\", \"Drama\", \"Comedy\", \"Comedy\", \"Drama\", \"Comedy\", \"Drama\", \"Horror\", \"Drama\", \"Musical\", \"Comedy\", null, \"Action\", \"Action\", \"Thriller/Suspense\", \"Horror\", \"Drama\", \"Thriller/Suspense\", \"Comedy\", \"Action\", \"Drama\", \"Horror\", \"Romantic Comedy\", \"Romantic Comedy\", \"Musical\", \"Comedy\", \"Comedy\", \"Musical\", \"Drama\", \"Thriller/Suspense\", \"Comedy\", \"Drama\", \"Action\", \"Horror\", \"Horror\", \"Horror\", \"Horror\", \"Comedy\", \"Horror\", \"Action\", \"Thriller/Suspense\", \"Comedy\", \"Action\", \"Drama\", \"Action\", \"Action\", \"Adventure\", \"Documentary\", \"Documentary\", \"Thriller/Suspense\", \"Horror\", \"Drama\", \"Adventure\", \"Drama\", \"Comedy\", \"Action\", null, \"Drama\", \"Musical\", \"Horror\", \"Drama\", \"Drama\", \"Thriller/Suspense\", \"Drama\", \"Adventure\", \"Drama\", \"Comedy\", \"Comedy\", \"Drama\", \"Adventure\", \"Drama\", \"Comedy\", \"Comedy\", \"Adventure\", \"Comedy\", \"Comedy\", \"Action\", \"Drama\", \"Action\", \"Comedy\", \"Thriller/Suspense\", \"Thriller/Suspense\", \"Action\", \"Drama\", \"Comedy\", \"Comedy\", \"Drama\", \"Action\", \"Thriller/Suspense\", \"Horror\", \"Horror\", \"Comedy\", \"Drama\", \"Drama\", \"Drama\", \"Adventure\", \"Comedy\", \"Drama\", \"Horror\", \"Drama\", \"Drama\", \"Drama\", \"Comedy\", \"Comedy\", \"Comedy\", \"Drama\", \"Comedy\", \"Comedy\", \"Comedy\", \"Thriller/Suspense\", \"Drama\", \"Comedy\", \"Drama\", \"Drama\", \"Drama\", \"Comedy\", \"Comedy\", \"Drama\", \"Drama\", \"Drama\", \"Romantic Comedy\", \"Drama\", null, \"Drama\", \"Adventure\", \"Drama\", \"Comedy\", \"Horror\", \"Drama\", \"Thriller/Suspense\", \"Action\", \"Romantic Comedy\", \"Thriller/Suspense\", \"Romantic Comedy\", \"Drama\", \"Action\", \"Drama\", \"Action\", \"Musical\", \"Drama\", \"Romantic Comedy\", \"Action\", \"Drama\", \"Drama\", \"Drama\", \"Drama\", \"Drama\", \"Comedy\", \"Black Comedy\", \"Drama\", \"Action\", \"Thriller/Suspense\", \"Action\", null, null, \"Drama\", \"Drama\", \"Comedy\", \"Drama\", \"Comedy\", \"Drama\", \"Comedy\", \"Comedy\", \"Drama\", \"Action\", \"Comedy\", \"Drama\", \"Drama\", \"Musical\", \"Drama\", \"Comedy\", \"Adventure\", \"Romantic Comedy\", \"Comedy\", \"Horror\", \"Drama\", \"Adventure\", \"Comedy\", \"Black Comedy\", \"Horror\", \"Horror\", \"Comedy\", \"Drama\", \"Comedy\", \"Drama\", \"Romantic Comedy\", \"Drama\", \"Comedy\", \"Romantic Comedy\", \"Comedy\", \"Horror\", \"Musical\", \"Comedy\", \"Drama\", \"Drama\", null, \"Action\", \"Comedy\", \"Thriller/Suspense\", \"Comedy\", \"Horror\", \"Drama\", \"Drama\", \"Thriller/Suspense\", \"Comedy\", \"Horror\", \"Horror\", \"Horror\", \"Western\", \"Thriller/Suspense\", \"Comedy\", \"Romantic Comedy\", \"Comedy\", \"Musical\", \"Adventure\", \"Drama\", \"Action\", \"Action\", \"Action\", \"Comedy\", \"Drama\", \"Action\", \"Drama\", \"Action\", \"Romantic Comedy\", \"Horror\", \"Thriller/Suspense\", \"Comedy\", \"Action\", null, \"Musical\", \"Comedy\", \"Drama\", \"Romantic Comedy\", \"Action\", \"Comedy\", \"Comedy\", \"Comedy\", \"Horror\", \"Horror\", \"Comedy\", \"Action\", \"Horror\", \"Horror\", \"Comedy\", \"Drama\", \"Comedy\", \"Concert/Performance\", \"Comedy\", \"Thriller/Suspense\", \"Comedy\", \"Comedy\", \"Drama\", \"Drama\", \"Romantic Comedy\", \"Horror\", \"Drama\", \"Black Comedy\", \"Drama\", \"Comedy\", \"Comedy\", \"Drama\", \"Adventure\", \"Horror\", \"Action\", \"Horror\", \"Comedy\", \"Drama\", \"Drama\", \"Comedy\", \"Horror\", \"Drama\", \"Comedy\", \"Comedy\", \"Adventure\", \"Adventure\", \"Adventure\", \"Adventure\", \"Adventure\", \"Adventure\", \"Adventure\", \"Adventure\", \"Drama\", \"Action\", \"Drama\", null, \"Drama\", \"Horror\", \"Drama\", \"Comedy\", \"Horror\", \"Comedy\", null, \"Comedy\", \"Comedy\", \"Action\", \"Adventure\", \"Adventure\", \"Action\", \"Drama\", \"Drama\", \"Drama\", \"Comedy\", \"Romantic Comedy\", \"Action\", \"Romantic Comedy\", \"Adventure\", \"Adventure\", \"Adventure\", \"Comedy\", \"Drama\", null, \"Thriller/Suspense\", \"Comedy\", \"Musical\", \"Comedy\", \"Comedy\", \"Comedy\", \"Horror\", \"Drama\", \"Horror\", \"Horror\", \"Comedy\", \"Drama\", \"Comedy\", \"Adventure\", \"Romantic Comedy\", \"Comedy\", \"Thriller/Suspense\", \"Thriller/Suspense\", \"Thriller/Suspense\", \"Drama\", \"Drama\", \"Adventure\", \"Horror\", \"Drama\", \"Thriller/Suspense\", \"Thriller/Suspense\", \"Adventure\", \"Comedy\", \"Comedy\", \"Thriller/Suspense\", \"Drama\", \"Thriller/Suspense\", \"Comedy\", \"Drama\", \"Comedy\", \"Thriller/Suspense\", \"Comedy\", \"Action\", \"Adventure\", \"Action\", \"Adventure\", \"Black Comedy\", \"Action\", \"Comedy\", \"Action\", \"Adventure\", \"Romantic Comedy\", \"Comedy\", \"Drama\", \"Thriller/Suspense\", \"Thriller/Suspense\", \"Drama\", \"Drama\", \"Black Comedy\", \"Action\", \"Action\", \"Action\", \"Action\", \"Thriller/Suspense\", \"Comedy\", \"Comedy\", \"Adventure\", \"Comedy\", \"Comedy\", \"Horror\", \"Comedy\", \"Horror\", \"Western\", \"Comedy\", \"Comedy\", null, \"Drama\", \"Drama\", \"Romantic Comedy\", \"Romantic Comedy\", \"Drama\", \"Adventure\", \"Comedy\", \"Action\", \"Drama\", \"Adventure\", null, \"Comedy\", \"Thriller/Suspense\", \"Romantic Comedy\", \"Comedy\", \"Drama\", \"Drama\", \"Comedy\", \"Adventure\", \"Drama\", \"Comedy\", \"Action\", null, \"Romantic Comedy\", \"Comedy\", \"Horror\", \"Action\", \"Romantic Comedy\", \"Drama\", \"Comedy\", \"Action\", \"Concert/Performance\", \"Action\", \"Action\", \"Adventure\", \"Comedy\", \"Comedy\", \"Action\", \"Action\", \"Comedy\", \"Adventure\", \"Drama\", \"Romantic Comedy\", \"Thriller/Suspense\", \"Adventure\", \"Romantic Comedy\", \"Action\", \"Action\", \"Comedy\", \"Drama\", \"Thriller/Suspense\", \"Action\", \"Drama\", \"Comedy\", \"Comedy\", \"Comedy\", \"Adventure\", \"Drama\", \"Drama\", \"Comedy\", \"Drama\", \"Thriller/Suspense\", \"Action\", \"Comedy\", \"Drama\", \"Drama\", \"Thriller/Suspense\", \"Comedy\", \"Comedy\", \"Thriller/Suspense\", \"Comedy\", \"Comedy\", \"Romantic Comedy\", \"Romantic Comedy\", \"Thriller/Suspense\", \"Comedy\", \"Drama\", \"Drama\", \"Horror\", \"Drama\", \"Thriller/Suspense\", \"Horror\", \"Romantic Comedy\", \"Drama\", \"Drama\", \"Romantic Comedy\", \"Comedy\", \"Drama\", \"Comedy\", \"Action\", \"Romantic Comedy\", \"Drama\", \"Drama\", \"Comedy\", \"Thriller/Suspense\", \"Comedy\", \"Comedy\", \"Adventure\", \"Drama\", \"Drama\", \"Drama\", \"Comedy\", \"Drama\", null, \"Drama\", \"Drama\", \"Drama\", \"Comedy\", \"Comedy\", \"Drama\", \"Drama\", \"Romantic Comedy\", \"Romantic Comedy\", \"Action\", \"Drama\", \"Adventure\", \"Romantic Comedy\", \"Comedy\", \"Drama\", \"Drama\", \"Romantic Comedy\", \"Drama\", \"Adventure\", \"Adventure\", \"Adventure\", \"Action\", \"Black Comedy\", \"Comedy\", \"Comedy\", \"Action\", \"Action\", \"Drama\", \"Drama\", \"Comedy\", \"Drama\", \"Drama\", \"Thriller/Suspense\", \"Drama\", \"Action\", \"Romantic Comedy\", \"Comedy\", \"Drama\", \"Action\", \"Comedy\", \"Drama\", \"Drama\", \"Comedy\", \"Drama\", \"Drama\", \"Romantic Comedy\", \"Comedy\", \"Drama\", \"Comedy\", \"Drama\", \"Black Comedy\", \"Drama\", \"Comedy\", \"Drama\", \"Drama\", \"Drama\", \"Adventure\", \"Comedy\", \"Drama\", \"Comedy\", \"Comedy\", \"Adventure\", \"Documentary\", \"Drama\", \"Comedy\", \"Comedy\", \"Action\", \"Thriller/Suspense\", \"Comedy\", \"Drama\", \"Comedy\", \"Comedy\", \"Drama\", \"Action\", \"Comedy\", \"Thriller/Suspense\", \"Action\", \"Comedy\", null, \"Documentary\", \"Comedy\", \"Romantic Comedy\", \"Comedy\", \"Comedy\", \"Comedy\", \"Horror\", \"Action\", \"Comedy\", \"Drama\", \"Thriller/Suspense\", \"Comedy\", \"Drama\", \"Adventure\", \"Adventure\", \"Comedy\", \"Drama\", \"Comedy\", \"Comedy\", \"Drama\", \"Comedy\", \"Romantic Comedy\", \"Comedy\", null, \"Comedy\", \"Romantic Comedy\", \"Drama\", \"Adventure\", \"Drama\", \"Drama\", \"Thriller/Suspense\", \"Drama\", \"Drama\", \"Drama\", \"Drama\", \"Drama\", \"Action\", \"Drama\", \"Black Comedy\", \"Musical\", \"Action\", null, \"Drama\", \"Comedy\", \"Action\", \"Action\", \"Comedy\", \"Western\", \"Adventure\", \"Drama\", \"Concert/Performance\", \"Comedy\", \"Romantic Comedy\", null, \"Adventure\", \"Drama\", \"Comedy\", \"Thriller/Suspense\", \"Drama\", \"Drama\", \"Drama\", \"Adventure\", \"Comedy\", \"Drama\", \"Drama\", \"Drama\", \"Comedy\", null, \"Adventure\", \"Adventure\", \"Comedy\", \"Drama\", \"Adventure\", null, \"Action\", \"Thriller/Suspense\", \"Comedy\", null, \"Thriller/Suspense\", \"Musical\", \"Drama\", \"Comedy\", \"Comedy\", \"Comedy\", \"Drama\", \"Action\", \"Adventure\", \"Action\", \"Comedy\", \"Action\", \"Drama\", \"Drama\", \"Comedy\", \"Drama\", \"Drama\", null, \"Comedy\", \"Comedy\", \"Thriller/Suspense\", null, \"Drama\", \"Adventure\", \"Action\", \"Action\", \"Drama\", \"Adventure\", \"Drama\", \"Adventure\", \"Adventure\", \"Adventure\", \"Drama\", \"Comedy\", \"Thriller/Suspense\", \"Comedy\", \"Comedy\", \"Adventure\", \"Romantic Comedy\", \"Drama\", \"Action\", \"Adventure\", \"Comedy\", \"Action\", \"Comedy\", \"Comedy\", \"Drama\", \"Documentary\", \"Drama\", \"Comedy\", \"Comedy\", \"Drama\", \"Drama\", \"Comedy\", \"Drama\", \"Comedy\", \"Thriller/Suspense\", \"Adventure\", \"Adventure\", \"Drama\", \"Action\", \"Adventure\", null, \"Action\", \"Adventure\", \"Action\", \"Horror\", \"Drama\", \"Comedy\", \"Drama\", \"Drama\", \"Drama\", \"Comedy\", \"Romantic Comedy\", \"Comedy\", \"Drama\", \"Adventure\", \"Action\", \"Thriller/Suspense\", \"Drama\", \"Comedy\", \"Comedy\", \"Drama\", \"Drama\", \"Documentary\", \"Drama\", \"Drama\", \"Romantic Comedy\", \"Drama\", \"Drama\", \"Comedy\", \"Drama\", \"Comedy\", \"Drama\", \"Drama\", \"Documentary\", \"Romantic Comedy\", \"Thriller/Suspense\", \"Drama\", \"Thriller/Suspense\", \"Thriller/Suspense\", \"Black Comedy\", \"Adventure\", \"Comedy\", \"Romantic Comedy\", \"Drama\", \"Drama\", \"Adventure\", \"Action\", \"Comedy\", \"Romantic Comedy\", \"Comedy\", \"Comedy\", \"Adventure\", \"Adventure\", \"Documentary\", \"Black Comedy\", \"Drama\", \"Horror\", \"Drama\", \"Drama\", \"Documentary\", \"Drama\", \"Drama\", \"Action\", \"Romantic Comedy\", \"Drama\", \"Drama\", \"Adventure\", \"Thriller/Suspense\", \"Western\", \"Thriller/Suspense\", \"Comedy\", \"Thriller/Suspense\", \"Drama\", \"Drama\", \"Comedy\", \"Comedy\", \"Western\", \"Drama\", \"Comedy\", \"Adventure\", \"Drama\", \"Thriller/Suspense\", \"Comedy\", \"Drama\", \"Comedy\", \"Horror\", \"Drama\", \"Comedy\", \"Action\", \"Thriller/Suspense\", \"Action\", \"Romantic Comedy\", \"Comedy\", \"Action\", \"Adventure\", null, null, \"Thriller/Suspense\", \"Romantic Comedy\", \"Drama\", \"Musical\", \"Thriller/Suspense\", \"Drama\", \"Comedy\", \"Adventure\", \"Adventure\", \"Adventure\", \"Adventure\", \"Horror\", \"Comedy\", \"Comedy\", \"Adventure\", \"Drama\", \"Drama\", \"Thriller/Suspense\", \"Romantic Comedy\", \"Drama\", \"Action\", \"Drama\", \"Adventure\", null, \"Adventure\", \"Comedy\", \"Drama\", \"Horror\", \"Comedy\", \"Adventure\", null, \"Horror\", \"Action\", \"Adventure\", \"Adventure\", \"Adventure\", \"Romantic Comedy\", \"Adventure\", \"Comedy\", \"Adventure\", \"Drama\", \"Adventure\", \"Comedy\", \"Comedy\", \"Comedy\", \"Thriller/Suspense\", \"Comedy\", \"Drama\", \"Drama\", \"Drama\", \"Drama\", \"Action\", \"Drama\", \"Drama\", \"Romantic Comedy\", \"Romantic Comedy\", \"Drama\", \"Drama\", \"Action\", \"Thriller/Suspense\", \"Adventure\", \"Musical\", \"Horror\", \"Drama\", \"Thriller/Suspense\", \"Romantic Comedy\", \"Action\", \"Thriller/Suspense\", null, \"Action\", \"Comedy\", \"Horror\", \"Drama\", \"Drama\", \"Adventure\", \"Horror\", \"Comedy\", \"Action\", \"Thriller/Suspense\", \"Comedy\", \"Drama\", \"Drama\", \"Horror\", \"Drama\", \"Comedy\", \"Horror\", \"Drama\", \"Adventure\", \"Drama\", \"Drama\", \"Drama\", \"Drama\", \"Drama\", \"Action\", \"Drama\", \"Adventure\", \"Adventure\", \"Comedy\", \"Drama\", \"Action\", \"Action\", \"Action\", \"Adventure\", null, \"Romantic Comedy\", \"Comedy\", \"Drama\", \"Adventure\", \"Documentary\", \"Thriller/Suspense\", \"Drama\", \"Horror\", \"Comedy\", \"Comedy\", \"Drama\", \"Thriller/Suspense\", \"Drama\", \"Horror\", \"Documentary\", \"Drama\", \"Comedy\", \"Musical\", \"Comedy\", \"Action\", \"Horror\", \"Action\", \"Horror\", \"Horror\", \"Romantic Comedy\", \"Drama\", \"Comedy\", \"Action\", \"Action\", \"Drama\", \"Adventure\", \"Drama\", \"Western\", \"Horror\", \"Documentary\", \"Comedy\", \"Drama\", \"Comedy\", \"Comedy\", \"Comedy\", \"Comedy\", \"Drama\", \"Thriller/Suspense\", \"Comedy\", \"Drama\", \"Drama\", \"Comedy\", \"Action\", \"Action\", \"Drama\", \"Action\", \"Drama\", \"Comedy\", \"Action\", \"Documentary\", null, \"Drama\", \"Thriller/Suspense\", \"Comedy\", \"Horror\", \"Thriller/Suspense\", \"Action\", \"Action\", \"Comedy\", \"Action\", \"Action\", \"Action\", \"Black Comedy\", \"Comedy\", \"Horror\", \"Drama\", \"Drama\", \"Adventure\", \"Action\", \"Comedy\", \"Drama\", \"Thriller/Suspense\", \"Comedy\", \"Comedy\", \"Comedy\", \"Horror\", \"Horror\", \"Horror\", \"Horror\", \"Horror\", \"Horror\", \"Comedy\", \"Comedy\", \"Adventure\", \"Drama\", \"Thriller/Suspense\", \"Comedy\", \"Comedy\", \"Comedy\", \"Comedy\", \"Comedy\", \"Drama\", \"Comedy\", \"Comedy\", \"Romantic Comedy\", \"Thriller/Suspense\", \"Horror\", \"Horror\", \"Horror\", \"Action\", \"Horror\", \"Adventure\", \"Drama\", \"Drama\", \"Thriller/Suspense\", \"Western\", \"Drama\", \"Romantic Comedy\", null, \"Drama\", \"Comedy\", \"Action\", \"Romantic Comedy\", \"Comedy\", null, \"Drama\", \"Action\", \"Comedy\", \"Comedy\", \"Comedy\", \"Comedy\", \"Romantic Comedy\", \"Romantic Comedy\", \"Drama\", \"Romantic Comedy\", \"Horror\", \"Thriller/Suspense\", \"Romantic Comedy\", \"Documentary\", \"Adventure\", \"Romantic Comedy\", \"Thriller/Suspense\", \"Adventure\", \"Adventure\", \"Adventure\", \"Adventure\", \"Adventure\", \"Drama\", \"Comedy\", \"Comedy\", \"Documentary\", \"Action\", \"Thriller/Suspense\", \"Drama\", \"Comedy\", \"Comedy\", \"Adventure\", \"Action\", \"Comedy\", \"Thriller/Suspense\", \"Documentary\", \"Horror\", \"Thriller/Suspense\", \"Adventure\", \"Comedy\", \"Comedy\", \"Action\", \"Horror\", \"Thriller/Suspense\", \"Drama\", \"Horror\", \"Musical\", \"Thriller/Suspense\", \"Comedy\", \"Drama\", \"Horror\", \"Drama\", \"Comedy\", \"Comedy\", \"Action\", \"Comedy\", \"Romantic Comedy\", \"Black Comedy\", \"Romantic Comedy\", \"Comedy\", \"Romantic Comedy\", \"Thriller/Suspense\", \"Thriller/Suspense\", \"Comedy\", \"Drama\", \"Action\", \"Horror\", \"Drama\", \"Adventure\", \"Western\", \"Comedy\", \"Drama\", \"Thriller/Suspense\", \"Black Comedy\", \"Comedy\", \"Comedy\", \"Drama\", \"Drama\", \"Drama\", \"Drama\", null, \"Documentary\", \"Adventure\", \"Comedy\", \"Comedy\", \"Comedy\", \"Comedy\", \"Comedy\", \"Action\", \"Comedy\", \"Adventure\", \"Adventure\", \"Adventure\", \"Drama\", \"Action\", \"Adventure\", null, \"Action\", \"Horror\", \"Comedy\", \"Adventure\", \"Adventure\", \"Adventure\", \"Comedy\", \"Comedy\", \"Adventure\", \"Action\", \"Adventure\", null, \"Action\", \"Adventure\", \"Adventure\", \"Adventure\", \"Thriller/Suspense\", \"Drama\", \"Romantic Comedy\", \"Comedy\", \"Comedy\", \"Comedy\", \"Horror\", \"Adventure\", \"Adventure\", \"Adventure\", \"Action\", \"Drama\", \"Horror\", \"Comedy\", \"Action\", \"Drama\", \"Comedy\", \"Drama\", \"Drama\", \"Comedy\", null, \"Comedy\", \"Horror\", \"Thriller/Suspense\", \"Thriller/Suspense\", \"Comedy\", \"Comedy\", \"Action\", \"Action\", \"Thriller/Suspense\", null, \"Drama\", \"Drama\", \"Romantic Comedy\", \"Thriller/Suspense\", \"Thriller/Suspense\", \"Adventure\", \"Drama\", \"Drama\", \"Drama\", \"Adventure\", \"Adventure\", \"Adventure\", \"Action\", \"Thriller/Suspense\", \"Comedy\", \"Comedy\", \"Adventure\", \"Comedy\", \"Drama\", \"Action\", \"Drama\", \"Action\", \"Adventure\", \"Action\", \"Drama\", \"Drama\", \"Drama\", \"Action\", \"Drama\", \"Romantic Comedy\", \"Thriller/Suspense\", \"Romantic Comedy\", \"Thriller/Suspense\", \"Comedy\", \"Drama\", \"Drama\", \"Comedy\", \"Action\", \"Adventure\", \"Romantic Comedy\", \"Romantic Comedy\", \"Comedy\", \"Drama\", \"Thriller/Suspense\", \"Drama\", \"Thriller/Suspense\", \"Thriller/Suspense\", \"Comedy\", \"Thriller/Suspense\", \"Thriller/Suspense\", \"Drama\", \"Comedy\", \"Drama\", \"Documentary\", \"Comedy\", \"Adventure\", \"Romantic Comedy\", \"Horror\", \"Horror\", \"Drama\", \"Action\", \"Drama\", \"Drama\", \"Adventure\", \"Comedy\", \"Drama\", \"Action\", \"Comedy\", \"Comedy\", \"Comedy\", \"Drama\", \"Action\", \"Action\", \"Action\", \"Action\", \"Comedy\", \"Drama\", \"Thriller/Suspense\", \"Action\", \"Drama\", \"Thriller/Suspense\", \"Adventure\", \"Drama\", \"Horror\", \"Thriller/Suspense\", \"Horror\", \"Drama\", \"Drama\", \"Comedy\", \"Comedy\", \"Horror\", \"Action\", \"Action\", \"Thriller/Suspense\", \"Romantic Comedy\", \"Thriller/Suspense\", \"Action\", \"Action\", \"Adventure\", \"Adventure\", \"Adventure\", \"Drama\", \"Adventure\", \"Thriller/Suspense\", \"Comedy\", \"Adventure\", \"Adventure\", \"Comedy\", \"Horror\", \"Action\", \"Action\", \"Black Comedy\", \"Adventure\", \"Adventure\", \"Adventure\", \"Musical\", \"Action\", \"Horror\", \"Drama\", \"Adventure\", \"Adventure\", \"Action\", \"Adventure\", \"Drama\", \"Adventure\", \"Drama\", \"Thriller/Suspense\", \"Thriller/Suspense\", \"Horror\", \"Comedy\", \"Adventure\", \"Drama\", \"Drama\", \"Action\", \"Action\", \"Drama\", \"Comedy\", \"Action\", \"Action\", \"Comedy\", \"Drama\", \"Comedy\", \"Drama\", \"Adventure\", \"Drama\", \"Drama\", \"Comedy\", \"Drama\", null, \"Drama\", \"Comedy\", \"Thriller/Suspense\", \"Thriller/Suspense\", \"Comedy\", \"Drama\", \"Adventure\", \"Drama\", \"Thriller/Suspense\", \"Drama\", \"Drama\", \"Drama\", \"Romantic Comedy\", \"Romantic Comedy\", \"Horror\", \"Horror\", \"Western\", \"Action\", \"Black Comedy\", \"Concert/Performance\", \"Action\", \"Comedy\", \"Thriller/Suspense\", \"Comedy\", \"Romantic Comedy\", \"Action\", \"Comedy\", \"Thriller/Suspense\", \"Horror\", \"Horror\", \"Action\", \"Romantic Comedy\", \"Drama\", \"Action\", \"Drama\", \"Drama\", \"Action\", \"Thriller/Suspense\", \"Action\", \"Thriller/Suspense\", \"Adventure\", \"Drama\", \"Drama\", \"Horror\", \"Horror\", \"Drama\", \"Thriller/Suspense\", \"Adventure\", \"Horror\", \"Action\", \"Drama\", \"Drama\", \"Drama\", \"Horror\", \"Drama\", \"Drama\", \"Action\", null, \"Action\", \"Thriller/Suspense\", \"Black Comedy\", \"Action\", \"Comedy\", \"Drama\", \"Action\", \"Horror\", \"Thriller/Suspense\", \"Action\", \"Comedy\", \"Action\", \"Comedy\", \"Drama\", \"Romantic Comedy\", \"Comedy\", \"Comedy\", \"Drama\", null, \"Comedy\", \"Comedy\", \"Comedy\", \"Action\", \"Black Comedy\", \"Action\", \"Action\", \"Action\", \"Drama\", \"Romantic Comedy\", \"Comedy\", \"Drama\", \"Comedy\", \"Documentary\", \"Comedy\", \"Horror\", \"Romantic Comedy\", \"Drama\", \"Drama\", \"Drama\", \"Comedy\", \"Romantic Comedy\", \"Drama\", \"Drama\", \"Drama\", \"Drama\", \"Thriller/Suspense\", \"Comedy\", \"Drama\", \"Comedy\", \"Drama\", \"Comedy\", \"Comedy\", \"Comedy\", \"Horror\", \"Drama\", \"Drama\", \"Thriller/Suspense\", \"Adventure\", \"Thriller/Suspense\", \"Romantic Comedy\", \"Action\", \"Comedy\", \"Action\", \"Drama\", \"Comedy\", \"Thriller/Suspense\", \"Drama\", \"Drama\", \"Horror\", \"Adventure\", \"Horror\", \"Drama\", \"Action\", \"Romantic Comedy\", \"Horror\", \"Action\", \"Comedy\", \"Romantic Comedy\", \"Comedy\", \"Comedy\", \"Comedy\", \"Drama\", \"Comedy\", \"Documentary\", \"Drama\", \"Action\", \"Drama\", \"Thriller/Suspense\", \"Drama\", \"Adventure\", \"Thriller/Suspense\", \"Comedy\", \"Horror\", \"Romantic Comedy\", \"Action\", \"Action\", \"Action\", \"Drama\", \"Action\", \"Action\", \"Action\", null, \"Action\", \"Action\", \"Drama\", \"Comedy\", \"Drama\", \"Comedy\", \"Drama\", \"Comedy\", \"Black Comedy\", \"Comedy\", \"Drama\", \"Comedy\", \"Drama\", \"Adventure\", null, \"Drama\", \"Adventure\", \"Comedy\", \"Comedy\", \"Comedy\", \"Comedy\", \"Thriller/Suspense\", \"Adventure\", \"Adventure\", \"Adventure\"], \"x0\": \" \", \"xaxis\": \"x\", \"y\": [6.1, 6.9, 6.8, null, 3.4, null, 7.7, 3.8, 5.8, 7.0, 7.0, 7.5, 8.4, null, 6.8, null, 7.0, 6.1, 2.5, 8.9, 8.1, 7.0, 5.6, 6.3, 8.4, null, null, 6.9, 7.1, null, 5.7, 3.2, 6.0, 7.7, 6.4, 7.0, 7.1, 7.4, 6.8, 5.4, 4.9, 7.6, 4.6, 6.6, 5.6, null, 5.7, 7.1, 6.7, 7.3, 5.9, null, 3.2, 7.4, 7.6, 3.7, 6.8, 8.2, 6.1, 5.8, 8.4, 8.6, 6.2, 6.4, 5.1, 5.6, 4.4, 5.6, 5.7, 8.1, 5.4, 7.3, null, 5.0, 7.7, 6.9, 8.4, 7.5, 7.1, 8.2, 6.6, 6.4, null, 3.3, 5.7, 8.2, 8.2, 5.8, 8.0, 3.4, 8.2, null, 3.2, 5.0, null, 4.8, 7.3, 6.1, 5.0, 5.6, 6.1, 7.2, 8.4, 7.8, null, 4.3, 6.8, 4.9, 6.2, 8.3, 6.2, 7.9, 7.1, 7.3, 6.7, 7.1, 7.4, 6.3, 7.1, 5.8, 7.1, 7.3, 6.2, 7.6, 5.9, 8.4, 7.2, 6.7, 4.1, 7.2, 7.6, 7.2, 6.4, 6.4, 5.8, 6.3, 8.4, 4.4, 8.0, 7.8, 6.3, 6.2, 6.7, 7.3, 7.3, 6.9, 5.4, null, 7.6, 5.3, 7.0, 5.7, 6.4, 7.0, 7.0, 7.3, 7.3, 6.8, 7.4, 8.0, 6.0, 6.3, 7.1, 7.8, 5.8, 4.6, 6.3, 5.1, 5.2, 5.8, 7.3, 8.0, 8.0, 5.0, null, 6.5, 8.1, 6.8, 6.2, 5.1, 6.5, 3.4, 6.7, 7.7, 7.9, 8.0, 5.9, 5.9, 4.5, 6.9, 5.1, 4.6, 6.8, 5.4, 6.3, 4.9, null, 8.0, 7.3, 7.6, 6.5, 5.8, 7.4, 6.5, 7.3, 7.8, 6.5, 5.4, 7.3, 7.2, 5.8, null, 7.6, 8.8, 8.1, 5.7, 3.5, 7.1, 6.1, 5.3, 6.8, 5.9, 6.6, 8.8, 8.1, 6.0, 6.5, 5.3, 4.3, 7.0, 7.2, 6.7, 5.7, 6.3, 5.6, 5.4, 5.9, 4.4, 7.4, 6.6, 6.0, 3.8, 7.8, 5.5, 5.2, 7.3, 7.0, 7.4, 6.2, 7.3, 7.1, 5.0, 6.6, 6.4, 4.7, 7.6, 8.0, 7.7, 6.6, 5.9, 4.7, 7.0, 4.5, 5.4, 7.0, 5.8, 6.1, null, 7.6, 8.2, 6.8, 7.5, 7.1, 7.9, 6.5, null, 5.8, 6.6, 8.0, 7.6, 7.9, 7.6, 5.6, 8.0, 8.1, 6.2, 6.8, 8.4, 6.8, null, 7.1, 5.3, 6.1, 5.9, 7.4, null, 7.9, 4.7, 3.5, 7.1, 6.0, 6.6, 6.8, 6.8, 5.4, 6.7, 7.9, 7.1, 5.6, 5.5, null, null, null, 4.6, 3.9, 4.1, 8.2, 8.0, 6.6, 5.5, 5.7, 6.6, 7.6, 7.8, 7.9, null, 6.4, 6.2, 5.6, 4.9, 6.2, 4.6, 5.3, 6.4, null, 6.1, 6.4, 7.8, null, 3.3, 8.6, 5.5, 7.7, 7.2, 7.4, 7.0, 6.3, 5.6, 8.3, 5.6, 7.5, 5.5, 7.5, 6.0, 7.2, 6.6, 5.6, 6.7, 6.8, 6.5, null, 6.6, 7.7, 5.5, 6.8, 3.0, 9.0, 7.6, 8.8, 9.2, 6.8, 8.4, 5.2, 6.9, 6.8, 4.9, 7.2, 4.9, 8.0, 6.1, 7.2, 8.2, 6.9, 7.4, 7.0, 6.7, 5.4, 6.4, 7.9, 8.2, 7.0, 7.5, 6.1, 6.3, null, 6.8, 6.9, 6.9, 7.6, null, 8.2, 6.5, 5.3, 6.0, 7.9, 4.1, 1.5, 6.9, 7.0, 6.4, 3.8, 7.2, 7.9, 8.3, 6.5, 4.4, 4.9, 3.8, 5.6, null, 4.4, 6.0, 5.8, 7.0, 5.3, 3.6, 5.8, 7.9, 4.6, 6.2, 4.3, 6.0, 6.5, 7.6, 8.0, 6.9, 7.4, 7.6, 6.1, 7.6, 7.0, 5.8, 6.9, 8.1, 3.4, 5.3, 6.5, 5.6, 5.4, 6.4, 4.1, 6.5, 2.2, 8.7, 5.1, 6.5, 4.1, 7.8, 3.5, 5.7, 5.6, 6.1, 8.1, 7.2, 5.7, 5.0, 6.1, null, 6.9, 5.1, 8.1, 5.3, 4.8, 4.9, 7.3, 5.8, 4.9, 3.9, 5.6, 8.0, 7.2, 5.5, 6.4, 5.3, 7.9, 7.9, 5.8, 8.3, 5.6, 2.6, 5.6, 5.5, 6.7, 6.7, 5.8, null, 7.6, 7.6, null, null, 5.7, null, 7.9, 5.8, 6.1, 6.0, 7.9, 5.9, 6.8, 7.8, 8.0, 6.0, 6.9, 7.8, 6.7, 7.8, 5.4, 6.9, 6.7, 7.5, 7.8, 5.6, 6.1, 6.7, 5.8, 6.6, 6.6, 8.4, 7.5, null, 7.8, 7.0, null, 7.5, 6.3, 8.2, 7.6, 5.7, 7.3, 4.6, 7.8, 5.9, 7.1, 4.6, 4.9, 7.1, 6.9, 5.7, 8.2, 6.9, 6.7, 6.9, 6.7, 6.6, 7.6, 7.4, 7.6, 6.5, 5.7, 6.9, 7.5, 6.5, 7.2, 7.6, 5.1, 5.8, 7.1, 8.6, 7.4, 7.4, 6.7, 6.4, 2.2, 7.7, 6.2, 7.7, 5.5, 4.9, 8.6, 6.6, 6.3, 6.3, 7.4, 6.9, 7.2, 6.9, 7.3, 5.7, 7.4, 4.5, 8.4, 8.5, 5.9, 8.1, 2.5, 6.0, 8.0, 7.5, 6.9, 6.8, 5.0, null, 7.5, 6.9, 5.9, 7.0, 5.2, 8.4, 5.8, 7.9, 6.3, 6.1, 5.8, null, 7.0, 6.1, 5.2, 7.2, null, 7.1, 6.7, 5.8, 6.6, 8.2, 5.4, 6.2, 7.4, 4.8, 8.1, 6.9, 4.7, 5.7, 7.0, 7.5, 6.7, 7.9, 5.9, 6.7, 6.8, 3.0, 7.5, 8.3, 3.5, 5.2, null, 6.3, 7.3, 7.0, 6.6, 6.1, null, 6.6, 5.7, 7.5, 5.3, 4.9, 6.2, 4.7, 4.5, null, 6.6, 6.3, 6.0, 5.2, 5.0, 7.4, 5.6, 7.4, 6.6, 7.1, 6.7, 6.1, 5.5, 6.6, 3.8, 8.9, 5.6, 6.9, 5.4, 3.3, 7.0, 5.1, 7.0, 6.3, 6.3, 6.9, 6.5, 8.4, 6.4, 7.0, 6.1, 6.3, 2.5, 7.3, 7.1, 6.9, 4.7, 6.0, 7.2, 6.0, 6.0, 7.3, 7.4, 3.8, 6.3, 6.3, 7.6, 4.8, 7.5, 5.8, 7.1, null, 7.7, 7.5, 8.2, 2.7, 5.3, 4.6, 6.0, 5.5, 5.8, 5.1, 5.8, 3.0, 4.9, 6.0, 7.8, 8.1, 5.8, 8.6, 4.7, 6.4, 5.7, 6.7, 6.6, 6.4, 6.3, 7.1, 6.3, 8.1, 6.4, 8.9, 6.5, 4.6, 6.0, 6.1, 6.3, 6.5, 7.4, 5.8, 8.1, 6.5, 6.6, 8.1, 8.4, 6.7, null, 6.8, 8.4, 7.5, 5.7, 7.6, 3.4, 4.7, 7.5, 6.5, 8.4, 8.7, 7.8, 7.4, 7.7, 4.4, null, 2.3, null, 7.5, 7.9, 7.1, 5.8, 6.3, 4.2, 4.0, 5.1, 5.5, 5.9, 5.8, 4.9, 6.5, null, 8.0, 6.1, 5.9, 6.7, 7.2, 7.9, 7.8, 6.7, 7.5, 3.9, 6.5, 7.1, 5.9, 8.5, 6.7, 6.4, 6.0, 7.3, 6.2, 8.7, 5.9, 7.9, 5.2, 6.0, 6.2, 5.3, 8.2, 8.9, 8.1, 4.7, 6.9, 8.0, 6.9, 6.7, null, null, 5.7, null, null, 6.2, 6.7, 5.6, 6.9, 7.4, 2.6, 5.3, 4.3, 7.6, 8.5, 6.4, 3.7, 4.1, 9.2, 5.9, null, 6.3, 8.7, null, 5.2, 5.3, 8.0, 6.9, 8.3, 4.6, 7.1, 7.3, 7.3, 6.0, 6.0, 6.7, 8.7, 7.0, 7.5, null, 5.9, 8.0, 3.8, 7.0, 6.9, 6.4, 7.6, 6.4, 6.1, 5.7, 7.7, 8.4, 4.8, 6.3, 6.0, 5.6, 6.9, 2.6, 5.6, 4.9, 4.8, 7.7, 6.2, 3.4, 6.7, 4.7, 5.5, 4.9, 4.9, 6.8, 6.7, 6.1, 5.9, 6.2, 6.5, 7.3, 8.2, 4.6, 4.3, 3.3, 7.8, null, 8.4, 7.0, 5.0, 7.2, 6.5, 6.8, 3.9, null, 7.0, 3.3, 8.3, 5.3, 6.1, 8.8, 7.0, 7.1, 7.1, 5.2, 6.2, 7.8, 7.8, 7.3, 5.0, 4.7, 6.9, 6.9, 7.1, 7.0, 6.1, 5.1, 5.5, 6.1, 6.6, 6.8, 5.5, 2.8, 5.6, 5.3, null, 5.8, 6.3, 4.7, 6.5, 7.0, 3.4, 5.9, 8.3, 5.6, 6.1, 4.4, 7.0, 5.8, 6.9, 7.7, 5.0, 5.3, 4.3, 5.8, 6.4, 6.2, 6.5, 8.2, 7.8, 4.7, 6.9, 7.2, 8.5, 7.4, 8.1, 7.2, 7.9, 2.9, 6.7, 5.5, 3.3, 6.6, 7.1, 7.4, 5.2, 7.4, 6.7, 7.2, null, 6.0, null, 8.6, 6.0, 8.2, 6.3, 5.7, 6.6, 7.0, 5.1, 8.0, 4.9, 7.3, 7.3, 6.7, null, 7.3, 4.3, 7.7, 5.3, 6.7, 6.1, 5.6, 6.4, 6.0, 5.1, null, 7.4, 7.6, null, 6.4, 7.8, 5.2, 4.5, 6.5, 8.2, 7.3, null, 7.5, null, 7.9, 5.6, 6.0, 4.0, 6.4, 5.9, 6.8, 4.9, 6.5, 7.7, null, 7.3, 7.6, 5.7, 7.8, 6.9, 6.4, 8.3, 6.3, 6.8, 8.1, 5.9, 8.0, 5.7, 6.6, 8.0, 6.2, 7.0, 7.3, 6.5, 4.4, 6.9, 5.8, 6.3, 7.3, 7.4, 5.4, 7.1, 6.1, 5.1, 6.9, 6.1, null, 6.7, 5.7, 4.7, 6.2, 7.5, 4.9, 6.7, 7.9, 7.9, 5.8, 7.6, 7.1, 6.0, 5.7, 7.3, null, 7.5, 5.6, 5.8, 7.8, 6.6, 7.3, 5.6, 2.9, 7.9, 5.4, 7.5, 6.8, 5.7, 6.3, 6.0, null, 6.8, 6.4, 5.8, 7.6, 5.9, 7.3, 5.4, 6.7, 7.0, 7.8, null, 5.1, 6.6, 7.4, 7.3, 4.8, 6.5, null, 6.3, 7.9, 6.4, 7.3, 8.1, 6.2, 6.8, 7.3, 4.6, 6.3, 7.6, 6.0, 5.9, 5.3, 5.9, 5.8, 4.0, 6.7, 6.1, 7.3, 6.6, 6.2, 8.5, 6.4, 5.7, 8.0, 5.5, 6.6, null, 2.3, 6.2, 6.1, 6.9, 5.9, 5.5, 5.4, 5.4, null, 8.6, 4.5, 5.7, 5.7, 8.5, 8.6, 7.9, 4.9, 7.1, 7.2, 8.1, 6.2, 6.1, 6.9, 7.4, 7.6, 5.7, 5.8, 4.3, 4.2, 6.6, 7.0, 6.7, 7.0, 5.5, 6.1, 5.7, 4.6, 6.5, 5.6, 6.6, 6.2, 6.0, 6.4, 6.8, 5.9, 6.8, 7.9, 7.2, 7.1, 4.6, 6.6, 4.2, 7.2, 6.1, 5.3, 5.2, 6.2, 5.9, 6.9, 5.5, 6.4, 7.2, 6.4, 7.8, 7.6, 7.6, 7.4, 4.9, 7.2, 5.6, null, 4.7, 6.4, 6.8, 4.8, 7.9, 6.7, 7.5, 7.5, 6.6, 6.2, 7.1, 6.8, 6.6, 8.3, 3.4, 7.6, 5.4, 5.6, 6.5, 6.8, 7.3, 6.1, 6.1, 7.6, 5.3, 4.0, 1.4, 2.2, 6.2, 5.3, 7.5, null, 7.1, 7.2, 5.6, 4.9, 6.6, 5.4, 5.5, 7.8, 2.1, 3.9, 6.3, 8.3, 2.3, 8.9, 3.3, 6.1, 6.1, 8.0, 6.1, 4.8, 4.8, 6.6, 5.6, 4.7, 5.9, 7.2, 8.0, 6.0, 4.4, 6.6, 6.9, 7.5, 6.3, null, 7.9, 6.1, 7.3, 5.3, 7.7, 7.2, 5.4, 4.4, 6.6, 6.7, 5.3, 7.1, 5.2, 8.1, 8.0, 5.8, 6.0, 8.2, 4.7, 7.7, 4.6, 4.8, 6.3, 7.7, 6.4, 6.3, 7.0, 5.6, 6.8, 7.5, 7.0, 6.2, 6.4, 5.5, 5.7, 6.5, 7.7, 6.3, 8.0, 4.3, 7.1, null, 6.6, null, 6.2, 6.1, 7.4, 3.4, 5.5, 6.3, 8.0, 4.0, null, 7.8, 5.6, 6.5, 7.1, 6.9, 3.9, 7.4, 6.7, 6.3, 3.9, 6.5, 7.9, 7.7, 7.7, 7.6, 8.2, 5.6, 4.3, 5.5, 8.2, 7.6, 7.8, 5.2, 6.2, 6.2, 6.2, 5.0, 4.3, 7.1, 7.5, 6.8, null, 6.9, 7.8, 5.3, 5.9, 3.5, null, 6.4, 6.9, 5.2, 2.8, 6.0, 7.1, 7.1, 8.1, 4.9, 5.5, 6.2, 7.4, 7.3, 8.4, 5.9, 7.8, null, 3.5, 4.7, 7.3, 4.6, 5.4, 7.3, 6.9, 6.8, null, 6.4, 4.8, null, 6.6, 5.4, 5.5, 6.7, 6.2, 7.6, 7.0, null, 4.3, 7.5, 7.5, 5.7, 3.4, 6.9, 3.2, 5.9, 3.8, 6.2, null, 6.0, 6.0, 5.2, 4.6, 6.1, 6.2, 6.5, 6.4, 7.1, 6.8, 4.7, 5.5, 7.5, 7.2, 5.8, 7.3, 5.6, 5.2, 6.1, 4.9, 5.3, 5.1, 8.1, 6.5, 6.2, 7.3, 6.9, 7.8, 2.1, 6.5, 7.0, 6.7, 8.0, 5.4, 6.4, 6.4, null, 3.2, 6.5, 5.5, 7.3, null, 5.0, 4.0, 6.2, 2.9, 7.7, 4.6, 6.7, 6.2, 6.7, 6.9, 7.6, 7.8, 6.5, 7.1, 7.1, 6.5, 6.3, 4.1, 5.1, 7.8, 4.3, 5.0, 6.2, 6.6, 6.8, 6.5, 7.3, 7.0, 6.8, 4.2, 7.8, 4.3, 4.8, 6.9, 5.5, 6.7, 7.1, 6.1, 6.7, 5.7, 6.0, 5.4, null, 4.2, 5.8, 7.0, 6.1, 1.7000000000000002, 6.6, 7.6, 6.7, 6.2, 6.4, 7.4, 6.3, 6.5, 5.0, 4.7, 5.2, 6.6, 8.8, 5.9, 6.1, 7.1, 5.3, 6.7, 4.8, 4.9, 7.2, 7.3, null, 2.4, 5.5, 5.6, 4.9, 3.4, null, 5.5, 7.8, null, 8.3, 5.6, 5.7, 2.6, 6.5, 7.4, 6.6, 4.5, 7.6, 6.0, 7.4, 5.6, 5.1, null, 7.8, 6.0, 7.0, 6.6, 5.1, 7.2, 5.5, 6.0, 5.7, null, 5.1, 7.0, 4.4, 7.7, 4.3, 5.6, 5.8, 4.6, 5.9, 5.9, 5.8, 6.8, null, 6.1, 7.5, 4.6, 4.8, 7.1, 1.7000000000000002, 8.3, 5.2, 8.0, 6.6, 5.8, 6.5, 3.9, 5.6, 5.3, 5.3, 6.0, 5.4, 6.2, 4.9, 2.5, 7.3, 5.3, 5.9, 7.7, 5.2, null, 4.8, 6.1, 6.6, 6.0, 8.5, 4.8, 6.6, 7.1, null, 3.4, 6.0, 5.2, 5.5, 5.9, 6.7, 4.2, 5.3, 5.2, 5.3, 6.6, 6.4, 6.2, 5.2, null, 7.2, 7.4, 5.9, 3.0, 6.0, 7.0, 6.8, 5.1, 6.3, 7.5, 3.6, 5.7, 4.7, 7.2, 3.3, null, 3.6, 5.7, 6.1, null, 6.4, 3.8, 5.3, 5.0, 4.4, 7.1, 7.7, 6.2, 6.7, 6.0, 7.5, 6.7, 4.8, 6.6, 6.3, 5.8, 7.4, 4.9, 6.8, 7.6, 6.3, 6.2, 5.4, 6.7, 6.5, 7.8, 5.4, 7.4, 7.5, 6.9, 5.4, 6.7, 7.4, 7.2, 6.1, 6.5, 4.6, 2.2, 5.0, 7.2, 6.4, 4.7, 8.5, 6.6, 7.9, 6.5, 7.0, 6.3, null, 6.1, 5.9, 6.0, 7.3, 5.2, 6.8, 5.0, 7.1, 6.8, 6.4, 4.1, 7.2, 6.3, 5.6, 6.5, 4.5, 6.3, null, null, 7.5, 2.5, 4.8, 6.0, 7.3, 6.4, 5.9, 4.9, 3.1, 7.6, 6.4, 7.4, 6.3, 5.9, 5.7, 5.6, 5.1, 6.0, 7.6, 7.6, 7.3, 6.8, 6.9, 8.8, 6.4, 7.2, 4.0, 4.4, 7.5, 6.9, 1.6, 6.8, 7.2, 6.7, 7.2, 5.7, 6.0, 7.8, 4.6, 7.0, 6.5, 4.7, 7.1, 6.6, 6.1, 8.2, null, null, null, 7.4, null, 4.1, 6.2, 7.3, 6.7, 7.5, 5.3, 6.5, 7.3, 8.0, 4.9, 4.4, 5.6, 5.3, 7.3, 7.2, 7.2, 7.4, 4.8, 5.6, 5.1, 7.9, 6.1, 6.0, 7.2, 6.3, 6.8, null, 2.6, 6.3, 6.2, 7.7, 7.4, 4.8, 5.8, 7.8, null, 3.3, 5.0, 6.0, 6.1, 7.5, 6.0, null, 5.7, 6.2, 5.0, 6.8, 6.6, 5.3, 6.4, 5.6, 5.2, 4.7, 6.7, 2.4, 5.5, 5.8, null, 8.3, 2.0, 4.7, 5.6, null, 8.4, 6.0, 8.1, 7.7, 6.1, 5.4, null, 6.9, null, 4.7, 4.8, null, 6.4, 6.2, 8.1, 7.3, null, 6.3, 7.1, 7.2, 6.8, 6.2, 6.8, 6.1, 7.6, 7.9, 7.0, 7.1, 5.3, 5.9, 7.0, 5.7, 7.9, 4.0, 7.9, 5.8, 7.4, 4.6, 5.7, 5.8, null, 5.7, 4.8, 5.5, 6.8, 5.5, 5.5, 7.7, 4.5, 7.2, 6.3, 6.0, 6.0, null, 6.5, 3.9, 5.2, 7.5, 7.2, 7.0, 4.9, 7.4, 5.5, 6.9, 5.5, 6.5, 6.6, 5.6, 6.7, null, 5.1, 7.6, 6.3, 6.8, 3.2, 7.3, 6.8, 5.7, 6.7, null, 4.6, null, 4.8, 4.6, 6.1, 7.6, 4.3, 6.1, 3.7, 6.7, 7.6, 5.7, 6.8, 6.7, 7.2, 4.7, 5.0, 6.5, 6.7, 4.1, null, 3.9, 4.7, 3.6, 6.4, null, 5.4, 6.0, 7.9, 4.3, 6.9, 7.1, 6.9, 5.5, null, 4.7, 4.6, 2.6, 5.3, 5.3, 7.2, 5.4, 7.3, 5.7, 6.5, 7.6, 7.5, 5.4, 5.4, 5.4, 5.5, null, 7.2, 7.7, 7.6, 7.4, 7.3, 7.2, 6.7, 6.8, 4.1, 5.6, 6.3, 6.3, 7.5, 5.1, 6.2, 6.6, 5.4, 8.0, 6.6, 8.2, 6.8, 5.7, 7.1, 6.5, 5.8, null, 7.8, 7.5, 6.2, 6.3, 5.2, 5.2, 6.9, 7.1, 7.4, 6.0, 7.5, 5.2, 7.3, 6.7, 5.8, 7.0, 6.0, 3.3, 5.8, 7.2, 4.1, 5.4, 5.9, 7.7, 6.1, 7.1, 6.7, 5.4, 6.0, 9.1, 5.2, 5.5, 7.2, 6.6, 5.3, 7.1, 6.2, 5.2, 6.1, 6.1, 6.1, 7.7, 8.0, 6.3, 3.9, 6.2, 6.5, 6.0, 6.3, null, 7.3, 7.9, 7.9, 7.4, 6.9, 4.9, 5.3, 6.9, 5.5, 4.6, 7.6, 6.0, 7.1, 6.1, 7.2, 4.8, 6.3, 6.0, 8.0, 6.8, 5.3, 7.2, 6.3, 5.9, 5.4, 6.7, 5.7, 5.8, 5.3, 7.7, 3.8, 6.2, 5.1, 6.4, 5.7, 6.8, 5.0, null, 5.2, 5.3, 4.3, 6.6, 6.3, 6.6, 5.1, 5.4, 7.2, 6.8, 6.7, 7.1, 7.2, 5.9, 7.1, 7.9, 7.9, 6.3, 5.1, 4.1, 5.8, 6.5, 6.2, null, 4.1, 8.1, 6.2, 6.3, null, 6.1, 6.4, 6.9, 8.0, 8.2, null, 7.1, 7.2, 6.8, 6.4, 7.6, 7.5, 6.6, 7.1, 4.3, 6.0, 6.4, 4.1, 7.3, 4.7, 3.5, null, 6.6, 7.8, 7.0, 5.7, 8.4, 7.2, 6.5, 6.2, 5.8, 6.8, 6.3, 4.7, 5.3, 6.5, 7.5, 7.3, 5.7, 5.2, 7.4, 2.8, 7.8, 5.9, null, 5.0, 5.0, 7.1, 6.1, null, 8.1, null, 6.3, 7.4, 6.7, 7.7, 5.8, 6.4, 7.2, 7.2, 7.3, 5.3, 4.4, 7.1, 6.9, 5.4, 6.5, 4.7, 6.3, 6.1, 7.8, 6.7, 6.8, 8.0, 6.7, 6.2, 7.7, 6.1, 5.0, null, 6.6, 4.8, 4.8, null, 6.7, 6.7, 5.1, 6.8, 8.7, 8.8, 8.8, 7.7, null, 5.7, 6.7, 5.4, 7.8, 5.7, 3.9, 5.3, 7.9, 7.0, 4.5, 7.0, 6.0, 5.1, 6.0, 4.4, 6.4, 5.7, 7.1, 5.9, 4.3, 7.6, 6.8, 7.9, 5.3, 6.6, 4.7, 6.2, 6.9, 5.5, 5.6, 8.5, 5.6, 7.6, null, 6.2, 6.1, 6.3, 6.8, 6.6, 7.4, 6.4, 5.0, 5.3, 5.7, 7.7, 4.2, 7.4, 6.3, 2.4, 6.4, 4.5, 2.0, 6.9, 8.7, 5.1, 5.8, 7.8, 7.4, 6.6, 5.8, 4.5, 3.1, 5.7, 5.6, 3.9, null, 6.7, 5.7, 7.5, 7.5, 6.1, 6.7, 7.3, 4.7, 4.8, 8.2, 3.1, 5.5, 7.0, 6.3, 3.4, 6.9, 7.1, 7.0, 6.8, 8.7, 5.8, 4.9, 7.8, 5.6, 6.9, 7.6, null, 8.0, 6.4, 6.6, 7.4, null, 6.8, 4.7, 6.9, 6.9, 6.1, 7.4, 5.4, 6.8, 4.9, 4.8, 5.9, 7.6, 5.1, 7.0, 6.7, 6.2, 5.7, 7.4, 6.5, 7.2, 5.1, 6.7, 6.1, 7.2, 7.2, 5.6, 6.8, 8.3, 7.2, 7.4, 7.4, null, 5.7, 8.0, 5.2, 6.4, 6.5, 7.3, 7.1, 6.4, 7.0, 5.6, 6.1, 7.7, null, 5.2, 7.1, 3.2, 6.6, 5.9, 6.1, 5.3, 7.1, 6.1, 2.4, 5.5, 7.8, 7.2, 6.7, null, 7.1, 6.5, 7.1, 7.2, 7.9, 6.8, 6.2, 5.1, 7.8, 6.1, 5.9, 5.5, 6.4, 4.4, 6.6, 7.1, 6.0, 6.8, 7.2, 5.9, 6.2, null, 6.9, 6.5, 7.4, 4.5, 6.3, 7.4, 7.0, null, 8.0, 5.7, 7.3, 6.9, 6.9, 6.6, 6.2, 5.7, null, 8.3, 8.1, 7.2, 5.3, 5.2, 5.4, 5.7, 4.4, 6.3, 6.8, 6.9, 5.0, 7.3, 6.0, 6.3, 6.6, 7.3, 4.9, 5.9, 6.8, 6.3, 8.3, 5.5, 8.0, 6.3, 8.0, 5.5, 5.8, null, 6.9, 7.2, 7.5, 6.9, 6.4, 6.5, 5.9, null, 6.2, 6.4, 5.9, 4.3, 5.8, 7.9, 8.2, 6.9, 6.5, null, 5.9, 6.1, 7.6, 6.0, 6.9, 7.6, 7.9, 7.0, 5.4, 6.6, 8.0, 7.1, 7.0, 6.9, 4.7, 3.4, 6.0, 6.5, 6.0, 5.9, 7.5, 4.9, 6.0, 5.6, 7.4, 6.7, 7.0, 6.0, 5.6, 7.0, 5.8, 6.4, 7.1, 4.9, 4.9, 7.0, 5.3, 8.4, 7.1, 6.3, 5.8, 6.1, 5.4, 5.3, 5.9, 5.8, 7.1, 5.5, 6.2, 6.5, 2.2, 6.8, 7.2, 7.2, 8.5, 5.1, 8.0, 7.3, 7.0, 6.4, 7.0, 5.1, 5.1, 5.8, 6.6, 5.3, 5.3, 4.4, 6.9, 6.1, 7.1, 5.5, 7.4, 6.1, 3.7, 4.8, 6.7, null, 3.5, 6.5, 6.9, 6.4, null, 3.5, 6.7, 5.8, 7.8, 4.5, 5.6, 6.4, null, 5.5, 6.8, 7.5, 5.7, 6.7, 7.5, 6.7, 5.5, null, 6.9, 6.2, 7.5, 5.6, 5.1, 7.8, 6.9, 5.4, null, 6.8, null, 5.1, 6.9, 6.9, 5.4, null, 8.4, null, 5.5, 6.0, 4.5, 6.9, 7.1, 5.9, 5.0, 7.4, 6.1, 6.0, 5.9, 7.6, 6.8, 4.7, 7.2, 3.5, 6.1, 7.6, 5.0, 6.5, 7.1, 7.6, 6.9, 6.9, 7.3, 4.8, null, 5.0, 8.1, null, 2.7, 2.8, 6.9, 6.4, 7.6, 5.2, 5.2, 7.4, 6.4, 7.7, 7.3, 7.7, 5.6, 4.7, 6.2, 6.1, 6.5, 7.7, 5.4, 7.8, 7.0, 7.0, 6.9, 6.2, 5.9, 5.8, 6.2, null, 6.4, 6.6, 7.6, 6.6, 5.9, 5.5, 6.9, 5.4, 6.2, 6.4, 5.1, 6.8, 4.1, 7.1, 7.0, null, 6.2, 5.8, 7.3, 6.9, 6.3, 5.8, 5.5, 5.0, 5.9, 7.2, 6.8, 5.3, 8.5, 6.4, 7.5, 2.3, 6.7, 7.5, 6.0, 6.4, 6.0, 6.2, 6.6, 7.5, 6.0, 6.4, 6.0, 6.8, 7.8, null, 6.9, 5.2, 8.3, 5.9, 5.9, 3.5, 7.4, 7.1, 3.9, 7.0, 5.6, 7.7, 6.8, 6.3, 6.0, 5.7, 6.2, 4.6, 5.7, 3.6, 7.4, 7.2, 4.7, 5.4, 5.0, 4.8, 4.7, 7.3, 7.2, 6.0, 6.8, 6.8, 2.9, 5.9, 5.3, 5.3, null, 7.9, 7.2, 6.3, 6.1, 5.5, 2.6, 5.0, 6.8, 6.7, 5.4, 6.3, 6.8, 5.6, 6.3, 6.8, 5.9, 4.1, 6.0, 8.0, 6.7, 5.4, 6.4, 6.7, 6.0, 6.5, 8.0, 7.4, 8.0, 7.5, 6.7, 7.2, 8.0, 7.5, 6.1, 6.7, 5.9, 7.4, 4.7, 5.3, 8.2, null, 6.9, 6.7, 4.9, 7.6, 6.6, 8.3, 5.6, 8.2, 7.6, 6.5, 5.3, 6.6, 4.9, null, null, 7.5, 7.8, 7.0, 6.4, 5.6, 5.9, 4.6, 5.0, 6.6, 8.3, 6.4, 5.9, 4.7, 6.6, 5.8, 6.2, 4.8, 4.6, 7.2, 5.8, 6.0, 6.9, 7.8, 4.1, 5.0, 6.7, 6.2, 6.6, 4.9, 6.7, 7.3, 8.2, 4.4, 5.1, 6.2, 6.7, 6.7, 6.9, 5.7, 7.5, 6.4, 6.4, 3.7, null, 5.6, 6.7, 4.8, 7.8, null, 4.5, 6.3, 7.8, 6.3, 6.8, 3.7, 3.4, 5.6, 2.9, 7.7, 6.4, 7.4, 8.1, 4.9, 6.6, 6.8, null, 6.6, 6.9, null, 4.1, 5.7, 6.8, 7.6, 6.6, 7.5, null, 6.0, 3.6, 6.6, null, null, 7.1, 7.8, 4.5, 6.5, 2.7, 5.1, 5.1, 6.2, 4.3, 7.8, null, 5.9, 6.0, 7.1, 7.0, 5.8, 5.6, 4.8, null, 6.0, 6.4, 6.5, 6.2, 5.6, 5.3, 7.3, 6.2, null, 6.1, 8.0, 7.6, 6.4, 6.4, null, 6.0, 6.8, 5.9, null, 5.9, 5.6, 6.3, 6.8, 2.9, 7.0, 6.3, 6.5, 5.7, 8.5, 5.9, 7.8, 7.6, 6.5, 3.4, 6.8, null, 4.6, 6.0, 6.2, 6.1, 5.4, 4.7, 4.7, 6.8, 7.1, 7.7, null, 7.1, 5.8, 6.1, null, 4.8, 6.5, 6.4, 7.2, 7.1, 6.8, 4.0, 6.1, 4.0, 4.8, 5.4, 5.3, 6.7, 7.5, 6.1, 7.3, 6.7, 6.4, 6.1, 5.5, 5.5, 7.4, 6.6, null, 7.3, 6.0, null, 7.3, 7.6, 7.4, 4.5, 6.8, 6.7, 6.0, 4.6, 5.3, 3.3, 7.5, 7.3, 5.9, 5.4, 5.2, 5.6, 7.1, 5.0, 5.8, 6.7, 6.3, 5.0, 6.0, 5.3, null, 7.0, 6.4, 7.4, 7.8, 5.5, 5.6, 4.9, 7.4, 6.6, 6.4, 7.6, 5.2, 5.4, 6.3, 7.1, 3.5, 7.8, 8.7, 8.0, 8.9, 6.5, 6.6, 7.8, 2.7, 7.6, 7.1, 6.0, 5.5, 4.6, 8.2, 7.1, 7.6, 6.6, 6.6, 7.5, 7.2, 7.0, 5.5, 5.1, 8.0, 5.8, 6.6, 6.9, null, 7.4, null, 7.1, 4.5, 6.5, 6.7, 4.5, 6.9, 3.6, 5.6, 5.4, 6.1, 4.8, null, null, 6.1, 4.4, 5.4, 5.8, 6.1, 5.0, 6.9, 7.8, 8.3, 6.4, 5.7, 3.3, 6.6, 6.4, 4.0, 3.7, 7.3, 4.5, 5.6, 6.7, 3.7, 5.8, 6.6, 7.1, 6.6, 3.4, 6.6, 7.1, 6.1, 8.4, null, 7.0, 5.2, 3.7, 6.7, 7.3, 5.6, 4.3, 6.1, 6.4, 7.1, 7.4, 4.6, null, 6.2, 8.2, null, 5.5, 6.6, 7.2, 4.5, 6.8, null, 5.6, 6.8, 6.9, 5.2, 4.4, 5.7, 3.3, 6.0, 5.7, null, 7.1, 7.0, 6.8, null, null, 8.5, 6.2, null, null, 7.2, 7.8, null, 7.2, 5.5, 8.2, 7.5, null, 5.0, 6.3, 4.8, 6.6, 6.8, null, null, 5.5, 6.4, 7.0, 6.9, 7.9, 6.7, 5.7, 7.7, 6.7, 6.4, 4.2, 7.1, 4.5, 4.7, 6.6, 6.5, 6.9, 7.2, 6.6, 6.3, 5.8, 6.1, 3.7, 6.9, 5.9, 6.5, 7.9, 7.1, 6.2, 4.3, 5.9, null, 6.4, 4.9, 7.4, 6.7, 7.9, 3.4, 6.1, 5.7, 5.0, 6.4, 5.4, 7.4, 8.2, 6.0, 6.2, 3.7, 6.9, 6.3, 5.3, 5.7, 5.8, 6.3, 6.5, 5.9, null, 6.4, 7.4, 7.8, 6.9, 6.2, 7.1, 4.1, 6.3, null, 7.7, 5.0, null, 7.0, 6.7, 7.6, 6.2, 6.7, null, null, 4.5, 7.2, null, 6.8, 6.4, 7.8, 7.0, null, 3.4, 5.7, 6.7], \"y0\": \" \", \"yaxis\": \"y\"}],\n",
              "                        {\"boxmode\": \"group\", \"legend\": {\"tracegroupgap\": 0}, \"margin\": {\"t\": 60}, \"template\": {\"data\": {\"bar\": [{\"error_x\": {\"color\": \"#2a3f5f\"}, \"error_y\": {\"color\": \"#2a3f5f\"}, \"marker\": {\"line\": {\"color\": \"#E5ECF6\", \"width\": 0.5}}, \"type\": \"bar\"}], \"barpolar\": [{\"marker\": {\"line\": {\"color\": \"#E5ECF6\", \"width\": 0.5}}, \"type\": \"barpolar\"}], \"carpet\": [{\"aaxis\": {\"endlinecolor\": \"#2a3f5f\", \"gridcolor\": \"white\", \"linecolor\": \"white\", \"minorgridcolor\": \"white\", \"startlinecolor\": \"#2a3f5f\"}, \"baxis\": {\"endlinecolor\": \"#2a3f5f\", \"gridcolor\": \"white\", \"linecolor\": \"white\", \"minorgridcolor\": \"white\", \"startlinecolor\": \"#2a3f5f\"}, \"type\": \"carpet\"}], \"choropleth\": [{\"colorbar\": {\"outlinewidth\": 0, \"ticks\": \"\"}, \"type\": \"choropleth\"}], \"contour\": [{\"colorbar\": {\"outlinewidth\": 0, \"ticks\": \"\"}, \"colorscale\": [[0.0, \"#0d0887\"], [0.1111111111111111, \"#46039f\"], [0.2222222222222222, \"#7201a8\"], [0.3333333333333333, \"#9c179e\"], [0.4444444444444444, \"#bd3786\"], [0.5555555555555556, \"#d8576b\"], [0.6666666666666666, \"#ed7953\"], [0.7777777777777778, \"#fb9f3a\"], [0.8888888888888888, \"#fdca26\"], [1.0, \"#f0f921\"]], \"type\": \"contour\"}], \"contourcarpet\": [{\"colorbar\": {\"outlinewidth\": 0, \"ticks\": \"\"}, \"type\": \"contourcarpet\"}], \"heatmap\": [{\"colorbar\": {\"outlinewidth\": 0, \"ticks\": \"\"}, \"colorscale\": [[0.0, \"#0d0887\"], [0.1111111111111111, \"#46039f\"], [0.2222222222222222, \"#7201a8\"], [0.3333333333333333, \"#9c179e\"], [0.4444444444444444, \"#bd3786\"], [0.5555555555555556, \"#d8576b\"], [0.6666666666666666, \"#ed7953\"], [0.7777777777777778, \"#fb9f3a\"], [0.8888888888888888, \"#fdca26\"], [1.0, \"#f0f921\"]], \"type\": \"heatmap\"}], \"heatmapgl\": [{\"colorbar\": {\"outlinewidth\": 0, \"ticks\": \"\"}, \"colorscale\": [[0.0, \"#0d0887\"], [0.1111111111111111, \"#46039f\"], [0.2222222222222222, \"#7201a8\"], [0.3333333333333333, \"#9c179e\"], [0.4444444444444444, \"#bd3786\"], [0.5555555555555556, \"#d8576b\"], [0.6666666666666666, \"#ed7953\"], [0.7777777777777778, \"#fb9f3a\"], [0.8888888888888888, \"#fdca26\"], [1.0, \"#f0f921\"]], \"type\": \"heatmapgl\"}], \"histogram\": [{\"marker\": {\"colorbar\": {\"outlinewidth\": 0, \"ticks\": \"\"}}, \"type\": \"histogram\"}], \"histogram2d\": [{\"colorbar\": {\"outlinewidth\": 0, \"ticks\": \"\"}, \"colorscale\": [[0.0, \"#0d0887\"], [0.1111111111111111, \"#46039f\"], [0.2222222222222222, \"#7201a8\"], [0.3333333333333333, \"#9c179e\"], [0.4444444444444444, \"#bd3786\"], [0.5555555555555556, \"#d8576b\"], [0.6666666666666666, \"#ed7953\"], [0.7777777777777778, \"#fb9f3a\"], [0.8888888888888888, \"#fdca26\"], [1.0, \"#f0f921\"]], \"type\": \"histogram2d\"}], \"histogram2dcontour\": [{\"colorbar\": {\"outlinewidth\": 0, \"ticks\": \"\"}, \"colorscale\": [[0.0, \"#0d0887\"], [0.1111111111111111, \"#46039f\"], [0.2222222222222222, \"#7201a8\"], [0.3333333333333333, \"#9c179e\"], [0.4444444444444444, \"#bd3786\"], [0.5555555555555556, \"#d8576b\"], [0.6666666666666666, \"#ed7953\"], [0.7777777777777778, \"#fb9f3a\"], [0.8888888888888888, \"#fdca26\"], [1.0, \"#f0f921\"]], \"type\": \"histogram2dcontour\"}], \"mesh3d\": [{\"colorbar\": {\"outlinewidth\": 0, \"ticks\": \"\"}, \"type\": \"mesh3d\"}], \"parcoords\": [{\"line\": {\"colorbar\": {\"outlinewidth\": 0, \"ticks\": \"\"}}, \"type\": \"parcoords\"}], \"pie\": [{\"automargin\": true, \"type\": \"pie\"}], \"scatter\": [{\"marker\": {\"colorbar\": {\"outlinewidth\": 0, \"ticks\": \"\"}}, \"type\": \"scatter\"}], \"scatter3d\": [{\"line\": {\"colorbar\": {\"outlinewidth\": 0, \"ticks\": \"\"}}, \"marker\": {\"colorbar\": {\"outlinewidth\": 0, \"ticks\": \"\"}}, \"type\": \"scatter3d\"}], \"scattercarpet\": [{\"marker\": {\"colorbar\": {\"outlinewidth\": 0, \"ticks\": \"\"}}, \"type\": \"scattercarpet\"}], \"scattergeo\": [{\"marker\": {\"colorbar\": {\"outlinewidth\": 0, \"ticks\": \"\"}}, \"type\": \"scattergeo\"}], \"scattergl\": [{\"marker\": {\"colorbar\": {\"outlinewidth\": 0, \"ticks\": \"\"}}, \"type\": \"scattergl\"}], \"scattermapbox\": [{\"marker\": {\"colorbar\": {\"outlinewidth\": 0, \"ticks\": \"\"}}, \"type\": \"scattermapbox\"}], \"scatterpolar\": [{\"marker\": {\"colorbar\": {\"outlinewidth\": 0, \"ticks\": \"\"}}, \"type\": \"scatterpolar\"}], \"scatterpolargl\": [{\"marker\": {\"colorbar\": {\"outlinewidth\": 0, \"ticks\": \"\"}}, \"type\": \"scatterpolargl\"}], \"scatterternary\": [{\"marker\": {\"colorbar\": {\"outlinewidth\": 0, \"ticks\": \"\"}}, \"type\": \"scatterternary\"}], \"surface\": [{\"colorbar\": {\"outlinewidth\": 0, \"ticks\": \"\"}, \"colorscale\": [[0.0, \"#0d0887\"], [0.1111111111111111, \"#46039f\"], [0.2222222222222222, \"#7201a8\"], [0.3333333333333333, \"#9c179e\"], [0.4444444444444444, \"#bd3786\"], [0.5555555555555556, \"#d8576b\"], [0.6666666666666666, \"#ed7953\"], [0.7777777777777778, \"#fb9f3a\"], [0.8888888888888888, \"#fdca26\"], [1.0, \"#f0f921\"]], \"type\": \"surface\"}], \"table\": [{\"cells\": {\"fill\": {\"color\": \"#EBF0F8\"}, \"line\": {\"color\": \"white\"}}, \"header\": {\"fill\": {\"color\": \"#C8D4E3\"}, \"line\": {\"color\": \"white\"}}, \"type\": \"table\"}]}, \"layout\": {\"annotationdefaults\": {\"arrowcolor\": \"#2a3f5f\", \"arrowhead\": 0, \"arrowwidth\": 1}, \"coloraxis\": {\"colorbar\": {\"outlinewidth\": 0, \"ticks\": \"\"}}, \"colorscale\": {\"diverging\": [[0, \"#8e0152\"], [0.1, \"#c51b7d\"], [0.2, \"#de77ae\"], [0.3, \"#f1b6da\"], [0.4, \"#fde0ef\"], [0.5, \"#f7f7f7\"], [0.6, \"#e6f5d0\"], [0.7, \"#b8e186\"], [0.8, \"#7fbc41\"], [0.9, \"#4d9221\"], [1, \"#276419\"]], \"sequential\": [[0.0, \"#0d0887\"], [0.1111111111111111, \"#46039f\"], [0.2222222222222222, \"#7201a8\"], [0.3333333333333333, \"#9c179e\"], [0.4444444444444444, \"#bd3786\"], [0.5555555555555556, \"#d8576b\"], [0.6666666666666666, \"#ed7953\"], [0.7777777777777778, \"#fb9f3a\"], [0.8888888888888888, \"#fdca26\"], [1.0, \"#f0f921\"]], \"sequentialminus\": [[0.0, \"#0d0887\"], [0.1111111111111111, \"#46039f\"], [0.2222222222222222, \"#7201a8\"], [0.3333333333333333, \"#9c179e\"], [0.4444444444444444, \"#bd3786\"], [0.5555555555555556, \"#d8576b\"], [0.6666666666666666, \"#ed7953\"], [0.7777777777777778, \"#fb9f3a\"], [0.8888888888888888, \"#fdca26\"], [1.0, \"#f0f921\"]]}, \"colorway\": [\"#636efa\", \"#EF553B\", \"#00cc96\", \"#ab63fa\", \"#FFA15A\", \"#19d3f3\", \"#FF6692\", \"#B6E880\", \"#FF97FF\", \"#FECB52\"], \"font\": {\"color\": \"#2a3f5f\"}, \"geo\": {\"bgcolor\": \"white\", \"lakecolor\": \"white\", \"landcolor\": \"#E5ECF6\", \"showlakes\": true, \"showland\": true, \"subunitcolor\": \"white\"}, \"hoverlabel\": {\"align\": \"left\"}, \"hovermode\": \"closest\", \"mapbox\": {\"style\": \"light\"}, \"paper_bgcolor\": \"white\", \"plot_bgcolor\": \"#E5ECF6\", \"polar\": {\"angularaxis\": {\"gridcolor\": \"white\", \"linecolor\": \"white\", \"ticks\": \"\"}, \"bgcolor\": \"#E5ECF6\", \"radialaxis\": {\"gridcolor\": \"white\", \"linecolor\": \"white\", \"ticks\": \"\"}}, \"scene\": {\"xaxis\": {\"backgroundcolor\": \"#E5ECF6\", \"gridcolor\": \"white\", \"gridwidth\": 2, \"linecolor\": \"white\", \"showbackground\": true, \"ticks\": \"\", \"zerolinecolor\": \"white\"}, \"yaxis\": {\"backgroundcolor\": \"#E5ECF6\", \"gridcolor\": \"white\", \"gridwidth\": 2, \"linecolor\": \"white\", \"showbackground\": true, \"ticks\": \"\", \"zerolinecolor\": \"white\"}, \"zaxis\": {\"backgroundcolor\": \"#E5ECF6\", \"gridcolor\": \"white\", \"gridwidth\": 2, \"linecolor\": \"white\", \"showbackground\": true, \"ticks\": \"\", \"zerolinecolor\": \"white\"}}, \"shapedefaults\": {\"line\": {\"color\": \"#2a3f5f\"}}, \"ternary\": {\"aaxis\": {\"gridcolor\": \"white\", \"linecolor\": \"white\", \"ticks\": \"\"}, \"baxis\": {\"gridcolor\": \"white\", \"linecolor\": \"white\", \"ticks\": \"\"}, \"bgcolor\": \"#E5ECF6\", \"caxis\": {\"gridcolor\": \"white\", \"linecolor\": \"white\", \"ticks\": \"\"}}, \"title\": {\"x\": 0.05}, \"xaxis\": {\"automargin\": true, \"gridcolor\": \"white\", \"linecolor\": \"white\", \"ticks\": \"\", \"title\": {\"standoff\": 15}, \"zerolinecolor\": \"white\", \"zerolinewidth\": 2}, \"yaxis\": {\"automargin\": true, \"gridcolor\": \"white\", \"linecolor\": \"white\", \"ticks\": \"\", \"title\": {\"standoff\": 15}, \"zerolinecolor\": \"white\", \"zerolinewidth\": 2}}}, \"xaxis\": {\"anchor\": \"y\", \"domain\": [0.0, 1.0], \"title\": {\"text\": \"Major_Genre\"}}, \"yaxis\": {\"anchor\": \"x\", \"domain\": [0.0, 1.0], \"title\": {\"text\": \"IMDB_Rating\"}}},\n",
              "                        {\"responsive\": true}\n",
              "                    ).then(function(){\n",
              "                            \n",
              "var gd = document.getElementById('dc9f5f36-e68e-48dc-93ce-2a6deb6a54fa');\n",
              "var x = new MutationObserver(function (mutations, observer) {{\n",
              "        var display = window.getComputedStyle(gd).display;\n",
              "        if (!display || display === 'none') {{\n",
              "            console.log([gd, 'removed!']);\n",
              "            Plotly.purge(gd);\n",
              "            observer.disconnect();\n",
              "        }}\n",
              "}});\n",
              "\n",
              "// Listen for the removal of the full notebook cells\n",
              "var notebookContainer = gd.closest('#notebook-container');\n",
              "if (notebookContainer) {{\n",
              "    x.observe(notebookContainer, {childList: true});\n",
              "}}\n",
              "\n",
              "// Listen for the clearing of the current output cell\n",
              "var outputEl = gd.closest('.output');\n",
              "if (outputEl) {{\n",
              "    x.observe(outputEl, {childList: true});\n",
              "}}\n",
              "\n",
              "                        })\n",
              "                };\n",
              "                \n",
              "            </script>\n",
              "        </div>\n",
              "</body>\n",
              "</html>"
            ]
          },
          "metadata": {}
        }
      ]
    },
    {
      "cell_type": "markdown",
      "metadata": {
        "id": "v5NWay2up84u"
      },
      "source": [
        "## Gráfico de calor"
      ]
    },
    {
      "cell_type": "code",
      "metadata": {
        "colab": {
          "base_uri": "https://localhost:8080/"
        },
        "id": "1ZaGh1f8p84u",
        "outputId": "36cbd1c5-353e-4c25-dc63-d4434cb0d38b"
      },
      "source": [
        "!gdown --id 1rCPEyy5Kj-alvcA8Ge_C_0OGwug2Oi7c"
      ],
      "execution_count": 2,
      "outputs": [
        {
          "output_type": "stream",
          "name": "stdout",
          "text": [
            "Downloading...\n",
            "From: https://drive.google.com/uc?id=1rCPEyy5Kj-alvcA8Ge_C_0OGwug2Oi7c\n",
            "To: /content/videollamada.csv\n",
            "\r  0% 0.00/2.19k [00:00<?, ?B/s]\r100% 2.19k/2.19k [00:00<00:00, 1.92MB/s]\n"
          ]
        }
      ]
    },
    {
      "cell_type": "code",
      "metadata": {
        "colab": {
          "base_uri": "https://localhost:8080/",
          "height": 206
        },
        "id": "hBu8-YQAKa6s",
        "outputId": "02008c3e-33ad-437d-b109-c8af72b05793"
      },
      "source": [
        "videollamadas = pd.read_csv('/content/videollamada.csv')\n",
        "videollamadas.head()"
      ],
      "execution_count": 3,
      "outputs": [
        {
          "output_type": "execute_result",
          "data": {
            "text/html": [
              "<div>\n",
              "<style scoped>\n",
              "    .dataframe tbody tr th:only-of-type {\n",
              "        vertical-align: middle;\n",
              "    }\n",
              "\n",
              "    .dataframe tbody tr th {\n",
              "        vertical-align: top;\n",
              "    }\n",
              "\n",
              "    .dataframe thead th {\n",
              "        text-align: right;\n",
              "    }\n",
              "</style>\n",
              "<table border=\"1\" class=\"dataframe\">\n",
              "  <thead>\n",
              "    <tr style=\"text-align: right;\">\n",
              "      <th></th>\n",
              "      <th>Semana</th>\n",
              "      <th>Día</th>\n",
              "      <th>Horas</th>\n",
              "    </tr>\n",
              "  </thead>\n",
              "  <tbody>\n",
              "    <tr>\n",
              "      <th>0</th>\n",
              "      <td>Semana 01</td>\n",
              "      <td>Lunes</td>\n",
              "      <td>1873263</td>\n",
              "    </tr>\n",
              "    <tr>\n",
              "      <th>1</th>\n",
              "      <td>Semana 01</td>\n",
              "      <td>Martes</td>\n",
              "      <td>908249</td>\n",
              "    </tr>\n",
              "    <tr>\n",
              "      <th>2</th>\n",
              "      <td>Semana 01</td>\n",
              "      <td>Miércoles</td>\n",
              "      <td>1717158</td>\n",
              "    </tr>\n",
              "    <tr>\n",
              "      <th>3</th>\n",
              "      <td>Semana 01</td>\n",
              "      <td>Jueves</td>\n",
              "      <td>1873263</td>\n",
              "    </tr>\n",
              "    <tr>\n",
              "      <th>4</th>\n",
              "      <td>Semana 01</td>\n",
              "      <td>Viernes</td>\n",
              "      <td>908249</td>\n",
              "    </tr>\n",
              "  </tbody>\n",
              "</table>\n",
              "</div>"
            ],
            "text/plain": [
              "      Semana        Día    Horas\n",
              "0  Semana 01      Lunes  1873263\n",
              "1  Semana 01     Martes   908249\n",
              "2  Semana 01  Miércoles  1717158\n",
              "3  Semana 01     Jueves  1873263\n",
              "4  Semana 01    Viernes   908249"
            ]
          },
          "metadata": {},
          "execution_count": 3
        }
      ]
    },
    {
      "cell_type": "code",
      "metadata": {
        "colab": {
          "base_uri": "https://localhost:8080/",
          "height": 300
        },
        "id": "hC8UEJIpLKBH",
        "outputId": "6995a255-4cdb-46bb-b499-7e58ae44f9e1"
      },
      "source": [
        "videollamadas_pivot = videollamadas.pivot(index=\"Día\", columns=\"Semana\", values=\"Horas\")\n",
        "videollamadas_pivot"
      ],
      "execution_count": 4,
      "outputs": [
        {
          "output_type": "execute_result",
          "data": {
            "text/html": [
              "<div>\n",
              "<style scoped>\n",
              "    .dataframe tbody tr th:only-of-type {\n",
              "        vertical-align: middle;\n",
              "    }\n",
              "\n",
              "    .dataframe tbody tr th {\n",
              "        vertical-align: top;\n",
              "    }\n",
              "\n",
              "    .dataframe thead th {\n",
              "        text-align: right;\n",
              "    }\n",
              "</style>\n",
              "<table border=\"1\" class=\"dataframe\">\n",
              "  <thead>\n",
              "    <tr style=\"text-align: right;\">\n",
              "      <th>Semana</th>\n",
              "      <th>Semana 01</th>\n",
              "      <th>Semana 02</th>\n",
              "      <th>Semana 03</th>\n",
              "      <th>Semana 04</th>\n",
              "      <th>Semana 05</th>\n",
              "      <th>Semana 06</th>\n",
              "      <th>Semana 07</th>\n",
              "      <th>Semana 08</th>\n",
              "      <th>Semana 09</th>\n",
              "      <th>Semana 10</th>\n",
              "      <th>Semana 11</th>\n",
              "      <th>Semana 12</th>\n",
              "    </tr>\n",
              "    <tr>\n",
              "      <th>Día</th>\n",
              "      <th></th>\n",
              "      <th></th>\n",
              "      <th></th>\n",
              "      <th></th>\n",
              "      <th></th>\n",
              "      <th></th>\n",
              "      <th></th>\n",
              "      <th></th>\n",
              "      <th></th>\n",
              "      <th></th>\n",
              "      <th></th>\n",
              "      <th></th>\n",
              "    </tr>\n",
              "  </thead>\n",
              "  <tbody>\n",
              "    <tr>\n",
              "      <th>Domingo</th>\n",
              "      <td>681186</td>\n",
              "      <td>1328314</td>\n",
              "      <td>1634848</td>\n",
              "      <td>1779600</td>\n",
              "      <td>1498611</td>\n",
              "      <td>2554450</td>\n",
              "      <td>2145738</td>\n",
              "      <td>2903559</td>\n",
              "      <td>3242449</td>\n",
              "      <td>4851753</td>\n",
              "      <td>4768308</td>\n",
              "      <td>7029848</td>\n",
              "    </tr>\n",
              "    <tr>\n",
              "      <th>Jueves</th>\n",
              "      <td>1873263</td>\n",
              "      <td>1623495</td>\n",
              "      <td>2497685</td>\n",
              "      <td>2966001</td>\n",
              "      <td>3090885</td>\n",
              "      <td>3902633</td>\n",
              "      <td>5245139</td>\n",
              "      <td>4355338</td>\n",
              "      <td>5944491</td>\n",
              "      <td>7277630</td>\n",
              "      <td>6993518</td>\n",
              "      <td>8592037</td>\n",
              "    </tr>\n",
              "    <tr>\n",
              "      <th>Lunes</th>\n",
              "      <td>1873263</td>\n",
              "      <td>2435243</td>\n",
              "      <td>2997222</td>\n",
              "      <td>2372801</td>\n",
              "      <td>3090885</td>\n",
              "      <td>4292896</td>\n",
              "      <td>4808044</td>\n",
              "      <td>4355338</td>\n",
              "      <td>6687552</td>\n",
              "      <td>9703507</td>\n",
              "      <td>7867708</td>\n",
              "      <td>12888056</td>\n",
              "    </tr>\n",
              "    <tr>\n",
              "      <th>Martes</th>\n",
              "      <td>908249</td>\n",
              "      <td>1475904</td>\n",
              "      <td>2179798</td>\n",
              "      <td>2372801</td>\n",
              "      <td>2247916</td>\n",
              "      <td>2270623</td>\n",
              "      <td>3814646</td>\n",
              "      <td>2815572</td>\n",
              "      <td>6484899</td>\n",
              "      <td>5292822</td>\n",
              "      <td>5086195</td>\n",
              "      <td>7029848</td>\n",
              "    </tr>\n",
              "    <tr>\n",
              "      <th>Miércoles</th>\n",
              "      <td>1717158</td>\n",
              "      <td>1826432</td>\n",
              "      <td>1998148</td>\n",
              "      <td>2669401</td>\n",
              "      <td>3777749</td>\n",
              "      <td>3122106</td>\n",
              "      <td>3933854</td>\n",
              "      <td>5807118</td>\n",
              "      <td>6687552</td>\n",
              "      <td>9703507</td>\n",
              "      <td>9616088</td>\n",
              "      <td>8592037</td>\n",
              "    </tr>\n",
              "    <tr>\n",
              "      <th>Sábado</th>\n",
              "      <td>851483</td>\n",
              "      <td>885542</td>\n",
              "      <td>1362373</td>\n",
              "      <td>1617818</td>\n",
              "      <td>1873263</td>\n",
              "      <td>1702967</td>\n",
              "      <td>2860984</td>\n",
              "      <td>2375639</td>\n",
              "      <td>4863674</td>\n",
              "      <td>4410685</td>\n",
              "      <td>3814646</td>\n",
              "      <td>4686565</td>\n",
              "    </tr>\n",
              "    <tr>\n",
              "      <th>Viernes</th>\n",
              "      <td>908249</td>\n",
              "      <td>1623495</td>\n",
              "      <td>1998148</td>\n",
              "      <td>1941382</td>\n",
              "      <td>2247916</td>\n",
              "      <td>2838278</td>\n",
              "      <td>3178872</td>\n",
              "      <td>3871412</td>\n",
              "      <td>5404082</td>\n",
              "      <td>5292822</td>\n",
              "      <td>7629293</td>\n",
              "      <td>8592037</td>\n",
              "    </tr>\n",
              "  </tbody>\n",
              "</table>\n",
              "</div>"
            ],
            "text/plain": [
              "Semana     Semana 01  Semana 02  Semana 03  ...  Semana 10  Semana 11  Semana 12\n",
              "Día                                         ...                                 \n",
              "Domingo       681186    1328314    1634848  ...    4851753    4768308    7029848\n",
              "Jueves       1873263    1623495    2497685  ...    7277630    6993518    8592037\n",
              "Lunes        1873263    2435243    2997222  ...    9703507    7867708   12888056\n",
              "Martes        908249    1475904    2179798  ...    5292822    5086195    7029848\n",
              "Miércoles    1717158    1826432    1998148  ...    9703507    9616088    8592037\n",
              "Sábado        851483     885542    1362373  ...    4410685    3814646    4686565\n",
              "Viernes       908249    1623495    1998148  ...    5292822    7629293    8592037\n",
              "\n",
              "[7 rows x 12 columns]"
            ]
          },
          "metadata": {},
          "execution_count": 4
        }
      ]
    },
    {
      "cell_type": "code",
      "metadata": {
        "colab": {
          "base_uri": "https://localhost:8080/",
          "height": 542
        },
        "id": "HSwzCthWc7Oc",
        "outputId": "e61b5d87-e3d5-47dc-e71a-a64b3fb7cda1"
      },
      "source": [
        "import plotly.graph_objects as go\n",
        "\n",
        "videollamada_dict = \n",
        "    {'z': videollamadas_pivot.values.tolist(), \n",
        "     'x': videollamadas_pivot.columns.tolist(), \n",
        "     'y': videollamadas_pivot.index.tolist()}\n",
        "\n",
        "fig = go.Figure(data=go.Heatmap(videollamada_dict))\n",
        "fig.show()"
      ],
      "execution_count": 7,
      "outputs": [
        {
          "output_type": "display_data",
          "data": {
            "text/html": [
              "<html>\n",
              "<head><meta charset=\"utf-8\" /></head>\n",
              "<body>\n",
              "    <div>            <script src=\"https://cdnjs.cloudflare.com/ajax/libs/mathjax/2.7.5/MathJax.js?config=TeX-AMS-MML_SVG\"></script><script type=\"text/javascript\">if (window.MathJax) {MathJax.Hub.Config({SVG: {font: \"STIX-Web\"}});}</script>                <script type=\"text/javascript\">window.PlotlyConfig = {MathJaxConfig: 'local'};</script>\n",
              "        <script src=\"https://cdn.plot.ly/plotly-2.4.2.min.js\"></script>                <div id=\"f52794e2-efda-4048-bb8b-0e06ad51ce7c\" class=\"plotly-graph-div\" style=\"height:525px; width:100%;\"></div>            <script type=\"text/javascript\">                                    window.PLOTLYENV=window.PLOTLYENV || {};                                    if (document.getElementById(\"f52794e2-efda-4048-bb8b-0e06ad51ce7c\")) {                    Plotly.newPlot(                        \"f52794e2-efda-4048-bb8b-0e06ad51ce7c\",                        [{\"type\":\"heatmap\",\"x\":[\"Semana 01\",\"Semana 02\",\"Semana 03\",\"Semana 04\",\"Semana 05\",\"Semana 06\",\"Semana 07\",\"Semana 08\",\"Semana 09\",\"Semana 10\",\"Semana 11\",\"Semana 12\"],\"y\":[\"Domingo\",\"Jueves\",\"Lunes\",\"Martes\",\"Mi\\u00e9rcoles\",\"S\\u00e1bado\",\"Viernes\"],\"z\":[[681186,1328314,1634848,1779600,1498611,2554450,2145738,2903559,3242449,4851753,4768308,7029848],[1873263,1623495,2497685,2966001,3090885,3902633,5245139,4355338,5944491,7277630,6993518,8592037],[1873263,2435243,2997222,2372801,3090885,4292896,4808044,4355338,6687552,9703507,7867708,12888056],[908249,1475904,2179798,2372801,2247916,2270623,3814646,2815572,6484899,5292822,5086195,7029848],[1717158,1826432,1998148,2669401,3777749,3122106,3933854,5807118,6687552,9703507,9616088,8592037],[851483,885542,1362373,1617818,1873263,1702967,2860984,2375639,4863674,4410685,3814646,4686565],[908249,1623495,1998148,1941382,2247916,2838278,3178872,3871412,5404082,5292822,7629293,8592037]]}],                        {\"template\":{\"data\":{\"bar\":[{\"error_x\":{\"color\":\"#2a3f5f\"},\"error_y\":{\"color\":\"#2a3f5f\"},\"marker\":{\"line\":{\"color\":\"#E5ECF6\",\"width\":0.5},\"pattern\":{\"fillmode\":\"overlay\",\"size\":10,\"solidity\":0.2}},\"type\":\"bar\"}],\"barpolar\":[{\"marker\":{\"line\":{\"color\":\"#E5ECF6\",\"width\":0.5},\"pattern\":{\"fillmode\":\"overlay\",\"size\":10,\"solidity\":0.2}},\"type\":\"barpolar\"}],\"carpet\":[{\"aaxis\":{\"endlinecolor\":\"#2a3f5f\",\"gridcolor\":\"white\",\"linecolor\":\"white\",\"minorgridcolor\":\"white\",\"startlinecolor\":\"#2a3f5f\"},\"baxis\":{\"endlinecolor\":\"#2a3f5f\",\"gridcolor\":\"white\",\"linecolor\":\"white\",\"minorgridcolor\":\"white\",\"startlinecolor\":\"#2a3f5f\"},\"type\":\"carpet\"}],\"choropleth\":[{\"colorbar\":{\"outlinewidth\":0,\"ticks\":\"\"},\"type\":\"choropleth\"}],\"contour\":[{\"colorbar\":{\"outlinewidth\":0,\"ticks\":\"\"},\"colorscale\":[[0.0,\"#0d0887\"],[0.1111111111111111,\"#46039f\"],[0.2222222222222222,\"#7201a8\"],[0.3333333333333333,\"#9c179e\"],[0.4444444444444444,\"#bd3786\"],[0.5555555555555556,\"#d8576b\"],[0.6666666666666666,\"#ed7953\"],[0.7777777777777778,\"#fb9f3a\"],[0.8888888888888888,\"#fdca26\"],[1.0,\"#f0f921\"]],\"type\":\"contour\"}],\"contourcarpet\":[{\"colorbar\":{\"outlinewidth\":0,\"ticks\":\"\"},\"type\":\"contourcarpet\"}],\"heatmap\":[{\"colorbar\":{\"outlinewidth\":0,\"ticks\":\"\"},\"colorscale\":[[0.0,\"#0d0887\"],[0.1111111111111111,\"#46039f\"],[0.2222222222222222,\"#7201a8\"],[0.3333333333333333,\"#9c179e\"],[0.4444444444444444,\"#bd3786\"],[0.5555555555555556,\"#d8576b\"],[0.6666666666666666,\"#ed7953\"],[0.7777777777777778,\"#fb9f3a\"],[0.8888888888888888,\"#fdca26\"],[1.0,\"#f0f921\"]],\"type\":\"heatmap\"}],\"heatmapgl\":[{\"colorbar\":{\"outlinewidth\":0,\"ticks\":\"\"},\"colorscale\":[[0.0,\"#0d0887\"],[0.1111111111111111,\"#46039f\"],[0.2222222222222222,\"#7201a8\"],[0.3333333333333333,\"#9c179e\"],[0.4444444444444444,\"#bd3786\"],[0.5555555555555556,\"#d8576b\"],[0.6666666666666666,\"#ed7953\"],[0.7777777777777778,\"#fb9f3a\"],[0.8888888888888888,\"#fdca26\"],[1.0,\"#f0f921\"]],\"type\":\"heatmapgl\"}],\"histogram\":[{\"marker\":{\"pattern\":{\"fillmode\":\"overlay\",\"size\":10,\"solidity\":0.2}},\"type\":\"histogram\"}],\"histogram2d\":[{\"colorbar\":{\"outlinewidth\":0,\"ticks\":\"\"},\"colorscale\":[[0.0,\"#0d0887\"],[0.1111111111111111,\"#46039f\"],[0.2222222222222222,\"#7201a8\"],[0.3333333333333333,\"#9c179e\"],[0.4444444444444444,\"#bd3786\"],[0.5555555555555556,\"#d8576b\"],[0.6666666666666666,\"#ed7953\"],[0.7777777777777778,\"#fb9f3a\"],[0.8888888888888888,\"#fdca26\"],[1.0,\"#f0f921\"]],\"type\":\"histogram2d\"}],\"histogram2dcontour\":[{\"colorbar\":{\"outlinewidth\":0,\"ticks\":\"\"},\"colorscale\":[[0.0,\"#0d0887\"],[0.1111111111111111,\"#46039f\"],[0.2222222222222222,\"#7201a8\"],[0.3333333333333333,\"#9c179e\"],[0.4444444444444444,\"#bd3786\"],[0.5555555555555556,\"#d8576b\"],[0.6666666666666666,\"#ed7953\"],[0.7777777777777778,\"#fb9f3a\"],[0.8888888888888888,\"#fdca26\"],[1.0,\"#f0f921\"]],\"type\":\"histogram2dcontour\"}],\"mesh3d\":[{\"colorbar\":{\"outlinewidth\":0,\"ticks\":\"\"},\"type\":\"mesh3d\"}],\"parcoords\":[{\"line\":{\"colorbar\":{\"outlinewidth\":0,\"ticks\":\"\"}},\"type\":\"parcoords\"}],\"pie\":[{\"automargin\":true,\"type\":\"pie\"}],\"scatter\":[{\"marker\":{\"colorbar\":{\"outlinewidth\":0,\"ticks\":\"\"}},\"type\":\"scatter\"}],\"scatter3d\":[{\"line\":{\"colorbar\":{\"outlinewidth\":0,\"ticks\":\"\"}},\"marker\":{\"colorbar\":{\"outlinewidth\":0,\"ticks\":\"\"}},\"type\":\"scatter3d\"}],\"scattercarpet\":[{\"marker\":{\"colorbar\":{\"outlinewidth\":0,\"ticks\":\"\"}},\"type\":\"scattercarpet\"}],\"scattergeo\":[{\"marker\":{\"colorbar\":{\"outlinewidth\":0,\"ticks\":\"\"}},\"type\":\"scattergeo\"}],\"scattergl\":[{\"marker\":{\"colorbar\":{\"outlinewidth\":0,\"ticks\":\"\"}},\"type\":\"scattergl\"}],\"scattermapbox\":[{\"marker\":{\"colorbar\":{\"outlinewidth\":0,\"ticks\":\"\"}},\"type\":\"scattermapbox\"}],\"scatterpolar\":[{\"marker\":{\"colorbar\":{\"outlinewidth\":0,\"ticks\":\"\"}},\"type\":\"scatterpolar\"}],\"scatterpolargl\":[{\"marker\":{\"colorbar\":{\"outlinewidth\":0,\"ticks\":\"\"}},\"type\":\"scatterpolargl\"}],\"scatterternary\":[{\"marker\":{\"colorbar\":{\"outlinewidth\":0,\"ticks\":\"\"}},\"type\":\"scatterternary\"}],\"surface\":[{\"colorbar\":{\"outlinewidth\":0,\"ticks\":\"\"},\"colorscale\":[[0.0,\"#0d0887\"],[0.1111111111111111,\"#46039f\"],[0.2222222222222222,\"#7201a8\"],[0.3333333333333333,\"#9c179e\"],[0.4444444444444444,\"#bd3786\"],[0.5555555555555556,\"#d8576b\"],[0.6666666666666666,\"#ed7953\"],[0.7777777777777778,\"#fb9f3a\"],[0.8888888888888888,\"#fdca26\"],[1.0,\"#f0f921\"]],\"type\":\"surface\"}],\"table\":[{\"cells\":{\"fill\":{\"color\":\"#EBF0F8\"},\"line\":{\"color\":\"white\"}},\"header\":{\"fill\":{\"color\":\"#C8D4E3\"},\"line\":{\"color\":\"white\"}},\"type\":\"table\"}]},\"layout\":{\"annotationdefaults\":{\"arrowcolor\":\"#2a3f5f\",\"arrowhead\":0,\"arrowwidth\":1},\"autotypenumbers\":\"strict\",\"coloraxis\":{\"colorbar\":{\"outlinewidth\":0,\"ticks\":\"\"}},\"colorscale\":{\"diverging\":[[0,\"#8e0152\"],[0.1,\"#c51b7d\"],[0.2,\"#de77ae\"],[0.3,\"#f1b6da\"],[0.4,\"#fde0ef\"],[0.5,\"#f7f7f7\"],[0.6,\"#e6f5d0\"],[0.7,\"#b8e186\"],[0.8,\"#7fbc41\"],[0.9,\"#4d9221\"],[1,\"#276419\"]],\"sequential\":[[0.0,\"#0d0887\"],[0.1111111111111111,\"#46039f\"],[0.2222222222222222,\"#7201a8\"],[0.3333333333333333,\"#9c179e\"],[0.4444444444444444,\"#bd3786\"],[0.5555555555555556,\"#d8576b\"],[0.6666666666666666,\"#ed7953\"],[0.7777777777777778,\"#fb9f3a\"],[0.8888888888888888,\"#fdca26\"],[1.0,\"#f0f921\"]],\"sequentialminus\":[[0.0,\"#0d0887\"],[0.1111111111111111,\"#46039f\"],[0.2222222222222222,\"#7201a8\"],[0.3333333333333333,\"#9c179e\"],[0.4444444444444444,\"#bd3786\"],[0.5555555555555556,\"#d8576b\"],[0.6666666666666666,\"#ed7953\"],[0.7777777777777778,\"#fb9f3a\"],[0.8888888888888888,\"#fdca26\"],[1.0,\"#f0f921\"]]},\"colorway\":[\"#636efa\",\"#EF553B\",\"#00cc96\",\"#ab63fa\",\"#FFA15A\",\"#19d3f3\",\"#FF6692\",\"#B6E880\",\"#FF97FF\",\"#FECB52\"],\"font\":{\"color\":\"#2a3f5f\"},\"geo\":{\"bgcolor\":\"white\",\"lakecolor\":\"white\",\"landcolor\":\"#E5ECF6\",\"showlakes\":true,\"showland\":true,\"subunitcolor\":\"white\"},\"hoverlabel\":{\"align\":\"left\"},\"hovermode\":\"closest\",\"mapbox\":{\"style\":\"light\"},\"paper_bgcolor\":\"white\",\"plot_bgcolor\":\"#E5ECF6\",\"polar\":{\"angularaxis\":{\"gridcolor\":\"white\",\"linecolor\":\"white\",\"ticks\":\"\"},\"bgcolor\":\"#E5ECF6\",\"radialaxis\":{\"gridcolor\":\"white\",\"linecolor\":\"white\",\"ticks\":\"\"}},\"scene\":{\"xaxis\":{\"backgroundcolor\":\"#E5ECF6\",\"gridcolor\":\"white\",\"gridwidth\":2,\"linecolor\":\"white\",\"showbackground\":true,\"ticks\":\"\",\"zerolinecolor\":\"white\"},\"yaxis\":{\"backgroundcolor\":\"#E5ECF6\",\"gridcolor\":\"white\",\"gridwidth\":2,\"linecolor\":\"white\",\"showbackground\":true,\"ticks\":\"\",\"zerolinecolor\":\"white\"},\"zaxis\":{\"backgroundcolor\":\"#E5ECF6\",\"gridcolor\":\"white\",\"gridwidth\":2,\"linecolor\":\"white\",\"showbackground\":true,\"ticks\":\"\",\"zerolinecolor\":\"white\"}},\"shapedefaults\":{\"line\":{\"color\":\"#2a3f5f\"}},\"ternary\":{\"aaxis\":{\"gridcolor\":\"white\",\"linecolor\":\"white\",\"ticks\":\"\"},\"baxis\":{\"gridcolor\":\"white\",\"linecolor\":\"white\",\"ticks\":\"\"},\"bgcolor\":\"#E5ECF6\",\"caxis\":{\"gridcolor\":\"white\",\"linecolor\":\"white\",\"ticks\":\"\"}},\"title\":{\"x\":0.05},\"xaxis\":{\"automargin\":true,\"gridcolor\":\"white\",\"linecolor\":\"white\",\"ticks\":\"\",\"title\":{\"standoff\":15},\"zerolinecolor\":\"white\",\"zerolinewidth\":2},\"yaxis\":{\"automargin\":true,\"gridcolor\":\"white\",\"linecolor\":\"white\",\"ticks\":\"\",\"title\":{\"standoff\":15},\"zerolinecolor\":\"white\",\"zerolinewidth\":2}}}},                        {\"responsive\": true}                    ).then(function(){\n",
              "                            \n",
              "var gd = document.getElementById('f52794e2-efda-4048-bb8b-0e06ad51ce7c');\n",
              "var x = new MutationObserver(function (mutations, observer) {{\n",
              "        var display = window.getComputedStyle(gd).display;\n",
              "        if (!display || display === 'none') {{\n",
              "            console.log([gd, 'removed!']);\n",
              "            Plotly.purge(gd);\n",
              "            observer.disconnect();\n",
              "        }}\n",
              "}});\n",
              "\n",
              "// Listen for the removal of the full notebook cells\n",
              "var notebookContainer = gd.closest('#notebook-container');\n",
              "if (notebookContainer) {{\n",
              "    x.observe(notebookContainer, {childList: true});\n",
              "}}\n",
              "\n",
              "// Listen for the clearing of the current output cell\n",
              "var outputEl = gd.closest('.output');\n",
              "if (outputEl) {{\n",
              "    x.observe(outputEl, {childList: true});\n",
              "}}\n",
              "\n",
              "                        })                };                            </script>        </div>\n",
              "</body>\n",
              "</html>"
            ]
          },
          "metadata": {}
        }
      ]
    },
    {
      "cell_type": "markdown",
      "metadata": {
        "id": "hcAfzzsTqx33"
      },
      "source": [
        "\n",
        "\n",
        "---\n",
        "\n",
        "\n",
        "\n",
        "---\n",
        "\n"
      ]
    },
    {
      "cell_type": "markdown",
      "metadata": {
        "id": "ym_jqLGAd5U2"
      },
      "source": [
        "## Slicer"
      ]
    },
    {
      "cell_type": "code",
      "metadata": {
        "colab": {
          "base_uri": "https://localhost:8080/",
          "height": 542
        },
        "id": "QHdgJd3Pd17E",
        "outputId": "3f32a7f9-8c05-4aac-9ca3-49357cdff68a"
      },
      "source": [
        "# Cargar los datos desde un repositorio\n",
        "df = pd.read_csv(\n",
        "    \"https://raw.githubusercontent.com/plotly/datasets/master/finance-charts-apple.csv\")\n",
        "df.columns = [col.replace(\"AAPL.\", \"\") for col in df.columns]\n",
        "\n",
        "# Crear el grafico\n",
        "fig = go.Figure()\n",
        "\n",
        "fig.add_trace(\n",
        "    go.Scatter(x=list(df.Date), y=list(df.High)))\n",
        "\n",
        "# Definir titulo\n",
        "fig.update_layout(\n",
        "    title_text=\"Serie de tiempo con Slicer\"\n",
        ")\n",
        "\n",
        "# Agregamos abajo del grafico el slicer\n",
        "fig.update_layout(\n",
        "    xaxis=dict(rangeslider=dict(visible=True), type=\"date\")\n",
        ")\n",
        "\n",
        "fig.show()"
      ],
      "execution_count": 16,
      "outputs": [
        {
          "output_type": "display_data",
          "data": {
            "text/html": [
              "<html>\n",
              "<head><meta charset=\"utf-8\" /></head>\n",
              "<body>\n",
              "    <div>            <script src=\"https://cdnjs.cloudflare.com/ajax/libs/mathjax/2.7.5/MathJax.js?config=TeX-AMS-MML_SVG\"></script><script type=\"text/javascript\">if (window.MathJax) {MathJax.Hub.Config({SVG: {font: \"STIX-Web\"}});}</script>                <script type=\"text/javascript\">window.PlotlyConfig = {MathJaxConfig: 'local'};</script>\n",
              "        <script src=\"https://cdn.plot.ly/plotly-2.4.2.min.js\"></script>                <div id=\"152b4f00-15ae-4620-8ea7-df4849f18c91\" class=\"plotly-graph-div\" style=\"height:525px; width:100%;\"></div>            <script type=\"text/javascript\">                                    window.PLOTLYENV=window.PLOTLYENV || {};                                    if (document.getElementById(\"152b4f00-15ae-4620-8ea7-df4849f18c91\")) {                    Plotly.newPlot(                        \"152b4f00-15ae-4620-8ea7-df4849f18c91\",                        [{\"type\":\"scatter\",\"x\":[\"2015-02-17\",\"2015-02-18\",\"2015-02-19\",\"2015-02-20\",\"2015-02-23\",\"2015-02-24\",\"2015-02-25\",\"2015-02-26\",\"2015-02-27\",\"2015-03-02\",\"2015-03-03\",\"2015-03-04\",\"2015-03-05\",\"2015-03-06\",\"2015-03-09\",\"2015-03-10\",\"2015-03-11\",\"2015-03-12\",\"2015-03-13\",\"2015-03-16\",\"2015-03-17\",\"2015-03-18\",\"2015-03-19\",\"2015-03-20\",\"2015-03-23\",\"2015-03-24\",\"2015-03-25\",\"2015-03-26\",\"2015-03-27\",\"2015-03-30\",\"2015-03-31\",\"2015-04-01\",\"2015-04-02\",\"2015-04-06\",\"2015-04-07\",\"2015-04-08\",\"2015-04-09\",\"2015-04-10\",\"2015-04-13\",\"2015-04-14\",\"2015-04-15\",\"2015-04-16\",\"2015-04-17\",\"2015-04-20\",\"2015-04-21\",\"2015-04-22\",\"2015-04-23\",\"2015-04-24\",\"2015-04-27\",\"2015-04-28\",\"2015-04-29\",\"2015-04-30\",\"2015-05-01\",\"2015-05-04\",\"2015-05-05\",\"2015-05-06\",\"2015-05-07\",\"2015-05-08\",\"2015-05-11\",\"2015-05-12\",\"2015-05-13\",\"2015-05-14\",\"2015-05-15\",\"2015-05-18\",\"2015-05-19\",\"2015-05-20\",\"2015-05-21\",\"2015-05-22\",\"2015-05-26\",\"2015-05-27\",\"2015-05-28\",\"2015-05-29\",\"2015-06-01\",\"2015-06-02\",\"2015-06-03\",\"2015-06-04\",\"2015-06-05\",\"2015-06-08\",\"2015-06-09\",\"2015-06-10\",\"2015-06-11\",\"2015-06-12\",\"2015-06-15\",\"2015-06-16\",\"2015-06-17\",\"2015-06-18\",\"2015-06-19\",\"2015-06-22\",\"2015-06-23\",\"2015-06-24\",\"2015-06-25\",\"2015-06-26\",\"2015-06-29\",\"2015-06-30\",\"2015-07-01\",\"2015-07-02\",\"2015-07-06\",\"2015-07-07\",\"2015-07-08\",\"2015-07-09\",\"2015-07-10\",\"2015-07-13\",\"2015-07-14\",\"2015-07-15\",\"2015-07-16\",\"2015-07-17\",\"2015-07-20\",\"2015-07-21\",\"2015-07-22\",\"2015-07-23\",\"2015-07-24\",\"2015-07-27\",\"2015-07-28\",\"2015-07-29\",\"2015-07-30\",\"2015-07-31\",\"2015-08-03\",\"2015-08-04\",\"2015-08-05\",\"2015-08-06\",\"2015-08-07\",\"2015-08-10\",\"2015-08-11\",\"2015-08-12\",\"2015-08-13\",\"2015-08-14\",\"2015-08-17\",\"2015-08-18\",\"2015-08-19\",\"2015-08-20\",\"2015-08-21\",\"2015-08-24\",\"2015-08-25\",\"2015-08-26\",\"2015-08-27\",\"2015-08-28\",\"2015-08-31\",\"2015-09-01\",\"2015-09-02\",\"2015-09-03\",\"2015-09-04\",\"2015-09-08\",\"2015-09-09\",\"2015-09-10\",\"2015-09-11\",\"2015-09-14\",\"2015-09-15\",\"2015-09-16\",\"2015-09-17\",\"2015-09-18\",\"2015-09-21\",\"2015-09-22\",\"2015-09-23\",\"2015-09-24\",\"2015-09-25\",\"2015-09-28\",\"2015-09-29\",\"2015-09-30\",\"2015-10-01\",\"2015-10-02\",\"2015-10-05\",\"2015-10-06\",\"2015-10-07\",\"2015-10-08\",\"2015-10-09\",\"2015-10-12\",\"2015-10-13\",\"2015-10-14\",\"2015-10-15\",\"2015-10-16\",\"2015-10-19\",\"2015-10-20\",\"2015-10-21\",\"2015-10-22\",\"2015-10-23\",\"2015-10-26\",\"2015-10-27\",\"2015-10-28\",\"2015-10-29\",\"2015-10-30\",\"2015-11-02\",\"2015-11-03\",\"2015-11-04\",\"2015-11-05\",\"2015-11-06\",\"2015-11-09\",\"2015-11-10\",\"2015-11-11\",\"2015-11-12\",\"2015-11-13\",\"2015-11-16\",\"2015-11-17\",\"2015-11-18\",\"2015-11-19\",\"2015-11-20\",\"2015-11-23\",\"2015-11-24\",\"2015-11-25\",\"2015-11-27\",\"2015-11-30\",\"2015-12-01\",\"2015-12-02\",\"2015-12-03\",\"2015-12-04\",\"2015-12-07\",\"2015-12-08\",\"2015-12-09\",\"2015-12-10\",\"2015-12-11\",\"2015-12-14\",\"2015-12-15\",\"2015-12-16\",\"2015-12-17\",\"2015-12-18\",\"2015-12-21\",\"2015-12-22\",\"2015-12-23\",\"2015-12-24\",\"2015-12-28\",\"2015-12-29\",\"2015-12-30\",\"2015-12-31\",\"2016-01-04\",\"2016-01-05\",\"2016-01-06\",\"2016-01-07\",\"2016-01-08\",\"2016-01-11\",\"2016-01-12\",\"2016-01-13\",\"2016-01-14\",\"2016-01-15\",\"2016-01-19\",\"2016-01-20\",\"2016-01-21\",\"2016-01-22\",\"2016-01-25\",\"2016-01-26\",\"2016-01-27\",\"2016-01-28\",\"2016-01-29\",\"2016-02-01\",\"2016-02-02\",\"2016-02-03\",\"2016-02-04\",\"2016-02-05\",\"2016-02-08\",\"2016-02-09\",\"2016-02-10\",\"2016-02-11\",\"2016-02-12\",\"2016-02-16\",\"2016-02-17\",\"2016-02-18\",\"2016-02-19\",\"2016-02-22\",\"2016-02-23\",\"2016-02-24\",\"2016-02-25\",\"2016-02-26\",\"2016-02-29\",\"2016-03-01\",\"2016-03-02\",\"2016-03-03\",\"2016-03-04\",\"2016-03-07\",\"2016-03-08\",\"2016-03-09\",\"2016-03-10\",\"2016-03-11\",\"2016-03-14\",\"2016-03-15\",\"2016-03-16\",\"2016-03-17\",\"2016-03-18\",\"2016-03-21\",\"2016-03-22\",\"2016-03-23\",\"2016-03-24\",\"2016-03-28\",\"2016-03-29\",\"2016-03-30\",\"2016-03-31\",\"2016-04-01\",\"2016-04-04\",\"2016-04-05\",\"2016-04-06\",\"2016-04-07\",\"2016-04-08\",\"2016-04-11\",\"2016-04-12\",\"2016-04-13\",\"2016-04-14\",\"2016-04-15\",\"2016-04-18\",\"2016-04-19\",\"2016-04-20\",\"2016-04-21\",\"2016-04-22\",\"2016-04-25\",\"2016-04-26\",\"2016-04-27\",\"2016-04-28\",\"2016-04-29\",\"2016-05-02\",\"2016-05-03\",\"2016-05-04\",\"2016-05-05\",\"2016-05-06\",\"2016-05-09\",\"2016-05-10\",\"2016-05-11\",\"2016-05-12\",\"2016-05-13\",\"2016-05-16\",\"2016-05-17\",\"2016-05-18\",\"2016-05-19\",\"2016-05-20\",\"2016-05-23\",\"2016-05-24\",\"2016-05-25\",\"2016-05-26\",\"2016-05-27\",\"2016-05-31\",\"2016-06-01\",\"2016-06-02\",\"2016-06-03\",\"2016-06-06\",\"2016-06-07\",\"2016-06-08\",\"2016-06-09\",\"2016-06-10\",\"2016-06-13\",\"2016-06-14\",\"2016-06-15\",\"2016-06-16\",\"2016-06-17\",\"2016-06-20\",\"2016-06-21\",\"2016-06-22\",\"2016-06-23\",\"2016-06-24\",\"2016-06-27\",\"2016-06-28\",\"2016-06-29\",\"2016-06-30\",\"2016-07-01\",\"2016-07-05\",\"2016-07-06\",\"2016-07-07\",\"2016-07-08\",\"2016-07-11\",\"2016-07-12\",\"2016-07-13\",\"2016-07-14\",\"2016-07-15\",\"2016-07-18\",\"2016-07-19\",\"2016-07-20\",\"2016-07-21\",\"2016-07-22\",\"2016-07-25\",\"2016-07-26\",\"2016-07-27\",\"2016-07-28\",\"2016-07-29\",\"2016-08-01\",\"2016-08-02\",\"2016-08-03\",\"2016-08-04\",\"2016-08-05\",\"2016-08-08\",\"2016-08-09\",\"2016-08-10\",\"2016-08-11\",\"2016-08-12\",\"2016-08-15\",\"2016-08-16\",\"2016-08-17\",\"2016-08-18\",\"2016-08-19\",\"2016-08-22\",\"2016-08-23\",\"2016-08-24\",\"2016-08-25\",\"2016-08-26\",\"2016-08-29\",\"2016-08-30\",\"2016-08-31\",\"2016-09-01\",\"2016-09-02\",\"2016-09-06\",\"2016-09-07\",\"2016-09-08\",\"2016-09-09\",\"2016-09-12\",\"2016-09-13\",\"2016-09-14\",\"2016-09-15\",\"2016-09-16\",\"2016-09-19\",\"2016-09-20\",\"2016-09-21\",\"2016-09-22\",\"2016-09-23\",\"2016-09-26\",\"2016-09-27\",\"2016-09-28\",\"2016-09-29\",\"2016-09-30\",\"2016-10-03\",\"2016-10-04\",\"2016-10-05\",\"2016-10-06\",\"2016-10-07\",\"2016-10-10\",\"2016-10-11\",\"2016-10-12\",\"2016-10-13\",\"2016-10-14\",\"2016-10-17\",\"2016-10-18\",\"2016-10-19\",\"2016-10-20\",\"2016-10-21\",\"2016-10-24\",\"2016-10-25\",\"2016-10-26\",\"2016-10-27\",\"2016-10-28\",\"2016-10-31\",\"2016-11-01\",\"2016-11-02\",\"2016-11-03\",\"2016-11-04\",\"2016-11-07\",\"2016-11-08\",\"2016-11-09\",\"2016-11-10\",\"2016-11-11\",\"2016-11-14\",\"2016-11-15\",\"2016-11-16\",\"2016-11-17\",\"2016-11-18\",\"2016-11-21\",\"2016-11-22\",\"2016-11-23\",\"2016-11-25\",\"2016-11-28\",\"2016-11-29\",\"2016-11-30\",\"2016-12-01\",\"2016-12-02\",\"2016-12-05\",\"2016-12-06\",\"2016-12-07\",\"2016-12-08\",\"2016-12-09\",\"2016-12-12\",\"2016-12-13\",\"2016-12-14\",\"2016-12-15\",\"2016-12-16\",\"2016-12-19\",\"2016-12-20\",\"2016-12-21\",\"2016-12-22\",\"2016-12-23\",\"2016-12-27\",\"2016-12-28\",\"2016-12-29\",\"2016-12-30\",\"2017-01-03\",\"2017-01-04\",\"2017-01-05\",\"2017-01-06\",\"2017-01-09\",\"2017-01-10\",\"2017-01-11\",\"2017-01-12\",\"2017-01-13\",\"2017-01-17\",\"2017-01-18\",\"2017-01-19\",\"2017-01-20\",\"2017-01-23\",\"2017-01-24\",\"2017-01-25\",\"2017-01-26\",\"2017-01-27\",\"2017-01-30\",\"2017-01-31\",\"2017-02-01\",\"2017-02-02\",\"2017-02-03\",\"2017-02-06\",\"2017-02-07\",\"2017-02-08\",\"2017-02-09\",\"2017-02-10\",\"2017-02-13\",\"2017-02-14\",\"2017-02-15\",\"2017-02-16\"],\"y\":[128.880005,128.779999,129.029999,129.5,133.0,133.600006,131.600006,130.869995,130.570007,130.279999,129.520004,129.559998,128.75,129.369995,129.570007,127.220001,124.769997,124.900002,125.400002,124.949997,127.32,129.16000400000001,129.25,128.399994,127.849998,128.03999299999998,126.82,124.879997,124.699997,126.400002,126.489998,125.120003,125.559998,127.510002,128.119995,126.400002,126.58000200000001,127.209999,128.570007,127.290001,127.129997,127.099998,126.139999,128.119995,128.199997,128.869995,130.419998,130.630005,133.130005,134.53999299999998,131.58999599999999,128.639999,130.130005,130.570007,128.449997,126.75,126.08000200000001,127.620003,127.559998,126.879997,127.190002,128.949997,129.490005,130.720001,130.880005,130.979996,131.630005,132.970001,132.91000400000001,132.259995,131.949997,131.449997,131.389999,130.66000400000001,130.940002,130.580002,129.690002,129.21000700000002,128.080002,129.33999599999999,130.179993,128.330002,127.239998,127.849998,127.879997,128.309998,127.82,128.059998,127.610001,129.800003,129.199997,127.989998,126.470001,126.120003,126.940002,126.690002,126.230003,126.150002,124.639999,124.059998,123.849998,125.760002,126.370003,127.150002,128.570007,129.619995,132.970001,132.919998,125.5,127.089996,125.739998,123.610001,123.910004,123.5,122.57,122.639999,122.57,117.699997,117.440002,116.5,116.25,119.989998,118.18,115.41999799999999,116.400002,116.309998,117.650002,117.440002,116.519997,114.349998,111.900002,108.800003,111.110001,109.889999,113.239998,113.309998,114.529999,111.879997,112.339996,112.779999,110.449997,112.559998,114.019997,113.279999,114.209999,116.889999,116.529999,116.540001,116.489998,114.300003,115.370003,114.18,114.720001,115.5,116.690002,114.57,113.510002,111.540001,109.620003,111.010002,111.370003,111.739998,111.769997,110.190002,112.279999,112.75,112.449997,111.519997,112.099998,112.0,111.75,114.16999799999999,115.58000200000001,115.5,119.230003,118.129997,116.540001,119.300003,120.690002,121.220001,121.360001,123.489998,123.82,122.690002,121.809998,121.809998,118.07,117.41999799999999,116.82,115.57,114.239998,115.050003,117.489998,119.75,119.91999799999999,119.730003,119.349998,119.230003,118.410004,119.410004,118.809998,118.110001,116.790001,119.25,119.860001,118.599998,117.690002,116.940002,115.389999,112.68,112.800003,111.989998,112.25,109.519997,107.370003,107.720001,108.849998,109.0,107.690002,109.43,108.699997,107.029999,105.370003,105.849998,102.370003,100.129997,99.110001,99.059998,100.690002,101.190002,100.480003,97.709999,98.650002,98.190002,97.879997,101.459999,101.529999,100.879997,96.629997,94.519997,97.339996,96.709999,96.040001,96.839996,97.33000200000001,96.91999799999999,95.699997,95.940002,96.349998,94.720001,94.5,96.849998,98.209999,98.889999,96.760002,96.900002,96.5,96.379997,96.760002,98.019997,98.230003,100.769997,100.889999,101.709999,103.75,102.83000200000001,101.760002,101.58000200000001,102.239998,102.279999,102.910004,105.18,106.309998,106.470001,106.5,107.650002,107.290001,107.07,106.25,106.190002,107.790001,110.41999799999999,109.900002,110.0,112.190002,110.730003,110.980003,110.41999799999999,109.769997,110.610001,110.5,112.339996,112.389999,112.300003,108.949997,108.0,108.089996,106.93,106.480003,105.650002,105.300003,98.709999,97.879997,94.720001,94.08000200000001,95.739998,95.900002,94.07,93.449997,93.769997,93.57,93.57,92.779999,91.66999799999999,94.389999,94.699997,95.209999,94.639999,95.43,97.190002,98.089996,99.739998,100.730003,100.470001,100.400002,99.540001,97.839996,98.269997,101.889999,99.870003,99.559998,99.989998,99.349998,99.120003,98.480003,98.410004,97.75,96.650002,96.57,96.349998,96.889999,96.290001,94.660004,93.050003,93.660004,94.550003,95.769997,96.470001,95.400002,95.660004,96.5,96.889999,97.650002,97.699997,97.66999799999999,98.989998,99.300003,100.129997,100.0,100.459999,101.0,99.300003,98.839996,97.970001,104.349998,104.449997,104.550003,106.150002,106.07,105.839996,106.0,107.650002,108.370003,108.940002,108.900002,108.93,108.440002,109.540001,110.230003,109.370003,109.599998,109.690002,109.099998,109.32,108.75,107.879997,107.949997,107.440002,106.5,106.57,106.800003,108.0,108.300003,108.760002,107.269997,105.720001,105.720001,108.790001,113.029999,115.730003,116.129997,116.18,114.120003,113.989998,114.940002,114.790001,113.389999,113.18,114.639999,113.800003,113.370003,113.050003,114.309998,113.660004,114.339996,114.559998,116.75,118.690002,117.980003,117.440002,118.16999799999999,117.839996,118.209999,117.760002,117.379997,116.910004,117.739998,118.360001,115.699997,115.860001,115.209999,114.230003,113.769997,112.349998,111.459999,110.25,110.510002,111.720001,111.32,111.089996,108.870003,107.809998,107.68,110.230003,110.349998,110.540001,111.989998,112.41999799999999,111.510002,111.870003,112.470001,112.029999,112.199997,110.940002,110.089996,110.029999,110.360001,111.190002,112.43,114.699997,115.0,115.91999799999999,116.199997,116.730003,116.5,117.379997,117.5,117.400002,116.510002,116.519997,117.800003,118.019997,117.110001,117.199997,116.33000200000001,116.510002,116.860001,118.160004,119.43,119.379997,119.93,119.300003,119.620003,120.239998,120.5,120.089996,120.449997,120.809998,120.099998,122.099998,122.440002,122.349998,121.629997,121.389999,130.490005,129.389999,129.190002,130.5,132.08999599999999,132.220001,132.449997,132.940002,133.820007,135.08999599999999,136.270004,135.899994]}],                        {\"template\":{\"data\":{\"bar\":[{\"error_x\":{\"color\":\"#2a3f5f\"},\"error_y\":{\"color\":\"#2a3f5f\"},\"marker\":{\"line\":{\"color\":\"#E5ECF6\",\"width\":0.5},\"pattern\":{\"fillmode\":\"overlay\",\"size\":10,\"solidity\":0.2}},\"type\":\"bar\"}],\"barpolar\":[{\"marker\":{\"line\":{\"color\":\"#E5ECF6\",\"width\":0.5},\"pattern\":{\"fillmode\":\"overlay\",\"size\":10,\"solidity\":0.2}},\"type\":\"barpolar\"}],\"carpet\":[{\"aaxis\":{\"endlinecolor\":\"#2a3f5f\",\"gridcolor\":\"white\",\"linecolor\":\"white\",\"minorgridcolor\":\"white\",\"startlinecolor\":\"#2a3f5f\"},\"baxis\":{\"endlinecolor\":\"#2a3f5f\",\"gridcolor\":\"white\",\"linecolor\":\"white\",\"minorgridcolor\":\"white\",\"startlinecolor\":\"#2a3f5f\"},\"type\":\"carpet\"}],\"choropleth\":[{\"colorbar\":{\"outlinewidth\":0,\"ticks\":\"\"},\"type\":\"choropleth\"}],\"contour\":[{\"colorbar\":{\"outlinewidth\":0,\"ticks\":\"\"},\"colorscale\":[[0.0,\"#0d0887\"],[0.1111111111111111,\"#46039f\"],[0.2222222222222222,\"#7201a8\"],[0.3333333333333333,\"#9c179e\"],[0.4444444444444444,\"#bd3786\"],[0.5555555555555556,\"#d8576b\"],[0.6666666666666666,\"#ed7953\"],[0.7777777777777778,\"#fb9f3a\"],[0.8888888888888888,\"#fdca26\"],[1.0,\"#f0f921\"]],\"type\":\"contour\"}],\"contourcarpet\":[{\"colorbar\":{\"outlinewidth\":0,\"ticks\":\"\"},\"type\":\"contourcarpet\"}],\"heatmap\":[{\"colorbar\":{\"outlinewidth\":0,\"ticks\":\"\"},\"colorscale\":[[0.0,\"#0d0887\"],[0.1111111111111111,\"#46039f\"],[0.2222222222222222,\"#7201a8\"],[0.3333333333333333,\"#9c179e\"],[0.4444444444444444,\"#bd3786\"],[0.5555555555555556,\"#d8576b\"],[0.6666666666666666,\"#ed7953\"],[0.7777777777777778,\"#fb9f3a\"],[0.8888888888888888,\"#fdca26\"],[1.0,\"#f0f921\"]],\"type\":\"heatmap\"}],\"heatmapgl\":[{\"colorbar\":{\"outlinewidth\":0,\"ticks\":\"\"},\"colorscale\":[[0.0,\"#0d0887\"],[0.1111111111111111,\"#46039f\"],[0.2222222222222222,\"#7201a8\"],[0.3333333333333333,\"#9c179e\"],[0.4444444444444444,\"#bd3786\"],[0.5555555555555556,\"#d8576b\"],[0.6666666666666666,\"#ed7953\"],[0.7777777777777778,\"#fb9f3a\"],[0.8888888888888888,\"#fdca26\"],[1.0,\"#f0f921\"]],\"type\":\"heatmapgl\"}],\"histogram\":[{\"marker\":{\"pattern\":{\"fillmode\":\"overlay\",\"size\":10,\"solidity\":0.2}},\"type\":\"histogram\"}],\"histogram2d\":[{\"colorbar\":{\"outlinewidth\":0,\"ticks\":\"\"},\"colorscale\":[[0.0,\"#0d0887\"],[0.1111111111111111,\"#46039f\"],[0.2222222222222222,\"#7201a8\"],[0.3333333333333333,\"#9c179e\"],[0.4444444444444444,\"#bd3786\"],[0.5555555555555556,\"#d8576b\"],[0.6666666666666666,\"#ed7953\"],[0.7777777777777778,\"#fb9f3a\"],[0.8888888888888888,\"#fdca26\"],[1.0,\"#f0f921\"]],\"type\":\"histogram2d\"}],\"histogram2dcontour\":[{\"colorbar\":{\"outlinewidth\":0,\"ticks\":\"\"},\"colorscale\":[[0.0,\"#0d0887\"],[0.1111111111111111,\"#46039f\"],[0.2222222222222222,\"#7201a8\"],[0.3333333333333333,\"#9c179e\"],[0.4444444444444444,\"#bd3786\"],[0.5555555555555556,\"#d8576b\"],[0.6666666666666666,\"#ed7953\"],[0.7777777777777778,\"#fb9f3a\"],[0.8888888888888888,\"#fdca26\"],[1.0,\"#f0f921\"]],\"type\":\"histogram2dcontour\"}],\"mesh3d\":[{\"colorbar\":{\"outlinewidth\":0,\"ticks\":\"\"},\"type\":\"mesh3d\"}],\"parcoords\":[{\"line\":{\"colorbar\":{\"outlinewidth\":0,\"ticks\":\"\"}},\"type\":\"parcoords\"}],\"pie\":[{\"automargin\":true,\"type\":\"pie\"}],\"scatter\":[{\"marker\":{\"colorbar\":{\"outlinewidth\":0,\"ticks\":\"\"}},\"type\":\"scatter\"}],\"scatter3d\":[{\"line\":{\"colorbar\":{\"outlinewidth\":0,\"ticks\":\"\"}},\"marker\":{\"colorbar\":{\"outlinewidth\":0,\"ticks\":\"\"}},\"type\":\"scatter3d\"}],\"scattercarpet\":[{\"marker\":{\"colorbar\":{\"outlinewidth\":0,\"ticks\":\"\"}},\"type\":\"scattercarpet\"}],\"scattergeo\":[{\"marker\":{\"colorbar\":{\"outlinewidth\":0,\"ticks\":\"\"}},\"type\":\"scattergeo\"}],\"scattergl\":[{\"marker\":{\"colorbar\":{\"outlinewidth\":0,\"ticks\":\"\"}},\"type\":\"scattergl\"}],\"scattermapbox\":[{\"marker\":{\"colorbar\":{\"outlinewidth\":0,\"ticks\":\"\"}},\"type\":\"scattermapbox\"}],\"scatterpolar\":[{\"marker\":{\"colorbar\":{\"outlinewidth\":0,\"ticks\":\"\"}},\"type\":\"scatterpolar\"}],\"scatterpolargl\":[{\"marker\":{\"colorbar\":{\"outlinewidth\":0,\"ticks\":\"\"}},\"type\":\"scatterpolargl\"}],\"scatterternary\":[{\"marker\":{\"colorbar\":{\"outlinewidth\":0,\"ticks\":\"\"}},\"type\":\"scatterternary\"}],\"surface\":[{\"colorbar\":{\"outlinewidth\":0,\"ticks\":\"\"},\"colorscale\":[[0.0,\"#0d0887\"],[0.1111111111111111,\"#46039f\"],[0.2222222222222222,\"#7201a8\"],[0.3333333333333333,\"#9c179e\"],[0.4444444444444444,\"#bd3786\"],[0.5555555555555556,\"#d8576b\"],[0.6666666666666666,\"#ed7953\"],[0.7777777777777778,\"#fb9f3a\"],[0.8888888888888888,\"#fdca26\"],[1.0,\"#f0f921\"]],\"type\":\"surface\"}],\"table\":[{\"cells\":{\"fill\":{\"color\":\"#EBF0F8\"},\"line\":{\"color\":\"white\"}},\"header\":{\"fill\":{\"color\":\"#C8D4E3\"},\"line\":{\"color\":\"white\"}},\"type\":\"table\"}]},\"layout\":{\"annotationdefaults\":{\"arrowcolor\":\"#2a3f5f\",\"arrowhead\":0,\"arrowwidth\":1},\"autotypenumbers\":\"strict\",\"coloraxis\":{\"colorbar\":{\"outlinewidth\":0,\"ticks\":\"\"}},\"colorscale\":{\"diverging\":[[0,\"#8e0152\"],[0.1,\"#c51b7d\"],[0.2,\"#de77ae\"],[0.3,\"#f1b6da\"],[0.4,\"#fde0ef\"],[0.5,\"#f7f7f7\"],[0.6,\"#e6f5d0\"],[0.7,\"#b8e186\"],[0.8,\"#7fbc41\"],[0.9,\"#4d9221\"],[1,\"#276419\"]],\"sequential\":[[0.0,\"#0d0887\"],[0.1111111111111111,\"#46039f\"],[0.2222222222222222,\"#7201a8\"],[0.3333333333333333,\"#9c179e\"],[0.4444444444444444,\"#bd3786\"],[0.5555555555555556,\"#d8576b\"],[0.6666666666666666,\"#ed7953\"],[0.7777777777777778,\"#fb9f3a\"],[0.8888888888888888,\"#fdca26\"],[1.0,\"#f0f921\"]],\"sequentialminus\":[[0.0,\"#0d0887\"],[0.1111111111111111,\"#46039f\"],[0.2222222222222222,\"#7201a8\"],[0.3333333333333333,\"#9c179e\"],[0.4444444444444444,\"#bd3786\"],[0.5555555555555556,\"#d8576b\"],[0.6666666666666666,\"#ed7953\"],[0.7777777777777778,\"#fb9f3a\"],[0.8888888888888888,\"#fdca26\"],[1.0,\"#f0f921\"]]},\"colorway\":[\"#636efa\",\"#EF553B\",\"#00cc96\",\"#ab63fa\",\"#FFA15A\",\"#19d3f3\",\"#FF6692\",\"#B6E880\",\"#FF97FF\",\"#FECB52\"],\"font\":{\"color\":\"#2a3f5f\"},\"geo\":{\"bgcolor\":\"white\",\"lakecolor\":\"white\",\"landcolor\":\"#E5ECF6\",\"showlakes\":true,\"showland\":true,\"subunitcolor\":\"white\"},\"hoverlabel\":{\"align\":\"left\"},\"hovermode\":\"closest\",\"mapbox\":{\"style\":\"light\"},\"paper_bgcolor\":\"white\",\"plot_bgcolor\":\"#E5ECF6\",\"polar\":{\"angularaxis\":{\"gridcolor\":\"white\",\"linecolor\":\"white\",\"ticks\":\"\"},\"bgcolor\":\"#E5ECF6\",\"radialaxis\":{\"gridcolor\":\"white\",\"linecolor\":\"white\",\"ticks\":\"\"}},\"scene\":{\"xaxis\":{\"backgroundcolor\":\"#E5ECF6\",\"gridcolor\":\"white\",\"gridwidth\":2,\"linecolor\":\"white\",\"showbackground\":true,\"ticks\":\"\",\"zerolinecolor\":\"white\"},\"yaxis\":{\"backgroundcolor\":\"#E5ECF6\",\"gridcolor\":\"white\",\"gridwidth\":2,\"linecolor\":\"white\",\"showbackground\":true,\"ticks\":\"\",\"zerolinecolor\":\"white\"},\"zaxis\":{\"backgroundcolor\":\"#E5ECF6\",\"gridcolor\":\"white\",\"gridwidth\":2,\"linecolor\":\"white\",\"showbackground\":true,\"ticks\":\"\",\"zerolinecolor\":\"white\"}},\"shapedefaults\":{\"line\":{\"color\":\"#2a3f5f\"}},\"ternary\":{\"aaxis\":{\"gridcolor\":\"white\",\"linecolor\":\"white\",\"ticks\":\"\"},\"baxis\":{\"gridcolor\":\"white\",\"linecolor\":\"white\",\"ticks\":\"\"},\"bgcolor\":\"#E5ECF6\",\"caxis\":{\"gridcolor\":\"white\",\"linecolor\":\"white\",\"ticks\":\"\"}},\"title\":{\"x\":0.05},\"xaxis\":{\"automargin\":true,\"gridcolor\":\"white\",\"linecolor\":\"white\",\"ticks\":\"\",\"title\":{\"standoff\":15},\"zerolinecolor\":\"white\",\"zerolinewidth\":2},\"yaxis\":{\"automargin\":true,\"gridcolor\":\"white\",\"linecolor\":\"white\",\"ticks\":\"\",\"title\":{\"standoff\":15},\"zerolinecolor\":\"white\",\"zerolinewidth\":2}}},\"title\":{\"text\":\"Serie de tiempo con Slicer\"},\"xaxis\":{\"rangeslider\":{\"visible\":true},\"type\":\"date\"}},                        {\"responsive\": true}                    ).then(function(){\n",
              "                            \n",
              "var gd = document.getElementById('152b4f00-15ae-4620-8ea7-df4849f18c91');\n",
              "var x = new MutationObserver(function (mutations, observer) {{\n",
              "        var display = window.getComputedStyle(gd).display;\n",
              "        if (!display || display === 'none') {{\n",
              "            console.log([gd, 'removed!']);\n",
              "            Plotly.purge(gd);\n",
              "            observer.disconnect();\n",
              "        }}\n",
              "}});\n",
              "\n",
              "// Listen for the removal of the full notebook cells\n",
              "var notebookContainer = gd.closest('#notebook-container');\n",
              "if (notebookContainer) {{\n",
              "    x.observe(notebookContainer, {childList: true});\n",
              "}}\n",
              "\n",
              "// Listen for the clearing of the current output cell\n",
              "var outputEl = gd.closest('.output');\n",
              "if (outputEl) {{\n",
              "    x.observe(outputEl, {childList: true});\n",
              "}}\n",
              "\n",
              "                        })                };                            </script>        </div>\n",
              "</body>\n",
              "</html>"
            ]
          },
          "metadata": {}
        }
      ]
    },
    {
      "cell_type": "markdown",
      "metadata": {
        "id": "juVXTcj-qvaF"
      },
      "source": [
        "# Ejercicios"
      ]
    },
    {
      "cell_type": "markdown",
      "metadata": {
        "id": "F01zujIJNvCN"
      },
      "source": [
        "Durante el 2013 al 2017 hubo una gran pandemia a nivel mundial.\n",
        "A continuacion, se entregan 2 datasets con información respecto al estado de la pandemia.\n",
        "Se le pide que visualize las siguientes situaciones:\n",
        "\n",
        "\n",
        "*   Comparacion de total de contagios por pais.\n",
        "*   Tendencia de los contagios en el tiempo.\n",
        "\n",
        "\n",
        "Las instrucciones más detalladas de cada dataset se entrega a continuacion.\n",
        "\n",
        "\n",
        "\n",
        "\n",
        "\n",
        "\n",
        "\n"
      ]
    },
    {
      "cell_type": "markdown",
      "metadata": {
        "id": "EWFP4UNUiFS1"
      },
      "source": [
        "## Comparacion de total de contagios por pais\n",
        "\n",
        "Use la visualizacion adecuada para comparar la cantidad total de fallecidos por pais. El dataset se entrega en la siguiente celda."
      ]
    },
    {
      "cell_type": "code",
      "metadata": {
        "id": "T-cCdMkhqwpb",
        "colab": {
          "base_uri": "https://localhost:8080/"
        },
        "outputId": "da5b2ccf-3206-44cd-fa47-4f27fc148c22"
      },
      "source": [
        "!gdown --id 1zzFjPv4hEXGNUCxV6g_vpsV5WY1Xm2ik"
      ],
      "execution_count": null,
      "outputs": [
        {
          "output_type": "stream",
          "name": "stdout",
          "text": [
            "Downloading...\n",
            "From: https://drive.google.com/uc?id=1zzFjPv4hEXGNUCxV6g_vpsV5WY1Xm2ik\n",
            "To: /content/V01.csv\n",
            "\r  0% 0.00/346 [00:00<?, ?B/s]\r100% 346/346 [00:00<00:00, 532kB/s]\n"
          ]
        }
      ]
    },
    {
      "cell_type": "code",
      "metadata": {
        "colab": {
          "base_uri": "https://localhost:8080/",
          "height": 206
        },
        "id": "FGvlTVkd_3K3",
        "outputId": "10ef4991-118c-452c-bad6-c10d515d299c"
      },
      "source": [
        "df_1 = pd.read_csv('/content/V01.csv')\n",
        "df_1.head()"
      ],
      "execution_count": null,
      "outputs": [
        {
          "output_type": "execute_result",
          "data": {
            "text/html": [
              "<div>\n",
              "<style scoped>\n",
              "    .dataframe tbody tr th:only-of-type {\n",
              "        vertical-align: middle;\n",
              "    }\n",
              "\n",
              "    .dataframe tbody tr th {\n",
              "        vertical-align: top;\n",
              "    }\n",
              "\n",
              "    .dataframe thead th {\n",
              "        text-align: right;\n",
              "    }\n",
              "</style>\n",
              "<table border=\"1\" class=\"dataframe\">\n",
              "  <thead>\n",
              "    <tr style=\"text-align: right;\">\n",
              "      <th></th>\n",
              "      <th>Paises</th>\n",
              "      <th>Contagiados</th>\n",
              "    </tr>\n",
              "  </thead>\n",
              "  <tbody>\n",
              "    <tr>\n",
              "      <th>0</th>\n",
              "      <td>España</td>\n",
              "      <td>569457</td>\n",
              "    </tr>\n",
              "    <tr>\n",
              "      <th>1</th>\n",
              "      <td>Chile</td>\n",
              "      <td>1088398</td>\n",
              "    </tr>\n",
              "    <tr>\n",
              "      <th>2</th>\n",
              "      <td>Guinea</td>\n",
              "      <td>1302202</td>\n",
              "    </tr>\n",
              "    <tr>\n",
              "      <th>3</th>\n",
              "      <td>Ecuador</td>\n",
              "      <td>1930001</td>\n",
              "    </tr>\n",
              "    <tr>\n",
              "      <th>4</th>\n",
              "      <td>Rusia</td>\n",
              "      <td>2000091</td>\n",
              "    </tr>\n",
              "  </tbody>\n",
              "</table>\n",
              "</div>"
            ],
            "text/plain": [
              "    Paises  Contagiados\n",
              "0   España       569457\n",
              "1    Chile      1088398\n",
              "2   Guinea      1302202\n",
              "3  Ecuador      1930001\n",
              "4    Rusia      2000091"
            ]
          },
          "metadata": {},
          "execution_count": 17
        }
      ]
    },
    {
      "cell_type": "markdown",
      "metadata": {
        "id": "ICVSi1vHicTT"
      },
      "source": [
        "## Tendencia de contagios en el tiempo.\n",
        "\n",
        "Use la visualizacion adecuada para mostrar como ha cambiado el total de contagiados a lo largo del tiempo. El dataset se entrega en la siguiente celda."
      ]
    },
    {
      "cell_type": "code",
      "metadata": {
        "colab": {
          "base_uri": "https://localhost:8080/"
        },
        "id": "whULh8Mxipo4",
        "outputId": "88c7a951-9de3-4eb3-c714-c49b67a3f333"
      },
      "source": [
        "!gdown --id 1ovetGRw83GIj1s8ancqGNnJWN801rElT"
      ],
      "execution_count": 18,
      "outputs": [
        {
          "output_type": "stream",
          "name": "stdout",
          "text": [
            "Downloading...\n",
            "From: https://drive.google.com/uc?id=1ovetGRw83GIj1s8ancqGNnJWN801rElT\n",
            "To: /content/V02.csv\n",
            "\r  0% 0.00/98.0 [00:00<?, ?B/s]\r100% 98.0/98.0 [00:00<00:00, 430kB/s]\n"
          ]
        }
      ]
    },
    {
      "cell_type": "code",
      "metadata": {
        "colab": {
          "base_uri": "https://localhost:8080/",
          "height": 206
        },
        "id": "dW7FpqPdA5By",
        "outputId": "499059b9-44b9-497d-9ce8-7458b1c77301"
      },
      "source": [
        "df_2 = pd.read_csv('/content/V02.csv')\n",
        "df_2.head()"
      ],
      "execution_count": 19,
      "outputs": [
        {
          "output_type": "execute_result",
          "data": {
            "text/html": [
              "<div>\n",
              "<style scoped>\n",
              "    .dataframe tbody tr th:only-of-type {\n",
              "        vertical-align: middle;\n",
              "    }\n",
              "\n",
              "    .dataframe tbody tr th {\n",
              "        vertical-align: top;\n",
              "    }\n",
              "\n",
              "    .dataframe thead th {\n",
              "        text-align: right;\n",
              "    }\n",
              "</style>\n",
              "<table border=\"1\" class=\"dataframe\">\n",
              "  <thead>\n",
              "    <tr style=\"text-align: right;\">\n",
              "      <th></th>\n",
              "      <th>Año</th>\n",
              "      <th>Total Contagiados</th>\n",
              "    </tr>\n",
              "  </thead>\n",
              "  <tbody>\n",
              "    <tr>\n",
              "      <th>0</th>\n",
              "      <td>2013</td>\n",
              "      <td>104778830</td>\n",
              "    </tr>\n",
              "    <tr>\n",
              "      <th>1</th>\n",
              "      <td>2014</td>\n",
              "      <td>168031244</td>\n",
              "    </tr>\n",
              "    <tr>\n",
              "      <th>2</th>\n",
              "      <td>2015</td>\n",
              "      <td>248136117</td>\n",
              "    </tr>\n",
              "    <tr>\n",
              "      <th>3</th>\n",
              "      <td>2016</td>\n",
              "      <td>372664870</td>\n",
              "    </tr>\n",
              "    <tr>\n",
              "      <th>4</th>\n",
              "      <td>2017</td>\n",
              "      <td>550371599</td>\n",
              "    </tr>\n",
              "  </tbody>\n",
              "</table>\n",
              "</div>"
            ],
            "text/plain": [
              "    Año  Total Contagiados\n",
              "0  2013          104778830\n",
              "1  2014          168031244\n",
              "2  2015          248136117\n",
              "3  2016          372664870\n",
              "4  2017          550371599"
            ]
          },
          "metadata": {},
          "execution_count": 19
        }
      ]
    },
    {
      "cell_type": "code",
      "metadata": {
        "colab": {
          "base_uri": "https://localhost:8080/",
          "height": 542
        },
        "id": "2O3H681_h_ee",
        "outputId": "c52d8059-91ad-44fa-a9f3-35a8a2ef8760"
      },
      "source": [
        "# Creamos el grafico\n",
        "fig = px.line(df_2, x=df_2['Año'], y=df_2['Total Contagiados'])\n",
        "fig.show()"
      ],
      "execution_count": 24,
      "outputs": [
        {
          "output_type": "display_data",
          "data": {
            "text/html": [
              "<html>\n",
              "<head><meta charset=\"utf-8\" /></head>\n",
              "<body>\n",
              "    <div>            <script src=\"https://cdnjs.cloudflare.com/ajax/libs/mathjax/2.7.5/MathJax.js?config=TeX-AMS-MML_SVG\"></script><script type=\"text/javascript\">if (window.MathJax) {MathJax.Hub.Config({SVG: {font: \"STIX-Web\"}});}</script>                <script type=\"text/javascript\">window.PlotlyConfig = {MathJaxConfig: 'local'};</script>\n",
              "        <script src=\"https://cdn.plot.ly/plotly-2.4.2.min.js\"></script>                <div id=\"e6835166-7393-49ca-9d14-882bad4af41a\" class=\"plotly-graph-div\" style=\"height:525px; width:100%;\"></div>            <script type=\"text/javascript\">                                    window.PLOTLYENV=window.PLOTLYENV || {};                                    if (document.getElementById(\"e6835166-7393-49ca-9d14-882bad4af41a\")) {                    Plotly.newPlot(                        \"e6835166-7393-49ca-9d14-882bad4af41a\",                        [{\"hovertemplate\":\"A\\u00f1o=%{x}<br>Total Contagiados=%{y}<extra></extra>\",\"legendgroup\":\"\",\"line\":{\"color\":\"#636efa\",\"dash\":\"solid\"},\"marker\":{\"symbol\":\"circle\"},\"mode\":\"lines\",\"name\":\"\",\"orientation\":\"v\",\"showlegend\":false,\"type\":\"scatter\",\"x\":[2013,2014,2015,2016,2017],\"xaxis\":\"x\",\"y\":[104778830,168031244,248136117,372664870,550371599],\"yaxis\":\"y\"}],                        {\"legend\":{\"tracegroupgap\":0},\"margin\":{\"t\":60},\"template\":{\"data\":{\"bar\":[{\"error_x\":{\"color\":\"#2a3f5f\"},\"error_y\":{\"color\":\"#2a3f5f\"},\"marker\":{\"line\":{\"color\":\"#E5ECF6\",\"width\":0.5},\"pattern\":{\"fillmode\":\"overlay\",\"size\":10,\"solidity\":0.2}},\"type\":\"bar\"}],\"barpolar\":[{\"marker\":{\"line\":{\"color\":\"#E5ECF6\",\"width\":0.5},\"pattern\":{\"fillmode\":\"overlay\",\"size\":10,\"solidity\":0.2}},\"type\":\"barpolar\"}],\"carpet\":[{\"aaxis\":{\"endlinecolor\":\"#2a3f5f\",\"gridcolor\":\"white\",\"linecolor\":\"white\",\"minorgridcolor\":\"white\",\"startlinecolor\":\"#2a3f5f\"},\"baxis\":{\"endlinecolor\":\"#2a3f5f\",\"gridcolor\":\"white\",\"linecolor\":\"white\",\"minorgridcolor\":\"white\",\"startlinecolor\":\"#2a3f5f\"},\"type\":\"carpet\"}],\"choropleth\":[{\"colorbar\":{\"outlinewidth\":0,\"ticks\":\"\"},\"type\":\"choropleth\"}],\"contour\":[{\"colorbar\":{\"outlinewidth\":0,\"ticks\":\"\"},\"colorscale\":[[0.0,\"#0d0887\"],[0.1111111111111111,\"#46039f\"],[0.2222222222222222,\"#7201a8\"],[0.3333333333333333,\"#9c179e\"],[0.4444444444444444,\"#bd3786\"],[0.5555555555555556,\"#d8576b\"],[0.6666666666666666,\"#ed7953\"],[0.7777777777777778,\"#fb9f3a\"],[0.8888888888888888,\"#fdca26\"],[1.0,\"#f0f921\"]],\"type\":\"contour\"}],\"contourcarpet\":[{\"colorbar\":{\"outlinewidth\":0,\"ticks\":\"\"},\"type\":\"contourcarpet\"}],\"heatmap\":[{\"colorbar\":{\"outlinewidth\":0,\"ticks\":\"\"},\"colorscale\":[[0.0,\"#0d0887\"],[0.1111111111111111,\"#46039f\"],[0.2222222222222222,\"#7201a8\"],[0.3333333333333333,\"#9c179e\"],[0.4444444444444444,\"#bd3786\"],[0.5555555555555556,\"#d8576b\"],[0.6666666666666666,\"#ed7953\"],[0.7777777777777778,\"#fb9f3a\"],[0.8888888888888888,\"#fdca26\"],[1.0,\"#f0f921\"]],\"type\":\"heatmap\"}],\"heatmapgl\":[{\"colorbar\":{\"outlinewidth\":0,\"ticks\":\"\"},\"colorscale\":[[0.0,\"#0d0887\"],[0.1111111111111111,\"#46039f\"],[0.2222222222222222,\"#7201a8\"],[0.3333333333333333,\"#9c179e\"],[0.4444444444444444,\"#bd3786\"],[0.5555555555555556,\"#d8576b\"],[0.6666666666666666,\"#ed7953\"],[0.7777777777777778,\"#fb9f3a\"],[0.8888888888888888,\"#fdca26\"],[1.0,\"#f0f921\"]],\"type\":\"heatmapgl\"}],\"histogram\":[{\"marker\":{\"pattern\":{\"fillmode\":\"overlay\",\"size\":10,\"solidity\":0.2}},\"type\":\"histogram\"}],\"histogram2d\":[{\"colorbar\":{\"outlinewidth\":0,\"ticks\":\"\"},\"colorscale\":[[0.0,\"#0d0887\"],[0.1111111111111111,\"#46039f\"],[0.2222222222222222,\"#7201a8\"],[0.3333333333333333,\"#9c179e\"],[0.4444444444444444,\"#bd3786\"],[0.5555555555555556,\"#d8576b\"],[0.6666666666666666,\"#ed7953\"],[0.7777777777777778,\"#fb9f3a\"],[0.8888888888888888,\"#fdca26\"],[1.0,\"#f0f921\"]],\"type\":\"histogram2d\"}],\"histogram2dcontour\":[{\"colorbar\":{\"outlinewidth\":0,\"ticks\":\"\"},\"colorscale\":[[0.0,\"#0d0887\"],[0.1111111111111111,\"#46039f\"],[0.2222222222222222,\"#7201a8\"],[0.3333333333333333,\"#9c179e\"],[0.4444444444444444,\"#bd3786\"],[0.5555555555555556,\"#d8576b\"],[0.6666666666666666,\"#ed7953\"],[0.7777777777777778,\"#fb9f3a\"],[0.8888888888888888,\"#fdca26\"],[1.0,\"#f0f921\"]],\"type\":\"histogram2dcontour\"}],\"mesh3d\":[{\"colorbar\":{\"outlinewidth\":0,\"ticks\":\"\"},\"type\":\"mesh3d\"}],\"parcoords\":[{\"line\":{\"colorbar\":{\"outlinewidth\":0,\"ticks\":\"\"}},\"type\":\"parcoords\"}],\"pie\":[{\"automargin\":true,\"type\":\"pie\"}],\"scatter\":[{\"marker\":{\"colorbar\":{\"outlinewidth\":0,\"ticks\":\"\"}},\"type\":\"scatter\"}],\"scatter3d\":[{\"line\":{\"colorbar\":{\"outlinewidth\":0,\"ticks\":\"\"}},\"marker\":{\"colorbar\":{\"outlinewidth\":0,\"ticks\":\"\"}},\"type\":\"scatter3d\"}],\"scattercarpet\":[{\"marker\":{\"colorbar\":{\"outlinewidth\":0,\"ticks\":\"\"}},\"type\":\"scattercarpet\"}],\"scattergeo\":[{\"marker\":{\"colorbar\":{\"outlinewidth\":0,\"ticks\":\"\"}},\"type\":\"scattergeo\"}],\"scattergl\":[{\"marker\":{\"colorbar\":{\"outlinewidth\":0,\"ticks\":\"\"}},\"type\":\"scattergl\"}],\"scattermapbox\":[{\"marker\":{\"colorbar\":{\"outlinewidth\":0,\"ticks\":\"\"}},\"type\":\"scattermapbox\"}],\"scatterpolar\":[{\"marker\":{\"colorbar\":{\"outlinewidth\":0,\"ticks\":\"\"}},\"type\":\"scatterpolar\"}],\"scatterpolargl\":[{\"marker\":{\"colorbar\":{\"outlinewidth\":0,\"ticks\":\"\"}},\"type\":\"scatterpolargl\"}],\"scatterternary\":[{\"marker\":{\"colorbar\":{\"outlinewidth\":0,\"ticks\":\"\"}},\"type\":\"scatterternary\"}],\"surface\":[{\"colorbar\":{\"outlinewidth\":0,\"ticks\":\"\"},\"colorscale\":[[0.0,\"#0d0887\"],[0.1111111111111111,\"#46039f\"],[0.2222222222222222,\"#7201a8\"],[0.3333333333333333,\"#9c179e\"],[0.4444444444444444,\"#bd3786\"],[0.5555555555555556,\"#d8576b\"],[0.6666666666666666,\"#ed7953\"],[0.7777777777777778,\"#fb9f3a\"],[0.8888888888888888,\"#fdca26\"],[1.0,\"#f0f921\"]],\"type\":\"surface\"}],\"table\":[{\"cells\":{\"fill\":{\"color\":\"#EBF0F8\"},\"line\":{\"color\":\"white\"}},\"header\":{\"fill\":{\"color\":\"#C8D4E3\"},\"line\":{\"color\":\"white\"}},\"type\":\"table\"}]},\"layout\":{\"annotationdefaults\":{\"arrowcolor\":\"#2a3f5f\",\"arrowhead\":0,\"arrowwidth\":1},\"autotypenumbers\":\"strict\",\"coloraxis\":{\"colorbar\":{\"outlinewidth\":0,\"ticks\":\"\"}},\"colorscale\":{\"diverging\":[[0,\"#8e0152\"],[0.1,\"#c51b7d\"],[0.2,\"#de77ae\"],[0.3,\"#f1b6da\"],[0.4,\"#fde0ef\"],[0.5,\"#f7f7f7\"],[0.6,\"#e6f5d0\"],[0.7,\"#b8e186\"],[0.8,\"#7fbc41\"],[0.9,\"#4d9221\"],[1,\"#276419\"]],\"sequential\":[[0.0,\"#0d0887\"],[0.1111111111111111,\"#46039f\"],[0.2222222222222222,\"#7201a8\"],[0.3333333333333333,\"#9c179e\"],[0.4444444444444444,\"#bd3786\"],[0.5555555555555556,\"#d8576b\"],[0.6666666666666666,\"#ed7953\"],[0.7777777777777778,\"#fb9f3a\"],[0.8888888888888888,\"#fdca26\"],[1.0,\"#f0f921\"]],\"sequentialminus\":[[0.0,\"#0d0887\"],[0.1111111111111111,\"#46039f\"],[0.2222222222222222,\"#7201a8\"],[0.3333333333333333,\"#9c179e\"],[0.4444444444444444,\"#bd3786\"],[0.5555555555555556,\"#d8576b\"],[0.6666666666666666,\"#ed7953\"],[0.7777777777777778,\"#fb9f3a\"],[0.8888888888888888,\"#fdca26\"],[1.0,\"#f0f921\"]]},\"colorway\":[\"#636efa\",\"#EF553B\",\"#00cc96\",\"#ab63fa\",\"#FFA15A\",\"#19d3f3\",\"#FF6692\",\"#B6E880\",\"#FF97FF\",\"#FECB52\"],\"font\":{\"color\":\"#2a3f5f\"},\"geo\":{\"bgcolor\":\"white\",\"lakecolor\":\"white\",\"landcolor\":\"#E5ECF6\",\"showlakes\":true,\"showland\":true,\"subunitcolor\":\"white\"},\"hoverlabel\":{\"align\":\"left\"},\"hovermode\":\"closest\",\"mapbox\":{\"style\":\"light\"},\"paper_bgcolor\":\"white\",\"plot_bgcolor\":\"#E5ECF6\",\"polar\":{\"angularaxis\":{\"gridcolor\":\"white\",\"linecolor\":\"white\",\"ticks\":\"\"},\"bgcolor\":\"#E5ECF6\",\"radialaxis\":{\"gridcolor\":\"white\",\"linecolor\":\"white\",\"ticks\":\"\"}},\"scene\":{\"xaxis\":{\"backgroundcolor\":\"#E5ECF6\",\"gridcolor\":\"white\",\"gridwidth\":2,\"linecolor\":\"white\",\"showbackground\":true,\"ticks\":\"\",\"zerolinecolor\":\"white\"},\"yaxis\":{\"backgroundcolor\":\"#E5ECF6\",\"gridcolor\":\"white\",\"gridwidth\":2,\"linecolor\":\"white\",\"showbackground\":true,\"ticks\":\"\",\"zerolinecolor\":\"white\"},\"zaxis\":{\"backgroundcolor\":\"#E5ECF6\",\"gridcolor\":\"white\",\"gridwidth\":2,\"linecolor\":\"white\",\"showbackground\":true,\"ticks\":\"\",\"zerolinecolor\":\"white\"}},\"shapedefaults\":{\"line\":{\"color\":\"#2a3f5f\"}},\"ternary\":{\"aaxis\":{\"gridcolor\":\"white\",\"linecolor\":\"white\",\"ticks\":\"\"},\"baxis\":{\"gridcolor\":\"white\",\"linecolor\":\"white\",\"ticks\":\"\"},\"bgcolor\":\"#E5ECF6\",\"caxis\":{\"gridcolor\":\"white\",\"linecolor\":\"white\",\"ticks\":\"\"}},\"title\":{\"x\":0.05},\"xaxis\":{\"automargin\":true,\"gridcolor\":\"white\",\"linecolor\":\"white\",\"ticks\":\"\",\"title\":{\"standoff\":15},\"zerolinecolor\":\"white\",\"zerolinewidth\":2},\"yaxis\":{\"automargin\":true,\"gridcolor\":\"white\",\"linecolor\":\"white\",\"ticks\":\"\",\"title\":{\"standoff\":15},\"zerolinecolor\":\"white\",\"zerolinewidth\":2}}},\"xaxis\":{\"anchor\":\"y\",\"domain\":[0.0,1.0],\"title\":{\"text\":\"A\\u00f1o\"}},\"yaxis\":{\"anchor\":\"x\",\"domain\":[0.0,1.0],\"title\":{\"text\":\"Total Contagiados\"}}},                        {\"responsive\": true}                    ).then(function(){\n",
              "                            \n",
              "var gd = document.getElementById('e6835166-7393-49ca-9d14-882bad4af41a');\n",
              "var x = new MutationObserver(function (mutations, observer) {{\n",
              "        var display = window.getComputedStyle(gd).display;\n",
              "        if (!display || display === 'none') {{\n",
              "            console.log([gd, 'removed!']);\n",
              "            Plotly.purge(gd);\n",
              "            observer.disconnect();\n",
              "        }}\n",
              "}});\n",
              "\n",
              "// Listen for the removal of the full notebook cells\n",
              "var notebookContainer = gd.closest('#notebook-container');\n",
              "if (notebookContainer) {{\n",
              "    x.observe(notebookContainer, {childList: true});\n",
              "}}\n",
              "\n",
              "// Listen for the clearing of the current output cell\n",
              "var outputEl = gd.closest('.output');\n",
              "if (outputEl) {{\n",
              "    x.observe(outputEl, {childList: true});\n",
              "}}\n",
              "\n",
              "                        })                };                            </script>        </div>\n",
              "</body>\n",
              "</html>"
            ]
          },
          "metadata": {}
        }
      ]
    },
    {
      "cell_type": "markdown",
      "metadata": {
        "id": "R6RYyzdhiDws"
      },
      "source": [
        "## Tendencia de contagios en el tiempo - Bonus\n",
        "\n",
        "Repita el ejercicio anterior, pero esta vez intente agregar un slicer para poder modificar las fechas en el eje x."
      ]
    },
    {
      "cell_type": "code",
      "metadata": {
        "colab": {
          "base_uri": "https://localhost:8080/",
          "height": 542
        },
        "id": "4SGCO7ywgmyC",
        "outputId": "d43fd220-407c-4431-c572-0f5a4b97cbe9"
      },
      "source": [
        "# Creamos el grafico\n",
        "fig = px.line(df_2, x=df_2['Año'], y=df_2['Total Contagiados'])\n",
        "\n",
        "# Agregamos abajo del grafico el slicer\n",
        "fig.update_layout(\n",
        "    xaxis=dict(rangeslider=dict(visible=True), type=\"date\")\n",
        ")\n",
        "\n",
        "fig.show()"
      ],
      "execution_count": 25,
      "outputs": [
        {
          "output_type": "display_data",
          "data": {
            "text/html": [
              "<html>\n",
              "<head><meta charset=\"utf-8\" /></head>\n",
              "<body>\n",
              "    <div>            <script src=\"https://cdnjs.cloudflare.com/ajax/libs/mathjax/2.7.5/MathJax.js?config=TeX-AMS-MML_SVG\"></script><script type=\"text/javascript\">if (window.MathJax) {MathJax.Hub.Config({SVG: {font: \"STIX-Web\"}});}</script>                <script type=\"text/javascript\">window.PlotlyConfig = {MathJaxConfig: 'local'};</script>\n",
              "        <script src=\"https://cdn.plot.ly/plotly-2.4.2.min.js\"></script>                <div id=\"07d105cd-dce1-4ac0-b519-8ef534b31288\" class=\"plotly-graph-div\" style=\"height:525px; width:100%;\"></div>            <script type=\"text/javascript\">                                    window.PLOTLYENV=window.PLOTLYENV || {};                                    if (document.getElementById(\"07d105cd-dce1-4ac0-b519-8ef534b31288\")) {                    Plotly.newPlot(                        \"07d105cd-dce1-4ac0-b519-8ef534b31288\",                        [{\"hovertemplate\":\"A\\u00f1o=%{x}<br>Total Contagiados=%{y}<extra></extra>\",\"legendgroup\":\"\",\"line\":{\"color\":\"#636efa\",\"dash\":\"solid\"},\"marker\":{\"symbol\":\"circle\"},\"mode\":\"lines\",\"name\":\"\",\"orientation\":\"v\",\"showlegend\":false,\"type\":\"scatter\",\"x\":[2013,2014,2015,2016,2017],\"xaxis\":\"x\",\"y\":[104778830,168031244,248136117,372664870,550371599],\"yaxis\":\"y\"}],                        {\"legend\":{\"tracegroupgap\":0},\"margin\":{\"t\":60},\"template\":{\"data\":{\"bar\":[{\"error_x\":{\"color\":\"#2a3f5f\"},\"error_y\":{\"color\":\"#2a3f5f\"},\"marker\":{\"line\":{\"color\":\"#E5ECF6\",\"width\":0.5},\"pattern\":{\"fillmode\":\"overlay\",\"size\":10,\"solidity\":0.2}},\"type\":\"bar\"}],\"barpolar\":[{\"marker\":{\"line\":{\"color\":\"#E5ECF6\",\"width\":0.5},\"pattern\":{\"fillmode\":\"overlay\",\"size\":10,\"solidity\":0.2}},\"type\":\"barpolar\"}],\"carpet\":[{\"aaxis\":{\"endlinecolor\":\"#2a3f5f\",\"gridcolor\":\"white\",\"linecolor\":\"white\",\"minorgridcolor\":\"white\",\"startlinecolor\":\"#2a3f5f\"},\"baxis\":{\"endlinecolor\":\"#2a3f5f\",\"gridcolor\":\"white\",\"linecolor\":\"white\",\"minorgridcolor\":\"white\",\"startlinecolor\":\"#2a3f5f\"},\"type\":\"carpet\"}],\"choropleth\":[{\"colorbar\":{\"outlinewidth\":0,\"ticks\":\"\"},\"type\":\"choropleth\"}],\"contour\":[{\"colorbar\":{\"outlinewidth\":0,\"ticks\":\"\"},\"colorscale\":[[0.0,\"#0d0887\"],[0.1111111111111111,\"#46039f\"],[0.2222222222222222,\"#7201a8\"],[0.3333333333333333,\"#9c179e\"],[0.4444444444444444,\"#bd3786\"],[0.5555555555555556,\"#d8576b\"],[0.6666666666666666,\"#ed7953\"],[0.7777777777777778,\"#fb9f3a\"],[0.8888888888888888,\"#fdca26\"],[1.0,\"#f0f921\"]],\"type\":\"contour\"}],\"contourcarpet\":[{\"colorbar\":{\"outlinewidth\":0,\"ticks\":\"\"},\"type\":\"contourcarpet\"}],\"heatmap\":[{\"colorbar\":{\"outlinewidth\":0,\"ticks\":\"\"},\"colorscale\":[[0.0,\"#0d0887\"],[0.1111111111111111,\"#46039f\"],[0.2222222222222222,\"#7201a8\"],[0.3333333333333333,\"#9c179e\"],[0.4444444444444444,\"#bd3786\"],[0.5555555555555556,\"#d8576b\"],[0.6666666666666666,\"#ed7953\"],[0.7777777777777778,\"#fb9f3a\"],[0.8888888888888888,\"#fdca26\"],[1.0,\"#f0f921\"]],\"type\":\"heatmap\"}],\"heatmapgl\":[{\"colorbar\":{\"outlinewidth\":0,\"ticks\":\"\"},\"colorscale\":[[0.0,\"#0d0887\"],[0.1111111111111111,\"#46039f\"],[0.2222222222222222,\"#7201a8\"],[0.3333333333333333,\"#9c179e\"],[0.4444444444444444,\"#bd3786\"],[0.5555555555555556,\"#d8576b\"],[0.6666666666666666,\"#ed7953\"],[0.7777777777777778,\"#fb9f3a\"],[0.8888888888888888,\"#fdca26\"],[1.0,\"#f0f921\"]],\"type\":\"heatmapgl\"}],\"histogram\":[{\"marker\":{\"pattern\":{\"fillmode\":\"overlay\",\"size\":10,\"solidity\":0.2}},\"type\":\"histogram\"}],\"histogram2d\":[{\"colorbar\":{\"outlinewidth\":0,\"ticks\":\"\"},\"colorscale\":[[0.0,\"#0d0887\"],[0.1111111111111111,\"#46039f\"],[0.2222222222222222,\"#7201a8\"],[0.3333333333333333,\"#9c179e\"],[0.4444444444444444,\"#bd3786\"],[0.5555555555555556,\"#d8576b\"],[0.6666666666666666,\"#ed7953\"],[0.7777777777777778,\"#fb9f3a\"],[0.8888888888888888,\"#fdca26\"],[1.0,\"#f0f921\"]],\"type\":\"histogram2d\"}],\"histogram2dcontour\":[{\"colorbar\":{\"outlinewidth\":0,\"ticks\":\"\"},\"colorscale\":[[0.0,\"#0d0887\"],[0.1111111111111111,\"#46039f\"],[0.2222222222222222,\"#7201a8\"],[0.3333333333333333,\"#9c179e\"],[0.4444444444444444,\"#bd3786\"],[0.5555555555555556,\"#d8576b\"],[0.6666666666666666,\"#ed7953\"],[0.7777777777777778,\"#fb9f3a\"],[0.8888888888888888,\"#fdca26\"],[1.0,\"#f0f921\"]],\"type\":\"histogram2dcontour\"}],\"mesh3d\":[{\"colorbar\":{\"outlinewidth\":0,\"ticks\":\"\"},\"type\":\"mesh3d\"}],\"parcoords\":[{\"line\":{\"colorbar\":{\"outlinewidth\":0,\"ticks\":\"\"}},\"type\":\"parcoords\"}],\"pie\":[{\"automargin\":true,\"type\":\"pie\"}],\"scatter\":[{\"marker\":{\"colorbar\":{\"outlinewidth\":0,\"ticks\":\"\"}},\"type\":\"scatter\"}],\"scatter3d\":[{\"line\":{\"colorbar\":{\"outlinewidth\":0,\"ticks\":\"\"}},\"marker\":{\"colorbar\":{\"outlinewidth\":0,\"ticks\":\"\"}},\"type\":\"scatter3d\"}],\"scattercarpet\":[{\"marker\":{\"colorbar\":{\"outlinewidth\":0,\"ticks\":\"\"}},\"type\":\"scattercarpet\"}],\"scattergeo\":[{\"marker\":{\"colorbar\":{\"outlinewidth\":0,\"ticks\":\"\"}},\"type\":\"scattergeo\"}],\"scattergl\":[{\"marker\":{\"colorbar\":{\"outlinewidth\":0,\"ticks\":\"\"}},\"type\":\"scattergl\"}],\"scattermapbox\":[{\"marker\":{\"colorbar\":{\"outlinewidth\":0,\"ticks\":\"\"}},\"type\":\"scattermapbox\"}],\"scatterpolar\":[{\"marker\":{\"colorbar\":{\"outlinewidth\":0,\"ticks\":\"\"}},\"type\":\"scatterpolar\"}],\"scatterpolargl\":[{\"marker\":{\"colorbar\":{\"outlinewidth\":0,\"ticks\":\"\"}},\"type\":\"scatterpolargl\"}],\"scatterternary\":[{\"marker\":{\"colorbar\":{\"outlinewidth\":0,\"ticks\":\"\"}},\"type\":\"scatterternary\"}],\"surface\":[{\"colorbar\":{\"outlinewidth\":0,\"ticks\":\"\"},\"colorscale\":[[0.0,\"#0d0887\"],[0.1111111111111111,\"#46039f\"],[0.2222222222222222,\"#7201a8\"],[0.3333333333333333,\"#9c179e\"],[0.4444444444444444,\"#bd3786\"],[0.5555555555555556,\"#d8576b\"],[0.6666666666666666,\"#ed7953\"],[0.7777777777777778,\"#fb9f3a\"],[0.8888888888888888,\"#fdca26\"],[1.0,\"#f0f921\"]],\"type\":\"surface\"}],\"table\":[{\"cells\":{\"fill\":{\"color\":\"#EBF0F8\"},\"line\":{\"color\":\"white\"}},\"header\":{\"fill\":{\"color\":\"#C8D4E3\"},\"line\":{\"color\":\"white\"}},\"type\":\"table\"}]},\"layout\":{\"annotationdefaults\":{\"arrowcolor\":\"#2a3f5f\",\"arrowhead\":0,\"arrowwidth\":1},\"autotypenumbers\":\"strict\",\"coloraxis\":{\"colorbar\":{\"outlinewidth\":0,\"ticks\":\"\"}},\"colorscale\":{\"diverging\":[[0,\"#8e0152\"],[0.1,\"#c51b7d\"],[0.2,\"#de77ae\"],[0.3,\"#f1b6da\"],[0.4,\"#fde0ef\"],[0.5,\"#f7f7f7\"],[0.6,\"#e6f5d0\"],[0.7,\"#b8e186\"],[0.8,\"#7fbc41\"],[0.9,\"#4d9221\"],[1,\"#276419\"]],\"sequential\":[[0.0,\"#0d0887\"],[0.1111111111111111,\"#46039f\"],[0.2222222222222222,\"#7201a8\"],[0.3333333333333333,\"#9c179e\"],[0.4444444444444444,\"#bd3786\"],[0.5555555555555556,\"#d8576b\"],[0.6666666666666666,\"#ed7953\"],[0.7777777777777778,\"#fb9f3a\"],[0.8888888888888888,\"#fdca26\"],[1.0,\"#f0f921\"]],\"sequentialminus\":[[0.0,\"#0d0887\"],[0.1111111111111111,\"#46039f\"],[0.2222222222222222,\"#7201a8\"],[0.3333333333333333,\"#9c179e\"],[0.4444444444444444,\"#bd3786\"],[0.5555555555555556,\"#d8576b\"],[0.6666666666666666,\"#ed7953\"],[0.7777777777777778,\"#fb9f3a\"],[0.8888888888888888,\"#fdca26\"],[1.0,\"#f0f921\"]]},\"colorway\":[\"#636efa\",\"#EF553B\",\"#00cc96\",\"#ab63fa\",\"#FFA15A\",\"#19d3f3\",\"#FF6692\",\"#B6E880\",\"#FF97FF\",\"#FECB52\"],\"font\":{\"color\":\"#2a3f5f\"},\"geo\":{\"bgcolor\":\"white\",\"lakecolor\":\"white\",\"landcolor\":\"#E5ECF6\",\"showlakes\":true,\"showland\":true,\"subunitcolor\":\"white\"},\"hoverlabel\":{\"align\":\"left\"},\"hovermode\":\"closest\",\"mapbox\":{\"style\":\"light\"},\"paper_bgcolor\":\"white\",\"plot_bgcolor\":\"#E5ECF6\",\"polar\":{\"angularaxis\":{\"gridcolor\":\"white\",\"linecolor\":\"white\",\"ticks\":\"\"},\"bgcolor\":\"#E5ECF6\",\"radialaxis\":{\"gridcolor\":\"white\",\"linecolor\":\"white\",\"ticks\":\"\"}},\"scene\":{\"xaxis\":{\"backgroundcolor\":\"#E5ECF6\",\"gridcolor\":\"white\",\"gridwidth\":2,\"linecolor\":\"white\",\"showbackground\":true,\"ticks\":\"\",\"zerolinecolor\":\"white\"},\"yaxis\":{\"backgroundcolor\":\"#E5ECF6\",\"gridcolor\":\"white\",\"gridwidth\":2,\"linecolor\":\"white\",\"showbackground\":true,\"ticks\":\"\",\"zerolinecolor\":\"white\"},\"zaxis\":{\"backgroundcolor\":\"#E5ECF6\",\"gridcolor\":\"white\",\"gridwidth\":2,\"linecolor\":\"white\",\"showbackground\":true,\"ticks\":\"\",\"zerolinecolor\":\"white\"}},\"shapedefaults\":{\"line\":{\"color\":\"#2a3f5f\"}},\"ternary\":{\"aaxis\":{\"gridcolor\":\"white\",\"linecolor\":\"white\",\"ticks\":\"\"},\"baxis\":{\"gridcolor\":\"white\",\"linecolor\":\"white\",\"ticks\":\"\"},\"bgcolor\":\"#E5ECF6\",\"caxis\":{\"gridcolor\":\"white\",\"linecolor\":\"white\",\"ticks\":\"\"}},\"title\":{\"x\":0.05},\"xaxis\":{\"automargin\":true,\"gridcolor\":\"white\",\"linecolor\":\"white\",\"ticks\":\"\",\"title\":{\"standoff\":15},\"zerolinecolor\":\"white\",\"zerolinewidth\":2},\"yaxis\":{\"automargin\":true,\"gridcolor\":\"white\",\"linecolor\":\"white\",\"ticks\":\"\",\"title\":{\"standoff\":15},\"zerolinecolor\":\"white\",\"zerolinewidth\":2}}},\"xaxis\":{\"anchor\":\"y\",\"domain\":[0.0,1.0],\"rangeslider\":{\"visible\":true},\"title\":{\"text\":\"A\\u00f1o\"},\"type\":\"date\"},\"yaxis\":{\"anchor\":\"x\",\"domain\":[0.0,1.0],\"title\":{\"text\":\"Total Contagiados\"}}},                        {\"responsive\": true}                    ).then(function(){\n",
              "                            \n",
              "var gd = document.getElementById('07d105cd-dce1-4ac0-b519-8ef534b31288');\n",
              "var x = new MutationObserver(function (mutations, observer) {{\n",
              "        var display = window.getComputedStyle(gd).display;\n",
              "        if (!display || display === 'none') {{\n",
              "            console.log([gd, 'removed!']);\n",
              "            Plotly.purge(gd);\n",
              "            observer.disconnect();\n",
              "        }}\n",
              "}});\n",
              "\n",
              "// Listen for the removal of the full notebook cells\n",
              "var notebookContainer = gd.closest('#notebook-container');\n",
              "if (notebookContainer) {{\n",
              "    x.observe(notebookContainer, {childList: true});\n",
              "}}\n",
              "\n",
              "// Listen for the clearing of the current output cell\n",
              "var outputEl = gd.closest('.output');\n",
              "if (outputEl) {{\n",
              "    x.observe(outputEl, {childList: true});\n",
              "}}\n",
              "\n",
              "                        })                };                            </script>        </div>\n",
              "</body>\n",
              "</html>"
            ]
          },
          "metadata": {}
        }
      ]
    },
    {
      "cell_type": "code",
      "metadata": {
        "colab": {
          "base_uri": "https://localhost:8080/"
        },
        "id": "5r05nW2ejQPR",
        "outputId": "72510f24-6fb0-4d14-c45a-c1739b793ff0"
      },
      "source": [
        "!gdown --id 1GYAmTubXinEsJeVVUgLI5xiwSEMshIw0"
      ],
      "execution_count": null,
      "outputs": [
        {
          "output_type": "stream",
          "name": "stdout",
          "text": [
            "Downloading...\n",
            "From: https://drive.google.com/uc?id=1GYAmTubXinEsJeVVUgLI5xiwSEMshIw0\n",
            "To: /content/V03.csv\n",
            "\r  0% 0.00/3.75k [00:00<?, ?B/s]\r100% 3.75k/3.75k [00:00<00:00, 6.54MB/s]\n"
          ]
        }
      ]
    },
    {
      "cell_type": "code",
      "metadata": {
        "colab": {
          "base_uri": "https://localhost:8080/",
          "height": 206
        },
        "id": "okUjtQHGBDYg",
        "outputId": "cdaad48e-db13-4557-a0a2-7e786aa8e6a6"
      },
      "source": [
        "df_3 = pd.read_csv('/content/V03.csv')\n",
        "df_3.head()"
      ],
      "execution_count": null,
      "outputs": [
        {
          "output_type": "execute_result",
          "data": {
            "text/html": [
              "<div>\n",
              "<style scoped>\n",
              "    .dataframe tbody tr th:only-of-type {\n",
              "        vertical-align: middle;\n",
              "    }\n",
              "\n",
              "    .dataframe tbody tr th {\n",
              "        vertical-align: top;\n",
              "    }\n",
              "\n",
              "    .dataframe thead th {\n",
              "        text-align: right;\n",
              "    }\n",
              "</style>\n",
              "<table border=\"1\" class=\"dataframe\">\n",
              "  <thead>\n",
              "    <tr style=\"text-align: right;\">\n",
              "      <th></th>\n",
              "      <th>Pais</th>\n",
              "      <th>Mes</th>\n",
              "      <th>Contagiados</th>\n",
              "    </tr>\n",
              "  </thead>\n",
              "  <tbody>\n",
              "    <tr>\n",
              "      <th>0</th>\n",
              "      <td>Estados Unidos</td>\n",
              "      <td>1</td>\n",
              "      <td>5230</td>\n",
              "    </tr>\n",
              "    <tr>\n",
              "      <th>1</th>\n",
              "      <td>Estados Unidos</td>\n",
              "      <td>2</td>\n",
              "      <td>4785</td>\n",
              "    </tr>\n",
              "    <tr>\n",
              "      <th>2</th>\n",
              "      <td>Estados Unidos</td>\n",
              "      <td>3</td>\n",
              "      <td>4217</td>\n",
              "    </tr>\n",
              "    <tr>\n",
              "      <th>3</th>\n",
              "      <td>Estados Unidos</td>\n",
              "      <td>4</td>\n",
              "      <td>704</td>\n",
              "    </tr>\n",
              "    <tr>\n",
              "      <th>4</th>\n",
              "      <td>Estados Unidos</td>\n",
              "      <td>5</td>\n",
              "      <td>8694</td>\n",
              "    </tr>\n",
              "  </tbody>\n",
              "</table>\n",
              "</div>"
            ],
            "text/plain": [
              "             Pais  Mes  Contagiados\n",
              "0  Estados Unidos    1         5230\n",
              "1  Estados Unidos    2         4785\n",
              "2  Estados Unidos    3         4217\n",
              "3  Estados Unidos    4          704\n",
              "4  Estados Unidos    5         8694"
            ]
          },
          "metadata": {},
          "execution_count": 27
        }
      ]
    }
  ]
}