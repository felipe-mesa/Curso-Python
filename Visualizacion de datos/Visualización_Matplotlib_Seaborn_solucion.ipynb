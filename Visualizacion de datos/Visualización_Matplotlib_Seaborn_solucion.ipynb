{
  "nbformat": 4,
  "nbformat_minor": 0,
  "metadata": {
    "colab": {
      "name": "Visualización Matplotlib Seaborn solucion.ipynb",
      "provenance": [],
      "collapsed_sections": [
        "JqyHxPd_qbgC",
        "zer41Z_apjFf",
        "lDqngPMLp8Me",
        "UFDcwqKap8YX",
        "9CbMxBcap8gZ",
        "ICrfsPSSp8oG",
        "F8jwFfeap8th",
        "3I028JjOp8yy",
        "v5NWay2up84u"
      ]
    },
    "kernelspec": {
      "name": "python3",
      "display_name": "Python 3"
    },
    "language_info": {
      "name": "python"
    }
  },
  "cells": [
    {
      "cell_type": "markdown",
      "metadata": {
        "id": "iL1A3-Feo1Sm"
      },
      "source": [
        "# Visualización de datos con Matplotlib y Seaborn\n",
        "\n",
        "**Relator: Felipe Mesa Abraham** \n",
        "\n",
        "Correo: femesa@udec.cl\n",
        "\n",
        "\n",
        "En esta actividad se trabajará con las librerias  y  [Matplotlib](https://matplotlib.org/) y  [Seaborn](https://seaborn.pydata.org/) para crear diferentes visualizaciones en torno al objetivo de cada una. La actividad consiste en ejemplos sobre el funcionamiento del codigo para los diferentes tipos de visualizaciones vistos en la sección teórica y ejercicios guiados."
      ]
    },
    {
      "cell_type": "markdown",
      "metadata": {
        "id": "JqyHxPd_qbgC"
      },
      "source": [
        "# Ejemplos"
      ]
    },
    {
      "cell_type": "markdown",
      "metadata": {
        "id": "C0UYZE9fq2CS"
      },
      "source": [
        "## Descarga de datos"
      ]
    },
    {
      "cell_type": "code",
      "metadata": {
        "id": "kmCaiLd-z24G"
      },
      "source": [
        "import numpy as np\n",
        "import matplotlib.pyplot as plt\n",
        "import seaborn as sns\n",
        "import pandas as pd"
      ],
      "execution_count": null,
      "outputs": []
    },
    {
      "cell_type": "code",
      "metadata": {
        "colab": {
          "base_uri": "https://localhost:8080/"
        },
        "id": "37fN1ycDq6ZC",
        "outputId": "c098f03f-fd1d-48cd-acad-914e093806bf"
      },
      "source": [
        "!gdown --id 18Q_sXvrhlC6LNXSzQDsTUBZRm_K8X5Vi"
      ],
      "execution_count": null,
      "outputs": [
        {
          "output_type": "stream",
          "name": "stdout",
          "text": [
            "Downloading...\n",
            "From: https://drive.google.com/uc?id=18Q_sXvrhlC6LNXSzQDsTUBZRm_K8X5Vi\n",
            "To: /content/DataCenso.csv\n",
            "\r  0% 0.00/5.53M [00:00<?, ?B/s]\r 85% 4.72M/5.53M [00:00<00:00, 25.5MB/s]\r100% 5.53M/5.53M [00:00<00:00, 25.8MB/s]\n"
          ]
        }
      ]
    },
    {
      "cell_type": "code",
      "metadata": {
        "colab": {
          "base_uri": "https://localhost:8080/"
        },
        "id": "vymUgLMyr7TJ",
        "outputId": "f242c23a-2689-42bb-b4f9-ee9c0087710d"
      },
      "source": [
        "censo = pd.read_csv(\"DataCenso.csv\")\n",
        "censo.head()"
      ],
      "execution_count": null,
      "outputs": [
        {
          "output_type": "execute_result",
          "data": {
            "text/html": [
              "<div>\n",
              "<style scoped>\n",
              "    .dataframe tbody tr th:only-of-type {\n",
              "        vertical-align: middle;\n",
              "    }\n",
              "\n",
              "    .dataframe tbody tr th {\n",
              "        vertical-align: top;\n",
              "    }\n",
              "\n",
              "    .dataframe thead th {\n",
              "        text-align: right;\n",
              "    }\n",
              "</style>\n",
              "<table border=\"1\" class=\"dataframe\">\n",
              "  <thead>\n",
              "    <tr style=\"text-align: right;\">\n",
              "      <th></th>\n",
              "      <th>comuna</th>\n",
              "      <th>parentesco</th>\n",
              "      <th>edad</th>\n",
              "      <th>pais</th>\n",
              "      <th>a_llegada</th>\n",
              "      <th>n_educacional</th>\n",
              "      <th>descendencia</th>\n",
              "    </tr>\n",
              "  </thead>\n",
              "  <tbody>\n",
              "    <tr>\n",
              "      <th>0</th>\n",
              "      <td>Putre</td>\n",
              "      <td>Esposo/a o cónyuge</td>\n",
              "      <td>54</td>\n",
              "      <td>Italia</td>\n",
              "      <td>2007</td>\n",
              "      <td>9</td>\n",
              "      <td>0</td>\n",
              "    </tr>\n",
              "    <tr>\n",
              "      <th>1</th>\n",
              "      <td>Putre</td>\n",
              "      <td>Persona en vivienda colectiva</td>\n",
              "      <td>26</td>\n",
              "      <td>Alemania</td>\n",
              "      <td>2017</td>\n",
              "      <td>9</td>\n",
              "      <td>0</td>\n",
              "    </tr>\n",
              "    <tr>\n",
              "      <th>2</th>\n",
              "      <td>Putre</td>\n",
              "      <td>Esposo/a o cónyuge</td>\n",
              "      <td>34</td>\n",
              "      <td>México</td>\n",
              "      <td>1999</td>\n",
              "      <td>3</td>\n",
              "      <td>4</td>\n",
              "    </tr>\n",
              "    <tr>\n",
              "      <th>3</th>\n",
              "      <td>Putre</td>\n",
              "      <td>Jefe/a de hogar</td>\n",
              "      <td>32</td>\n",
              "      <td>México</td>\n",
              "      <td>2011</td>\n",
              "      <td>6</td>\n",
              "      <td>1</td>\n",
              "    </tr>\n",
              "    <tr>\n",
              "      <th>4</th>\n",
              "      <td>Putre</td>\n",
              "      <td>Persona en vivienda colectiva</td>\n",
              "      <td>34</td>\n",
              "      <td>Suiza</td>\n",
              "      <td>2017</td>\n",
              "      <td>9</td>\n",
              "      <td>0</td>\n",
              "    </tr>\n",
              "  </tbody>\n",
              "</table>\n",
              "</div>"
            ],
            "text/plain": [
              "  comuna                     parentesco  ...  n_educacional descendencia\n",
              "0  Putre             Esposo/a o cónyuge  ...              9            0\n",
              "1  Putre  Persona en vivienda colectiva  ...              9            0\n",
              "2  Putre             Esposo/a o cónyuge  ...              3            4\n",
              "3  Putre                Jefe/a de hogar  ...              6            1\n",
              "4  Putre  Persona en vivienda colectiva  ...              9            0\n",
              "\n",
              "[5 rows x 7 columns]"
            ]
          },
          "metadata": {},
          "execution_count": 3
        }
      ]
    },
    {
      "cell_type": "markdown",
      "metadata": {
        "id": "zer41Z_apjFf"
      },
      "source": [
        "## Gráfico de barra"
      ]
    },
    {
      "cell_type": "code",
      "metadata": {
        "colab": {
          "base_uri": "https://localhost:8080/"
        },
        "id": "ymi-Ri9lt0rg",
        "outputId": "5bf706ce-a9e8-4a14-f1f9-5630ae32bf61"
      },
      "source": [
        "data_barra = censo.groupby('parentesco').mean()\n",
        "data_barra.head()"
      ],
      "execution_count": null,
      "outputs": [
        {
          "output_type": "execute_result",
          "data": {
            "text/html": [
              "<div>\n",
              "<style scoped>\n",
              "    .dataframe tbody tr th:only-of-type {\n",
              "        vertical-align: middle;\n",
              "    }\n",
              "\n",
              "    .dataframe tbody tr th {\n",
              "        vertical-align: top;\n",
              "    }\n",
              "\n",
              "    .dataframe thead th {\n",
              "        text-align: right;\n",
              "    }\n",
              "</style>\n",
              "<table border=\"1\" class=\"dataframe\">\n",
              "  <thead>\n",
              "    <tr style=\"text-align: right;\">\n",
              "      <th></th>\n",
              "      <th>edad</th>\n",
              "      <th>a_llegada</th>\n",
              "      <th>n_educacional</th>\n",
              "      <th>descendencia</th>\n",
              "    </tr>\n",
              "    <tr>\n",
              "      <th>parentesco</th>\n",
              "      <th></th>\n",
              "      <th></th>\n",
              "      <th></th>\n",
              "      <th></th>\n",
              "    </tr>\n",
              "  </thead>\n",
              "  <tbody>\n",
              "    <tr>\n",
              "      <th>Abuelo/a</th>\n",
              "      <td>79.467742</td>\n",
              "      <td>1995.161290</td>\n",
              "      <td>5.435484</td>\n",
              "      <td>2.854839</td>\n",
              "    </tr>\n",
              "    <tr>\n",
              "      <th>Conviviente de hecho o pareja</th>\n",
              "      <td>31.507202</td>\n",
              "      <td>2011.837722</td>\n",
              "      <td>7.877560</td>\n",
              "      <td>0.849651</td>\n",
              "    </tr>\n",
              "    <tr>\n",
              "      <th>Conviviente por unión civil</th>\n",
              "      <td>33.682310</td>\n",
              "      <td>2010.599278</td>\n",
              "      <td>7.669675</td>\n",
              "      <td>1.104693</td>\n",
              "    </tr>\n",
              "    <tr>\n",
              "      <th>Cuñado/a</th>\n",
              "      <td>31.145013</td>\n",
              "      <td>2014.837927</td>\n",
              "      <td>7.175853</td>\n",
              "      <td>0.864829</td>\n",
              "    </tr>\n",
              "    <tr>\n",
              "      <th>Esposo/a o cónyuge</th>\n",
              "      <td>38.464269</td>\n",
              "      <td>2007.379972</td>\n",
              "      <td>8.077481</td>\n",
              "      <td>1.551032</td>\n",
              "    </tr>\n",
              "  </tbody>\n",
              "</table>\n",
              "</div>"
            ],
            "text/plain": [
              "                                    edad  ...  descendencia\n",
              "parentesco                                ...              \n",
              "Abuelo/a                       79.467742  ...      2.854839\n",
              "Conviviente de hecho o pareja  31.507202  ...      0.849651\n",
              "Conviviente por unión civil    33.682310  ...      1.104693\n",
              "Cuñado/a                       31.145013  ...      0.864829\n",
              "Esposo/a o cónyuge             38.464269  ...      1.551032\n",
              "\n",
              "[5 rows x 4 columns]"
            ]
          },
          "metadata": {},
          "execution_count": 4
        }
      ]
    },
    {
      "cell_type": "markdown",
      "metadata": {
        "id": "wn8f3GqP0Tcj"
      },
      "source": [
        "Usando Matplotlib"
      ]
    },
    {
      "cell_type": "code",
      "metadata": {
        "colab": {
          "base_uri": "https://localhost:8080/"
        },
        "id": "3t9gH-rbovfH",
        "outputId": "c555ceda-b2ff-4f72-930e-4c51a27e48ac"
      },
      "source": [
        "# creando las variables\n",
        "parentesco = list(data_barra.index)\n",
        "values = list(data_barra['edad'].sort_values())\n",
        " \n",
        "# creando el grafico (el grafico fue hecho horizontal para visualizar los atributos)\n",
        "plt.barh(parentesco, values, color ='blue')\n",
        " \n",
        "plt.xlabel(\"Edad\")\n",
        "plt.ylabel(\"Parentesco\")\n",
        "plt.title(\"Edad promedio por parentesco\")\n",
        "plt.show()"
      ],
      "execution_count": null,
      "outputs": [
        {
          "output_type": "display_data",
          "data": {
            "image/png": "[encoded data removed]",
            "text/plain": [
              "<Figure size 432x288 with 1 Axes>"
            ]
          },
          "metadata": {
            "needs_background": "light"
          }
        }
      ]
    },
    {
      "cell_type": "markdown",
      "metadata": {
        "id": "Uq_XffLb0Vk1"
      },
      "source": [
        "Usando Seaborn"
      ]
    },
    {
      "cell_type": "code",
      "metadata": {
        "colab": {
          "base_uri": "https://localhost:8080/"
        },
        "id": "eUsp6zh-zeyb",
        "outputId": "60a25bd4-004c-4293-bc12-167c734837d9"
      },
      "source": [
        "sns.barplot(x='edad', y=data_barra.index, data=data_barra, orient='h', color=\"blue\")"
      ],
      "execution_count": null,
      "outputs": [
        {
          "output_type": "execute_result",
          "data": {
            "text/plain": [
              "<matplotlib.axes._subplots.AxesSubplot at 0x7f07f3dcf050>"
            ]
          },
          "metadata": {},
          "execution_count": 9
        },
        {
          "output_type": "display_data",
          "data": {
            "image/png": "[encoded data removed]",
            "text/plain": [
              "<Figure size 432x288 with 1 Axes>"
            ]
          },
          "metadata": {
            "needs_background": "light"
          }
        }
      ]
    },
    {
      "cell_type": "markdown",
      "metadata": {
        "id": "lDqngPMLp8Me"
      },
      "source": [
        "## Gráfico de línea"
      ]
    },
    {
      "cell_type": "code",
      "metadata": {
        "colab": {
          "base_uri": "https://localhost:8080/"
        },
        "id": "i9sS_hvgp8Me",
        "outputId": "a38ce546-a346-484b-89d5-b8e38574fae4"
      },
      "source": [
        "data_linea = censo.groupby('a_llegada').size()\n",
        "data_linea"
      ],
      "execution_count": null,
      "outputs": [
        {
          "output_type": "execute_result",
          "data": {
            "text/plain": [
              "a_llegada\n",
              "1950     1365\n",
              "1951      153\n",
              "1952      200\n",
              "1953      142\n",
              "1954      111\n",
              "        ...  \n",
              "2013     3590\n",
              "2014     5114\n",
              "2015     9621\n",
              "2016    24911\n",
              "2017    14683\n",
              "Length: 68, dtype: int64"
            ]
          },
          "metadata": {},
          "execution_count": 97
        }
      ]
    },
    {
      "cell_type": "markdown",
      "metadata": {
        "id": "a3jkhAxp2ghc"
      },
      "source": [
        "Usando Matplotlib"
      ]
    },
    {
      "cell_type": "code",
      "metadata": {
        "colab": {
          "base_uri": "https://localhost:8080/",
          "height": 265
        },
        "id": "WOpHUnwy1xqN",
        "outputId": "d8cc6f01-5d07-4eee-a476-54d8fed113dd"
      },
      "source": [
        "plt.plot(data_linea.index, data_linea)\n",
        "plt.show()"
      ],
      "execution_count": null,
      "outputs": [
        {
          "output_type": "display_data",
          "data": {
            "image/png": "[encoded data removed]",
            "text/plain": [
              "<Figure size 432x288 with 1 Axes>"
            ]
          },
          "metadata": {
            "needs_background": "light"
          }
        }
      ]
    },
    {
      "cell_type": "markdown",
      "metadata": {
        "id": "1wQVA8L_2ixM"
      },
      "source": [
        "Usando Seaborn"
      ]
    },
    {
      "cell_type": "code",
      "metadata": {
        "colab": {
          "base_uri": "https://localhost:8080/",
          "height": 297
        },
        "id": "Crdr6MA92avy",
        "outputId": "c7250240-68c0-4f90-bf81-4b5556b64ed7"
      },
      "source": [
        "sns.lineplot(data=data_linea, x=data_linea.index, y=data_linea)"
      ],
      "execution_count": null,
      "outputs": [
        {
          "output_type": "execute_result",
          "data": {
            "text/plain": [
              "<matplotlib.axes._subplots.AxesSubplot at 0x7f4eb924e9d0>"
            ]
          },
          "metadata": {},
          "execution_count": 46
        },
        {
          "output_type": "display_data",
          "data": {
            "image/png": "[encoded data removed]",
            "text/plain": [
              "<Figure size 432x288 with 1 Axes>"
            ]
          },
          "metadata": {
            "needs_background": "light"
          }
        }
      ]
    },
    {
      "cell_type": "markdown",
      "metadata": {
        "id": "UFDcwqKap8YX"
      },
      "source": [
        "## Gráfico de dispersión"
      ]
    },
    {
      "cell_type": "code",
      "metadata": {
        "colab": {
          "base_uri": "https://localhost:8080/",
          "height": 204
        },
        "id": "wkjhllan4sNw",
        "outputId": "417e060e-ac86-400b-d2c6-c9b37d767792"
      },
      "source": [
        "data_dispersion = censo[censo['comuna'] == 'Concepción'] \n",
        "data_dispersion.head()"
      ],
      "execution_count": null,
      "outputs": [
        {
          "output_type": "execute_result",
          "data": {
            "text/html": [
              "<div>\n",
              "<style scoped>\n",
              "    .dataframe tbody tr th:only-of-type {\n",
              "        vertical-align: middle;\n",
              "    }\n",
              "\n",
              "    .dataframe tbody tr th {\n",
              "        vertical-align: top;\n",
              "    }\n",
              "\n",
              "    .dataframe thead th {\n",
              "        text-align: right;\n",
              "    }\n",
              "</style>\n",
              "<table border=\"1\" class=\"dataframe\">\n",
              "  <thead>\n",
              "    <tr style=\"text-align: right;\">\n",
              "      <th></th>\n",
              "      <th>comuna</th>\n",
              "      <th>parentesco</th>\n",
              "      <th>edad</th>\n",
              "      <th>pais</th>\n",
              "      <th>a_llegada</th>\n",
              "      <th>n_educacional</th>\n",
              "      <th>descendencia</th>\n",
              "    </tr>\n",
              "  </thead>\n",
              "  <tbody>\n",
              "    <tr>\n",
              "      <th>76300</th>\n",
              "      <td>Concepción</td>\n",
              "      <td>No pariente</td>\n",
              "      <td>35</td>\n",
              "      <td>Venezuela (República Bolivariana de)</td>\n",
              "      <td>2016</td>\n",
              "      <td>9</td>\n",
              "      <td>0</td>\n",
              "    </tr>\n",
              "    <tr>\n",
              "      <th>76301</th>\n",
              "      <td>Concepción</td>\n",
              "      <td>Jefe/a de hogar</td>\n",
              "      <td>89</td>\n",
              "      <td>Alemania</td>\n",
              "      <td>1950</td>\n",
              "      <td>9</td>\n",
              "      <td>2</td>\n",
              "    </tr>\n",
              "    <tr>\n",
              "      <th>76302</th>\n",
              "      <td>Concepción</td>\n",
              "      <td>Persona en vivienda colectiva</td>\n",
              "      <td>35</td>\n",
              "      <td>Rusia (Federación de)</td>\n",
              "      <td>2017</td>\n",
              "      <td>12</td>\n",
              "      <td>0</td>\n",
              "    </tr>\n",
              "    <tr>\n",
              "      <th>76303</th>\n",
              "      <td>Concepción</td>\n",
              "      <td>Persona en vivienda colectiva</td>\n",
              "      <td>73</td>\n",
              "      <td>México</td>\n",
              "      <td>2017</td>\n",
              "      <td>3</td>\n",
              "      <td>6</td>\n",
              "    </tr>\n",
              "    <tr>\n",
              "      <th>76304</th>\n",
              "      <td>Concepción</td>\n",
              "      <td>Esposo/a o cónyuge</td>\n",
              "      <td>25</td>\n",
              "      <td>Venezuela (República Bolivariana de)</td>\n",
              "      <td>2016</td>\n",
              "      <td>9</td>\n",
              "      <td>1</td>\n",
              "    </tr>\n",
              "  </tbody>\n",
              "</table>\n",
              "</div>"
            ],
            "text/plain": [
              "           comuna                     parentesco  ...  n_educacional descendencia\n",
              "76300  Concepción                    No pariente  ...              9            0\n",
              "76301  Concepción                Jefe/a de hogar  ...              9            2\n",
              "76302  Concepción  Persona en vivienda colectiva  ...             12            0\n",
              "76303  Concepción  Persona en vivienda colectiva  ...              3            6\n",
              "76304  Concepción             Esposo/a o cónyuge  ...              9            1\n",
              "\n",
              "[5 rows x 7 columns]"
            ]
          },
          "metadata": {},
          "execution_count": 96
        }
      ]
    },
    {
      "cell_type": "markdown",
      "metadata": {
        "id": "2nXTPjQq5BVL"
      },
      "source": [
        "Usando Matplotlib"
      ]
    },
    {
      "cell_type": "code",
      "metadata": {
        "colab": {
          "base_uri": "https://localhost:8080/",
          "height": 265
        },
        "id": "R39XoikCp8YX",
        "outputId": "a51172c0-4b04-4454-b13f-a520f19c418d"
      },
      "source": [
        "plt.scatter(x=data_dispersion['a_llegada'], y=data_dispersion['edad'])\n",
        "plt.show()"
      ],
      "execution_count": null,
      "outputs": [
        {
          "output_type": "display_data",
          "data": {
            "image/png": "[encoded data removed]",
            "text/plain": [
              "<Figure size 432x288 with 1 Axes>"
            ]
          },
          "metadata": {
            "needs_background": "light"
          }
        }
      ]
    },
    {
      "cell_type": "markdown",
      "metadata": {
        "id": "npZ5TjIQ5URl"
      },
      "source": [
        "Usando Seaborn"
      ]
    },
    {
      "cell_type": "code",
      "metadata": {
        "colab": {
          "base_uri": "https://localhost:8080/",
          "height": 297
        },
        "id": "d-bosqXd4_EQ",
        "outputId": "6bdc425b-0d73-4d4e-b1fb-50b8dccba878"
      },
      "source": [
        "sns.scatterplot(data=data_dispersion, x=\"a_llegada\", y=\"edad\")"
      ],
      "execution_count": null,
      "outputs": [
        {
          "output_type": "execute_result",
          "data": {
            "text/plain": [
              "<matplotlib.axes._subplots.AxesSubplot at 0x7f4eb8f88790>"
            ]
          },
          "metadata": {},
          "execution_count": 62
        },
        {
          "output_type": "display_data",
          "data": {
            "image/png": "[encoded data removed]",
            "text/plain": [
              "<Figure size 432x288 with 1 Axes>"
            ]
          },
          "metadata": {
            "needs_background": "light"
          }
        }
      ]
    },
    {
      "cell_type": "markdown",
      "metadata": {
        "id": "9CbMxBcap8gZ"
      },
      "source": [
        "## Gráfico de burbuja"
      ]
    },
    {
      "cell_type": "markdown",
      "metadata": {
        "id": "fWpxdx3752L0"
      },
      "source": [
        "Usando Matplotlib"
      ]
    },
    {
      "cell_type": "code",
      "metadata": {
        "colab": {
          "base_uri": "https://localhost:8080/",
          "height": 265
        },
        "id": "ezYnegVX51Ss",
        "outputId": "246018ef-ec8d-418e-921c-b319ddca0ebe"
      },
      "source": [
        "fig, ax = plt.subplots()\n",
        "\n",
        "scatter = ax.scatter(x=data_dispersion['a_llegada'],\n",
        "                     y= data_dispersion['edad'],\n",
        "                     c=data_dispersion['n_educacional'])\n",
        "\n",
        "# Creamos la leyenda para codificar un tercer atributo, en este caso el nivel educacional\n",
        "legend = ax.legend(*scatter.legend_elements(),\n",
        "                    loc=\"lower left\", title=\"n_educacional\")\n",
        "ax.add_artist(legend)\n",
        "\n",
        "\n",
        "plt.show()"
      ],
      "execution_count": null,
      "outputs": [
        {
          "output_type": "display_data",
          "data": {
            "image/png": "[encoded data removed]",
            "text/plain": [
              "<Figure size 432x288 with 1 Axes>"
            ]
          },
          "metadata": {
            "needs_background": "light"
          }
        }
      ]
    },
    {
      "cell_type": "markdown",
      "metadata": {
        "id": "Zbbf3FGu96DA"
      },
      "source": [
        "Usando Seaborn"
      ]
    },
    {
      "cell_type": "code",
      "metadata": {
        "colab": {
          "base_uri": "https://localhost:8080/",
          "height": 297
        },
        "id": "0zP5sa0D95R2",
        "outputId": "ae22de7a-48bc-4c66-86f8-2556792b969e"
      },
      "source": [
        "sns.scatterplot(\n",
        "    data=data_dispersion,\n",
        "    x='a_llegada',\n",
        "    y= 'edad', \n",
        "    hue=\"n_educacional\", \n",
        "    size=\"n_educacional\",\n",
        "    sizes=(10, 100), legend=\"full\"\n",
        ")"
      ],
      "execution_count": null,
      "outputs": [
        {
          "output_type": "execute_result",
          "data": {
            "text/plain": [
              "<matplotlib.axes._subplots.AxesSubplot at 0x7f4eb697d390>"
            ]
          },
          "metadata": {},
          "execution_count": 89
        },
        {
          "output_type": "display_data",
          "data": {
            "image/png": "[encoded data removed]",
            "text/plain": [
              "<Figure size 432x288 with 1 Axes>"
            ]
          },
          "metadata": {
            "needs_background": "light"
          }
        }
      ]
    },
    {
      "cell_type": "markdown",
      "metadata": {
        "id": "ICrfsPSSp8oG"
      },
      "source": [
        "## Gráfico de torta"
      ]
    },
    {
      "cell_type": "code",
      "metadata": {
        "colab": {
          "base_uri": "https://localhost:8080/"
        },
        "id": "_j4rxUhI7mlX",
        "outputId": "19bd6b29-e068-4fcf-dc55-3c84e4059061"
      },
      "source": [
        "df_titanic = sns.load_dataset(\"titanic\")\n",
        "df_titanic"
      ],
      "execution_count": null,
      "outputs": [
        {
          "output_type": "execute_result",
          "data": {
            "text/html": [
              "<div>\n",
              "<style scoped>\n",
              "    .dataframe tbody tr th:only-of-type {\n",
              "        vertical-align: middle;\n",
              "    }\n",
              "\n",
              "    .dataframe tbody tr th {\n",
              "        vertical-align: top;\n",
              "    }\n",
              "\n",
              "    .dataframe thead th {\n",
              "        text-align: right;\n",
              "    }\n",
              "</style>\n",
              "<table border=\"1\" class=\"dataframe\">\n",
              "  <thead>\n",
              "    <tr style=\"text-align: right;\">\n",
              "      <th></th>\n",
              "      <th>survived</th>\n",
              "      <th>pclass</th>\n",
              "      <th>sex</th>\n",
              "      <th>age</th>\n",
              "      <th>sibsp</th>\n",
              "      <th>parch</th>\n",
              "      <th>fare</th>\n",
              "      <th>embarked</th>\n",
              "      <th>class</th>\n",
              "      <th>who</th>\n",
              "      <th>adult_male</th>\n",
              "      <th>deck</th>\n",
              "      <th>embark_town</th>\n",
              "      <th>alive</th>\n",
              "      <th>alone</th>\n",
              "    </tr>\n",
              "  </thead>\n",
              "  <tbody>\n",
              "    <tr>\n",
              "      <th>0</th>\n",
              "      <td>0</td>\n",
              "      <td>3</td>\n",
              "      <td>male</td>\n",
              "      <td>22.0</td>\n",
              "      <td>1</td>\n",
              "      <td>0</td>\n",
              "      <td>7.2500</td>\n",
              "      <td>S</td>\n",
              "      <td>Third</td>\n",
              "      <td>man</td>\n",
              "      <td>True</td>\n",
              "      <td>NaN</td>\n",
              "      <td>Southampton</td>\n",
              "      <td>no</td>\n",
              "      <td>False</td>\n",
              "    </tr>\n",
              "    <tr>\n",
              "      <th>1</th>\n",
              "      <td>1</td>\n",
              "      <td>1</td>\n",
              "      <td>female</td>\n",
              "      <td>38.0</td>\n",
              "      <td>1</td>\n",
              "      <td>0</td>\n",
              "      <td>71.2833</td>\n",
              "      <td>C</td>\n",
              "      <td>First</td>\n",
              "      <td>woman</td>\n",
              "      <td>False</td>\n",
              "      <td>C</td>\n",
              "      <td>Cherbourg</td>\n",
              "      <td>yes</td>\n",
              "      <td>False</td>\n",
              "    </tr>\n",
              "    <tr>\n",
              "      <th>2</th>\n",
              "      <td>1</td>\n",
              "      <td>3</td>\n",
              "      <td>female</td>\n",
              "      <td>26.0</td>\n",
              "      <td>0</td>\n",
              "      <td>0</td>\n",
              "      <td>7.9250</td>\n",
              "      <td>S</td>\n",
              "      <td>Third</td>\n",
              "      <td>woman</td>\n",
              "      <td>False</td>\n",
              "      <td>NaN</td>\n",
              "      <td>Southampton</td>\n",
              "      <td>yes</td>\n",
              "      <td>True</td>\n",
              "    </tr>\n",
              "    <tr>\n",
              "      <th>3</th>\n",
              "      <td>1</td>\n",
              "      <td>1</td>\n",
              "      <td>female</td>\n",
              "      <td>35.0</td>\n",
              "      <td>1</td>\n",
              "      <td>0</td>\n",
              "      <td>53.1000</td>\n",
              "      <td>S</td>\n",
              "      <td>First</td>\n",
              "      <td>woman</td>\n",
              "      <td>False</td>\n",
              "      <td>C</td>\n",
              "      <td>Southampton</td>\n",
              "      <td>yes</td>\n",
              "      <td>False</td>\n",
              "    </tr>\n",
              "    <tr>\n",
              "      <th>4</th>\n",
              "      <td>0</td>\n",
              "      <td>3</td>\n",
              "      <td>male</td>\n",
              "      <td>35.0</td>\n",
              "      <td>0</td>\n",
              "      <td>0</td>\n",
              "      <td>8.0500</td>\n",
              "      <td>S</td>\n",
              "      <td>Third</td>\n",
              "      <td>man</td>\n",
              "      <td>True</td>\n",
              "      <td>NaN</td>\n",
              "      <td>Southampton</td>\n",
              "      <td>no</td>\n",
              "      <td>True</td>\n",
              "    </tr>\n",
              "    <tr>\n",
              "      <th>...</th>\n",
              "      <td>...</td>\n",
              "      <td>...</td>\n",
              "      <td>...</td>\n",
              "      <td>...</td>\n",
              "      <td>...</td>\n",
              "      <td>...</td>\n",
              "      <td>...</td>\n",
              "      <td>...</td>\n",
              "      <td>...</td>\n",
              "      <td>...</td>\n",
              "      <td>...</td>\n",
              "      <td>...</td>\n",
              "      <td>...</td>\n",
              "      <td>...</td>\n",
              "      <td>...</td>\n",
              "    </tr>\n",
              "    <tr>\n",
              "      <th>886</th>\n",
              "      <td>0</td>\n",
              "      <td>2</td>\n",
              "      <td>male</td>\n",
              "      <td>27.0</td>\n",
              "      <td>0</td>\n",
              "      <td>0</td>\n",
              "      <td>13.0000</td>\n",
              "      <td>S</td>\n",
              "      <td>Second</td>\n",
              "      <td>man</td>\n",
              "      <td>True</td>\n",
              "      <td>NaN</td>\n",
              "      <td>Southampton</td>\n",
              "      <td>no</td>\n",
              "      <td>True</td>\n",
              "    </tr>\n",
              "    <tr>\n",
              "      <th>887</th>\n",
              "      <td>1</td>\n",
              "      <td>1</td>\n",
              "      <td>female</td>\n",
              "      <td>19.0</td>\n",
              "      <td>0</td>\n",
              "      <td>0</td>\n",
              "      <td>30.0000</td>\n",
              "      <td>S</td>\n",
              "      <td>First</td>\n",
              "      <td>woman</td>\n",
              "      <td>False</td>\n",
              "      <td>B</td>\n",
              "      <td>Southampton</td>\n",
              "      <td>yes</td>\n",
              "      <td>True</td>\n",
              "    </tr>\n",
              "    <tr>\n",
              "      <th>888</th>\n",
              "      <td>0</td>\n",
              "      <td>3</td>\n",
              "      <td>female</td>\n",
              "      <td>NaN</td>\n",
              "      <td>1</td>\n",
              "      <td>2</td>\n",
              "      <td>23.4500</td>\n",
              "      <td>S</td>\n",
              "      <td>Third</td>\n",
              "      <td>woman</td>\n",
              "      <td>False</td>\n",
              "      <td>NaN</td>\n",
              "      <td>Southampton</td>\n",
              "      <td>no</td>\n",
              "      <td>False</td>\n",
              "    </tr>\n",
              "    <tr>\n",
              "      <th>889</th>\n",
              "      <td>1</td>\n",
              "      <td>1</td>\n",
              "      <td>male</td>\n",
              "      <td>26.0</td>\n",
              "      <td>0</td>\n",
              "      <td>0</td>\n",
              "      <td>30.0000</td>\n",
              "      <td>C</td>\n",
              "      <td>First</td>\n",
              "      <td>man</td>\n",
              "      <td>True</td>\n",
              "      <td>C</td>\n",
              "      <td>Cherbourg</td>\n",
              "      <td>yes</td>\n",
              "      <td>True</td>\n",
              "    </tr>\n",
              "    <tr>\n",
              "      <th>890</th>\n",
              "      <td>0</td>\n",
              "      <td>3</td>\n",
              "      <td>male</td>\n",
              "      <td>32.0</td>\n",
              "      <td>0</td>\n",
              "      <td>0</td>\n",
              "      <td>7.7500</td>\n",
              "      <td>Q</td>\n",
              "      <td>Third</td>\n",
              "      <td>man</td>\n",
              "      <td>True</td>\n",
              "      <td>NaN</td>\n",
              "      <td>Queenstown</td>\n",
              "      <td>no</td>\n",
              "      <td>True</td>\n",
              "    </tr>\n",
              "  </tbody>\n",
              "</table>\n",
              "<p>891 rows × 15 columns</p>\n",
              "</div>"
            ],
            "text/plain": [
              "     survived  pclass     sex   age  ...  deck  embark_town  alive  alone\n",
              "0           0       3    male  22.0  ...   NaN  Southampton     no  False\n",
              "1           1       1  female  38.0  ...     C    Cherbourg    yes  False\n",
              "2           1       3  female  26.0  ...   NaN  Southampton    yes   True\n",
              "3           1       1  female  35.0  ...     C  Southampton    yes  False\n",
              "4           0       3    male  35.0  ...   NaN  Southampton     no   True\n",
              "..        ...     ...     ...   ...  ...   ...          ...    ...    ...\n",
              "886         0       2    male  27.0  ...   NaN  Southampton     no   True\n",
              "887         1       1  female  19.0  ...     B  Southampton    yes   True\n",
              "888         0       3  female   NaN  ...   NaN  Southampton     no  False\n",
              "889         1       1    male  26.0  ...     C    Cherbourg    yes   True\n",
              "890         0       3    male  32.0  ...   NaN   Queenstown     no   True\n",
              "\n",
              "[891 rows x 15 columns]"
            ]
          },
          "metadata": {},
          "execution_count": 10
        }
      ]
    },
    {
      "cell_type": "code",
      "metadata": {
        "colab": {
          "base_uri": "https://localhost:8080/"
        },
        "id": "PT8vAYPUp8oG",
        "outputId": "c947022f-090c-4122-bfb2-76bc0b00a924"
      },
      "source": [
        "df_titanic_clase = df_titanic.groupby('class').size()\n",
        "df_titanic_clase.head()"
      ],
      "execution_count": null,
      "outputs": [
        {
          "output_type": "execute_result",
          "data": {
            "text/plain": [
              "class\n",
              "First     216\n",
              "Second    184\n",
              "Third     491\n",
              "dtype: int64"
            ]
          },
          "metadata": {},
          "execution_count": 12
        }
      ]
    },
    {
      "cell_type": "markdown",
      "metadata": {
        "id": "OQWISHBME-5f"
      },
      "source": [
        "Usando Matplotlib"
      ]
    },
    {
      "cell_type": "code",
      "metadata": {
        "colab": {
          "base_uri": "https://localhost:8080/"
        },
        "id": "GxHhD9toFTxY",
        "outputId": "0ef51e55-195f-4d96-ff90-cc0bd54f84ae"
      },
      "source": [
        "pie_plot = plt.pie(df_titanic_clase, labels=list(df_titanic_clase.index), autopct='%.2f%%')\n",
        "plt.show()"
      ],
      "execution_count": null,
      "outputs": [
        {
          "output_type": "display_data",
          "data": {
            "image/png": "[encoded data removed]",
            "text/plain": [
              "<Figure size 432x288 with 1 Axes>"
            ]
          },
          "metadata": {}
        }
      ]
    },
    {
      "cell_type": "markdown",
      "metadata": {
        "id": "n2OYWKX7FBC0"
      },
      "source": [
        "Usando Seaborn ... lamentablemente no se puede.\n",
        "\n",
        "https://seaborn.pydata.org/examples/index.html"
      ]
    },
    {
      "cell_type": "markdown",
      "metadata": {
        "id": "F8jwFfeap8th"
      },
      "source": [
        "## Histograma"
      ]
    },
    {
      "cell_type": "code",
      "metadata": {
        "colab": {
          "base_uri": "https://localhost:8080/"
        },
        "id": "EG_HWyZKDqTQ",
        "outputId": "41dff7d8-9523-4728-ad0a-26ff63255c40"
      },
      "source": [
        "from vega_datasets import data\n",
        "\n",
        "link = data.movies.url\n",
        "movies = pd.read_json(link)\n",
        "movies.head()"
      ],
      "execution_count": null,
      "outputs": [
        {
          "output_type": "execute_result",
          "data": {
            "text/html": [
              "<div>\n",
              "<style scoped>\n",
              "    .dataframe tbody tr th:only-of-type {\n",
              "        vertical-align: middle;\n",
              "    }\n",
              "\n",
              "    .dataframe tbody tr th {\n",
              "        vertical-align: top;\n",
              "    }\n",
              "\n",
              "    .dataframe thead th {\n",
              "        text-align: right;\n",
              "    }\n",
              "</style>\n",
              "<table border=\"1\" class=\"dataframe\">\n",
              "  <thead>\n",
              "    <tr style=\"text-align: right;\">\n",
              "      <th></th>\n",
              "      <th>Title</th>\n",
              "      <th>US_Gross</th>\n",
              "      <th>Worldwide_Gross</th>\n",
              "      <th>US_DVD_Sales</th>\n",
              "      <th>Production_Budget</th>\n",
              "      <th>Release_Date</th>\n",
              "      <th>MPAA_Rating</th>\n",
              "      <th>Running_Time_min</th>\n",
              "      <th>Distributor</th>\n",
              "      <th>Source</th>\n",
              "      <th>Major_Genre</th>\n",
              "      <th>Creative_Type</th>\n",
              "      <th>Director</th>\n",
              "      <th>Rotten_Tomatoes_Rating</th>\n",
              "      <th>IMDB_Rating</th>\n",
              "      <th>IMDB_Votes</th>\n",
              "    </tr>\n",
              "  </thead>\n",
              "  <tbody>\n",
              "    <tr>\n",
              "      <th>0</th>\n",
              "      <td>The Land Girls</td>\n",
              "      <td>146083.0</td>\n",
              "      <td>146083.0</td>\n",
              "      <td>NaN</td>\n",
              "      <td>8000000.0</td>\n",
              "      <td>Jun 12 1998</td>\n",
              "      <td>R</td>\n",
              "      <td>NaN</td>\n",
              "      <td>Gramercy</td>\n",
              "      <td>None</td>\n",
              "      <td>None</td>\n",
              "      <td>None</td>\n",
              "      <td>None</td>\n",
              "      <td>NaN</td>\n",
              "      <td>6.1</td>\n",
              "      <td>1071.0</td>\n",
              "    </tr>\n",
              "    <tr>\n",
              "      <th>1</th>\n",
              "      <td>First Love, Last Rites</td>\n",
              "      <td>10876.0</td>\n",
              "      <td>10876.0</td>\n",
              "      <td>NaN</td>\n",
              "      <td>300000.0</td>\n",
              "      <td>Aug 07 1998</td>\n",
              "      <td>R</td>\n",
              "      <td>NaN</td>\n",
              "      <td>Strand</td>\n",
              "      <td>None</td>\n",
              "      <td>Drama</td>\n",
              "      <td>None</td>\n",
              "      <td>None</td>\n",
              "      <td>NaN</td>\n",
              "      <td>6.9</td>\n",
              "      <td>207.0</td>\n",
              "    </tr>\n",
              "    <tr>\n",
              "      <th>2</th>\n",
              "      <td>I Married a Strange Person</td>\n",
              "      <td>203134.0</td>\n",
              "      <td>203134.0</td>\n",
              "      <td>NaN</td>\n",
              "      <td>250000.0</td>\n",
              "      <td>Aug 28 1998</td>\n",
              "      <td>None</td>\n",
              "      <td>NaN</td>\n",
              "      <td>Lionsgate</td>\n",
              "      <td>None</td>\n",
              "      <td>Comedy</td>\n",
              "      <td>None</td>\n",
              "      <td>None</td>\n",
              "      <td>NaN</td>\n",
              "      <td>6.8</td>\n",
              "      <td>865.0</td>\n",
              "    </tr>\n",
              "    <tr>\n",
              "      <th>3</th>\n",
              "      <td>Let's Talk About Sex</td>\n",
              "      <td>373615.0</td>\n",
              "      <td>373615.0</td>\n",
              "      <td>NaN</td>\n",
              "      <td>300000.0</td>\n",
              "      <td>Sep 11 1998</td>\n",
              "      <td>None</td>\n",
              "      <td>NaN</td>\n",
              "      <td>Fine Line</td>\n",
              "      <td>None</td>\n",
              "      <td>Comedy</td>\n",
              "      <td>None</td>\n",
              "      <td>None</td>\n",
              "      <td>13.0</td>\n",
              "      <td>NaN</td>\n",
              "      <td>NaN</td>\n",
              "    </tr>\n",
              "    <tr>\n",
              "      <th>4</th>\n",
              "      <td>Slam</td>\n",
              "      <td>1009819.0</td>\n",
              "      <td>1087521.0</td>\n",
              "      <td>NaN</td>\n",
              "      <td>1000000.0</td>\n",
              "      <td>Oct 09 1998</td>\n",
              "      <td>R</td>\n",
              "      <td>NaN</td>\n",
              "      <td>Trimark</td>\n",
              "      <td>Original Screenplay</td>\n",
              "      <td>Drama</td>\n",
              "      <td>Contemporary Fiction</td>\n",
              "      <td>None</td>\n",
              "      <td>62.0</td>\n",
              "      <td>3.4</td>\n",
              "      <td>165.0</td>\n",
              "    </tr>\n",
              "  </tbody>\n",
              "</table>\n",
              "</div>"
            ],
            "text/plain": [
              "                        Title   US_Gross  ...  IMDB_Rating  IMDB_Votes\n",
              "0              The Land Girls   146083.0  ...          6.1      1071.0\n",
              "1      First Love, Last Rites    10876.0  ...          6.9       207.0\n",
              "2  I Married a Strange Person   203134.0  ...          6.8       865.0\n",
              "3        Let's Talk About Sex   373615.0  ...          NaN         NaN\n",
              "4                        Slam  1009819.0  ...          3.4       165.0\n",
              "\n",
              "[5 rows x 16 columns]"
            ]
          },
          "metadata": {},
          "execution_count": 14
        }
      ]
    },
    {
      "cell_type": "markdown",
      "metadata": {
        "id": "Ag8pkzURFaQZ"
      },
      "source": [
        "Usando Matplotlib"
      ]
    },
    {
      "cell_type": "code",
      "metadata": {
        "colab": {
          "base_uri": "https://localhost:8080/",
          "height": 265
        },
        "id": "KmP31GeIFYb2",
        "outputId": "d5ec7507-ff7f-4cfe-bf40-2f63c2e4d933"
      },
      "source": [
        "num_bins = 10\n",
        "n, bins, patches = plt.hist(movies['IMDB_Rating'], num_bins, facecolor='blue', alpha=0.5)\n",
        "plt.show()"
      ],
      "execution_count": null,
      "outputs": [
        {
          "output_type": "display_data",
          "data": {
            "image/png": "[encoded data removed]",
            "text/plain": [
              "<Figure size 432x288 with 1 Axes>"
            ]
          },
          "metadata": {
            "needs_background": "light"
          }
        }
      ]
    },
    {
      "cell_type": "markdown",
      "metadata": {
        "id": "GNLY1lxiFYb2"
      },
      "source": [
        "Usando Seaborn"
      ]
    },
    {
      "cell_type": "code",
      "metadata": {
        "colab": {
          "base_uri": "https://localhost:8080/",
          "height": 297
        },
        "id": "iSY_n17fFYb3",
        "outputId": "6e2dfc66-d426-4f77-f9f1-5c760c30c848"
      },
      "source": [
        "sns.histplot(data=movies, x=\"IMDB_Rating\", bins=10)"
      ],
      "execution_count": null,
      "outputs": [
        {
          "output_type": "execute_result",
          "data": {
            "text/plain": [
              "<matplotlib.axes._subplots.AxesSubplot at 0x7f4eb91bded0>"
            ]
          },
          "metadata": {},
          "execution_count": 114
        },
        {
          "output_type": "display_data",
          "data": {
            "image/png": "[encoded data removed]",
            "text/plain": [
              "<Figure size 432x288 with 1 Axes>"
            ]
          },
          "metadata": {
            "needs_background": "light"
          }
        }
      ]
    },
    {
      "cell_type": "markdown",
      "metadata": {
        "id": "3I028JjOp8yy"
      },
      "source": [
        "## Gráfico de caja"
      ]
    },
    {
      "cell_type": "markdown",
      "metadata": {
        "id": "bvCWGkCQFdHw"
      },
      "source": [
        "Usando Seaborn"
      ]
    },
    {
      "cell_type": "code",
      "metadata": {
        "colab": {
          "base_uri": "https://localhost:8080/",
          "height": 406
        },
        "id": "SX5FpcObFdHw",
        "outputId": "da131e5e-00a7-4438-d774-6f8f34bdf838"
      },
      "source": [
        "fig_dims = (10, 6)\n",
        "fig, ax = plt.subplots(figsize=fig_dims)\n",
        "sns.boxplot(x=\"IMDB_Rating\", y=\"Major_Genre\", data=movies, orient='h')"
      ],
      "execution_count": null,
      "outputs": [
        {
          "output_type": "execute_result",
          "data": {
            "text/plain": [
              "<matplotlib.axes._subplots.AxesSubplot at 0x7f4eb6e2f990>"
            ]
          },
          "metadata": {},
          "execution_count": 129
        },
        {
          "output_type": "display_data",
          "data": {
            "image/png": "[encoded data removed]",
            "text/plain": [
              "<Figure size 720x432 with 1 Axes>"
            ]
          },
          "metadata": {
            "needs_background": "light"
          }
        }
      ]
    },
    {
      "cell_type": "markdown",
      "metadata": {
        "id": "v5NWay2up84u"
      },
      "source": [
        "## Gráfico de calor"
      ]
    },
    {
      "cell_type": "code",
      "metadata": {
        "colab": {
          "base_uri": "https://localhost:8080/"
        },
        "id": "1ZaGh1f8p84u",
        "outputId": "340cf8f6-6a52-413e-8c41-138a13086d5c"
      },
      "source": [
        "!gdown --id 1rCPEyy5Kj-alvcA8Ge_C_0OGwug2Oi7c"
      ],
      "execution_count": null,
      "outputs": [
        {
          "output_type": "stream",
          "name": "stdout",
          "text": [
            "Downloading...\n",
            "From: https://drive.google.com/uc?id=1rCPEyy5Kj-alvcA8Ge_C_0OGwug2Oi7c\n",
            "To: /content/videollamada.csv\n",
            "\r  0% 0.00/2.19k [00:00<?, ?B/s]\r100% 2.19k/2.19k [00:00<00:00, 5.71MB/s]\n"
          ]
        }
      ]
    },
    {
      "cell_type": "code",
      "metadata": {
        "colab": {
          "base_uri": "https://localhost:8080/",
          "height": 204
        },
        "id": "hBu8-YQAKa6s",
        "outputId": "70dffb6e-fb71-49f8-cec6-a162b4d4c6b3"
      },
      "source": [
        "videollamadas = pd.read_csv('/content/videollamada.csv')\n",
        "videollamadas.head()"
      ],
      "execution_count": null,
      "outputs": [
        {
          "output_type": "execute_result",
          "data": {
            "text/html": [
              "<div>\n",
              "<style scoped>\n",
              "    .dataframe tbody tr th:only-of-type {\n",
              "        vertical-align: middle;\n",
              "    }\n",
              "\n",
              "    .dataframe tbody tr th {\n",
              "        vertical-align: top;\n",
              "    }\n",
              "\n",
              "    .dataframe thead th {\n",
              "        text-align: right;\n",
              "    }\n",
              "</style>\n",
              "<table border=\"1\" class=\"dataframe\">\n",
              "  <thead>\n",
              "    <tr style=\"text-align: right;\">\n",
              "      <th></th>\n",
              "      <th>Semana</th>\n",
              "      <th>Día</th>\n",
              "      <th>Horas</th>\n",
              "    </tr>\n",
              "  </thead>\n",
              "  <tbody>\n",
              "    <tr>\n",
              "      <th>0</th>\n",
              "      <td>Semana 01</td>\n",
              "      <td>Lunes</td>\n",
              "      <td>1873263</td>\n",
              "    </tr>\n",
              "    <tr>\n",
              "      <th>1</th>\n",
              "      <td>Semana 01</td>\n",
              "      <td>Martes</td>\n",
              "      <td>908249</td>\n",
              "    </tr>\n",
              "    <tr>\n",
              "      <th>2</th>\n",
              "      <td>Semana 01</td>\n",
              "      <td>Miércoles</td>\n",
              "      <td>1717158</td>\n",
              "    </tr>\n",
              "    <tr>\n",
              "      <th>3</th>\n",
              "      <td>Semana 01</td>\n",
              "      <td>Jueves</td>\n",
              "      <td>1873263</td>\n",
              "    </tr>\n",
              "    <tr>\n",
              "      <th>4</th>\n",
              "      <td>Semana 01</td>\n",
              "      <td>Viernes</td>\n",
              "      <td>908249</td>\n",
              "    </tr>\n",
              "  </tbody>\n",
              "</table>\n",
              "</div>"
            ],
            "text/plain": [
              "      Semana        Día    Horas\n",
              "0  Semana 01      Lunes  1873263\n",
              "1  Semana 01     Martes   908249\n",
              "2  Semana 01  Miércoles  1717158\n",
              "3  Semana 01     Jueves  1873263\n",
              "4  Semana 01    Viernes   908249"
            ]
          },
          "metadata": {},
          "execution_count": 131
        }
      ]
    },
    {
      "cell_type": "code",
      "metadata": {
        "colab": {
          "base_uri": "https://localhost:8080/",
          "height": 297
        },
        "id": "hC8UEJIpLKBH",
        "outputId": "a2fb430d-efbb-48d6-fbb5-cb443bc86900"
      },
      "source": [
        "videollamadas_pivot = videollamadas.pivot(index=\"Día\", columns=\"Semana\", values=\"Horas\")\n",
        "videollamadas_pivot"
      ],
      "execution_count": null,
      "outputs": [
        {
          "output_type": "execute_result",
          "data": {
            "text/html": [
              "<div>\n",
              "<style scoped>\n",
              "    .dataframe tbody tr th:only-of-type {\n",
              "        vertical-align: middle;\n",
              "    }\n",
              "\n",
              "    .dataframe tbody tr th {\n",
              "        vertical-align: top;\n",
              "    }\n",
              "\n",
              "    .dataframe thead th {\n",
              "        text-align: right;\n",
              "    }\n",
              "</style>\n",
              "<table border=\"1\" class=\"dataframe\">\n",
              "  <thead>\n",
              "    <tr style=\"text-align: right;\">\n",
              "      <th>Semana</th>\n",
              "      <th>Semana 01</th>\n",
              "      <th>Semana 02</th>\n",
              "      <th>Semana 03</th>\n",
              "      <th>Semana 04</th>\n",
              "      <th>Semana 05</th>\n",
              "      <th>Semana 06</th>\n",
              "      <th>Semana 07</th>\n",
              "      <th>Semana 08</th>\n",
              "      <th>Semana 09</th>\n",
              "      <th>Semana 10</th>\n",
              "      <th>Semana 11</th>\n",
              "      <th>Semana 12</th>\n",
              "    </tr>\n",
              "    <tr>\n",
              "      <th>Día</th>\n",
              "      <th></th>\n",
              "      <th></th>\n",
              "      <th></th>\n",
              "      <th></th>\n",
              "      <th></th>\n",
              "      <th></th>\n",
              "      <th></th>\n",
              "      <th></th>\n",
              "      <th></th>\n",
              "      <th></th>\n",
              "      <th></th>\n",
              "      <th></th>\n",
              "    </tr>\n",
              "  </thead>\n",
              "  <tbody>\n",
              "    <tr>\n",
              "      <th>Domingo</th>\n",
              "      <td>681186</td>\n",
              "      <td>1328314</td>\n",
              "      <td>1634848</td>\n",
              "      <td>1779600</td>\n",
              "      <td>1498611</td>\n",
              "      <td>2554450</td>\n",
              "      <td>2145738</td>\n",
              "      <td>2903559</td>\n",
              "      <td>3242449</td>\n",
              "      <td>4851753</td>\n",
              "      <td>4768308</td>\n",
              "      <td>7029848</td>\n",
              "    </tr>\n",
              "    <tr>\n",
              "      <th>Jueves</th>\n",
              "      <td>1873263</td>\n",
              "      <td>1623495</td>\n",
              "      <td>2497685</td>\n",
              "      <td>2966001</td>\n",
              "      <td>3090885</td>\n",
              "      <td>3902633</td>\n",
              "      <td>5245139</td>\n",
              "      <td>4355338</td>\n",
              "      <td>5944491</td>\n",
              "      <td>7277630</td>\n",
              "      <td>6993518</td>\n",
              "      <td>8592037</td>\n",
              "    </tr>\n",
              "    <tr>\n",
              "      <th>Lunes</th>\n",
              "      <td>1873263</td>\n",
              "      <td>2435243</td>\n",
              "      <td>2997222</td>\n",
              "      <td>2372801</td>\n",
              "      <td>3090885</td>\n",
              "      <td>4292896</td>\n",
              "      <td>4808044</td>\n",
              "      <td>4355338</td>\n",
              "      <td>6687552</td>\n",
              "      <td>9703507</td>\n",
              "      <td>7867708</td>\n",
              "      <td>12888056</td>\n",
              "    </tr>\n",
              "    <tr>\n",
              "      <th>Martes</th>\n",
              "      <td>908249</td>\n",
              "      <td>1475904</td>\n",
              "      <td>2179798</td>\n",
              "      <td>2372801</td>\n",
              "      <td>2247916</td>\n",
              "      <td>2270623</td>\n",
              "      <td>3814646</td>\n",
              "      <td>2815572</td>\n",
              "      <td>6484899</td>\n",
              "      <td>5292822</td>\n",
              "      <td>5086195</td>\n",
              "      <td>7029848</td>\n",
              "    </tr>\n",
              "    <tr>\n",
              "      <th>Miércoles</th>\n",
              "      <td>1717158</td>\n",
              "      <td>1826432</td>\n",
              "      <td>1998148</td>\n",
              "      <td>2669401</td>\n",
              "      <td>3777749</td>\n",
              "      <td>3122106</td>\n",
              "      <td>3933854</td>\n",
              "      <td>5807118</td>\n",
              "      <td>6687552</td>\n",
              "      <td>9703507</td>\n",
              "      <td>9616088</td>\n",
              "      <td>8592037</td>\n",
              "    </tr>\n",
              "    <tr>\n",
              "      <th>Sábado</th>\n",
              "      <td>851483</td>\n",
              "      <td>885542</td>\n",
              "      <td>1362373</td>\n",
              "      <td>1617818</td>\n",
              "      <td>1873263</td>\n",
              "      <td>1702967</td>\n",
              "      <td>2860984</td>\n",
              "      <td>2375639</td>\n",
              "      <td>4863674</td>\n",
              "      <td>4410685</td>\n",
              "      <td>3814646</td>\n",
              "      <td>4686565</td>\n",
              "    </tr>\n",
              "    <tr>\n",
              "      <th>Viernes</th>\n",
              "      <td>908249</td>\n",
              "      <td>1623495</td>\n",
              "      <td>1998148</td>\n",
              "      <td>1941382</td>\n",
              "      <td>2247916</td>\n",
              "      <td>2838278</td>\n",
              "      <td>3178872</td>\n",
              "      <td>3871412</td>\n",
              "      <td>5404082</td>\n",
              "      <td>5292822</td>\n",
              "      <td>7629293</td>\n",
              "      <td>8592037</td>\n",
              "    </tr>\n",
              "  </tbody>\n",
              "</table>\n",
              "</div>"
            ],
            "text/plain": [
              "Semana     Semana 01  Semana 02  Semana 03  ...  Semana 10  Semana 11  Semana 12\n",
              "Día                                         ...                                 \n",
              "Domingo       681186    1328314    1634848  ...    4851753    4768308    7029848\n",
              "Jueves       1873263    1623495    2497685  ...    7277630    6993518    8592037\n",
              "Lunes        1873263    2435243    2997222  ...    9703507    7867708   12888056\n",
              "Martes        908249    1475904    2179798  ...    5292822    5086195    7029848\n",
              "Miércoles    1717158    1826432    1998148  ...    9703507    9616088    8592037\n",
              "Sábado        851483     885542    1362373  ...    4410685    3814646    4686565\n",
              "Viernes       908249    1623495    1998148  ...    5292822    7629293    8592037\n",
              "\n",
              "[7 rows x 12 columns]"
            ]
          },
          "metadata": {},
          "execution_count": 134
        }
      ]
    },
    {
      "cell_type": "markdown",
      "metadata": {
        "id": "U8bwPoN-Fdrn"
      },
      "source": [
        "Usando Matplotlib ... no funciona directamente, hay que definir algunas funciones primero.\n",
        "\n",
        "https://matplotlib.org/devdocs/gallery/images_contours_and_fields/image_annotated_heatmap.html"
      ]
    },
    {
      "cell_type": "markdown",
      "metadata": {
        "id": "FqE3_mVRFdrn"
      },
      "source": [
        "Usando Seaborn"
      ]
    },
    {
      "cell_type": "code",
      "metadata": {
        "colab": {
          "base_uri": "https://localhost:8080/",
          "height": 354
        },
        "id": "Wdgh3lkkFdro",
        "outputId": "218ffdb8-a5db-4665-dc3a-362fe626bd3f"
      },
      "source": [
        "sns.heatmap(videollamadas_pivot)"
      ],
      "execution_count": null,
      "outputs": [
        {
          "output_type": "execute_result",
          "data": {
            "text/plain": [
              "<matplotlib.axes._subplots.AxesSubplot at 0x7f4eb634ce90>"
            ]
          },
          "metadata": {},
          "execution_count": 133
        },
        {
          "output_type": "display_data",
          "data": {
            "image/png": "[encoded data removed]",
            "text/plain": [
              "<Figure size 432x288 with 2 Axes>"
            ]
          },
          "metadata": {
            "needs_background": "light"
          }
        }
      ]
    },
    {
      "cell_type": "markdown",
      "metadata": {
        "id": "hcAfzzsTqx33"
      },
      "source": [
        "\n",
        "\n",
        "---\n",
        "\n",
        "\n",
        "\n",
        "---\n",
        "\n"
      ]
    },
    {
      "cell_type": "markdown",
      "metadata": {
        "id": "juVXTcj-qvaF"
      },
      "source": [
        "# Ejercicios"
      ]
    },
    {
      "cell_type": "markdown",
      "metadata": {
        "id": "F01zujIJNvCN"
      },
      "source": [
        "Durante el 2013 al 2017 hubo una gran pandemia a nivel mundial.\n",
        "A continuacion, se entregan 4 datasets con información respecto al estado de la pandemia.\n",
        "Se le pide que visualize las siguientes situaciones:\n",
        "\n",
        "\n",
        "*   Comparacion de total de contagios por pais.\n",
        "*   Tendencia de los contagios en el tiempo.\n",
        "*   Comparacion de distribucion entre meses.\n",
        "*   Distribución de fallecidos por mes y año.\n",
        "\n",
        "Las instrucciones más detalladas de cada dataset se entrega a continuacion.\n",
        "\n",
        "\n",
        "\n",
        "\n",
        "\n",
        "\n",
        "\n"
      ]
    },
    {
      "cell_type": "markdown",
      "metadata": {
        "id": "EWFP4UNUiFS1"
      },
      "source": [
        "## Comparacion de total de contagios por pais\n",
        "\n",
        "Use la visualizacion adecuada para comparar la cantidad total de fallecidos por pais. El dataset se entrega en la siguiente celda."
      ]
    },
    {
      "cell_type": "code",
      "metadata": {
        "id": "T-cCdMkhqwpb",
        "colab": {
          "base_uri": "https://localhost:8080/"
        },
        "outputId": "da5b2ccf-3206-44cd-fa47-4f27fc148c22"
      },
      "source": [
        "!gdown --id 1zzFjPv4hEXGNUCxV6g_vpsV5WY1Xm2ik"
      ],
      "execution_count": null,
      "outputs": [
        {
          "output_type": "stream",
          "name": "stdout",
          "text": [
            "Downloading...\n",
            "From: https://drive.google.com/uc?id=1zzFjPv4hEXGNUCxV6g_vpsV5WY1Xm2ik\n",
            "To: /content/V01.csv\n",
            "\r  0% 0.00/346 [00:00<?, ?B/s]\r100% 346/346 [00:00<00:00, 532kB/s]\n"
          ]
        }
      ]
    },
    {
      "cell_type": "code",
      "metadata": {
        "colab": {
          "base_uri": "https://localhost:8080/",
          "height": 206
        },
        "id": "FGvlTVkd_3K3",
        "outputId": "10ef4991-118c-452c-bad6-c10d515d299c"
      },
      "source": [
        "df_1 = pd.read_csv('/content/V01.csv')\n",
        "df_1.head()"
      ],
      "execution_count": null,
      "outputs": [
        {
          "output_type": "execute_result",
          "data": {
            "text/html": [
              "<div>\n",
              "<style scoped>\n",
              "    .dataframe tbody tr th:only-of-type {\n",
              "        vertical-align: middle;\n",
              "    }\n",
              "\n",
              "    .dataframe tbody tr th {\n",
              "        vertical-align: top;\n",
              "    }\n",
              "\n",
              "    .dataframe thead th {\n",
              "        text-align: right;\n",
              "    }\n",
              "</style>\n",
              "<table border=\"1\" class=\"dataframe\">\n",
              "  <thead>\n",
              "    <tr style=\"text-align: right;\">\n",
              "      <th></th>\n",
              "      <th>Paises</th>\n",
              "      <th>Contagiados</th>\n",
              "    </tr>\n",
              "  </thead>\n",
              "  <tbody>\n",
              "    <tr>\n",
              "      <th>0</th>\n",
              "      <td>España</td>\n",
              "      <td>569457</td>\n",
              "    </tr>\n",
              "    <tr>\n",
              "      <th>1</th>\n",
              "      <td>Chile</td>\n",
              "      <td>1088398</td>\n",
              "    </tr>\n",
              "    <tr>\n",
              "      <th>2</th>\n",
              "      <td>Guinea</td>\n",
              "      <td>1302202</td>\n",
              "    </tr>\n",
              "    <tr>\n",
              "      <th>3</th>\n",
              "      <td>Ecuador</td>\n",
              "      <td>1930001</td>\n",
              "    </tr>\n",
              "    <tr>\n",
              "      <th>4</th>\n",
              "      <td>Rusia</td>\n",
              "      <td>2000091</td>\n",
              "    </tr>\n",
              "  </tbody>\n",
              "</table>\n",
              "</div>"
            ],
            "text/plain": [
              "    Paises  Contagiados\n",
              "0   España       569457\n",
              "1    Chile      1088398\n",
              "2   Guinea      1302202\n",
              "3  Ecuador      1930001\n",
              "4    Rusia      2000091"
            ]
          },
          "metadata": {},
          "execution_count": 17
        }
      ]
    },
    {
      "cell_type": "code",
      "metadata": {
        "colab": {
          "base_uri": "https://localhost:8080/",
          "height": 297
        },
        "id": "f1eqK2nXA3nW",
        "outputId": "ce49ba1d-7cef-476e-da7f-8c766271d0f6"
      },
      "source": [
        "sns.barplot(data=df_1, x='Contagiados', y='Paises', orient='h', color='blue')"
      ],
      "execution_count": null,
      "outputs": [
        {
          "output_type": "execute_result",
          "data": {
            "text/plain": [
              "<matplotlib.axes._subplots.AxesSubplot at 0x7f07ef57ca10>"
            ]
          },
          "metadata": {},
          "execution_count": 24
        },
        {
          "output_type": "display_data",
          "data": {
            "image/png": "[encoded data removed]",
            "text/plain": [
              "<Figure size 432x288 with 1 Axes>"
            ]
          },
          "metadata": {
            "needs_background": "light"
          }
        }
      ]
    },
    {
      "cell_type": "markdown",
      "metadata": {
        "id": "ICVSi1vHicTT"
      },
      "source": [
        "## Tendencia de contagios en el tiempo.\n",
        "\n",
        "Use la visualizacion adecuada para mostrar como ha cambiado el total de contagiados a lo largo del tiempo. El dataset se entrega en la siguiente celda."
      ]
    },
    {
      "cell_type": "code",
      "metadata": {
        "colab": {
          "base_uri": "https://localhost:8080/"
        },
        "id": "whULh8Mxipo4",
        "outputId": "de0b42a5-000e-415d-9b67-9a0368944425"
      },
      "source": [
        "!gdown --id 1ovetGRw83GIj1s8ancqGNnJWN801rElT"
      ],
      "execution_count": null,
      "outputs": [
        {
          "output_type": "stream",
          "name": "stdout",
          "text": [
            "Downloading...\n",
            "From: https://drive.google.com/uc?id=1ovetGRw83GIj1s8ancqGNnJWN801rElT\n",
            "To: /content/V02.csv\n",
            "\r  0% 0.00/98.0 [00:00<?, ?B/s]\r100% 98.0/98.0 [00:00<00:00, 44.4kB/s]\n"
          ]
        }
      ]
    },
    {
      "cell_type": "code",
      "metadata": {
        "colab": {
          "base_uri": "https://localhost:8080/",
          "height": 206
        },
        "id": "dW7FpqPdA5By",
        "outputId": "349754fa-0df3-4030-fe1d-435d9b5a87f1"
      },
      "source": [
        "df_2 = pd.read_csv('/content/V02.csv')\n",
        "df_2.head()"
      ],
      "execution_count": null,
      "outputs": [
        {
          "output_type": "execute_result",
          "data": {
            "text/html": [
              "<div>\n",
              "<style scoped>\n",
              "    .dataframe tbody tr th:only-of-type {\n",
              "        vertical-align: middle;\n",
              "    }\n",
              "\n",
              "    .dataframe tbody tr th {\n",
              "        vertical-align: top;\n",
              "    }\n",
              "\n",
              "    .dataframe thead th {\n",
              "        text-align: right;\n",
              "    }\n",
              "</style>\n",
              "<table border=\"1\" class=\"dataframe\">\n",
              "  <thead>\n",
              "    <tr style=\"text-align: right;\">\n",
              "      <th></th>\n",
              "      <th>Año</th>\n",
              "      <th>Total Contagiados</th>\n",
              "    </tr>\n",
              "  </thead>\n",
              "  <tbody>\n",
              "    <tr>\n",
              "      <th>0</th>\n",
              "      <td>2013</td>\n",
              "      <td>104778830</td>\n",
              "    </tr>\n",
              "    <tr>\n",
              "      <th>1</th>\n",
              "      <td>2014</td>\n",
              "      <td>168031244</td>\n",
              "    </tr>\n",
              "    <tr>\n",
              "      <th>2</th>\n",
              "      <td>2015</td>\n",
              "      <td>248136117</td>\n",
              "    </tr>\n",
              "    <tr>\n",
              "      <th>3</th>\n",
              "      <td>2016</td>\n",
              "      <td>372664870</td>\n",
              "    </tr>\n",
              "    <tr>\n",
              "      <th>4</th>\n",
              "      <td>2017</td>\n",
              "      <td>550371599</td>\n",
              "    </tr>\n",
              "  </tbody>\n",
              "</table>\n",
              "</div>"
            ],
            "text/plain": [
              "    Año  Total Contagiados\n",
              "0  2013          104778830\n",
              "1  2014          168031244\n",
              "2  2015          248136117\n",
              "3  2016          372664870\n",
              "4  2017          550371599"
            ]
          },
          "metadata": {},
          "execution_count": 25
        }
      ]
    },
    {
      "cell_type": "code",
      "metadata": {
        "colab": {
          "base_uri": "https://localhost:8080/",
          "height": 307
        },
        "id": "hDfzLq7LEGYF",
        "outputId": "7535daa7-72bf-48d9-d66b-2c19fc4fea83"
      },
      "source": [
        "sns.lineplot(data=df_2, x='Año', y='Total Contagiados')"
      ],
      "execution_count": null,
      "outputs": [
        {
          "output_type": "execute_result",
          "data": {
            "text/plain": [
              "<matplotlib.axes._subplots.AxesSubplot at 0x7f07eeeb7650>"
            ]
          },
          "metadata": {},
          "execution_count": 26
        },
        {
          "output_type": "display_data",
          "data": {
            "image/png": "[encoded data removed]",
            "text/plain": [
              "<Figure size 432x288 with 1 Axes>"
            ]
          },
          "metadata": {
            "needs_background": "light"
          }
        }
      ]
    },
    {
      "cell_type": "markdown",
      "metadata": {
        "id": "aEEwytkdiqSH"
      },
      "source": [
        "## Comparación de distribución entre meses\n",
        "\n",
        "La visualización anterior coloca la evolución de contagios según las fechas de ocurrencia, pero la realidad es que cada país tuvo su primer infectado en distintos momentos. Se busca saber cómo distribuyen los crecimientos de contagios bajo una misma escala de tiempo.\n",
        "Use la visualizacion adecuada para presentar cada una de las distribuciones para cada mes. El dataset se entrega en la siguiente celda."
      ]
    },
    {
      "cell_type": "code",
      "metadata": {
        "colab": {
          "base_uri": "https://localhost:8080/"
        },
        "id": "5r05nW2ejQPR",
        "outputId": "72510f24-6fb0-4d14-c45a-c1739b793ff0"
      },
      "source": [
        "!gdown --id 1GYAmTubXinEsJeVVUgLI5xiwSEMshIw0"
      ],
      "execution_count": null,
      "outputs": [
        {
          "output_type": "stream",
          "name": "stdout",
          "text": [
            "Downloading...\n",
            "From: https://drive.google.com/uc?id=1GYAmTubXinEsJeVVUgLI5xiwSEMshIw0\n",
            "To: /content/V03.csv\n",
            "\r  0% 0.00/3.75k [00:00<?, ?B/s]\r100% 3.75k/3.75k [00:00<00:00, 6.54MB/s]\n"
          ]
        }
      ]
    },
    {
      "cell_type": "code",
      "metadata": {
        "colab": {
          "base_uri": "https://localhost:8080/",
          "height": 206
        },
        "id": "okUjtQHGBDYg",
        "outputId": "cdaad48e-db13-4557-a0a2-7e786aa8e6a6"
      },
      "source": [
        "df_3 = pd.read_csv('/content/V03.csv')\n",
        "df_3.head()"
      ],
      "execution_count": null,
      "outputs": [
        {
          "output_type": "execute_result",
          "data": {
            "text/html": [
              "<div>\n",
              "<style scoped>\n",
              "    .dataframe tbody tr th:only-of-type {\n",
              "        vertical-align: middle;\n",
              "    }\n",
              "\n",
              "    .dataframe tbody tr th {\n",
              "        vertical-align: top;\n",
              "    }\n",
              "\n",
              "    .dataframe thead th {\n",
              "        text-align: right;\n",
              "    }\n",
              "</style>\n",
              "<table border=\"1\" class=\"dataframe\">\n",
              "  <thead>\n",
              "    <tr style=\"text-align: right;\">\n",
              "      <th></th>\n",
              "      <th>Pais</th>\n",
              "      <th>Mes</th>\n",
              "      <th>Contagiados</th>\n",
              "    </tr>\n",
              "  </thead>\n",
              "  <tbody>\n",
              "    <tr>\n",
              "      <th>0</th>\n",
              "      <td>Estados Unidos</td>\n",
              "      <td>1</td>\n",
              "      <td>5230</td>\n",
              "    </tr>\n",
              "    <tr>\n",
              "      <th>1</th>\n",
              "      <td>Estados Unidos</td>\n",
              "      <td>2</td>\n",
              "      <td>4785</td>\n",
              "    </tr>\n",
              "    <tr>\n",
              "      <th>2</th>\n",
              "      <td>Estados Unidos</td>\n",
              "      <td>3</td>\n",
              "      <td>4217</td>\n",
              "    </tr>\n",
              "    <tr>\n",
              "      <th>3</th>\n",
              "      <td>Estados Unidos</td>\n",
              "      <td>4</td>\n",
              "      <td>704</td>\n",
              "    </tr>\n",
              "    <tr>\n",
              "      <th>4</th>\n",
              "      <td>Estados Unidos</td>\n",
              "      <td>5</td>\n",
              "      <td>8694</td>\n",
              "    </tr>\n",
              "  </tbody>\n",
              "</table>\n",
              "</div>"
            ],
            "text/plain": [
              "             Pais  Mes  Contagiados\n",
              "0  Estados Unidos    1         5230\n",
              "1  Estados Unidos    2         4785\n",
              "2  Estados Unidos    3         4217\n",
              "3  Estados Unidos    4          704\n",
              "4  Estados Unidos    5         8694"
            ]
          },
          "metadata": {},
          "execution_count": 27
        }
      ]
    },
    {
      "cell_type": "code",
      "metadata": {
        "colab": {
          "base_uri": "https://localhost:8080/",
          "height": 297
        },
        "id": "z6QqGuMDF_xI",
        "outputId": "b901c374-5a57-4c55-96c4-e7afd248a511"
      },
      "source": [
        "sns.boxplot(data=df_3, x='Mes', y='Contagiados')"
      ],
      "execution_count": null,
      "outputs": [
        {
          "output_type": "execute_result",
          "data": {
            "text/plain": [
              "<matplotlib.axes._subplots.AxesSubplot at 0x7f07eeebca90>"
            ]
          },
          "metadata": {},
          "execution_count": 28
        },
        {
          "output_type": "display_data",
          "data": {
            "image/png": "[encoded data removed]",
            "text/plain": [
              "<Figure size 432x288 with 1 Axes>"
            ]
          },
          "metadata": {
            "needs_background": "light"
          }
        }
      ]
    },
    {
      "cell_type": "markdown",
      "metadata": {
        "id": "DFTRTv2GjRHu"
      },
      "source": [
        "## Distribución de fallecidos por mes y año\n",
        "\n",
        "Utilice una visualizacion adecuada para mostrar como se distribuye el total de fallecidos para cada combinación de mes y año. El dataset se entrega en la siguiente celda."
      ]
    },
    {
      "cell_type": "code",
      "metadata": {
        "colab": {
          "base_uri": "https://localhost:8080/"
        },
        "id": "Q6lVuOkujlNJ",
        "outputId": "8ec6e50a-46b6-4e3c-a644-e00fdce4d746"
      },
      "source": [
        "!gdown --id 1_0ps5etkFpn47eVUq4cTbu8KkrHawptq"
      ],
      "execution_count": null,
      "outputs": [
        {
          "output_type": "stream",
          "name": "stdout",
          "text": [
            "Downloading...\n",
            "From: https://drive.google.com/uc?id=1_0ps5etkFpn47eVUq4cTbu8KkrHawptq\n",
            "To: /content/V04.csv\n",
            "\r  0% 0.00/1.36k [00:00<?, ?B/s]\r100% 1.36k/1.36k [00:00<00:00, 1.17MB/s]\n"
          ]
        }
      ]
    },
    {
      "cell_type": "code",
      "metadata": {
        "colab": {
          "base_uri": "https://localhost:8080/",
          "height": 206
        },
        "id": "b412_9BmBG-s",
        "outputId": "05e7efb3-22e9-480c-f6a2-077b34749acf"
      },
      "source": [
        "df_4 = pd.read_csv('/content/V04.csv')\n",
        "df_4.head()"
      ],
      "execution_count": null,
      "outputs": [
        {
          "output_type": "execute_result",
          "data": {
            "text/html": [
              "<div>\n",
              "<style scoped>\n",
              "    .dataframe tbody tr th:only-of-type {\n",
              "        vertical-align: middle;\n",
              "    }\n",
              "\n",
              "    .dataframe tbody tr th {\n",
              "        vertical-align: top;\n",
              "    }\n",
              "\n",
              "    .dataframe thead th {\n",
              "        text-align: right;\n",
              "    }\n",
              "</style>\n",
              "<table border=\"1\" class=\"dataframe\">\n",
              "  <thead>\n",
              "    <tr style=\"text-align: right;\">\n",
              "      <th></th>\n",
              "      <th>Año</th>\n",
              "      <th>Mes</th>\n",
              "      <th>Fallecidos</th>\n",
              "    </tr>\n",
              "  </thead>\n",
              "  <tbody>\n",
              "    <tr>\n",
              "      <th>0</th>\n",
              "      <td>2013</td>\n",
              "      <td>07-Julio</td>\n",
              "      <td>243560</td>\n",
              "    </tr>\n",
              "    <tr>\n",
              "      <th>1</th>\n",
              "      <td>2013</td>\n",
              "      <td>08-Agosto</td>\n",
              "      <td>297685</td>\n",
              "    </tr>\n",
              "    <tr>\n",
              "      <th>2</th>\n",
              "      <td>2013</td>\n",
              "      <td>09-Septiembre</td>\n",
              "      <td>255738</td>\n",
              "    </tr>\n",
              "    <tr>\n",
              "      <th>3</th>\n",
              "      <td>2013</td>\n",
              "      <td>10-Octubre</td>\n",
              "      <td>202459</td>\n",
              "    </tr>\n",
              "    <tr>\n",
              "      <th>4</th>\n",
              "      <td>2013</td>\n",
              "      <td>11-Noviembre</td>\n",
              "      <td>260474</td>\n",
              "    </tr>\n",
              "  </tbody>\n",
              "</table>\n",
              "</div>"
            ],
            "text/plain": [
              "    Año            Mes  Fallecidos\n",
              "0  2013       07-Julio      243560\n",
              "1  2013      08-Agosto      297685\n",
              "2  2013  09-Septiembre      255738\n",
              "3  2013     10-Octubre      202459\n",
              "4  2013   11-Noviembre      260474"
            ]
          },
          "metadata": {},
          "execution_count": 29
        }
      ]
    },
    {
      "cell_type": "code",
      "metadata": {
        "colab": {
          "base_uri": "https://localhost:8080/",
          "height": 457
        },
        "id": "mAiFXQQuGcvg",
        "outputId": "417dc768-1e4b-42b6-9b01-2dee18375b73"
      },
      "source": [
        "df_4_pivot = df_4.pivot(index='Mes', columns='Año', values='Fallecidos')\n",
        "df_4_pivot"
      ],
      "execution_count": null,
      "outputs": [
        {
          "output_type": "execute_result",
          "data": {
            "text/html": [
              "<div>\n",
              "<style scoped>\n",
              "    .dataframe tbody tr th:only-of-type {\n",
              "        vertical-align: middle;\n",
              "    }\n",
              "\n",
              "    .dataframe tbody tr th {\n",
              "        vertical-align: top;\n",
              "    }\n",
              "\n",
              "    .dataframe thead th {\n",
              "        text-align: right;\n",
              "    }\n",
              "</style>\n",
              "<table border=\"1\" class=\"dataframe\">\n",
              "  <thead>\n",
              "    <tr style=\"text-align: right;\">\n",
              "      <th>Año</th>\n",
              "      <th>2013</th>\n",
              "      <th>2014</th>\n",
              "      <th>2015</th>\n",
              "      <th>2016</th>\n",
              "      <th>2017</th>\n",
              "    </tr>\n",
              "    <tr>\n",
              "      <th>Mes</th>\n",
              "      <th></th>\n",
              "      <th></th>\n",
              "      <th></th>\n",
              "      <th></th>\n",
              "      <th></th>\n",
              "    </tr>\n",
              "  </thead>\n",
              "  <tbody>\n",
              "    <tr>\n",
              "      <th>01-Enero</th>\n",
              "      <td>159836</td>\n",
              "      <td>217682</td>\n",
              "      <td>255738</td>\n",
              "      <td>274766</td>\n",
              "      <td>388851</td>\n",
              "    </tr>\n",
              "    <tr>\n",
              "      <th>02-Febrero</th>\n",
              "      <td>204658</td>\n",
              "      <td>207787</td>\n",
              "      <td>282801</td>\n",
              "      <td>320561</td>\n",
              "      <td>368385</td>\n",
              "    </tr>\n",
              "    <tr>\n",
              "      <th>03-Marzo</th>\n",
              "      <td>152225</td>\n",
              "      <td>229775</td>\n",
              "      <td>297685</td>\n",
              "      <td>354304</td>\n",
              "      <td>410247</td>\n",
              "    </tr>\n",
              "    <tr>\n",
              "      <th>04-Abril</th>\n",
              "      <td>169139</td>\n",
              "      <td>242419</td>\n",
              "      <td>282801</td>\n",
              "      <td>337433</td>\n",
              "      <td>429783</td>\n",
              "    </tr>\n",
              "    <tr>\n",
              "      <th>05-Mayo</th>\n",
              "      <td>234427</td>\n",
              "      <td>277819</td>\n",
              "      <td>378872</td>\n",
              "      <td>445411</td>\n",
              "      <td>470156</td>\n",
              "    </tr>\n",
              "    <tr>\n",
              "      <th>06-Junio</th>\n",
              "      <td>261066</td>\n",
              "      <td>290902</td>\n",
              "      <td>437597</td>\n",
              "      <td>472406</td>\n",
              "      <td>601696</td>\n",
              "    </tr>\n",
              "    <tr>\n",
              "      <th>07-Julio</th>\n",
              "      <td>243560</td>\n",
              "      <td>317508</td>\n",
              "      <td>432996</td>\n",
              "      <td>593882</td>\n",
              "      <td>720398</td>\n",
              "    </tr>\n",
              "    <tr>\n",
              "      <th>08-Agosto</th>\n",
              "      <td>297685</td>\n",
              "      <td>332460</td>\n",
              "      <td>452481</td>\n",
              "      <td>512898</td>\n",
              "      <td>565602</td>\n",
              "    </tr>\n",
              "    <tr>\n",
              "      <th>09-Septiembre</th>\n",
              "      <td>255738</td>\n",
              "      <td>406340</td>\n",
              "      <td>350727</td>\n",
              "      <td>537321</td>\n",
              "      <td>654907</td>\n",
              "    </tr>\n",
              "    <tr>\n",
              "      <th>10-Octubre</th>\n",
              "      <td>202459</td>\n",
              "      <td>338617</td>\n",
              "      <td>377925</td>\n",
              "      <td>494901</td>\n",
              "      <td>492297</td>\n",
              "    </tr>\n",
              "    <tr>\n",
              "      <th>11-Noviembre</th>\n",
              "      <td>260474</td>\n",
              "      <td>263197</td>\n",
              "      <td>306886</td>\n",
              "      <td>427415</td>\n",
              "      <td>573044</td>\n",
              "    </tr>\n",
              "    <tr>\n",
              "      <th>12-Diciembre</th>\n",
              "      <td>273498</td>\n",
              "      <td>290902</td>\n",
              "      <td>395921</td>\n",
              "      <td>519646</td>\n",
              "      <td>601696</td>\n",
              "    </tr>\n",
              "  </tbody>\n",
              "</table>\n",
              "</div>"
            ],
            "text/plain": [
              "Año              2013    2014    2015    2016    2017\n",
              "Mes                                                  \n",
              "01-Enero       159836  217682  255738  274766  388851\n",
              "02-Febrero     204658  207787  282801  320561  368385\n",
              "03-Marzo       152225  229775  297685  354304  410247\n",
              "04-Abril       169139  242419  282801  337433  429783\n",
              "05-Mayo        234427  277819  378872  445411  470156\n",
              "06-Junio       261066  290902  437597  472406  601696\n",
              "07-Julio       243560  317508  432996  593882  720398\n",
              "08-Agosto      297685  332460  452481  512898  565602\n",
              "09-Septiembre  255738  406340  350727  537321  654907\n",
              "10-Octubre     202459  338617  377925  494901  492297\n",
              "11-Noviembre   260474  263197  306886  427415  573044\n",
              "12-Diciembre   273498  290902  395921  519646  601696"
            ]
          },
          "metadata": {},
          "execution_count": 31
        }
      ]
    },
    {
      "cell_type": "code",
      "metadata": {
        "colab": {
          "base_uri": "https://localhost:8080/",
          "height": 297
        },
        "id": "5VQiDzgOG4F5",
        "outputId": "fd43c35a-9b01-4364-f35c-31729dd439e3"
      },
      "source": [
        "sns.heatmap(df_4_pivot)"
      ],
      "execution_count": null,
      "outputs": [
        {
          "output_type": "execute_result",
          "data": {
            "text/plain": [
              "<matplotlib.axes._subplots.AxesSubplot at 0x7f07eee56f90>"
            ]
          },
          "metadata": {},
          "execution_count": 32
        },
        {
          "output_type": "display_data",
          "data": {
            "image/png": "[encoded data removed]",
            "text/plain": [
              "<Figure size 432x288 with 2 Axes>"
            ]
          },
          "metadata": {
            "needs_background": "light"
          }
        }
      ]
    },
    {
      "cell_type": "markdown",
      "metadata": {
        "id": "NVtIZxtvxfzY"
      },
      "source": [
        "#Bonus: WordCloud"
      ]
    },
    {
      "cell_type": "code",
      "metadata": {
        "id": "OXE6yqWpv_er"
      },
      "source": [
        "import requests\n",
        "from wordcloud import WordCloud\n",
        "import matplotlib.pyplot as plt"
      ],
      "execution_count": null,
      "outputs": []
    },
    {
      "cell_type": "code",
      "metadata": {
        "id": "6rqAQQUkn5IY"
      },
      "source": [
        "# Hacemos la llamada a la API y guardamos la respuesta como un diccionario tipo json\n",
        "response = requests.get('https://api.mercadolibre.com/trends/MLC/MLC1051').json()"
      ],
      "execution_count": null,
      "outputs": []
    },
    {
      "cell_type": "code",
      "metadata": {
        "id": "NoltHXBDwXh6"
      },
      "source": [
        "# Recorremos el diccionario tipo json y guardamos las keywords en una lista\n",
        "keywords = []\n",
        "\n",
        "for i in range(len(response)):\n",
        "  keywords.append(response[i]['keyword'])"
      ],
      "execution_count": null,
      "outputs": []
    },
    {
      "cell_type": "code",
      "metadata": {
        "colab": {
          "base_uri": "https://localhost:8080/"
        },
        "id": "3qn2fFaoHypH",
        "outputId": "656be3cc-b220-454c-efd0-2140201bdb3b"
      },
      "source": [
        "keywords"
      ],
      "execution_count": null,
      "outputs": [
        {
          "output_type": "execute_result",
          "data": {
            "text/plain": [
              "['cargador iphone 12',\n",
              " 'carcasa a21s',\n",
              " 'carcasa iphone 12 pro max',\n",
              " 'case iphone 12',\n",
              " 'funda airpods pro',\n",
              " 'carcasa a71 samsung',\n",
              " 'reloj samsung',\n",
              " 'cobre',\n",
              " 'teléfono fijo',\n",
              " 'mi band correa',\n",
              " 'mi band',\n",
              " 'cargador solar portatil',\n",
              " 'iphone 13 carcasa',\n",
              " 'correa apple 44mm',\n",
              " 'iphone reacondicionado',\n",
              " 'baston selfies',\n",
              " 'xiaomi note 10',\n",
              " 'xiaomi poco f3',\n",
              " 'carcasa note 9 samsung',\n",
              " 'porta celular bicicleta',\n",
              " 'carcasa applle 13',\n",
              " 'carcasa iphone se 2020',\n",
              " 'kit de herramientas',\n",
              " 'huawei p40',\n",
              " 'iphone xs max',\n",
              " 'apple watch se',\n",
              " 'cable usb',\n",
              " 'control para celular',\n",
              " 'radios portatiles solar',\n",
              " 'funda iphone 12 pro max',\n",
              " 'celulares baratos',\n",
              " 'celulares 5g',\n",
              " 'iphone 13 pro max carcasa',\n",
              " 'porta celular para auto',\n",
              " 'xiaomi mi 11 5g',\n",
              " 'carcasa xiaomi poco x3',\n",
              " 'gatillos celular',\n",
              " 'motorola one fusion',\n",
              " 'batería externa celular',\n",
              " 'carcasa iphone 7',\n",
              " 'carcasa samsung z flip 3',\n",
              " 'radios base vhf',\n",
              " 'relojes inteligentes',\n",
              " 'samsung a72',\n",
              " 'woki toki',\n",
              " 'samsung note 10 plus',\n",
              " 'cargador inalámbrico',\n",
              " 'carcasa samsung a20s',\n",
              " 'iPhone 11',\n",
              " 's20',\n",
              " 'samsung watch',\n",
              " 'accesorios de celulares',\n",
              " 'cargador tipo c',\n",
              " 'kit reparacion celulares',\n",
              " 'carcasa para sansung a32',\n",
              " 'reloj huawei',\n",
              " 'smartphones',\n",
              " 'iPhone xr',\n",
              " 'huawei watch',\n",
              " 'galaxy s21 ultra',\n",
              " 'huawei p40 pro',\n",
              " 'teléfono celular',\n",
              " 'carcasa m12',\n",
              " 'samsung a52',\n",
              " 'carcasa samsung A12',\n",
              " 'anillo para celular',\n",
              " 'correa 20 mm',\n",
              " 'radios portatiles',\n",
              " 'bateria iphone 7',\n",
              " 'xiomi redmi note 9 carcasas',\n",
              " 'reloj inteligente huawei',\n",
              " 'one plus',\n",
              " 'huawei p20 lite',\n",
              " 'tecnologia',\n",
              " 'redmi 9',\n",
              " 'celular iphone usado',\n",
              " 'samsung flip',\n",
              " 'funda galaxy a12',\n",
              " 'carcasa xiaomi poco x3 pro',\n",
              " 'samsung a10',\n",
              " 'xiaomi note 10 pro',\n",
              " 'xiaomi mi pad 5',\n",
              " 'samsung galaxy a51',\n",
              " 'reloj smart watch android',\n",
              " 'reloj inteligente xiaomi',\n",
              " 'samsung s9',\n",
              " 'carcasa redmi note 9',\n",
              " 'vivo',\n",
              " 'celulares nuevos baratos',\n",
              " 'xiaomi mi 11 lite carcasa',\n",
              " 'samsung a20',\n",
              " 'celular xionami',\n",
              " 'iphone 11 boleta',\n",
              " 'huawei mate 20 pro',\n",
              " 'chip wom',\n",
              " 'cargador xiaomi',\n",
              " 'teléfono inalambrico',\n",
              " 'iphone 8 plus usado',\n",
              " 'galaxy s10',\n",
              " 'galaxy watch',\n",
              " 'smartwatchh android']"
            ]
          },
          "metadata": {},
          "execution_count": 37
        }
      ]
    },
    {
      "cell_type": "code",
      "metadata": {
        "colab": {
          "base_uri": "https://localhost:8080/"
        },
        "id": "uh7nfcFVwnlg",
        "outputId": "916e2ca9-25d3-461a-c78b-06f38be9a3c9"
      },
      "source": [
        "#Usando nltk, importamos las palabras conectoras o \"stopwords\" que usaremos para limpiar la nube de palabras\n",
        "#De esta manera, la nube de palabras no tendrá stopwords, solo tendra las palabras clave de las busquedas\n",
        "import nltk\n",
        "nltk.download('stopwords')\n",
        "from nltk.corpus import stopwords\n",
        "stop_words_sp = set(stopwords.words('spanish'))"
      ],
      "execution_count": null,
      "outputs": [
        {
          "output_type": "stream",
          "name": "stdout",
          "text": [
            "[nltk_data] Downloading package stopwords to /root/nltk_data...\n",
            "[nltk_data]   Unzipping corpora/stopwords.zip.\n"
          ]
        }
      ]
    },
    {
      "cell_type": "code",
      "metadata": {
        "id": "EIqknGT2wtEt"
      },
      "source": [
        "#Definimos la nube de palabras sobre la variable \"keywords\", usando como stopwords la variable \"stop_words_sp\"\n",
        "wc = WordCloud(width=1200, height=1200, background_color = 'black' ,max_font_size = 500, max_words=40, stopwords = stop_words_sp, colormap = 'autumn_r').generate(' '.join(keywords))"
      ],
      "execution_count": null,
      "outputs": []
    },
    {
      "cell_type": "code",
      "metadata": {
        "colab": {
          "base_uri": "https://localhost:8080/",
          "height": 248
        },
        "id": "5tIEAbzbw6jD",
        "outputId": "5b4eb2a8-42df-4ecf-d957-c55db39f5ce3"
      },
      "source": [
        "#Imprimimos la nube de palabras\n",
        "plt.imshow(wc, interpolation=\"bilinear\")\n",
        "plt.axis(\"off\")\n",
        "plt.show()"
      ],
      "execution_count": null,
      "outputs": [
        {
          "output_type": "display_data",
          "data": {
            "image/png": "[encoded data removed]",
            "text/plain": [
              "<Figure size 432x288 with 1 Axes>"
            ]
          },
          "metadata": {
            "needs_background": "light"
          }
        }
      ]
    }
  ]
}